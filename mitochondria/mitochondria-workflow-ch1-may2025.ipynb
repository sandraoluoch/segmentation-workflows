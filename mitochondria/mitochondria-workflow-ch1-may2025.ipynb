{
 "cells": [
  {
   "cell_type": "code",
   "execution_count": 40,
   "id": "8818e395-d062-49c0-a463-0d723aa9d44a",
   "metadata": {},
   "outputs": [],
   "source": [
    "import os\n",
    "import numpy as np\n",
    "from bioio import BioImage\n",
    "import bioio_ome_tiff\n",
    "from tifffile import imsave, imwrite, imread\n",
    "import matplotlib.pyplot as plt\n",
    "import bioio_ome_tiff\n",
    "from aicssegmentation.core.pre_processing_utils import suggest_normalization_param\n",
    "# from bioio.writers import OmeTiffWriter\n",
    "\n",
    "# package for 3d visualization\n",
    "from itkwidgets import view                              \n",
    "from aicssegmentation.core.visual import seg_fluo_side_by_side,  single_fluorescent_view, segmentation_quick_view\n",
    "import matplotlib.pyplot as plt\n",
    "plt.rcParams[\"figure.figsize\"] = [16, 12]\n",
    "\n",
    "# package for io \n",
    "# from aicsimageio import AICSImage\n",
    "# from aicsimageio.writers import OmeTiffWriter\n",
    "\n",
    "# function for core algorithm\n",
    "from aicssegmentation.core.vessel import filament_2d_wrapper\n",
    "from aicssegmentation.core.pre_processing_utils import intensity_normalization, image_smoothing_gaussian_3d, edge_preserving_smoothing_3d\n",
    "from skimage.morphology import remove_small_objects    \n",
    "from aicssegmentation.core.utils import topology_preserving_thinning\n",
    "\n"
   ]
  },
  {
   "cell_type": "code",
   "execution_count": 41,
   "id": "41580bc9-ec92-46da-837c-66720fa83a3f",
   "metadata": {},
   "outputs": [
    {
     "data": {
      "text/plain": [
       "(75, 624, 924)"
      ]
     },
     "execution_count": 41,
     "metadata": {},
     "output_type": "execute_result"
    }
   ],
   "source": [
    "file_path = \"/allen/aics/users/suraj.mishra/MegaSeg/Dual_Mito/data/ch1/AD00005684_20231208_X02_001.czi - AD00005684_20231208_X02_001.czi #01.tif_ch=1.tiff\"\n",
    "img = imread(file_path)\n",
    "img.shape"
   ]
  },
  {
   "cell_type": "code",
   "execution_count": 42,
   "id": "9d9586c5-2e8e-4174-b5a8-b48c06f70843",
   "metadata": {},
   "outputs": [],
   "source": [
    "# pre-processing\n",
    "\n",
    "# parameters needed\n",
    "intensity_scaling_param = [1, 15]\n",
    "gaussian_smoothing_sigma = 1\n",
    "\n",
    "# intensity normalization\n",
    "struct_img = intensity_normalization(img, scaling_param=intensity_scaling_param)\n",
    "\n",
    "# smoothing with 2d gaussian filter slice by slice \n",
    "structure_img_smooth = image_smoothing_gaussian_3d(struct_img, sigma=gaussian_smoothing_sigma)"
   ]
  },
  {
   "cell_type": "code",
   "execution_count": 46,
   "id": "ba528313-b04e-47ac-8f38-68a80ee92747",
   "metadata": {},
   "outputs": [],
   "source": [
    "# Core algorithm\n",
    "\n",
    "# parameters\n",
    "f2_param = [[1.6, 0.2]] #[1.5, 0.16]\n",
    "thin_dist_preserve=3\n",
    "thin_dist=1\n",
    "\n",
    "# 2D filament filter\n",
    "bw = filament_2d_wrapper(structure_img_smooth, f2_param)\n",
    "\n",
    "# topology thinning\n",
    "bw_thin = topology_preserving_thinning(bw>0, thin_dist_preserve, thin_dist)\n",
    "\n"
   ]
  },
  {
   "cell_type": "code",
   "execution_count": 47,
   "id": "18e52ad3-cac9-474e-8937-59fce4d92730",
   "metadata": {},
   "outputs": [],
   "source": [
    "# post-processing\n",
    "\n",
    "# min area\n",
    "minArea = 5\n",
    "\n",
    "# remove small objects\n",
    "seg = remove_small_objects(bw_thin>0, min_size=minArea, connectivity=1)"
   ]
  },
  {
   "cell_type": "code",
   "execution_count": 48,
   "id": "469e9f72-97f0-4b2e-94be-797d9ca8e21b",
   "metadata": {},
   "outputs": [],
   "source": [
    "# save segmented image \n",
    "seg = seg >0\n",
    "out=seg.astype(np.uint8)\n",
    "out[out>0]=255\n",
    "\n",
    "imwrite(\"SEG_CH1_AD00005684_20231208_X02_001.tiff\", out, imagej=True)"
   ]
  },
  {
   "cell_type": "code",
   "execution_count": null,
   "id": "ef1f3293-d4a7-4046-ae31-bb4d86978b57",
   "metadata": {},
   "outputs": [],
   "source": []
  },
  {
   "cell_type": "code",
   "execution_count": null,
   "id": "6fadd371-e474-4fd9-8065-e89238025a80",
   "metadata": {},
   "outputs": [],
   "source": []
  },
  {
   "cell_type": "code",
   "execution_count": 49,
   "id": "6d7b12cc-7c3a-4236-8a6f-9df613493cfd",
   "metadata": {},
   "outputs": [],
   "source": [
    "# batch processing\n",
    "\n",
    "input_folder = \"/allen/aics/users/suraj.mishra/MegaSeg/Dual_Mito/data/ch1\"\n",
    "output_folder = \"/allen/aics/users/sandra.oluoch/aics-segmentation/mitochondria/ch1_seg\"\n",
    "\n",
    "# parameters needed\n",
    "intensity_scaling_param = [1, 15]\n",
    "gaussian_smoothing_sigma = 1\n",
    "f2_param = [[1.6, 0.2]] #[1.5, 0.16]\n",
    "thin_dist_preserve=3\n",
    "thin_dist=1\n",
    "minArea = 5\n",
    "\n",
    "for file_name in os.listdir(input_folder):\n",
    "    file_path = os.path.join(input_folder, file_name)\n",
    "    img = imread(file_path)\n",
    "    \n",
    "    # pre-processing\n",
    "    # intensity normalization\n",
    "    struct_img = intensity_normalization(img, scaling_param=intensity_scaling_param) \n",
    "    # smoothing with 2d gaussian filter slice by slice \n",
    "    structure_img_smooth = image_smoothing_gaussian_3d(struct_img, sigma=gaussian_smoothing_sigma)\n",
    "    \n",
    "    # core algorithm\n",
    "    # 2D filament filter\n",
    "    bw = filament_2d_wrapper(structure_img_smooth, f2_param)\n",
    "\n",
    "    # topology thinning\n",
    "    bw_thin = topology_preserving_thinning(bw>0, thin_dist_preserve, thin_dist)\n",
    "    \n",
    "    # core algorithm\n",
    "    # remove small objects\n",
    "    seg = remove_small_objects(bw>0, min_size=minArea, connectivity=1)\n",
    "    \n",
    "    # save segmented image \n",
    "    seg = seg >0\n",
    "    out=seg.astype(np.uint8)\n",
    "    out[out>0]=255\n",
    "\n",
    "    imwrite(output_folder + \"/\" + \"SEG_\" + \"{}\".format(file_name) + \".tiff\", out, imagej=True)\n",
    "    "
   ]
  },
  {
   "cell_type": "code",
   "execution_count": null,
   "id": "4560ee88-6943-469e-83c6-2d1dd6925015",
   "metadata": {},
   "outputs": [],
   "source": []
  },
  {
   "cell_type": "code",
   "execution_count": null,
   "id": "e6768692-06c2-4244-9473-ee466cac3c34",
   "metadata": {},
   "outputs": [],
   "source": []
  },
  {
   "cell_type": "code",
   "execution_count": null,
   "id": "6c6c5201-3015-4740-ad7d-85f7f415ebf5",
   "metadata": {},
   "outputs": [],
   "source": []
  },
  {
   "cell_type": "code",
   "execution_count": null,
   "id": "1af17bd0-6a8a-49f0-ad3b-018ad672a8f0",
   "metadata": {},
   "outputs": [],
   "source": []
  }
 ],
 "metadata": {
  "kernelspec": {
   "display_name": "Python 3 (ipykernel)",
   "language": "python",
   "name": "python3"
  },
  "language_info": {
   "codemirror_mode": {
    "name": "ipython",
    "version": 3
   },
   "file_extension": ".py",
   "mimetype": "text/x-python",
   "name": "python",
   "nbconvert_exporter": "python",
   "pygments_lexer": "ipython3",
   "version": "3.9.12"
  }
 },
 "nbformat": 4,
 "nbformat_minor": 5
}
