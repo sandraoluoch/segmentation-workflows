{
 "cells": [
  {
   "cell_type": "code",
   "execution_count": 10,
   "id": "willing-microwave",
   "metadata": {},
   "outputs": [],
   "source": [
    "import os\n",
    "from aicsimageio import AICSImage\n",
    "from tifffile import imsave\n",
    "import numpy as np\n",
    "from aicssegmentation.core.pre_processing_utils import suggest_normalization_param\n",
    "\n",
    "# package for 3d visualization\n",
    "from itkwidgets import view                              \n",
    "from aicssegmentation.core.visual import seg_fluo_side_by_side,  single_fluorescent_view, segmentation_quick_view\n",
    "import matplotlib.pyplot as plt\n",
    "plt.rcParams[\"figure.figsize\"] = [16, 12]\n",
    "\n",
    "# package for io \n",
    "from aicsimageio import AICSImage\n",
    "from aicsimageio.writers import OmeTiffWriter\n",
    "\n",
    "# function for core algorithm\n",
    "from aicssegmentation.core.vessel import filament_2d_wrapper\n",
    "from aicssegmentation.core.pre_processing_utils import intensity_normalization, image_smoothing_gaussian_3d, edge_preserving_smoothing_3d\n",
    "from skimage.morphology import remove_small_objects     # function for post-processing (size filter)"
   ]
  },
  {
   "cell_type": "code",
   "execution_count": 4,
   "id": "impossible-pantyhose",
   "metadata": {},
   "outputs": [
    {
     "name": "stderr",
     "output_type": "stream",
     "text": [
      "Failed to parse XML for the provided file. Error: not well-formed (invalid token): line 1, column 6\n"
     ]
    },
    {
     "name": "stdout",
     "output_type": "stream",
     "text": [
      "(1, 5, 75, 624, 924)\n"
     ]
    }
   ],
   "source": [
    "filename = r\"\\\\allen\\aics\\assay-dev\\MicroscopyOtherData\\Viana\\datasets\\dual_mito\\raw\\AD00005684_20231208_X02_002.czi - AD00005684_20231208_X02_002.czi #04.tif\"\n",
    "reader = AICSImage(filename) \n",
    "IMG = reader.data.astype(np.float32)\n",
    "\n",
    "print(IMG.shape)"
   ]
  },
  {
   "cell_type": "code",
   "execution_count": 20,
   "id": "mental-lounge",
   "metadata": {},
   "outputs": [
    {
     "data": {
      "text/plain": [
       "<AICSImage [Reader: TiffReader, Image-is-in-Memory: True]>"
      ]
     },
     "execution_count": 20,
     "metadata": {},
     "output_type": "execute_result"
    }
   ],
   "source": [
    "reader"
   ]
  },
  {
   "cell_type": "code",
   "execution_count": 8,
   "id": "stone-anaheim",
   "metadata": {},
   "outputs": [
    {
     "data": {
      "application/vnd.jupyter.widget-view+json": {
       "model_id": "84ba239e7e2f4fb8879d08f8dc89be9d",
       "version_major": 2,
       "version_minor": 0
      },
      "text/plain": [
       "Viewer(geometries=[], gradient_opacity=0.22, point_sets=[], rendered_image=<itk.itkImagePython.itkImageF3; pro…"
      ]
     },
     "metadata": {},
     "output_type": "display_data"
    }
   ],
   "source": [
    "#####################\n",
    "structure_channel = 2\n",
    "\n",
    "#####################\n",
    "\n",
    "struct_img0 = IMG[0,structure_channel,:,:,:].copy()\n",
    "\n",
    "#view(single_fluorescent_view(struct_img0))"
   ]
  },
  {
   "cell_type": "code",
   "execution_count": 12,
   "id": "wrong-decimal",
   "metadata": {},
   "outputs": [],
   "source": [
    "# Pre-Processing\n",
    "################################\n",
    "## PARAMETERS for this step ##\n",
    "intensity_scaling_param = [1, 15]\n",
    "gaussian_smoothing_sigma = 1\n",
    "################################\n",
    "# intensity normalization\n",
    "struct_img = intensity_normalization(struct_img0, scaling_param=intensity_scaling_param)\n",
    "\n",
    "# smoothing with 2d gaussian filter slice by slice \n",
    "structure_img_smooth = image_smoothing_gaussian_3d(struct_img, sigma=gaussian_smoothing_sigma)"
   ]
  },
  {
   "cell_type": "code",
   "execution_count": 13,
   "id": "educated-display",
   "metadata": {},
   "outputs": [
    {
     "name": "stdout",
     "output_type": "stream",
     "text": [
      "mean intensity of the stack: 464.6185607910156\n",
      "the standard deviation of intensity of the stack: 94.28467559814453\n",
      "0.9999 percentile of the stack intensity is: 1879.11083984375\n",
      "minimum intensity of the stack: 370.32037353515625\n",
      "maximum intensity of the stack: 1879.11083984375\n",
      "suggested upper range is 15.0, which is 1878.8886947631836\n",
      "suggested lower range is 1.0, which is 370.3338851928711\n",
      "So, suggested parameter for normalization is [1.0, 15.0]\n",
      "To further enhance the contrast: You may increase the first value (may loss some dim parts), or decrease the second value(may loss some texture in super bright regions)\n",
      "To slightly reduce the contrast: You may decrease the first value, or increase the second value\n"
     ]
    }
   ],
   "source": [
    "suggest_normalization_param(struct_img0)"
   ]
  },
  {
   "cell_type": "code",
   "execution_count": 14,
   "id": "pending-queue",
   "metadata": {},
   "outputs": [],
   "source": [
    "# Core Algorithm\n",
    "## PARAMETERS for this step ##\n",
    "f2_param = [[1.5, 0.16]]\n",
    "################################\n",
    "\n",
    "bw = filament_2d_wrapper(structure_img_smooth, f2_param)"
   ]
  },
  {
   "cell_type": "code",
   "execution_count": 15,
   "id": "vulnerable-cross",
   "metadata": {},
   "outputs": [],
   "source": [
    "# Post-Processing\n",
    "## PARAMETERS for this step ##\n",
    "minArea = 5\n",
    "################################\n",
    "\n",
    "seg = remove_small_objects(bw>0, min_size=minArea, connectivity=1, in_place=False)"
   ]
  },
  {
   "cell_type": "code",
   "execution_count": 16,
   "id": "laughing-vocabulary",
   "metadata": {},
   "outputs": [],
   "source": [
    "seg = seg >0\n",
    "out=seg.astype(np.uint8)\n",
    "out[out>0]=255\n",
    "\n",
    "imsave(\"SEG_AD00005684_20231208_X02_002.czi - AD00005684_20231208_X02_002.czi #04.tiff\", out)"
   ]
  },
  {
   "cell_type": "code",
   "execution_count": null,
   "id": "amazing-operation",
   "metadata": {},
   "outputs": [],
   "source": []
  },
  {
   "cell_type": "code",
   "execution_count": null,
   "id": "surprised-sharp",
   "metadata": {},
   "outputs": [],
   "source": []
  },
  {
   "cell_type": "markdown",
   "id": "laden-contributor",
   "metadata": {},
   "source": [
    "<h3> Batch Processing <h3>"
   ]
  },
  {
   "cell_type": "code",
   "execution_count": 29,
   "id": "russian-petroleum",
   "metadata": {},
   "outputs": [
    {
     "name": "stderr",
     "output_type": "stream",
     "text": [
      "Failed to parse XML for the provided file. Error: not well-formed (invalid token): line 1, column 6\n",
      "Failed to parse XML for the provided file. Error: not well-formed (invalid token): line 1, column 6\n"
     ]
    },
    {
     "name": "stdout",
     "output_type": "stream",
     "text": [
      "DONE.\n"
     ]
    },
    {
     "name": "stderr",
     "output_type": "stream",
     "text": [
      "Failed to parse XML for the provided file. Error: not well-formed (invalid token): line 1, column 6\n"
     ]
    },
    {
     "name": "stdout",
     "output_type": "stream",
     "text": [
      "DONE.\n"
     ]
    },
    {
     "name": "stderr",
     "output_type": "stream",
     "text": [
      "Failed to parse XML for the provided file. Error: not well-formed (invalid token): line 1, column 6\n"
     ]
    },
    {
     "name": "stdout",
     "output_type": "stream",
     "text": [
      "DONE.\n"
     ]
    },
    {
     "name": "stderr",
     "output_type": "stream",
     "text": [
      "Failed to parse XML for the provided file. Error: not well-formed (invalid token): line 1, column 6\n"
     ]
    },
    {
     "name": "stdout",
     "output_type": "stream",
     "text": [
      "DONE.\n"
     ]
    },
    {
     "name": "stderr",
     "output_type": "stream",
     "text": [
      "Failed to parse XML for the provided file. Error: not well-formed (invalid token): line 1, column 6\n"
     ]
    },
    {
     "name": "stdout",
     "output_type": "stream",
     "text": [
      "DONE.\n"
     ]
    },
    {
     "name": "stderr",
     "output_type": "stream",
     "text": [
      "Failed to parse XML for the provided file. Error: not well-formed (invalid token): line 1, column 6\n"
     ]
    },
    {
     "name": "stdout",
     "output_type": "stream",
     "text": [
      "DONE.\n"
     ]
    },
    {
     "name": "stderr",
     "output_type": "stream",
     "text": [
      "Failed to parse XML for the provided file. Error: not well-formed (invalid token): line 1, column 6\n"
     ]
    },
    {
     "name": "stdout",
     "output_type": "stream",
     "text": [
      "DONE.\n"
     ]
    },
    {
     "name": "stderr",
     "output_type": "stream",
     "text": [
      "Failed to parse XML for the provided file. Error: not well-formed (invalid token): line 1, column 6\n"
     ]
    },
    {
     "name": "stdout",
     "output_type": "stream",
     "text": [
      "DONE.\n"
     ]
    },
    {
     "name": "stderr",
     "output_type": "stream",
     "text": [
      "Failed to parse XML for the provided file. Error: not well-formed (invalid token): line 1, column 6\n"
     ]
    },
    {
     "name": "stdout",
     "output_type": "stream",
     "text": [
      "DONE.\n"
     ]
    },
    {
     "name": "stderr",
     "output_type": "stream",
     "text": [
      "Failed to parse XML for the provided file. Error: not well-formed (invalid token): line 1, column 6\n"
     ]
    },
    {
     "name": "stdout",
     "output_type": "stream",
     "text": [
      "DONE.\n"
     ]
    },
    {
     "name": "stderr",
     "output_type": "stream",
     "text": [
      "Failed to parse XML for the provided file. Error: not well-formed (invalid token): line 1, column 6\n"
     ]
    },
    {
     "name": "stdout",
     "output_type": "stream",
     "text": [
      "DONE.\n"
     ]
    },
    {
     "name": "stderr",
     "output_type": "stream",
     "text": [
      "Failed to parse XML for the provided file. Error: not well-formed (invalid token): line 1, column 6\n"
     ]
    },
    {
     "name": "stdout",
     "output_type": "stream",
     "text": [
      "DONE.\n"
     ]
    },
    {
     "name": "stderr",
     "output_type": "stream",
     "text": [
      "Failed to parse XML for the provided file. Error: not well-formed (invalid token): line 1, column 6\n"
     ]
    },
    {
     "name": "stdout",
     "output_type": "stream",
     "text": [
      "DONE.\n"
     ]
    },
    {
     "name": "stderr",
     "output_type": "stream",
     "text": [
      "Failed to parse XML for the provided file. Error: not well-formed (invalid token): line 1, column 6\n"
     ]
    },
    {
     "name": "stdout",
     "output_type": "stream",
     "text": [
      "DONE.\n"
     ]
    },
    {
     "name": "stderr",
     "output_type": "stream",
     "text": [
      "Failed to parse XML for the provided file. Error: not well-formed (invalid token): line 1, column 6\n"
     ]
    },
    {
     "name": "stdout",
     "output_type": "stream",
     "text": [
      "DONE.\n"
     ]
    },
    {
     "name": "stderr",
     "output_type": "stream",
     "text": [
      "Failed to parse XML for the provided file. Error: not well-formed (invalid token): line 1, column 6\n"
     ]
    },
    {
     "name": "stdout",
     "output_type": "stream",
     "text": [
      "DONE.\n"
     ]
    },
    {
     "name": "stderr",
     "output_type": "stream",
     "text": [
      "Failed to parse XML for the provided file. Error: not well-formed (invalid token): line 1, column 6\n"
     ]
    },
    {
     "name": "stdout",
     "output_type": "stream",
     "text": [
      "DONE.\n"
     ]
    },
    {
     "name": "stderr",
     "output_type": "stream",
     "text": [
      "Failed to parse XML for the provided file. Error: not well-formed (invalid token): line 1, column 6\n"
     ]
    },
    {
     "name": "stdout",
     "output_type": "stream",
     "text": [
      "DONE.\n"
     ]
    },
    {
     "name": "stderr",
     "output_type": "stream",
     "text": [
      "Failed to parse XML for the provided file. Error: not well-formed (invalid token): line 1, column 6\n"
     ]
    },
    {
     "name": "stdout",
     "output_type": "stream",
     "text": [
      "DONE.\n"
     ]
    },
    {
     "name": "stderr",
     "output_type": "stream",
     "text": [
      "Failed to parse XML for the provided file. Error: not well-formed (invalid token): line 1, column 6\n"
     ]
    },
    {
     "name": "stdout",
     "output_type": "stream",
     "text": [
      "DONE.\n"
     ]
    },
    {
     "name": "stderr",
     "output_type": "stream",
     "text": [
      "Failed to parse XML for the provided file. Error: not well-formed (invalid token): line 1, column 6\n"
     ]
    },
    {
     "name": "stdout",
     "output_type": "stream",
     "text": [
      "DONE.\n"
     ]
    },
    {
     "name": "stderr",
     "output_type": "stream",
     "text": [
      "Failed to parse XML for the provided file. Error: not well-formed (invalid token): line 1, column 6\n"
     ]
    },
    {
     "name": "stdout",
     "output_type": "stream",
     "text": [
      "DONE.\n"
     ]
    },
    {
     "name": "stderr",
     "output_type": "stream",
     "text": [
      "Failed to parse XML for the provided file. Error: not well-formed (invalid token): line 1, column 6\n"
     ]
    },
    {
     "name": "stdout",
     "output_type": "stream",
     "text": [
      "DONE.\n"
     ]
    },
    {
     "name": "stderr",
     "output_type": "stream",
     "text": [
      "Failed to parse XML for the provided file. Error: not well-formed (invalid token): line 1, column 6\n"
     ]
    },
    {
     "name": "stdout",
     "output_type": "stream",
     "text": [
      "DONE.\n"
     ]
    },
    {
     "name": "stderr",
     "output_type": "stream",
     "text": [
      "Failed to parse XML for the provided file. Error: not well-formed (invalid token): line 1, column 6\n"
     ]
    },
    {
     "name": "stdout",
     "output_type": "stream",
     "text": [
      "DONE.\n"
     ]
    },
    {
     "name": "stderr",
     "output_type": "stream",
     "text": [
      "Failed to parse XML for the provided file. Error: not well-formed (invalid token): line 1, column 6\n"
     ]
    },
    {
     "name": "stdout",
     "output_type": "stream",
     "text": [
      "DONE.\n"
     ]
    },
    {
     "name": "stderr",
     "output_type": "stream",
     "text": [
      "Failed to parse XML for the provided file. Error: not well-formed (invalid token): line 1, column 6\n"
     ]
    },
    {
     "name": "stdout",
     "output_type": "stream",
     "text": [
      "DONE.\n"
     ]
    },
    {
     "name": "stderr",
     "output_type": "stream",
     "text": [
      "Failed to parse XML for the provided file. Error: not well-formed (invalid token): line 1, column 6\n"
     ]
    },
    {
     "name": "stdout",
     "output_type": "stream",
     "text": [
      "DONE.\n",
      "DONE.\n"
     ]
    }
   ],
   "source": [
    "input_folder = \"/allen/aics/assay-dev/MicroscopyOtherData/Viana/datasets/dual_mito/raw\"\n",
    "output_folder = \"/allen/aics/assay-dev/MicroscopyOtherData/Viana/datasets/dual_mito/segmenter\"\n",
    "\n",
    "for file in os.listdir(input_folder):\n",
    "    \n",
    "    # read in and prepare file\n",
    "    filename_mito = os.path.join(input_folder, file)\n",
    "    reader = AICSImage(filename_mito) \n",
    "    IMG = reader.data.astype(np.float32)\n",
    "    structure_channel = 2\n",
    "    struct_img0 = IMG[0,structure_channel,:,:,:].copy()\n",
    "    \n",
    "    # pre-processing\n",
    "    intensity_scaling_param = [1, 15]\n",
    "    gaussian_smoothing_sigma = 1\n",
    "    struct_img = intensity_normalization(struct_img0, scaling_param=intensity_scaling_param) # intensity normalization\n",
    "    structure_img_smooth = image_smoothing_gaussian_3d(struct_img, sigma=gaussian_smoothing_sigma) # smoothing\n",
    "    \n",
    "    # Core Algorithm\n",
    "    f2_param = [[1.5, 0.16]]\n",
    "    bw = filament_2d_wrapper(structure_img_smooth, f2_param)\n",
    "    \n",
    "    # Post-Processing\n",
    "    minArea = 5\n",
    "    seg = remove_small_objects(bw>0, min_size=minArea, connectivity=1, in_place=False)\n",
    "    seg = seg >0\n",
    "    out=seg.astype(np.uint8)\n",
    "    out[out>0]=255\n",
    "    \n",
    "    #Save\n",
    "    imsave(output_folder + \"/\"+ \"SEG_\" + \"{}\".format(file), out)\n",
    "    print(\"DONE.\")  "
   ]
  },
  {
   "cell_type": "code",
   "execution_count": null,
   "id": "corporate-kansas",
   "metadata": {},
   "outputs": [],
   "source": []
  },
  {
   "cell_type": "code",
   "execution_count": null,
   "id": "numerous-antigua",
   "metadata": {},
   "outputs": [],
   "source": []
  }
 ],
 "metadata": {
  "kernelspec": {
   "display_name": "Python 3 (ipykernel)",
   "language": "python",
   "name": "python3"
  },
  "language_info": {
   "codemirror_mode": {
    "name": "ipython",
    "version": 3
   },
   "file_extension": ".py",
   "mimetype": "text/x-python",
   "name": "python",
   "nbconvert_exporter": "python",
   "pygments_lexer": "ipython3",
   "version": "3.9.12"
  }
 },
 "nbformat": 4,
 "nbformat_minor": 5
}
