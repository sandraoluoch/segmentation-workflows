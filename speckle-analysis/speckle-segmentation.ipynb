{
 "cells": [
  {
   "cell_type": "code",
   "execution_count": 1,
   "id": "relevant-pressing",
   "metadata": {},
   "outputs": [],
   "source": [
    "from aicsimageio import AICSImage\n",
    "from tifffile import imsave\n",
    "from pathlib import Path\n",
    "import numpy as np\n",
    "from skimage.filters import threshold_otsu\n",
    "from skimage.morphology import ball, binary_closing, remove_small_objects, dilation, erosion, disk\n",
    "from aicssegmentation.core.pre_processing_utils import  intensity_normalization, edge_preserving_smoothing_3d\n",
    "from aicssegmentation.core.vessel import vesselness3D\n",
    "from aicssegmentation.core.seg_dot import dot_2d\n",
    "from aicssegmentation.core.utils import topology_preserving_thinning, hole_filling\n",
    "import matplotlib.pyplot as plt\n",
    "from itkwidgets import view   \n",
    "from aicssegmentation.core.visual import seg_fluo_side_by_side,  single_fluorescent_view, segmentation_quick_view\n",
    "plt.rcParams[\"figure.figsize\"] = [16, 12]\n",
    "from aicssegmentation.core.MO_threshold import MO\n",
    "from aicspylibczi import CziFile\n",
    "\n",
    "# dots|\n",
    "from aicssegmentation.core.seg_dot import dot_3d, dot_3d_wrapper \n",
    "from aicssegmentation.core.seg_dot import dot_2d_slice_by_slice_wrapper\n",
    "from aicssegmentation.core.pre_processing_utils import intensity_normalization, image_smoothing_gaussian_slice_by_slice\n",
    "from skimage.morphology import remove_small_objects, dilation, erosion, ball     # function for post-processing (size filter)\n",
    "from skimage.feature import peak_local_max\n",
    "from skimage.measure import label\n",
    "from scipy.ndimage import distance_transform_edt\n",
    "from aicssegmentation.core.seg_dot import dot_3d, dot_3d_wrapper \n",
    "from aicssegmentation.core.pre_processing_utils import intensity_normalization, image_smoothing_gaussian_slice_by_slice\n",
    "from skimage.morphology import remove_small_objects, dilation, erosion, ball     # function for post-processing (size filter)\n",
    "from skimage.feature import peak_local_max\n",
    "from skimage.measure import label\n",
    "from scipy.ndimage import distance_transform_edt\n",
    "\n",
    "# function for core algorithm\n",
    "from aicssegmentation.core.vessel import filament_2d_wrapper,filament_3d_wrapper\n",
    "from aicssegmentation.core.pre_processing_utils import intensity_normalization, image_smoothing_gaussian_3d\n",
    "from aicssegmentation.core.utils import get_middle_frame, hole_filling, get_3dseed_from_mid_frame\n",
    "from skimage.morphology import remove_small_objects, dilation, ball, opening, cube"
   ]
  },
  {
   "cell_type": "code",
   "execution_count": 3,
   "id": "central-screening",
   "metadata": {},
   "outputs": [
    {
     "name": "stderr",
     "output_type": "stream",
     "text": [
      "The default XML parser will be changing from 'xmlschema' to 'lxml' in version 0.4.0.  To silence this warning, please provide the `parser` argument, specifying either 'lxml' (to opt into the new behavior), or'xmlschema' (to retain the old behavior).\n"
     ]
    },
    {
     "name": "stdout",
     "output_type": "stream",
     "text": [
      "(1, 1, 148, 2047, 848)\n"
     ]
    }
   ],
   "source": [
    "filename = r\"\\\\allen\\aics\\assay-dev\\users\\Sandi\\nuc-morph-analysis\\speckle-analysis\\raw\\20230425_L02-01_processed_C=0_T=1.tiff\"\n",
    "reader = AICSImage(filename) \n",
    "IMG = reader.data.astype(np.float32)\n",
    "\n",
    "print(IMG.shape)\n",
    "\n",
    "# previous: (1, 1, 148, 2047, 848)"
   ]
  },
  {
   "cell_type": "code",
   "execution_count": 4,
   "id": "assumed-vessel",
   "metadata": {},
   "outputs": [],
   "source": [
    "#####################\n",
    "structure_channel = 0\n",
    "\n",
    "#####################\n",
    "\n",
    "struct_img0 = IMG[0,structure_channel,:,:,:].copy()\n",
    "\n",
    "#view(single_fluorescent_view(struct_img0))"
   ]
  },
  {
   "cell_type": "code",
   "execution_count": 5,
   "id": "prepared-sussex",
   "metadata": {},
   "outputs": [
    {
     "data": {
      "text/plain": [
       "(148, 2047, 848)"
      ]
     },
     "execution_count": 5,
     "metadata": {},
     "output_type": "execute_result"
    }
   ],
   "source": [
    "struct_img0.shape"
   ]
  },
  {
   "cell_type": "markdown",
   "id": "similar-lunch",
   "metadata": {},
   "source": [
    "<h3> Current Workflow <h3>"
   ]
  },
  {
   "cell_type": "markdown",
   "id": "south-blade",
   "metadata": {},
   "source": [
    "<h4> Speckle Segmentation Workflow <h4>"
   ]
  },
  {
   "cell_type": "code",
   "execution_count": 144,
   "id": "laughing-sharp",
   "metadata": {},
   "outputs": [
    {
     "name": "stdout",
     "output_type": "stream",
     "text": [
      "intensity norm: min-max norm with upper bound 5000\n"
     ]
    }
   ],
   "source": [
    "# pre-processing\n",
    "\n",
    "# Intensity scaling and smoothing\n",
    "intensity_scaling_param = [5000] # current: [1,18]\n",
    "gaussian_smoothing_sigma = 1\n",
    "\n",
    "# intensity normalization\n",
    "struct_img = intensity_normalization(struct_img0, scaling_param=intensity_scaling_param) # struct_img0 or pcna_original \n",
    "\n",
    "# smoothing with gaussian filter\n",
    "structure_img_smooth = image_smoothing_gaussian_3d(struct_img, sigma=gaussian_smoothing_sigma)"
   ]
  },
  {
   "cell_type": "code",
   "execution_count": 145,
   "id": "ranging-north",
   "metadata": {},
   "outputs": [],
   "source": [
    "# vesselness filter\n",
    "\n",
    "vesselness_sigma1 = [1.5] # original:2, current:1 |increase for thicker segmentation\n",
    "vesselness_cutoff1 = 0.17 # original:0.07, current:0.17 |increase for thinner/less segmentation (was at 0.34)\n",
    "\n",
    "response1 = vesselness3D(structure_img_smooth, sigmas=vesselness_sigma1,  tau=1, whiteonblack=True)\n",
    "bw1 = response1 > vesselness_cutoff1\n"
   ]
  },
  {
   "cell_type": "code",
   "execution_count": 146,
   "id": "incredible-guard",
   "metadata": {
    "scrolled": false
   },
   "outputs": [],
   "source": [
    "# viewer_bw = view(segmentation_quick_view(bw1))\n",
    "# viewer_bw"
   ]
  },
  {
   "cell_type": "code",
   "execution_count": 147,
   "id": "smart-forth",
   "metadata": {},
   "outputs": [
    {
     "data": {
      "text/plain": [
       "(148, 2047, 848)"
      ]
     },
     "execution_count": 147,
     "metadata": {},
     "output_type": "execute_result"
    }
   ],
   "source": [
    "bw1.shape"
   ]
  },
  {
   "cell_type": "code",
   "execution_count": 148,
   "id": "dynamic-tobago",
   "metadata": {},
   "outputs": [],
   "source": [
    "# bw2 = structure_img_smooth>0.5\n",
    "# bw2 = np.invert(bw2)\n",
    "# bw = np.logical_or(bw1, bw2)"
   ]
  },
  {
   "cell_type": "code",
   "execution_count": 149,
   "id": "educated-newsletter",
   "metadata": {},
   "outputs": [],
   "source": [
    "# save \n",
    "# bw1 = np.invert(bw1)\n",
    "seg = bw1 >0\n",
    "out=seg.astype(np.uint8)\n",
    "out[out>0]=255\n",
    "imsave(\"20230425_L02-01_SEGV2vesselness_C=0_T=500.tif\", out)"
   ]
  },
  {
   "cell_type": "code",
   "execution_count": null,
   "id": "black-cannon",
   "metadata": {},
   "outputs": [],
   "source": []
  },
  {
   "cell_type": "code",
   "execution_count": null,
   "id": "upper-begin",
   "metadata": {},
   "outputs": [],
   "source": []
  },
  {
   "cell_type": "code",
   "execution_count": null,
   "id": "acceptable-exhaust",
   "metadata": {},
   "outputs": [],
   "source": []
  },
  {
   "cell_type": "code",
   "execution_count": null,
   "id": "proved-hunter",
   "metadata": {},
   "outputs": [],
   "source": []
  },
  {
   "cell_type": "code",
   "execution_count": null,
   "id": "commercial-guess",
   "metadata": {},
   "outputs": [],
   "source": []
  },
  {
   "cell_type": "code",
   "execution_count": null,
   "id": "nervous-edward",
   "metadata": {},
   "outputs": [],
   "source": []
  },
  {
   "cell_type": "code",
   "execution_count": null,
   "id": "spatial-samoa",
   "metadata": {},
   "outputs": [],
   "source": []
  },
  {
   "cell_type": "code",
   "execution_count": null,
   "id": "regular-philadelphia",
   "metadata": {},
   "outputs": [],
   "source": []
  },
  {
   "cell_type": "markdown",
   "id": "earned-postage",
   "metadata": {},
   "source": [
    "<h3> Processing speckle and lamin shell results <h3>"
   ]
  },
  {
   "cell_type": "code",
   "execution_count": 16,
   "id": "center-glance",
   "metadata": {
    "scrolled": true
   },
   "outputs": [
    {
     "name": "stderr",
     "output_type": "stream",
     "text": [
      "Failed to parse XML for the provided file. Error: not well-formed (invalid token): line 1, column 0\n",
      "Failed to parse XML for the provided file. Error: not well-formed (invalid token): line 1, column 0\n"
     ]
    },
    {
     "name": "stdout",
     "output_type": "stream",
     "text": [
      "lamin: (148, 2047, 848)\n",
      "speckle: (148, 2047, 848)\n"
     ]
    }
   ],
   "source": [
    "structure_channel = 0\n",
    "\n",
    "# read in lamin shell segmentation OR benji's instant seg\n",
    "filename = r\"\\\\allen\\aics\\assay-dev\\users\\Sandi\\nuc-morph-analysis\\speckle-analysis\\seg\\seg_laminshell\\SEGlaminshell_20230425_L02-01_processed_C=0_T=530.tiff\"\n",
    "reader = AICSImage(filename) \n",
    "lamin = reader.data.astype(np.uint8)\n",
    "struct_lamin = lamin[0,structure_channel,:,:,:].copy()\n",
    "\n",
    "# read in speckle segmentation (called vesselness)\n",
    "filename = r\"\\\\allen\\aics\\assay-dev\\users\\Sandi\\nuc-morph-analysis\\speckle-analysis\\seg\\seg_vesselness\\SEGvesselness_20230425_L02-01_processed_C=0_T=530.tiff\"\n",
    "reader = AICSImage(filename) \n",
    "speckle = reader.data.astype(np.uint8)\n",
    "struct_speckle = speckle[0,structure_channel,:,:,:].copy()\n",
    "\n",
    "\n",
    "print(\"lamin:\", struct_lamin.shape)\n",
    "print(\"speckle:\", struct_speckle.shape)\n"
   ]
  },
  {
   "cell_type": "code",
   "execution_count": 17,
   "id": "ruled-perception",
   "metadata": {},
   "outputs": [],
   "source": [
    "# viewer_bw = view(segmentation_quick_view(struct_speckle))\n",
    "# viewer_bw"
   ]
  },
  {
   "cell_type": "code",
   "execution_count": 18,
   "id": "celtic-psychiatry",
   "metadata": {},
   "outputs": [
    {
     "data": {
      "text/plain": [
       "dtype('uint8')"
      ]
     },
     "execution_count": 18,
     "metadata": {},
     "output_type": "execute_result"
    }
   ],
   "source": [
    "# get the intersection between speckle and lamin shell segmentation\n",
    "intersection = speckle & lamin\n",
    "intersection.dtype"
   ]
  },
  {
   "cell_type": "code",
   "execution_count": 19,
   "id": "automatic-opposition",
   "metadata": {},
   "outputs": [],
   "source": [
    "# save image \n",
    "imsave(\"SEGintersection_T=530.tiff\", intersection)"
   ]
  },
  {
   "cell_type": "code",
   "execution_count": 20,
   "id": "moral-groove",
   "metadata": {},
   "outputs": [],
   "source": [
    "# subtract intersection from speckle segmentation\n",
    "subtracted = speckle - intersection"
   ]
  },
  {
   "cell_type": "code",
   "execution_count": 21,
   "id": "technical-projection",
   "metadata": {},
   "outputs": [
    {
     "data": {
      "text/plain": [
       "dtype('uint8')"
      ]
     },
     "execution_count": 21,
     "metadata": {},
     "output_type": "execute_result"
    }
   ],
   "source": [
    "subtracted.dtype"
   ]
  },
  {
   "cell_type": "code",
   "execution_count": 22,
   "id": "greater-ballot",
   "metadata": {},
   "outputs": [],
   "source": [
    "# save image \n",
    "imsave(\"SEGfinalspeckle_T=530.tiff\", subtracted)"
   ]
  },
  {
   "cell_type": "code",
   "execution_count": null,
   "id": "fuzzy-prospect",
   "metadata": {},
   "outputs": [],
   "source": []
  },
  {
   "cell_type": "code",
   "execution_count": null,
   "id": "worthy-poland",
   "metadata": {},
   "outputs": [],
   "source": []
  },
  {
   "cell_type": "markdown",
   "id": "inappropriate-guide",
   "metadata": {},
   "source": [
    "<h3> Code not currently in use <h3>"
   ]
  },
  {
   "cell_type": "code",
   "execution_count": null,
   "id": "small-glucose",
   "metadata": {},
   "outputs": [],
   "source": [
    "# 3D FILAMENT FILTER \n",
    "\n",
    "# f3_param = [[1, 0.15]] original: 3d filament filter [1, 0.25]\n",
    "# filament = filament_3d_wrapper(structure_img_smooth, f3_param)\n",
    "# filament=np.invert(filament)\n",
    "\n",
    "# # post-processing\n",
    "\n",
    "# minArea = 400 \n",
    "# seg = remove_small_objects(filament>0, min_size=minArea, connectivity=1, in_place=False) #removed spots \n",
    "# imsave(\"20230425_L02-01_SEGremovesmallobj_C=0_T=247.tif\", filament)"
   ]
  },
  {
   "cell_type": "code",
   "execution_count": null,
   "id": "hybrid-party",
   "metadata": {},
   "outputs": [],
   "source": [
    "# # OTSU THRESHOLDING VERSION 1\n",
    "\n",
    "# # otsu thresholding: higher value, more segmentation\n",
    "# th = 1* threshold_otsu(structure_img_smooth) # original at 1.4 # current: 3.2 \n",
    "# overall_shape = dilation(\n",
    "#     remove_small_objects(structure_img_smooth > th, min_size=10, connectivity=1, in_place=False), #min_size = 10\n",
    "#     ball(1)\n",
    "# )\n",
    "# fixed_shape = erosion(\n",
    "#     hole_filling(overall_shape, hole_min=0, hole_max=5, fill_2d=True), #, hole_min= 0 hole_max = 5\n",
    "#     ball(1)\n",
    "# )\n",
    "\n",
    "# fixed_shape = np.invert(fixed_shape)\n",
    "\n",
    "# imsave(\"20230425_L02-01_SEGotsu_C=0_T=247.tif\", fixed_shape)"
   ]
  },
  {
   "cell_type": "code",
   "execution_count": 35,
   "id": "according-arizona",
   "metadata": {},
   "outputs": [],
   "source": [
    "# # OTSU THRESHOLDING VERSION 2\n",
    "\n",
    "# # different otsu attempt\n",
    "# struct_img_otsu = intensity_normalization(struct_img, scaling_param=intensity_norm_param_otsu)\n",
    "# structure_img_smooth_otsu = edge_preserving_smoothing_3d(struct_img_otsu)\n",
    "\n",
    "# intensity_norm_param = [0.5, 10]\n",
    "# intensity_norm_param_otsu = [0.5, 15]\n",
    "# scaling_factor = 1.0\n",
    "# vesselness_sigma = [1.0]\n",
    "# vesselness_cutoff = 0.0125\n",
    "# minArea = 20\n",
    "# dot_3d_sigma = 1.0\n",
    "\n",
    "# otsu_thresh = threshold_otsu(structure_img_smooth_otsu)\n",
    "# global_thresh = otsu_thresh * scaling_factor\n",
    "# bw_otsu_mask = structure_img_smooth_otsu > global_thresh\n",
    "\n",
    "# response_f3 = vesselness3D(structure_img_smooth, sigmas=vesselness_sigma, tau=1, whiteonblack=True)\n",
    "# response_f3 = response_f3 > vesselness_cutoff\n",
    "\n",
    "# response_s3_1 = dot_3d(structure_img_smooth, log_sigma=dot_3d_sigma)\n",
    "# response_s3_3 = dot_3d(structure_img_smooth, log_sigma=3)\n",
    "\n",
    "# bw_small_inverse = remove_small_objects(response_s3_1 > 0.035, min_size=150)\n",
    "# bw_small = np.logical_xor(bw_small_inverse, response_s3_1 > 0.025)\n",
    "# bw_medium = np.logical_or(bw_small, response_s3_1 > 0.07)\n",
    "# bw_large = np.logical_or(response_s3_3 > 0.2, response_f3 > 0.25)\n",
    "# bw_dots = np.logical_or(np.logical_or(bw_small, bw_medium), bw_large)\n",
    "# bw = np.logical_and(bw_dots, bw_otsu_mask)"
   ]
  },
  {
   "cell_type": "code",
   "execution_count": 36,
   "id": "uniform-minister",
   "metadata": {},
   "outputs": [],
   "source": [
    "# # OTSU THRESHOLDING VERSION 3\n",
    "\n",
    "# # otsu mask\n",
    "# scaling_factor = 1.2\n",
    "\n",
    "# otsu_thresh = threshold_otsu(structure_img_smooth)\n",
    "# global_thresh = otsu_thresh * scaling_factor\n",
    "# bw_otsu_mask = structure_img_smooth > global_thresh"
   ]
  },
  {
   "cell_type": "code",
   "execution_count": 66,
   "id": "christian-washington",
   "metadata": {},
   "outputs": [],
   "source": [
    "# # 2D SPOT FILTER VERSION 1\n",
    "\n",
    "# s2 = np.zeros_like(filament)\n",
    "# for z in range(structure_img_smooth.shape[0]):\n",
    "#     zslice = dot_2d(structure_img_smooth[z,], 2)\n",
    "#     s2[z, :, :] = zslice < 0.07 #original: > 0.03 current  \n",
    "# spot_filter = np.logical_or(s2, filament)\n",
    "\n",
    "# imsave(\"20230425_L02-01_SEG_spot2d_C=0_T=247.tif\", spot_filter)"
   ]
  },
  {
   "cell_type": "code",
   "execution_count": null,
   "id": "liquid-telephone",
   "metadata": {},
   "outputs": [],
   "source": [
    "# # 2D SPOT FILTER VERSION 2\n",
    "\n",
    "# s2_param = [[3, 0.01]] # current: [[2, 0.01]]\n",
    "# bw_spot2d = dot_2d_slice_by_slice_wrapper(structure_img_smooth, s2_param)\n",
    "# bw_spot2d_inv = np.invert(bw_spot2d)"
   ]
  },
  {
   "cell_type": "code",
   "execution_count": 75,
   "id": "effective-transparency",
   "metadata": {},
   "outputs": [],
   "source": [
    "# # SUBTRACTION OF TWO DIFFERENT METHODS\n",
    "\n",
    "# subtracted = filament.astype(np.uint8) - spot_filter.astype(np.uint8)\n",
    "# imsave(\"20230425_L02-01_SEG_subtracted_C=0_T=247.tif\", subtracted)"
   ]
  },
  {
   "cell_type": "code",
   "execution_count": 70,
   "id": "activated-dance",
   "metadata": {},
   "outputs": [],
   "source": [
    "# # 2D EROSION THINNING\n",
    "\n",
    "# for z in range(bw1.shape[0]):\n",
    "#     zslice= bw1[z,]\n",
    "#     zslice = erosion(zslice, disk(1))\n",
    "#     bw[z, :, :] = zslice\n",
    "\n",
    "# response_vessel = vesselness3D(structure_img_smooth, sigmas=[1], tau=1, whiteonblack=True)\n",
    "\n",
    "# seg = np.logical_or(response_vessel > 2.5, bw1) # response_vessel > 0.28 increasing parameter thins out lines\n",
    "\n",
    "# seg = hole_filling(seg, hole_min=0, hole_max=15, fill_2d=True)# hole_min=0 # hole_max=15\n",
    "\n",
    "# seg = np.invert(seg)\n",
    "# imsave(\"20230425_L02-01_SEGerosionvessel_C=0_T=247.tif\", seg)"
   ]
  },
  {
   "cell_type": "code",
   "execution_count": 22,
   "id": "combined-nursery",
   "metadata": {},
   "outputs": [],
   "source": [
    "# MASK OBJECT THRESHOLDING\n",
    "\n",
    "# bw2, object_for_debug = MO(seg, global_thresh_method='tri', object_minArea=1200, return_object=True)\n",
    "# # # Mask Object Thresholding (note: try this for speckle segmentation)\n",
    "# mo_thresh, object_for_debug = MO(structure_img_smooth, global_thresh_method='tri', object_minArea=1200, return_object=True, \n",
    "#                           local_adjust=1.75) # exp: 1.95, v2 v3: 2.75"
   ]
  },
  {
   "cell_type": "code",
   "execution_count": 23,
   "id": "korean-astrology",
   "metadata": {},
   "outputs": [],
   "source": [
    "# # THINNING\n",
    "\n",
    "# thin_dist_preserve=0.09\n",
    "# thin_dist=2\n",
    "# bw_thin = topology_preserving_thinning(bw_otsu_mask>0, thin_dist_preserve, thin_dist)"
   ]
  },
  {
   "cell_type": "code",
   "execution_count": null,
   "id": "vulnerable-communist",
   "metadata": {},
   "outputs": [],
   "source": []
  }
 ],
 "metadata": {
  "kernelspec": {
   "display_name": "Python 3",
   "language": "python",
   "name": "python3"
  },
  "language_info": {
   "codemirror_mode": {
    "name": "ipython",
    "version": 3
   },
   "file_extension": ".py",
   "mimetype": "text/x-python",
   "name": "python",
   "nbconvert_exporter": "python",
   "pygments_lexer": "ipython3",
   "version": "3.7.9"
  }
 },
 "nbformat": 4,
 "nbformat_minor": 5
}
