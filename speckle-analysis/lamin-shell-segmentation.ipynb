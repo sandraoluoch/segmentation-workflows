{
 "cells": [
  {
   "cell_type": "code",
   "execution_count": 26,
   "id": "arctic-mistress",
   "metadata": {},
   "outputs": [],
   "source": [
    "import numpy as np\n",
    "\n",
    "# package for 3d visualization\n",
    "from itkwidgets import view                              \n",
    "from aicssegmentation.core.visual import seg_fluo_side_by_side,  single_fluorescent_view, segmentation_quick_view\n",
    "import matplotlib.pyplot as plt\n",
    "plt.rcParams[\"figure.figsize\"] = [16, 12]\n",
    "\n",
    "# package for io \n",
    "from aicsimageio import AICSImage\n",
    "from aicsimageio.writers import OmeTiffWriter\n",
    "\n",
    "# function for core algorithm\n",
    "from aicssegmentation.core.vessel import filament_2d_wrapper\n",
    "from aicssegmentation.core.pre_processing_utils import intensity_normalization, image_smoothing_gaussian_3d\n",
    "from aicssegmentation.core.utils import get_middle_frame, hole_filling, get_3dseed_from_mid_frame\n",
    "from skimage.morphology import remove_small_objects, watershed, dilation, ball\n",
    "\n",
    "from tifffile import imsave"
   ]
  },
  {
   "cell_type": "code",
   "execution_count": 127,
   "id": "selected-responsibility",
   "metadata": {},
   "outputs": [
    {
     "name": "stderr",
     "output_type": "stream",
     "text": [
      "Failed to parse XML for the provided file. Error: not well-formed (invalid token): line 1, column 6\n"
     ]
    },
    {
     "name": "stdout",
     "output_type": "stream",
     "text": [
      "(1, 1, 148, 2047, 848)\n"
     ]
    }
   ],
   "source": [
    "filename = r\"\\\\allen\\aics\\assay-dev\\users\\Sandi\\nuc-morph-analysis\\speckle-analysis\\for-presentation\\raw\\20230425_L02-01_processed_C=0_T=400.tif\"\n",
    "reader = AICSImage(filename) \n",
    "IMG = reader.data.astype(np.float32)\n",
    "\n",
    "print(IMG.shape)"
   ]
  },
  {
   "cell_type": "code",
   "execution_count": 128,
   "id": "antique-truth",
   "metadata": {},
   "outputs": [],
   "source": [
    "#####################\n",
    "structure_channel = 0\n",
    "#####################\n",
    "\n",
    "struct_img0 = IMG[0,structure_channel,:,:,:].copy()\n",
    "#view(single_fluorescent_view(struct_img0))"
   ]
  },
  {
   "cell_type": "code",
   "execution_count": 129,
   "id": "starting-cleaning",
   "metadata": {},
   "outputs": [
    {
     "name": "stdout",
     "output_type": "stream",
     "text": [
      "intensity norm: min-max norm with upper bound 4000\n"
     ]
    }
   ],
   "source": [
    "################################\n",
    "## PARAMETERS for this step ##\n",
    "intensity_scaling_param = [4000]\n",
    "gaussian_smoothing_sigma = 1\n",
    "################################\n",
    "# intensity normalization\n",
    "struct_img = intensity_normalization(struct_img0, scaling_param=intensity_scaling_param)\n",
    "\n",
    "# smoothing with 2d gaussian filter slice by slice \n",
    "structure_img_smooth = image_smoothing_gaussian_3d(struct_img, sigma=gaussian_smoothing_sigma)"
   ]
  },
  {
   "cell_type": "code",
   "execution_count": 130,
   "id": "earned-shark",
   "metadata": {},
   "outputs": [
    {
     "data": {
      "text/plain": [
       "(148, 2047, 848)"
      ]
     },
     "execution_count": 130,
     "metadata": {},
     "output_type": "execute_result"
    }
   ],
   "source": [
    "structure_img_smooth.shape"
   ]
  },
  {
   "cell_type": "code",
   "execution_count": 131,
   "id": "combined-forth",
   "metadata": {
    "scrolled": true
   },
   "outputs": [],
   "source": [
    "mid_z = get_middle_frame(structure_img_smooth, method='intensity') # 50 "
   ]
  },
  {
   "cell_type": "code",
   "execution_count": 132,
   "id": "after-values",
   "metadata": {},
   "outputs": [],
   "source": [
    "f2_param = [[5, 0.71]] # original:[[1, 0.01],[2, 0.01],[3, 0.01]]\n",
    "bw_mid_z = filament_2d_wrapper(structure_img_smooth[mid_z,:,:], f2_param)\n",
    "#view(segmentation_quick_view(bw_mid_z))"
   ]
  },
  {
   "cell_type": "code",
   "execution_count": 133,
   "id": "sapphire-november",
   "metadata": {},
   "outputs": [],
   "source": [
    "# 2D filament filter\n",
    "\n",
    "f2_param = [[4, 0.91]] # original:[[1, 0.01],[2, 0.01],[3, 0.01]] current: [5,0.71]\n",
    "filament = filament_2d_wrapper(structure_img_smooth, f2_param)"
   ]
  },
  {
   "cell_type": "code",
   "execution_count": 134,
   "id": "composed-position",
   "metadata": {},
   "outputs": [
    {
     "data": {
      "text/plain": [
       "(148, 2047, 848)"
      ]
     },
     "execution_count": 134,
     "metadata": {},
     "output_type": "execute_result"
    }
   ],
   "source": [
    "filament.shape"
   ]
  },
  {
   "cell_type": "code",
   "execution_count": 135,
   "id": "matched-madagascar",
   "metadata": {},
   "outputs": [],
   "source": [
    "# remove small objects\n",
    "\n",
    "minArea = 1000 \n",
    "seg = remove_small_objects(filament>0, min_size=minArea, connectivity=1, in_place=False) #removed spots "
   ]
  },
  {
   "cell_type": "code",
   "execution_count": 136,
   "id": "designed-quick",
   "metadata": {},
   "outputs": [],
   "source": [
    "# save image\n",
    "\n",
    "seg = seg >0\n",
    "out=seg.astype(np.uint8)\n",
    "out[out>0]=255\n",
    "imsave(\"20230425_L02-01_SEGlaminshell_C=0_T=400.tif\", out)"
   ]
  },
  {
   "cell_type": "code",
   "execution_count": null,
   "id": "placed-keeping",
   "metadata": {},
   "outputs": [],
   "source": []
  },
  {
   "cell_type": "code",
   "execution_count": null,
   "id": "wrong-guidance",
   "metadata": {},
   "outputs": [],
   "source": []
  },
  {
   "cell_type": "code",
   "execution_count": null,
   "id": "square-creek",
   "metadata": {},
   "outputs": [],
   "source": []
  },
  {
   "cell_type": "code",
   "execution_count": null,
   "id": "ambient-april",
   "metadata": {},
   "outputs": [],
   "source": []
  },
  {
   "cell_type": "code",
   "execution_count": 203,
   "id": "desperate-segment",
   "metadata": {},
   "outputs": [],
   "source": [
    "#view(segmentation_quick_view(bw_mid_z))"
   ]
  },
  {
   "cell_type": "code",
   "execution_count": 138,
   "id": "published-circular",
   "metadata": {},
   "outputs": [],
   "source": [
    "# # applying watershed\n",
    "\n",
    "# hole_max = 40000\n",
    "# hole_min = 400\n",
    "\n",
    "\n",
    "# bw_fill_mid_z = hole_filling(bw_mid_z, hole_min, hole_max) # filled in nucleus\n",
    "# seed = get_3dseed_from_mid_frame(np.logical_xor(bw_fill_mid_z, bw_mid_z), struct_img.shape, mid_z, hole_min)\n",
    "# bw_filled = watershed(struct_img, seed.astype(int), watershed_line=True)>0 # outline only\n",
    "\n",
    "# # get the shell\n",
    "# seg = np.logical_xor(bw_filled, dilation(bw_filled, selem=ball(1)))"
   ]
  },
  {
   "cell_type": "code",
   "execution_count": 139,
   "id": "short-harrison",
   "metadata": {},
   "outputs": [],
   "source": [
    "# viewer_bw = view(segmentation_quick_view(seg))\n",
    "# viewer_bw"
   ]
  },
  {
   "cell_type": "code",
   "execution_count": 140,
   "id": "heavy-bearing",
   "metadata": {},
   "outputs": [],
   "source": []
  },
  {
   "cell_type": "code",
   "execution_count": 141,
   "id": "identified-bouquet",
   "metadata": {},
   "outputs": [],
   "source": []
  },
  {
   "cell_type": "code",
   "execution_count": null,
   "id": "distinct-objective",
   "metadata": {},
   "outputs": [],
   "source": []
  }
 ],
 "metadata": {
  "kernelspec": {
   "display_name": "Python 3",
   "language": "python",
   "name": "python3"
  },
  "language_info": {
   "codemirror_mode": {
    "name": "ipython",
    "version": 3
   },
   "file_extension": ".py",
   "mimetype": "text/x-python",
   "name": "python",
   "nbconvert_exporter": "python",
   "pygments_lexer": "ipython3",
   "version": "3.7.9"
  }
 },
 "nbformat": 4,
 "nbformat_minor": 5
}
