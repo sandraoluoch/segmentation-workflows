{
 "cells": [
  {
   "cell_type": "code",
   "execution_count": 2,
   "id": "competitive-memphis",
   "metadata": {},
   "outputs": [],
   "source": [
    "import os\n",
    "from aicsimageio import AICSImage\n",
    "from tifffile import imsave\n",
    "from pathlib import Path\n",
    "import numpy as np\n",
    "from skimage.filters import threshold_otsu\n",
    "from skimage.morphology import ball, binary_closing, remove_small_objects, dilation, erosion, disk\n",
    "from aicssegmentation.core.pre_processing_utils import  intensity_normalization, edge_preserving_smoothing_3d\n",
    "from aicssegmentation.core.vessel import vesselness3D\n",
    "from aicssegmentation.core.seg_dot import dot_2d\n",
    "from aicssegmentation.core.utils import topology_preserving_thinning, hole_filling\n",
    "import matplotlib.pyplot as plt\n",
    "from itkwidgets import view   \n",
    "from aicssegmentation.core.visual import seg_fluo_side_by_side,  single_fluorescent_view, segmentation_quick_view\n",
    "plt.rcParams[\"figure.figsize\"] = [16, 12]\n",
    "from aicssegmentation.core.MO_threshold import MO\n",
    "from aicspylibczi import CziFile\n",
    "\n",
    "# dots|\n",
    "from aicssegmentation.core.seg_dot import dot_3d, dot_3d_wrapper \n",
    "from aicssegmentation.core.seg_dot import dot_2d_slice_by_slice_wrapper\n",
    "from aicssegmentation.core.pre_processing_utils import intensity_normalization, image_smoothing_gaussian_slice_by_slice\n",
    "from skimage.morphology import remove_small_objects, dilation, erosion, ball     # function for post-processing (size filter)\n",
    "from skimage.feature import peak_local_max\n",
    "from skimage.measure import label\n",
    "from scipy.ndimage import distance_transform_edt\n",
    "from aicssegmentation.core.seg_dot import dot_3d, dot_3d_wrapper \n",
    "from aicssegmentation.core.pre_processing_utils import intensity_normalization, image_smoothing_gaussian_slice_by_slice\n",
    "from skimage.morphology import remove_small_objects, dilation, erosion, ball     # function for post-processing (size filter)\n",
    "from skimage.feature import peak_local_max\n",
    "from skimage.measure import label\n",
    "from scipy.ndimage import distance_transform_edt\n",
    "\n",
    "# function for core algorithm\n",
    "from aicssegmentation.core.vessel import filament_2d_wrapper,filament_3d_wrapper\n",
    "from aicssegmentation.core.pre_processing_utils import intensity_normalization, image_smoothing_gaussian_3d\n",
    "from aicssegmentation.core.utils import get_middle_frame, hole_filling, get_3dseed_from_mid_frame\n",
    "from skimage.morphology import remove_small_objects, dilation, ball, opening, cube"
   ]
  },
  {
   "cell_type": "code",
   "execution_count": 3,
   "id": "minor-identity",
   "metadata": {},
   "outputs": [],
   "source": [
    "# input directories\n",
    "vesselness_input = \"/allen/aics/assay-dev/users/Sandi/nuc-morph-analysis/speckle-analysis/seg/seg_vesselness\"\n",
    "laminshell_input = \"/allen/aics/assay-dev/users/Sandi/nuc-morph-analysis/speckle-analysis/seg/seg_laminshell\"\n",
    "\n",
    "# output directories\n",
    "intersection_output = \"/allen/aics/assay-dev/users/Sandi/nuc-morph-analysis/speckle-analysis/seg/seg_intersection\"\n",
    "finalspeckle_output = \"/allen/aics/assay-dev/users/Sandi/nuc-morph-analysis/speckle-analysis/seg/seg_finalspeckle\"\n"
   ]
  },
  {
   "cell_type": "code",
   "execution_count": 4,
   "id": "resident-premiere",
   "metadata": {},
   "outputs": [
    {
     "name": "stderr",
     "output_type": "stream",
     "text": [
      "Failed to parse XML for the provided file. Error: not well-formed (invalid token): line 1, column 0\n",
      "Failed to parse XML for the provided file. Error: not well-formed (invalid token): line 1, column 0\n"
     ]
    },
    {
     "name": "stdout",
     "output_type": "stream",
     "text": [
      "lamin: (148, 2047, 848)\n",
      "speckle: (148, 2047, 848)\n",
      "<class 'numpy.ndarray'>\n"
     ]
    },
    {
     "ename": "TypeError",
     "evalue": "ufunc 'bitwise_and' not supported for the input types, and the inputs could not be safely coerced to any supported types according to the casting rule ''safe''",
     "output_type": "error",
     "traceback": [
      "\u001b[0;31m---------------------------------------------------------------------------\u001b[0m",
      "\u001b[0;31mTypeError\u001b[0m                                 Traceback (most recent call last)",
      "\u001b[0;32m<ipython-input-4-1765e2c0d015>\u001b[0m in \u001b[0;36m<module>\u001b[0;34m\u001b[0m\n\u001b[1;32m     21\u001b[0m         \u001b[0mprint\u001b[0m\u001b[0;34m(\u001b[0m\u001b[0mtype\u001b[0m\u001b[0;34m(\u001b[0m\u001b[0mspeckle\u001b[0m\u001b[0;34m)\u001b[0m\u001b[0;34m)\u001b[0m\u001b[0;34m\u001b[0m\u001b[0;34m\u001b[0m\u001b[0m\n\u001b[1;32m     22\u001b[0m         \u001b[0;31m# # get the intersection between speckle and lamin shell segmentation\u001b[0m\u001b[0;34m\u001b[0m\u001b[0;34m\u001b[0m\u001b[0;34m\u001b[0m\u001b[0m\n\u001b[0;32m---> 23\u001b[0;31m         \u001b[0mintersection\u001b[0m \u001b[0;34m=\u001b[0m \u001b[0mspeckle\u001b[0m \u001b[0;34m&\u001b[0m \u001b[0mlamin\u001b[0m\u001b[0;34m\u001b[0m\u001b[0;34m\u001b[0m\u001b[0m\n\u001b[0m\u001b[1;32m     24\u001b[0m         \u001b[0mprint\u001b[0m\u001b[0;34m(\u001b[0m\u001b[0mtype\u001b[0m\u001b[0;34m(\u001b[0m\u001b[0mintersection\u001b[0m\u001b[0;34m)\u001b[0m\u001b[0;34m)\u001b[0m\u001b[0;34m\u001b[0m\u001b[0;34m\u001b[0m\u001b[0m\n\u001b[1;32m     25\u001b[0m \u001b[0;34m\u001b[0m\u001b[0m\n",
      "\u001b[0;31mTypeError\u001b[0m: ufunc 'bitwise_and' not supported for the input types, and the inputs could not be safely coerced to any supported types according to the casting rule ''safe''"
     ]
    }
   ],
   "source": [
    "for file_lamin in os.listdir(laminshell_input):\n",
    "    for file_vesselness in os.listdir(vesselness_input):\n",
    "        structure_channel = 0\n",
    "\n",
    "        # read in vesselness folder\n",
    "        filename_lamin = os.path.join(laminshell_input, file_lamin)\n",
    "        reader_lamin = AICSImage(filename_lamin) \n",
    "        lamin = reader_lamin.data.astype(np.uint8)\n",
    "        struct_lamin = lamin[0,structure_channel,:,:,:].copy()\n",
    "   \n",
    "\n",
    "        # reading in file\n",
    "        filename_vesselness = os.path.join(vesselness_input, file_vesselness)\n",
    "        reader_vesselness = AICSImage(filename_vesselness) \n",
    "        speckle = reader_vesselness.data.astype(np.float32)\n",
    "        struct_speckle = speckle[0,structure_channel,:,:,:].copy()\n",
    "\n",
    "        print(\"lamin:\", struct_lamin.shape)\n",
    "        print(\"speckle:\", struct_speckle.shape)\n",
    "\n",
    "        print(type(speckle))\n",
    "        # # get the intersection between speckle and lamin shell segmentation\n",
    "        intersection = speckle & lamin\n",
    "\n",
    "        # save intersection segmentation \n",
    "        imsave(intersection_output +\"/\" +\"SEGintersection_\" + \"{}\".format(file_lamin), intersection)\n",
    "\n",
    "        # subtract intersection from speckle segmentation\n",
    "        subtracted = speckle - intersection\n",
    "\n",
    "        # save intersection segmentation \n",
    "        imsave(finalspeckle_output +\"/\" +\"SEGfinalspeckle_\" + \"{}\".format(file_lamin), subtracted)"
   ]
  },
  {
   "cell_type": "code",
   "execution_count": null,
   "id": "looking-saskatchewan",
   "metadata": {},
   "outputs": [],
   "source": [
    "timepoints = [\"T=0\",\"T=5\",\"T=10\",\"T=15\",\"T=20\"]"
   ]
  }
 ],
 "metadata": {
  "kernelspec": {
   "display_name": "Python 3",
   "language": "python",
   "name": "python3"
  },
  "language_info": {
   "codemirror_mode": {
    "name": "ipython",
    "version": 3
   },
   "file_extension": ".py",
   "mimetype": "text/x-python",
   "name": "python",
   "nbconvert_exporter": "python",
   "pygments_lexer": "ipython3",
   "version": "3.7.9"
  }
 },
 "nbformat": 4,
 "nbformat_minor": 5
}
