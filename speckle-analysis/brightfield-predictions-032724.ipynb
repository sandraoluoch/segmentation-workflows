{
 "cells": [
  {
   "cell_type": "code",
   "execution_count": 27,
   "id": "fancy-recommendation",
   "metadata": {},
   "outputs": [],
   "source": [
    "import numpy as np\n",
    "import pandas as pd\n",
    "from aicsimageio import AICSImage\n",
    "from aicsimageio.writers.ome_tiff_writer import OmeTiffWriter"
   ]
  },
  {
   "cell_type": "markdown",
   "id": "complete-italy",
   "metadata": {},
   "source": [
    "<h3> METHOD 1: Suraj's Original Code <h3>"
   ]
  },
  {
   "cell_type": "code",
   "execution_count": 9,
   "id": "statutory-indianapolis",
   "metadata": {},
   "outputs": [
    {
     "data": {
      "text/plain": [
       "158"
      ]
     },
     "execution_count": 9,
     "metadata": {},
     "output_type": "execute_result"
    }
   ],
   "source": [
    "temp_csv = pd.read_csv(\"/allen/aics/assay-dev/users/Sandi/emt-project-leigh/cyto-gfp/All_eomes_QCed_data_March_27_2024.csv\")\n",
    "len(temp_csv)"
   ]
  },
  {
   "cell_type": "code",
   "execution_count": 12,
   "id": "upset-facial",
   "metadata": {
    "scrolled": true
   },
   "outputs": [
    {
     "name": "stderr",
     "output_type": "stream",
     "text": [
      "Attempted file (/allen/programs/allencell/data/proj0/1be/283/495/638/ca4/1ba/e4b/636/c78/b73/1c/3500005814_H02_001_20x_Timelapse-01(P55-G8).ome.tiff) load with reader: aicsimageio.readers.bfio_reader.OmeTiledTiffReader failed with error: No module named 'bfio'\n"
     ]
    }
   ],
   "source": [
    "fileRow = 0 #0, 3, 5, 8, 10 # 3rd csv; case 0 is the point of change; case 3 onwards both BF and Myh\n",
    "temp_csv.file_path[fileRow]\n",
    "xx = AICSImage(temp_csv.file_path[fileRow])"
   ]
  },
  {
   "cell_type": "code",
   "execution_count": 14,
   "id": "different-onion",
   "metadata": {},
   "outputs": [],
   "source": [
    "path=temp_csv.file_path[fileRow]"
   ]
  },
  {
   "cell_type": "code",
   "execution_count": 21,
   "id": "measured-medium",
   "metadata": {},
   "outputs": [
    {
     "data": {
      "text/plain": [
       "'/allen/programs/allencell/data/proj0/1be/283/495/638/ca4/1ba/e4b/636/c78/b73/1c/3500005814_H02_001_20x_Timelapse-01(P55-G8).ome.tiff'"
      ]
     },
     "execution_count": 21,
     "metadata": {},
     "output_type": "execute_result"
    }
   ],
   "source": [
    "path"
   ]
  },
  {
   "cell_type": "code",
   "execution_count": 54,
   "id": "collected-robin",
   "metadata": {},
   "outputs": [
    {
     "name": "stdout",
     "output_type": "stream",
     "text": [
      "/allen/aics/assay-dev/users/Sandi/emt-project-leigh/cyto-gfp/for-testing-brightfield/1cb73c78636e4b1baca46384952831be/1cb73c78636e4b1baca46384952831be_T000.tiff\n"
     ]
    },
    {
     "name": "stderr",
     "output_type": "stream",
     "text": [
      "/allen/aics/apps/hpc_shared/mod/anaconda3-5.3.0/envs/tracking_analysis_morph/lib/python3.7/site-packages/ome_types/_convenience.py:105: FutureWarning: The default XML parser will be changing from 'xmlschema' to 'lxml' in version 0.4.0.  To silence this warning, please provide the `parser` argument, specifying either 'lxml' (to opt into the new behavior), or'xmlschema' (to retain the old behavior).\n",
      "  d = to_dict(os.fspath(xml), parser=parser, validate=validate)\n"
     ]
    },
    {
     "name": "stdout",
     "output_type": "stream",
     "text": [
      "/allen/aics/assay-dev/users/Sandi/emt-project-leigh/cyto-gfp/for-testing-brightfield/1cb73c78636e4b1baca46384952831be/1cb73c78636e4b1baca46384952831be_T001.tiff\n"
     ]
    },
    {
     "name": "stderr",
     "output_type": "stream",
     "text": [
      "/allen/aics/apps/hpc_shared/mod/anaconda3-5.3.0/envs/tracking_analysis_morph/lib/python3.7/site-packages/ome_types/_convenience.py:105: FutureWarning: The default XML parser will be changing from 'xmlschema' to 'lxml' in version 0.4.0.  To silence this warning, please provide the `parser` argument, specifying either 'lxml' (to opt into the new behavior), or'xmlschema' (to retain the old behavior).\n",
      "  d = to_dict(os.fspath(xml), parser=parser, validate=validate)\n"
     ]
    },
    {
     "name": "stdout",
     "output_type": "stream",
     "text": [
      "/allen/aics/assay-dev/users/Sandi/emt-project-leigh/cyto-gfp/for-testing-brightfield/1cb73c78636e4b1baca46384952831be/1cb73c78636e4b1baca46384952831be_T002.tiff\n"
     ]
    },
    {
     "name": "stderr",
     "output_type": "stream",
     "text": [
      "/allen/aics/apps/hpc_shared/mod/anaconda3-5.3.0/envs/tracking_analysis_morph/lib/python3.7/site-packages/ome_types/_convenience.py:105: FutureWarning: The default XML parser will be changing from 'xmlschema' to 'lxml' in version 0.4.0.  To silence this warning, please provide the `parser` argument, specifying either 'lxml' (to opt into the new behavior), or'xmlschema' (to retain the old behavior).\n",
      "  d = to_dict(os.fspath(xml), parser=parser, validate=validate)\n"
     ]
    },
    {
     "name": "stdout",
     "output_type": "stream",
     "text": [
      "/allen/aics/assay-dev/users/Sandi/emt-project-leigh/cyto-gfp/for-testing-brightfield/1cb73c78636e4b1baca46384952831be/1cb73c78636e4b1baca46384952831be_T003.tiff\n"
     ]
    },
    {
     "name": "stderr",
     "output_type": "stream",
     "text": [
      "/allen/aics/apps/hpc_shared/mod/anaconda3-5.3.0/envs/tracking_analysis_morph/lib/python3.7/site-packages/ome_types/_convenience.py:105: FutureWarning: The default XML parser will be changing from 'xmlschema' to 'lxml' in version 0.4.0.  To silence this warning, please provide the `parser` argument, specifying either 'lxml' (to opt into the new behavior), or'xmlschema' (to retain the old behavior).\n",
      "  d = to_dict(os.fspath(xml), parser=parser, validate=validate)\n"
     ]
    },
    {
     "name": "stdout",
     "output_type": "stream",
     "text": [
      "/allen/aics/assay-dev/users/Sandi/emt-project-leigh/cyto-gfp/for-testing-brightfield/1cb73c78636e4b1baca46384952831be/1cb73c78636e4b1baca46384952831be_T004.tiff\n"
     ]
    },
    {
     "name": "stderr",
     "output_type": "stream",
     "text": [
      "/allen/aics/apps/hpc_shared/mod/anaconda3-5.3.0/envs/tracking_analysis_morph/lib/python3.7/site-packages/ome_types/_convenience.py:105: FutureWarning: The default XML parser will be changing from 'xmlschema' to 'lxml' in version 0.4.0.  To silence this warning, please provide the `parser` argument, specifying either 'lxml' (to opt into the new behavior), or'xmlschema' (to retain the old behavior).\n",
      "  d = to_dict(os.fspath(xml), parser=parser, validate=validate)\n"
     ]
    },
    {
     "name": "stdout",
     "output_type": "stream",
     "text": [
      "/allen/aics/assay-dev/users/Sandi/emt-project-leigh/cyto-gfp/for-testing-brightfield/1cb73c78636e4b1baca46384952831be/1cb73c78636e4b1baca46384952831be_T005.tiff\n"
     ]
    },
    {
     "name": "stderr",
     "output_type": "stream",
     "text": [
      "/allen/aics/apps/hpc_shared/mod/anaconda3-5.3.0/envs/tracking_analysis_morph/lib/python3.7/site-packages/ome_types/_convenience.py:105: FutureWarning: The default XML parser will be changing from 'xmlschema' to 'lxml' in version 0.4.0.  To silence this warning, please provide the `parser` argument, specifying either 'lxml' (to opt into the new behavior), or'xmlschema' (to retain the old behavior).\n",
      "  d = to_dict(os.fspath(xml), parser=parser, validate=validate)\n"
     ]
    },
    {
     "name": "stdout",
     "output_type": "stream",
     "text": [
      "/allen/aics/assay-dev/users/Sandi/emt-project-leigh/cyto-gfp/for-testing-brightfield/1cb73c78636e4b1baca46384952831be/1cb73c78636e4b1baca46384952831be_T006.tiff\n"
     ]
    },
    {
     "name": "stderr",
     "output_type": "stream",
     "text": [
      "/allen/aics/apps/hpc_shared/mod/anaconda3-5.3.0/envs/tracking_analysis_morph/lib/python3.7/site-packages/ome_types/_convenience.py:105: FutureWarning: The default XML parser will be changing from 'xmlschema' to 'lxml' in version 0.4.0.  To silence this warning, please provide the `parser` argument, specifying either 'lxml' (to opt into the new behavior), or'xmlschema' (to retain the old behavior).\n",
      "  d = to_dict(os.fspath(xml), parser=parser, validate=validate)\n"
     ]
    },
    {
     "name": "stdout",
     "output_type": "stream",
     "text": [
      "/allen/aics/assay-dev/users/Sandi/emt-project-leigh/cyto-gfp/for-testing-brightfield/1cb73c78636e4b1baca46384952831be/1cb73c78636e4b1baca46384952831be_T007.tiff\n"
     ]
    },
    {
     "name": "stderr",
     "output_type": "stream",
     "text": [
      "/allen/aics/apps/hpc_shared/mod/anaconda3-5.3.0/envs/tracking_analysis_morph/lib/python3.7/site-packages/ome_types/_convenience.py:105: FutureWarning: The default XML parser will be changing from 'xmlschema' to 'lxml' in version 0.4.0.  To silence this warning, please provide the `parser` argument, specifying either 'lxml' (to opt into the new behavior), or'xmlschema' (to retain the old behavior).\n",
      "  d = to_dict(os.fspath(xml), parser=parser, validate=validate)\n"
     ]
    },
    {
     "name": "stdout",
     "output_type": "stream",
     "text": [
      "/allen/aics/assay-dev/users/Sandi/emt-project-leigh/cyto-gfp/for-testing-brightfield/1cb73c78636e4b1baca46384952831be/1cb73c78636e4b1baca46384952831be_T008.tiff\n"
     ]
    },
    {
     "name": "stderr",
     "output_type": "stream",
     "text": [
      "/allen/aics/apps/hpc_shared/mod/anaconda3-5.3.0/envs/tracking_analysis_morph/lib/python3.7/site-packages/ome_types/_convenience.py:105: FutureWarning: The default XML parser will be changing from 'xmlschema' to 'lxml' in version 0.4.0.  To silence this warning, please provide the `parser` argument, specifying either 'lxml' (to opt into the new behavior), or'xmlschema' (to retain the old behavior).\n",
      "  d = to_dict(os.fspath(xml), parser=parser, validate=validate)\n"
     ]
    },
    {
     "name": "stdout",
     "output_type": "stream",
     "text": [
      "/allen/aics/assay-dev/users/Sandi/emt-project-leigh/cyto-gfp/for-testing-brightfield/1cb73c78636e4b1baca46384952831be/1cb73c78636e4b1baca46384952831be_T009.tiff\n"
     ]
    },
    {
     "name": "stderr",
     "output_type": "stream",
     "text": [
      "/allen/aics/apps/hpc_shared/mod/anaconda3-5.3.0/envs/tracking_analysis_morph/lib/python3.7/site-packages/ome_types/_convenience.py:105: FutureWarning: The default XML parser will be changing from 'xmlschema' to 'lxml' in version 0.4.0.  To silence this warning, please provide the `parser` argument, specifying either 'lxml' (to opt into the new behavior), or'xmlschema' (to retain the old behavior).\n",
      "  d = to_dict(os.fspath(xml), parser=parser, validate=validate)\n"
     ]
    },
    {
     "name": "stdout",
     "output_type": "stream",
     "text": [
      "/allen/aics/assay-dev/users/Sandi/emt-project-leigh/cyto-gfp/for-testing-brightfield/1cb73c78636e4b1baca46384952831be/1cb73c78636e4b1baca46384952831be_T010.tiff\n"
     ]
    },
    {
     "name": "stderr",
     "output_type": "stream",
     "text": [
      "/allen/aics/apps/hpc_shared/mod/anaconda3-5.3.0/envs/tracking_analysis_morph/lib/python3.7/site-packages/ome_types/_convenience.py:105: FutureWarning: The default XML parser will be changing from 'xmlschema' to 'lxml' in version 0.4.0.  To silence this warning, please provide the `parser` argument, specifying either 'lxml' (to opt into the new behavior), or'xmlschema' (to retain the old behavior).\n",
      "  d = to_dict(os.fspath(xml), parser=parser, validate=validate)\n"
     ]
    },
    {
     "name": "stdout",
     "output_type": "stream",
     "text": [
      "/allen/aics/assay-dev/users/Sandi/emt-project-leigh/cyto-gfp/for-testing-brightfield/1cb73c78636e4b1baca46384952831be/1cb73c78636e4b1baca46384952831be_T011.tiff\n"
     ]
    },
    {
     "name": "stderr",
     "output_type": "stream",
     "text": [
      "/allen/aics/apps/hpc_shared/mod/anaconda3-5.3.0/envs/tracking_analysis_morph/lib/python3.7/site-packages/ome_types/_convenience.py:105: FutureWarning: The default XML parser will be changing from 'xmlschema' to 'lxml' in version 0.4.0.  To silence this warning, please provide the `parser` argument, specifying either 'lxml' (to opt into the new behavior), or'xmlschema' (to retain the old behavior).\n",
      "  d = to_dict(os.fspath(xml), parser=parser, validate=validate)\n"
     ]
    },
    {
     "name": "stdout",
     "output_type": "stream",
     "text": [
      "/allen/aics/assay-dev/users/Sandi/emt-project-leigh/cyto-gfp/for-testing-brightfield/1cb73c78636e4b1baca46384952831be/1cb73c78636e4b1baca46384952831be_T012.tiff\n"
     ]
    },
    {
     "name": "stderr",
     "output_type": "stream",
     "text": [
      "/allen/aics/apps/hpc_shared/mod/anaconda3-5.3.0/envs/tracking_analysis_morph/lib/python3.7/site-packages/ome_types/_convenience.py:105: FutureWarning: The default XML parser will be changing from 'xmlschema' to 'lxml' in version 0.4.0.  To silence this warning, please provide the `parser` argument, specifying either 'lxml' (to opt into the new behavior), or'xmlschema' (to retain the old behavior).\n",
      "  d = to_dict(os.fspath(xml), parser=parser, validate=validate)\n"
     ]
    },
    {
     "name": "stdout",
     "output_type": "stream",
     "text": [
      "/allen/aics/assay-dev/users/Sandi/emt-project-leigh/cyto-gfp/for-testing-brightfield/1cb73c78636e4b1baca46384952831be/1cb73c78636e4b1baca46384952831be_T013.tiff\n"
     ]
    },
    {
     "name": "stderr",
     "output_type": "stream",
     "text": [
      "/allen/aics/apps/hpc_shared/mod/anaconda3-5.3.0/envs/tracking_analysis_morph/lib/python3.7/site-packages/ome_types/_convenience.py:105: FutureWarning: The default XML parser will be changing from 'xmlschema' to 'lxml' in version 0.4.0.  To silence this warning, please provide the `parser` argument, specifying either 'lxml' (to opt into the new behavior), or'xmlschema' (to retain the old behavior).\n",
      "  d = to_dict(os.fspath(xml), parser=parser, validate=validate)\n"
     ]
    },
    {
     "name": "stdout",
     "output_type": "stream",
     "text": [
      "/allen/aics/assay-dev/users/Sandi/emt-project-leigh/cyto-gfp/for-testing-brightfield/1cb73c78636e4b1baca46384952831be/1cb73c78636e4b1baca46384952831be_T014.tiff\n"
     ]
    },
    {
     "name": "stderr",
     "output_type": "stream",
     "text": [
      "/allen/aics/apps/hpc_shared/mod/anaconda3-5.3.0/envs/tracking_analysis_morph/lib/python3.7/site-packages/ome_types/_convenience.py:105: FutureWarning: The default XML parser will be changing from 'xmlschema' to 'lxml' in version 0.4.0.  To silence this warning, please provide the `parser` argument, specifying either 'lxml' (to opt into the new behavior), or'xmlschema' (to retain the old behavior).\n",
      "  d = to_dict(os.fspath(xml), parser=parser, validate=validate)\n"
     ]
    },
    {
     "name": "stdout",
     "output_type": "stream",
     "text": [
      "/allen/aics/assay-dev/users/Sandi/emt-project-leigh/cyto-gfp/for-testing-brightfield/1cb73c78636e4b1baca46384952831be/1cb73c78636e4b1baca46384952831be_T015.tiff\n"
     ]
    },
    {
     "name": "stderr",
     "output_type": "stream",
     "text": [
      "/allen/aics/apps/hpc_shared/mod/anaconda3-5.3.0/envs/tracking_analysis_morph/lib/python3.7/site-packages/ome_types/_convenience.py:105: FutureWarning: The default XML parser will be changing from 'xmlschema' to 'lxml' in version 0.4.0.  To silence this warning, please provide the `parser` argument, specifying either 'lxml' (to opt into the new behavior), or'xmlschema' (to retain the old behavior).\n",
      "  d = to_dict(os.fspath(xml), parser=parser, validate=validate)\n"
     ]
    },
    {
     "name": "stdout",
     "output_type": "stream",
     "text": [
      "/allen/aics/assay-dev/users/Sandi/emt-project-leigh/cyto-gfp/for-testing-brightfield/1cb73c78636e4b1baca46384952831be/1cb73c78636e4b1baca46384952831be_T016.tiff\n"
     ]
    },
    {
     "name": "stderr",
     "output_type": "stream",
     "text": [
      "/allen/aics/apps/hpc_shared/mod/anaconda3-5.3.0/envs/tracking_analysis_morph/lib/python3.7/site-packages/ome_types/_convenience.py:105: FutureWarning: The default XML parser will be changing from 'xmlschema' to 'lxml' in version 0.4.0.  To silence this warning, please provide the `parser` argument, specifying either 'lxml' (to opt into the new behavior), or'xmlschema' (to retain the old behavior).\n",
      "  d = to_dict(os.fspath(xml), parser=parser, validate=validate)\n"
     ]
    },
    {
     "name": "stdout",
     "output_type": "stream",
     "text": [
      "/allen/aics/assay-dev/users/Sandi/emt-project-leigh/cyto-gfp/for-testing-brightfield/1cb73c78636e4b1baca46384952831be/1cb73c78636e4b1baca46384952831be_T017.tiff\n"
     ]
    },
    {
     "name": "stderr",
     "output_type": "stream",
     "text": [
      "/allen/aics/apps/hpc_shared/mod/anaconda3-5.3.0/envs/tracking_analysis_morph/lib/python3.7/site-packages/ome_types/_convenience.py:105: FutureWarning: The default XML parser will be changing from 'xmlschema' to 'lxml' in version 0.4.0.  To silence this warning, please provide the `parser` argument, specifying either 'lxml' (to opt into the new behavior), or'xmlschema' (to retain the old behavior).\n",
      "  d = to_dict(os.fspath(xml), parser=parser, validate=validate)\n"
     ]
    },
    {
     "name": "stdout",
     "output_type": "stream",
     "text": [
      "/allen/aics/assay-dev/users/Sandi/emt-project-leigh/cyto-gfp/for-testing-brightfield/1cb73c78636e4b1baca46384952831be/1cb73c78636e4b1baca46384952831be_T018.tiff\n"
     ]
    },
    {
     "name": "stderr",
     "output_type": "stream",
     "text": [
      "/allen/aics/apps/hpc_shared/mod/anaconda3-5.3.0/envs/tracking_analysis_morph/lib/python3.7/site-packages/ome_types/_convenience.py:105: FutureWarning: The default XML parser will be changing from 'xmlschema' to 'lxml' in version 0.4.0.  To silence this warning, please provide the `parser` argument, specifying either 'lxml' (to opt into the new behavior), or'xmlschema' (to retain the old behavior).\n",
      "  d = to_dict(os.fspath(xml), parser=parser, validate=validate)\n"
     ]
    },
    {
     "name": "stdout",
     "output_type": "stream",
     "text": [
      "/allen/aics/assay-dev/users/Sandi/emt-project-leigh/cyto-gfp/for-testing-brightfield/1cb73c78636e4b1baca46384952831be/1cb73c78636e4b1baca46384952831be_T019.tiff\n"
     ]
    },
    {
     "name": "stderr",
     "output_type": "stream",
     "text": [
      "/allen/aics/apps/hpc_shared/mod/anaconda3-5.3.0/envs/tracking_analysis_morph/lib/python3.7/site-packages/ome_types/_convenience.py:105: FutureWarning: The default XML parser will be changing from 'xmlschema' to 'lxml' in version 0.4.0.  To silence this warning, please provide the `parser` argument, specifying either 'lxml' (to opt into the new behavior), or'xmlschema' (to retain the old behavior).\n",
      "  d = to_dict(os.fspath(xml), parser=parser, validate=validate)\n"
     ]
    },
    {
     "name": "stdout",
     "output_type": "stream",
     "text": [
      "/allen/aics/assay-dev/users/Sandi/emt-project-leigh/cyto-gfp/for-testing-brightfield/1cb73c78636e4b1baca46384952831be/1cb73c78636e4b1baca46384952831be_T020.tiff\n"
     ]
    },
    {
     "name": "stderr",
     "output_type": "stream",
     "text": [
      "/allen/aics/apps/hpc_shared/mod/anaconda3-5.3.0/envs/tracking_analysis_morph/lib/python3.7/site-packages/ome_types/_convenience.py:105: FutureWarning: The default XML parser will be changing from 'xmlschema' to 'lxml' in version 0.4.0.  To silence this warning, please provide the `parser` argument, specifying either 'lxml' (to opt into the new behavior), or'xmlschema' (to retain the old behavior).\n",
      "  d = to_dict(os.fspath(xml), parser=parser, validate=validate)\n"
     ]
    },
    {
     "name": "stdout",
     "output_type": "stream",
     "text": [
      "/allen/aics/assay-dev/users/Sandi/emt-project-leigh/cyto-gfp/for-testing-brightfield/1cb73c78636e4b1baca46384952831be/1cb73c78636e4b1baca46384952831be_T021.tiff\n"
     ]
    },
    {
     "name": "stderr",
     "output_type": "stream",
     "text": [
      "/allen/aics/apps/hpc_shared/mod/anaconda3-5.3.0/envs/tracking_analysis_morph/lib/python3.7/site-packages/ome_types/_convenience.py:105: FutureWarning: The default XML parser will be changing from 'xmlschema' to 'lxml' in version 0.4.0.  To silence this warning, please provide the `parser` argument, specifying either 'lxml' (to opt into the new behavior), or'xmlschema' (to retain the old behavior).\n",
      "  d = to_dict(os.fspath(xml), parser=parser, validate=validate)\n"
     ]
    },
    {
     "name": "stdout",
     "output_type": "stream",
     "text": [
      "/allen/aics/assay-dev/users/Sandi/emt-project-leigh/cyto-gfp/for-testing-brightfield/1cb73c78636e4b1baca46384952831be/1cb73c78636e4b1baca46384952831be_T022.tiff\n"
     ]
    },
    {
     "name": "stderr",
     "output_type": "stream",
     "text": [
      "/allen/aics/apps/hpc_shared/mod/anaconda3-5.3.0/envs/tracking_analysis_morph/lib/python3.7/site-packages/ome_types/_convenience.py:105: FutureWarning: The default XML parser will be changing from 'xmlschema' to 'lxml' in version 0.4.0.  To silence this warning, please provide the `parser` argument, specifying either 'lxml' (to opt into the new behavior), or'xmlschema' (to retain the old behavior).\n",
      "  d = to_dict(os.fspath(xml), parser=parser, validate=validate)\n"
     ]
    },
    {
     "name": "stdout",
     "output_type": "stream",
     "text": [
      "/allen/aics/assay-dev/users/Sandi/emt-project-leigh/cyto-gfp/for-testing-brightfield/1cb73c78636e4b1baca46384952831be/1cb73c78636e4b1baca46384952831be_T023.tiff\n"
     ]
    },
    {
     "name": "stderr",
     "output_type": "stream",
     "text": [
      "/allen/aics/apps/hpc_shared/mod/anaconda3-5.3.0/envs/tracking_analysis_morph/lib/python3.7/site-packages/ome_types/_convenience.py:105: FutureWarning: The default XML parser will be changing from 'xmlschema' to 'lxml' in version 0.4.0.  To silence this warning, please provide the `parser` argument, specifying either 'lxml' (to opt into the new behavior), or'xmlschema' (to retain the old behavior).\n",
      "  d = to_dict(os.fspath(xml), parser=parser, validate=validate)\n"
     ]
    },
    {
     "name": "stdout",
     "output_type": "stream",
     "text": [
      "/allen/aics/assay-dev/users/Sandi/emt-project-leigh/cyto-gfp/for-testing-brightfield/1cb73c78636e4b1baca46384952831be/1cb73c78636e4b1baca46384952831be_T024.tiff\n"
     ]
    },
    {
     "name": "stderr",
     "output_type": "stream",
     "text": [
      "/allen/aics/apps/hpc_shared/mod/anaconda3-5.3.0/envs/tracking_analysis_morph/lib/python3.7/site-packages/ome_types/_convenience.py:105: FutureWarning: The default XML parser will be changing from 'xmlschema' to 'lxml' in version 0.4.0.  To silence this warning, please provide the `parser` argument, specifying either 'lxml' (to opt into the new behavior), or'xmlschema' (to retain the old behavior).\n",
      "  d = to_dict(os.fspath(xml), parser=parser, validate=validate)\n"
     ]
    },
    {
     "name": "stdout",
     "output_type": "stream",
     "text": [
      "/allen/aics/assay-dev/users/Sandi/emt-project-leigh/cyto-gfp/for-testing-brightfield/1cb73c78636e4b1baca46384952831be/1cb73c78636e4b1baca46384952831be_T025.tiff\n"
     ]
    },
    {
     "name": "stderr",
     "output_type": "stream",
     "text": [
      "/allen/aics/apps/hpc_shared/mod/anaconda3-5.3.0/envs/tracking_analysis_morph/lib/python3.7/site-packages/ome_types/_convenience.py:105: FutureWarning: The default XML parser will be changing from 'xmlschema' to 'lxml' in version 0.4.0.  To silence this warning, please provide the `parser` argument, specifying either 'lxml' (to opt into the new behavior), or'xmlschema' (to retain the old behavior).\n",
      "  d = to_dict(os.fspath(xml), parser=parser, validate=validate)\n"
     ]
    },
    {
     "name": "stdout",
     "output_type": "stream",
     "text": [
      "/allen/aics/assay-dev/users/Sandi/emt-project-leigh/cyto-gfp/for-testing-brightfield/1cb73c78636e4b1baca46384952831be/1cb73c78636e4b1baca46384952831be_T026.tiff\n"
     ]
    },
    {
     "name": "stderr",
     "output_type": "stream",
     "text": [
      "/allen/aics/apps/hpc_shared/mod/anaconda3-5.3.0/envs/tracking_analysis_morph/lib/python3.7/site-packages/ome_types/_convenience.py:105: FutureWarning: The default XML parser will be changing from 'xmlschema' to 'lxml' in version 0.4.0.  To silence this warning, please provide the `parser` argument, specifying either 'lxml' (to opt into the new behavior), or'xmlschema' (to retain the old behavior).\n",
      "  d = to_dict(os.fspath(xml), parser=parser, validate=validate)\n"
     ]
    },
    {
     "name": "stdout",
     "output_type": "stream",
     "text": [
      "/allen/aics/assay-dev/users/Sandi/emt-project-leigh/cyto-gfp/for-testing-brightfield/1cb73c78636e4b1baca46384952831be/1cb73c78636e4b1baca46384952831be_T027.tiff\n"
     ]
    },
    {
     "name": "stderr",
     "output_type": "stream",
     "text": [
      "/allen/aics/apps/hpc_shared/mod/anaconda3-5.3.0/envs/tracking_analysis_morph/lib/python3.7/site-packages/ome_types/_convenience.py:105: FutureWarning: The default XML parser will be changing from 'xmlschema' to 'lxml' in version 0.4.0.  To silence this warning, please provide the `parser` argument, specifying either 'lxml' (to opt into the new behavior), or'xmlschema' (to retain the old behavior).\n",
      "  d = to_dict(os.fspath(xml), parser=parser, validate=validate)\n"
     ]
    },
    {
     "name": "stdout",
     "output_type": "stream",
     "text": [
      "/allen/aics/assay-dev/users/Sandi/emt-project-leigh/cyto-gfp/for-testing-brightfield/1cb73c78636e4b1baca46384952831be/1cb73c78636e4b1baca46384952831be_T028.tiff\n"
     ]
    },
    {
     "name": "stderr",
     "output_type": "stream",
     "text": [
      "/allen/aics/apps/hpc_shared/mod/anaconda3-5.3.0/envs/tracking_analysis_morph/lib/python3.7/site-packages/ome_types/_convenience.py:105: FutureWarning: The default XML parser will be changing from 'xmlschema' to 'lxml' in version 0.4.0.  To silence this warning, please provide the `parser` argument, specifying either 'lxml' (to opt into the new behavior), or'xmlschema' (to retain the old behavior).\n",
      "  d = to_dict(os.fspath(xml), parser=parser, validate=validate)\n"
     ]
    },
    {
     "name": "stdout",
     "output_type": "stream",
     "text": [
      "/allen/aics/assay-dev/users/Sandi/emt-project-leigh/cyto-gfp/for-testing-brightfield/1cb73c78636e4b1baca46384952831be/1cb73c78636e4b1baca46384952831be_T029.tiff\n"
     ]
    },
    {
     "name": "stderr",
     "output_type": "stream",
     "text": [
      "/allen/aics/apps/hpc_shared/mod/anaconda3-5.3.0/envs/tracking_analysis_morph/lib/python3.7/site-packages/ome_types/_convenience.py:105: FutureWarning: The default XML parser will be changing from 'xmlschema' to 'lxml' in version 0.4.0.  To silence this warning, please provide the `parser` argument, specifying either 'lxml' (to opt into the new behavior), or'xmlschema' (to retain the old behavior).\n",
      "  d = to_dict(os.fspath(xml), parser=parser, validate=validate)\n"
     ]
    },
    {
     "name": "stdout",
     "output_type": "stream",
     "text": [
      "/allen/aics/assay-dev/users/Sandi/emt-project-leigh/cyto-gfp/for-testing-brightfield/1cb73c78636e4b1baca46384952831be/1cb73c78636e4b1baca46384952831be_T030.tiff\n"
     ]
    },
    {
     "name": "stderr",
     "output_type": "stream",
     "text": [
      "/allen/aics/apps/hpc_shared/mod/anaconda3-5.3.0/envs/tracking_analysis_morph/lib/python3.7/site-packages/ome_types/_convenience.py:105: FutureWarning: The default XML parser will be changing from 'xmlschema' to 'lxml' in version 0.4.0.  To silence this warning, please provide the `parser` argument, specifying either 'lxml' (to opt into the new behavior), or'xmlschema' (to retain the old behavior).\n",
      "  d = to_dict(os.fspath(xml), parser=parser, validate=validate)\n"
     ]
    },
    {
     "name": "stdout",
     "output_type": "stream",
     "text": [
      "/allen/aics/assay-dev/users/Sandi/emt-project-leigh/cyto-gfp/for-testing-brightfield/1cb73c78636e4b1baca46384952831be/1cb73c78636e4b1baca46384952831be_T031.tiff\n"
     ]
    },
    {
     "name": "stderr",
     "output_type": "stream",
     "text": [
      "/allen/aics/apps/hpc_shared/mod/anaconda3-5.3.0/envs/tracking_analysis_morph/lib/python3.7/site-packages/ome_types/_convenience.py:105: FutureWarning: The default XML parser will be changing from 'xmlschema' to 'lxml' in version 0.4.0.  To silence this warning, please provide the `parser` argument, specifying either 'lxml' (to opt into the new behavior), or'xmlschema' (to retain the old behavior).\n",
      "  d = to_dict(os.fspath(xml), parser=parser, validate=validate)\n"
     ]
    },
    {
     "name": "stdout",
     "output_type": "stream",
     "text": [
      "/allen/aics/assay-dev/users/Sandi/emt-project-leigh/cyto-gfp/for-testing-brightfield/1cb73c78636e4b1baca46384952831be/1cb73c78636e4b1baca46384952831be_T032.tiff\n"
     ]
    },
    {
     "name": "stderr",
     "output_type": "stream",
     "text": [
      "/allen/aics/apps/hpc_shared/mod/anaconda3-5.3.0/envs/tracking_analysis_morph/lib/python3.7/site-packages/ome_types/_convenience.py:105: FutureWarning: The default XML parser will be changing from 'xmlschema' to 'lxml' in version 0.4.0.  To silence this warning, please provide the `parser` argument, specifying either 'lxml' (to opt into the new behavior), or'xmlschema' (to retain the old behavior).\n",
      "  d = to_dict(os.fspath(xml), parser=parser, validate=validate)\n"
     ]
    },
    {
     "name": "stdout",
     "output_type": "stream",
     "text": [
      "/allen/aics/assay-dev/users/Sandi/emt-project-leigh/cyto-gfp/for-testing-brightfield/1cb73c78636e4b1baca46384952831be/1cb73c78636e4b1baca46384952831be_T033.tiff\n"
     ]
    },
    {
     "name": "stderr",
     "output_type": "stream",
     "text": [
      "/allen/aics/apps/hpc_shared/mod/anaconda3-5.3.0/envs/tracking_analysis_morph/lib/python3.7/site-packages/ome_types/_convenience.py:105: FutureWarning: The default XML parser will be changing from 'xmlschema' to 'lxml' in version 0.4.0.  To silence this warning, please provide the `parser` argument, specifying either 'lxml' (to opt into the new behavior), or'xmlschema' (to retain the old behavior).\n",
      "  d = to_dict(os.fspath(xml), parser=parser, validate=validate)\n"
     ]
    },
    {
     "name": "stdout",
     "output_type": "stream",
     "text": [
      "/allen/aics/assay-dev/users/Sandi/emt-project-leigh/cyto-gfp/for-testing-brightfield/1cb73c78636e4b1baca46384952831be/1cb73c78636e4b1baca46384952831be_T034.tiff\n"
     ]
    },
    {
     "name": "stderr",
     "output_type": "stream",
     "text": [
      "/allen/aics/apps/hpc_shared/mod/anaconda3-5.3.0/envs/tracking_analysis_morph/lib/python3.7/site-packages/ome_types/_convenience.py:105: FutureWarning: The default XML parser will be changing from 'xmlschema' to 'lxml' in version 0.4.0.  To silence this warning, please provide the `parser` argument, specifying either 'lxml' (to opt into the new behavior), or'xmlschema' (to retain the old behavior).\n",
      "  d = to_dict(os.fspath(xml), parser=parser, validate=validate)\n"
     ]
    },
    {
     "name": "stdout",
     "output_type": "stream",
     "text": [
      "/allen/aics/assay-dev/users/Sandi/emt-project-leigh/cyto-gfp/for-testing-brightfield/1cb73c78636e4b1baca46384952831be/1cb73c78636e4b1baca46384952831be_T035.tiff\n"
     ]
    },
    {
     "name": "stderr",
     "output_type": "stream",
     "text": [
      "/allen/aics/apps/hpc_shared/mod/anaconda3-5.3.0/envs/tracking_analysis_morph/lib/python3.7/site-packages/ome_types/_convenience.py:105: FutureWarning: The default XML parser will be changing from 'xmlschema' to 'lxml' in version 0.4.0.  To silence this warning, please provide the `parser` argument, specifying either 'lxml' (to opt into the new behavior), or'xmlschema' (to retain the old behavior).\n",
      "  d = to_dict(os.fspath(xml), parser=parser, validate=validate)\n"
     ]
    },
    {
     "name": "stdout",
     "output_type": "stream",
     "text": [
      "/allen/aics/assay-dev/users/Sandi/emt-project-leigh/cyto-gfp/for-testing-brightfield/1cb73c78636e4b1baca46384952831be/1cb73c78636e4b1baca46384952831be_T036.tiff\n"
     ]
    },
    {
     "name": "stderr",
     "output_type": "stream",
     "text": [
      "/allen/aics/apps/hpc_shared/mod/anaconda3-5.3.0/envs/tracking_analysis_morph/lib/python3.7/site-packages/ome_types/_convenience.py:105: FutureWarning: The default XML parser will be changing from 'xmlschema' to 'lxml' in version 0.4.0.  To silence this warning, please provide the `parser` argument, specifying either 'lxml' (to opt into the new behavior), or'xmlschema' (to retain the old behavior).\n",
      "  d = to_dict(os.fspath(xml), parser=parser, validate=validate)\n"
     ]
    },
    {
     "name": "stdout",
     "output_type": "stream",
     "text": [
      "/allen/aics/assay-dev/users/Sandi/emt-project-leigh/cyto-gfp/for-testing-brightfield/1cb73c78636e4b1baca46384952831be/1cb73c78636e4b1baca46384952831be_T037.tiff\n"
     ]
    },
    {
     "name": "stderr",
     "output_type": "stream",
     "text": [
      "/allen/aics/apps/hpc_shared/mod/anaconda3-5.3.0/envs/tracking_analysis_morph/lib/python3.7/site-packages/ome_types/_convenience.py:105: FutureWarning: The default XML parser will be changing from 'xmlschema' to 'lxml' in version 0.4.0.  To silence this warning, please provide the `parser` argument, specifying either 'lxml' (to opt into the new behavior), or'xmlschema' (to retain the old behavior).\n",
      "  d = to_dict(os.fspath(xml), parser=parser, validate=validate)\n"
     ]
    },
    {
     "name": "stdout",
     "output_type": "stream",
     "text": [
      "/allen/aics/assay-dev/users/Sandi/emt-project-leigh/cyto-gfp/for-testing-brightfield/1cb73c78636e4b1baca46384952831be/1cb73c78636e4b1baca46384952831be_T038.tiff\n"
     ]
    },
    {
     "name": "stderr",
     "output_type": "stream",
     "text": [
      "/allen/aics/apps/hpc_shared/mod/anaconda3-5.3.0/envs/tracking_analysis_morph/lib/python3.7/site-packages/ome_types/_convenience.py:105: FutureWarning: The default XML parser will be changing from 'xmlschema' to 'lxml' in version 0.4.0.  To silence this warning, please provide the `parser` argument, specifying either 'lxml' (to opt into the new behavior), or'xmlschema' (to retain the old behavior).\n",
      "  d = to_dict(os.fspath(xml), parser=parser, validate=validate)\n"
     ]
    },
    {
     "name": "stdout",
     "output_type": "stream",
     "text": [
      "/allen/aics/assay-dev/users/Sandi/emt-project-leigh/cyto-gfp/for-testing-brightfield/1cb73c78636e4b1baca46384952831be/1cb73c78636e4b1baca46384952831be_T039.tiff\n"
     ]
    },
    {
     "name": "stderr",
     "output_type": "stream",
     "text": [
      "/allen/aics/apps/hpc_shared/mod/anaconda3-5.3.0/envs/tracking_analysis_morph/lib/python3.7/site-packages/ome_types/_convenience.py:105: FutureWarning: The default XML parser will be changing from 'xmlschema' to 'lxml' in version 0.4.0.  To silence this warning, please provide the `parser` argument, specifying either 'lxml' (to opt into the new behavior), or'xmlschema' (to retain the old behavior).\n",
      "  d = to_dict(os.fspath(xml), parser=parser, validate=validate)\n"
     ]
    },
    {
     "name": "stdout",
     "output_type": "stream",
     "text": [
      "/allen/aics/assay-dev/users/Sandi/emt-project-leigh/cyto-gfp/for-testing-brightfield/1cb73c78636e4b1baca46384952831be/1cb73c78636e4b1baca46384952831be_T040.tiff\n"
     ]
    },
    {
     "name": "stderr",
     "output_type": "stream",
     "text": [
      "/allen/aics/apps/hpc_shared/mod/anaconda3-5.3.0/envs/tracking_analysis_morph/lib/python3.7/site-packages/ome_types/_convenience.py:105: FutureWarning: The default XML parser will be changing from 'xmlschema' to 'lxml' in version 0.4.0.  To silence this warning, please provide the `parser` argument, specifying either 'lxml' (to opt into the new behavior), or'xmlschema' (to retain the old behavior).\n",
      "  d = to_dict(os.fspath(xml), parser=parser, validate=validate)\n"
     ]
    },
    {
     "name": "stdout",
     "output_type": "stream",
     "text": [
      "/allen/aics/assay-dev/users/Sandi/emt-project-leigh/cyto-gfp/for-testing-brightfield/1cb73c78636e4b1baca46384952831be/1cb73c78636e4b1baca46384952831be_T041.tiff\n"
     ]
    },
    {
     "name": "stderr",
     "output_type": "stream",
     "text": [
      "/allen/aics/apps/hpc_shared/mod/anaconda3-5.3.0/envs/tracking_analysis_morph/lib/python3.7/site-packages/ome_types/_convenience.py:105: FutureWarning: The default XML parser will be changing from 'xmlschema' to 'lxml' in version 0.4.0.  To silence this warning, please provide the `parser` argument, specifying either 'lxml' (to opt into the new behavior), or'xmlschema' (to retain the old behavior).\n",
      "  d = to_dict(os.fspath(xml), parser=parser, validate=validate)\n"
     ]
    },
    {
     "name": "stdout",
     "output_type": "stream",
     "text": [
      "/allen/aics/assay-dev/users/Sandi/emt-project-leigh/cyto-gfp/for-testing-brightfield/1cb73c78636e4b1baca46384952831be/1cb73c78636e4b1baca46384952831be_T042.tiff\n"
     ]
    },
    {
     "name": "stderr",
     "output_type": "stream",
     "text": [
      "/allen/aics/apps/hpc_shared/mod/anaconda3-5.3.0/envs/tracking_analysis_morph/lib/python3.7/site-packages/ome_types/_convenience.py:105: FutureWarning: The default XML parser will be changing from 'xmlschema' to 'lxml' in version 0.4.0.  To silence this warning, please provide the `parser` argument, specifying either 'lxml' (to opt into the new behavior), or'xmlschema' (to retain the old behavior).\n",
      "  d = to_dict(os.fspath(xml), parser=parser, validate=validate)\n"
     ]
    },
    {
     "name": "stdout",
     "output_type": "stream",
     "text": [
      "/allen/aics/assay-dev/users/Sandi/emt-project-leigh/cyto-gfp/for-testing-brightfield/1cb73c78636e4b1baca46384952831be/1cb73c78636e4b1baca46384952831be_T043.tiff\n"
     ]
    },
    {
     "name": "stderr",
     "output_type": "stream",
     "text": [
      "/allen/aics/apps/hpc_shared/mod/anaconda3-5.3.0/envs/tracking_analysis_morph/lib/python3.7/site-packages/ome_types/_convenience.py:105: FutureWarning: The default XML parser will be changing from 'xmlschema' to 'lxml' in version 0.4.0.  To silence this warning, please provide the `parser` argument, specifying either 'lxml' (to opt into the new behavior), or'xmlschema' (to retain the old behavior).\n",
      "  d = to_dict(os.fspath(xml), parser=parser, validate=validate)\n"
     ]
    },
    {
     "name": "stdout",
     "output_type": "stream",
     "text": [
      "/allen/aics/assay-dev/users/Sandi/emt-project-leigh/cyto-gfp/for-testing-brightfield/1cb73c78636e4b1baca46384952831be/1cb73c78636e4b1baca46384952831be_T044.tiff\n"
     ]
    },
    {
     "name": "stderr",
     "output_type": "stream",
     "text": [
      "/allen/aics/apps/hpc_shared/mod/anaconda3-5.3.0/envs/tracking_analysis_morph/lib/python3.7/site-packages/ome_types/_convenience.py:105: FutureWarning: The default XML parser will be changing from 'xmlschema' to 'lxml' in version 0.4.0.  To silence this warning, please provide the `parser` argument, specifying either 'lxml' (to opt into the new behavior), or'xmlschema' (to retain the old behavior).\n",
      "  d = to_dict(os.fspath(xml), parser=parser, validate=validate)\n"
     ]
    },
    {
     "name": "stdout",
     "output_type": "stream",
     "text": [
      "/allen/aics/assay-dev/users/Sandi/emt-project-leigh/cyto-gfp/for-testing-brightfield/1cb73c78636e4b1baca46384952831be/1cb73c78636e4b1baca46384952831be_T045.tiff\n"
     ]
    },
    {
     "name": "stderr",
     "output_type": "stream",
     "text": [
      "/allen/aics/apps/hpc_shared/mod/anaconda3-5.3.0/envs/tracking_analysis_morph/lib/python3.7/site-packages/ome_types/_convenience.py:105: FutureWarning: The default XML parser will be changing from 'xmlschema' to 'lxml' in version 0.4.0.  To silence this warning, please provide the `parser` argument, specifying either 'lxml' (to opt into the new behavior), or'xmlschema' (to retain the old behavior).\n",
      "  d = to_dict(os.fspath(xml), parser=parser, validate=validate)\n"
     ]
    },
    {
     "name": "stdout",
     "output_type": "stream",
     "text": [
      "/allen/aics/assay-dev/users/Sandi/emt-project-leigh/cyto-gfp/for-testing-brightfield/1cb73c78636e4b1baca46384952831be/1cb73c78636e4b1baca46384952831be_T046.tiff\n"
     ]
    },
    {
     "name": "stderr",
     "output_type": "stream",
     "text": [
      "/allen/aics/apps/hpc_shared/mod/anaconda3-5.3.0/envs/tracking_analysis_morph/lib/python3.7/site-packages/ome_types/_convenience.py:105: FutureWarning: The default XML parser will be changing from 'xmlschema' to 'lxml' in version 0.4.0.  To silence this warning, please provide the `parser` argument, specifying either 'lxml' (to opt into the new behavior), or'xmlschema' (to retain the old behavior).\n",
      "  d = to_dict(os.fspath(xml), parser=parser, validate=validate)\n"
     ]
    },
    {
     "name": "stdout",
     "output_type": "stream",
     "text": [
      "/allen/aics/assay-dev/users/Sandi/emt-project-leigh/cyto-gfp/for-testing-brightfield/1cb73c78636e4b1baca46384952831be/1cb73c78636e4b1baca46384952831be_T047.tiff\n"
     ]
    },
    {
     "name": "stderr",
     "output_type": "stream",
     "text": [
      "/allen/aics/apps/hpc_shared/mod/anaconda3-5.3.0/envs/tracking_analysis_morph/lib/python3.7/site-packages/ome_types/_convenience.py:105: FutureWarning: The default XML parser will be changing from 'xmlschema' to 'lxml' in version 0.4.0.  To silence this warning, please provide the `parser` argument, specifying either 'lxml' (to opt into the new behavior), or'xmlschema' (to retain the old behavior).\n",
      "  d = to_dict(os.fspath(xml), parser=parser, validate=validate)\n"
     ]
    },
    {
     "name": "stdout",
     "output_type": "stream",
     "text": [
      "/allen/aics/assay-dev/users/Sandi/emt-project-leigh/cyto-gfp/for-testing-brightfield/1cb73c78636e4b1baca46384952831be/1cb73c78636e4b1baca46384952831be_T048.tiff\n"
     ]
    },
    {
     "name": "stderr",
     "output_type": "stream",
     "text": [
      "/allen/aics/apps/hpc_shared/mod/anaconda3-5.3.0/envs/tracking_analysis_morph/lib/python3.7/site-packages/ome_types/_convenience.py:105: FutureWarning: The default XML parser will be changing from 'xmlschema' to 'lxml' in version 0.4.0.  To silence this warning, please provide the `parser` argument, specifying either 'lxml' (to opt into the new behavior), or'xmlschema' (to retain the old behavior).\n",
      "  d = to_dict(os.fspath(xml), parser=parser, validate=validate)\n"
     ]
    },
    {
     "name": "stdout",
     "output_type": "stream",
     "text": [
      "/allen/aics/assay-dev/users/Sandi/emt-project-leigh/cyto-gfp/for-testing-brightfield/1cb73c78636e4b1baca46384952831be/1cb73c78636e4b1baca46384952831be_T049.tiff\n"
     ]
    },
    {
     "name": "stderr",
     "output_type": "stream",
     "text": [
      "/allen/aics/apps/hpc_shared/mod/anaconda3-5.3.0/envs/tracking_analysis_morph/lib/python3.7/site-packages/ome_types/_convenience.py:105: FutureWarning: The default XML parser will be changing from 'xmlschema' to 'lxml' in version 0.4.0.  To silence this warning, please provide the `parser` argument, specifying either 'lxml' (to opt into the new behavior), or'xmlschema' (to retain the old behavior).\n",
      "  d = to_dict(os.fspath(xml), parser=parser, validate=validate)\n"
     ]
    },
    {
     "name": "stdout",
     "output_type": "stream",
     "text": [
      "/allen/aics/assay-dev/users/Sandi/emt-project-leigh/cyto-gfp/for-testing-brightfield/1cb73c78636e4b1baca46384952831be/1cb73c78636e4b1baca46384952831be_T050.tiff\n"
     ]
    },
    {
     "name": "stderr",
     "output_type": "stream",
     "text": [
      "/allen/aics/apps/hpc_shared/mod/anaconda3-5.3.0/envs/tracking_analysis_morph/lib/python3.7/site-packages/ome_types/_convenience.py:105: FutureWarning: The default XML parser will be changing from 'xmlschema' to 'lxml' in version 0.4.0.  To silence this warning, please provide the `parser` argument, specifying either 'lxml' (to opt into the new behavior), or'xmlschema' (to retain the old behavior).\n",
      "  d = to_dict(os.fspath(xml), parser=parser, validate=validate)\n"
     ]
    },
    {
     "name": "stdout",
     "output_type": "stream",
     "text": [
      "/allen/aics/assay-dev/users/Sandi/emt-project-leigh/cyto-gfp/for-testing-brightfield/1cb73c78636e4b1baca46384952831be/1cb73c78636e4b1baca46384952831be_T051.tiff\n"
     ]
    },
    {
     "name": "stderr",
     "output_type": "stream",
     "text": [
      "/allen/aics/apps/hpc_shared/mod/anaconda3-5.3.0/envs/tracking_analysis_morph/lib/python3.7/site-packages/ome_types/_convenience.py:105: FutureWarning: The default XML parser will be changing from 'xmlschema' to 'lxml' in version 0.4.0.  To silence this warning, please provide the `parser` argument, specifying either 'lxml' (to opt into the new behavior), or'xmlschema' (to retain the old behavior).\n",
      "  d = to_dict(os.fspath(xml), parser=parser, validate=validate)\n"
     ]
    },
    {
     "name": "stdout",
     "output_type": "stream",
     "text": [
      "/allen/aics/assay-dev/users/Sandi/emt-project-leigh/cyto-gfp/for-testing-brightfield/1cb73c78636e4b1baca46384952831be/1cb73c78636e4b1baca46384952831be_T052.tiff\n"
     ]
    },
    {
     "name": "stderr",
     "output_type": "stream",
     "text": [
      "/allen/aics/apps/hpc_shared/mod/anaconda3-5.3.0/envs/tracking_analysis_morph/lib/python3.7/site-packages/ome_types/_convenience.py:105: FutureWarning: The default XML parser will be changing from 'xmlschema' to 'lxml' in version 0.4.0.  To silence this warning, please provide the `parser` argument, specifying either 'lxml' (to opt into the new behavior), or'xmlschema' (to retain the old behavior).\n",
      "  d = to_dict(os.fspath(xml), parser=parser, validate=validate)\n"
     ]
    },
    {
     "name": "stdout",
     "output_type": "stream",
     "text": [
      "/allen/aics/assay-dev/users/Sandi/emt-project-leigh/cyto-gfp/for-testing-brightfield/1cb73c78636e4b1baca46384952831be/1cb73c78636e4b1baca46384952831be_T053.tiff\n"
     ]
    },
    {
     "name": "stderr",
     "output_type": "stream",
     "text": [
      "/allen/aics/apps/hpc_shared/mod/anaconda3-5.3.0/envs/tracking_analysis_morph/lib/python3.7/site-packages/ome_types/_convenience.py:105: FutureWarning: The default XML parser will be changing from 'xmlschema' to 'lxml' in version 0.4.0.  To silence this warning, please provide the `parser` argument, specifying either 'lxml' (to opt into the new behavior), or'xmlschema' (to retain the old behavior).\n",
      "  d = to_dict(os.fspath(xml), parser=parser, validate=validate)\n"
     ]
    },
    {
     "name": "stdout",
     "output_type": "stream",
     "text": [
      "/allen/aics/assay-dev/users/Sandi/emt-project-leigh/cyto-gfp/for-testing-brightfield/1cb73c78636e4b1baca46384952831be/1cb73c78636e4b1baca46384952831be_T054.tiff\n"
     ]
    },
    {
     "name": "stderr",
     "output_type": "stream",
     "text": [
      "/allen/aics/apps/hpc_shared/mod/anaconda3-5.3.0/envs/tracking_analysis_morph/lib/python3.7/site-packages/ome_types/_convenience.py:105: FutureWarning: The default XML parser will be changing from 'xmlschema' to 'lxml' in version 0.4.0.  To silence this warning, please provide the `parser` argument, specifying either 'lxml' (to opt into the new behavior), or'xmlschema' (to retain the old behavior).\n",
      "  d = to_dict(os.fspath(xml), parser=parser, validate=validate)\n"
     ]
    },
    {
     "name": "stdout",
     "output_type": "stream",
     "text": [
      "/allen/aics/assay-dev/users/Sandi/emt-project-leigh/cyto-gfp/for-testing-brightfield/1cb73c78636e4b1baca46384952831be/1cb73c78636e4b1baca46384952831be_T055.tiff\n"
     ]
    },
    {
     "name": "stderr",
     "output_type": "stream",
     "text": [
      "/allen/aics/apps/hpc_shared/mod/anaconda3-5.3.0/envs/tracking_analysis_morph/lib/python3.7/site-packages/ome_types/_convenience.py:105: FutureWarning: The default XML parser will be changing from 'xmlschema' to 'lxml' in version 0.4.0.  To silence this warning, please provide the `parser` argument, specifying either 'lxml' (to opt into the new behavior), or'xmlschema' (to retain the old behavior).\n",
      "  d = to_dict(os.fspath(xml), parser=parser, validate=validate)\n"
     ]
    },
    {
     "name": "stdout",
     "output_type": "stream",
     "text": [
      "/allen/aics/assay-dev/users/Sandi/emt-project-leigh/cyto-gfp/for-testing-brightfield/1cb73c78636e4b1baca46384952831be/1cb73c78636e4b1baca46384952831be_T056.tiff\n"
     ]
    },
    {
     "name": "stderr",
     "output_type": "stream",
     "text": [
      "/allen/aics/apps/hpc_shared/mod/anaconda3-5.3.0/envs/tracking_analysis_morph/lib/python3.7/site-packages/ome_types/_convenience.py:105: FutureWarning: The default XML parser will be changing from 'xmlschema' to 'lxml' in version 0.4.0.  To silence this warning, please provide the `parser` argument, specifying either 'lxml' (to opt into the new behavior), or'xmlschema' (to retain the old behavior).\n",
      "  d = to_dict(os.fspath(xml), parser=parser, validate=validate)\n"
     ]
    },
    {
     "name": "stdout",
     "output_type": "stream",
     "text": [
      "/allen/aics/assay-dev/users/Sandi/emt-project-leigh/cyto-gfp/for-testing-brightfield/1cb73c78636e4b1baca46384952831be/1cb73c78636e4b1baca46384952831be_T057.tiff\n"
     ]
    },
    {
     "name": "stderr",
     "output_type": "stream",
     "text": [
      "/allen/aics/apps/hpc_shared/mod/anaconda3-5.3.0/envs/tracking_analysis_morph/lib/python3.7/site-packages/ome_types/_convenience.py:105: FutureWarning: The default XML parser will be changing from 'xmlschema' to 'lxml' in version 0.4.0.  To silence this warning, please provide the `parser` argument, specifying either 'lxml' (to opt into the new behavior), or'xmlschema' (to retain the old behavior).\n",
      "  d = to_dict(os.fspath(xml), parser=parser, validate=validate)\n"
     ]
    },
    {
     "name": "stdout",
     "output_type": "stream",
     "text": [
      "/allen/aics/assay-dev/users/Sandi/emt-project-leigh/cyto-gfp/for-testing-brightfield/1cb73c78636e4b1baca46384952831be/1cb73c78636e4b1baca46384952831be_T058.tiff\n"
     ]
    },
    {
     "name": "stderr",
     "output_type": "stream",
     "text": [
      "/allen/aics/apps/hpc_shared/mod/anaconda3-5.3.0/envs/tracking_analysis_morph/lib/python3.7/site-packages/ome_types/_convenience.py:105: FutureWarning: The default XML parser will be changing from 'xmlschema' to 'lxml' in version 0.4.0.  To silence this warning, please provide the `parser` argument, specifying either 'lxml' (to opt into the new behavior), or'xmlschema' (to retain the old behavior).\n",
      "  d = to_dict(os.fspath(xml), parser=parser, validate=validate)\n"
     ]
    },
    {
     "name": "stdout",
     "output_type": "stream",
     "text": [
      "/allen/aics/assay-dev/users/Sandi/emt-project-leigh/cyto-gfp/for-testing-brightfield/1cb73c78636e4b1baca46384952831be/1cb73c78636e4b1baca46384952831be_T059.tiff\n"
     ]
    },
    {
     "name": "stderr",
     "output_type": "stream",
     "text": [
      "/allen/aics/apps/hpc_shared/mod/anaconda3-5.3.0/envs/tracking_analysis_morph/lib/python3.7/site-packages/ome_types/_convenience.py:105: FutureWarning: The default XML parser will be changing from 'xmlschema' to 'lxml' in version 0.4.0.  To silence this warning, please provide the `parser` argument, specifying either 'lxml' (to opt into the new behavior), or'xmlschema' (to retain the old behavior).\n",
      "  d = to_dict(os.fspath(xml), parser=parser, validate=validate)\n"
     ]
    },
    {
     "name": "stdout",
     "output_type": "stream",
     "text": [
      "/allen/aics/assay-dev/users/Sandi/emt-project-leigh/cyto-gfp/for-testing-brightfield/1cb73c78636e4b1baca46384952831be/1cb73c78636e4b1baca46384952831be_T060.tiff\n"
     ]
    },
    {
     "name": "stderr",
     "output_type": "stream",
     "text": [
      "/allen/aics/apps/hpc_shared/mod/anaconda3-5.3.0/envs/tracking_analysis_morph/lib/python3.7/site-packages/ome_types/_convenience.py:105: FutureWarning: The default XML parser will be changing from 'xmlschema' to 'lxml' in version 0.4.0.  To silence this warning, please provide the `parser` argument, specifying either 'lxml' (to opt into the new behavior), or'xmlschema' (to retain the old behavior).\n",
      "  d = to_dict(os.fspath(xml), parser=parser, validate=validate)\n"
     ]
    },
    {
     "name": "stdout",
     "output_type": "stream",
     "text": [
      "/allen/aics/assay-dev/users/Sandi/emt-project-leigh/cyto-gfp/for-testing-brightfield/1cb73c78636e4b1baca46384952831be/1cb73c78636e4b1baca46384952831be_T061.tiff\n"
     ]
    },
    {
     "name": "stderr",
     "output_type": "stream",
     "text": [
      "/allen/aics/apps/hpc_shared/mod/anaconda3-5.3.0/envs/tracking_analysis_morph/lib/python3.7/site-packages/ome_types/_convenience.py:105: FutureWarning: The default XML parser will be changing from 'xmlschema' to 'lxml' in version 0.4.0.  To silence this warning, please provide the `parser` argument, specifying either 'lxml' (to opt into the new behavior), or'xmlschema' (to retain the old behavior).\n",
      "  d = to_dict(os.fspath(xml), parser=parser, validate=validate)\n"
     ]
    },
    {
     "name": "stdout",
     "output_type": "stream",
     "text": [
      "/allen/aics/assay-dev/users/Sandi/emt-project-leigh/cyto-gfp/for-testing-brightfield/1cb73c78636e4b1baca46384952831be/1cb73c78636e4b1baca46384952831be_T062.tiff\n"
     ]
    },
    {
     "name": "stderr",
     "output_type": "stream",
     "text": [
      "/allen/aics/apps/hpc_shared/mod/anaconda3-5.3.0/envs/tracking_analysis_morph/lib/python3.7/site-packages/ome_types/_convenience.py:105: FutureWarning: The default XML parser will be changing from 'xmlschema' to 'lxml' in version 0.4.0.  To silence this warning, please provide the `parser` argument, specifying either 'lxml' (to opt into the new behavior), or'xmlschema' (to retain the old behavior).\n",
      "  d = to_dict(os.fspath(xml), parser=parser, validate=validate)\n"
     ]
    },
    {
     "name": "stdout",
     "output_type": "stream",
     "text": [
      "/allen/aics/assay-dev/users/Sandi/emt-project-leigh/cyto-gfp/for-testing-brightfield/1cb73c78636e4b1baca46384952831be/1cb73c78636e4b1baca46384952831be_T063.tiff\n"
     ]
    },
    {
     "name": "stderr",
     "output_type": "stream",
     "text": [
      "/allen/aics/apps/hpc_shared/mod/anaconda3-5.3.0/envs/tracking_analysis_morph/lib/python3.7/site-packages/ome_types/_convenience.py:105: FutureWarning: The default XML parser will be changing from 'xmlschema' to 'lxml' in version 0.4.0.  To silence this warning, please provide the `parser` argument, specifying either 'lxml' (to opt into the new behavior), or'xmlschema' (to retain the old behavior).\n",
      "  d = to_dict(os.fspath(xml), parser=parser, validate=validate)\n"
     ]
    },
    {
     "name": "stdout",
     "output_type": "stream",
     "text": [
      "/allen/aics/assay-dev/users/Sandi/emt-project-leigh/cyto-gfp/for-testing-brightfield/1cb73c78636e4b1baca46384952831be/1cb73c78636e4b1baca46384952831be_T064.tiff\n"
     ]
    },
    {
     "name": "stderr",
     "output_type": "stream",
     "text": [
      "/allen/aics/apps/hpc_shared/mod/anaconda3-5.3.0/envs/tracking_analysis_morph/lib/python3.7/site-packages/ome_types/_convenience.py:105: FutureWarning: The default XML parser will be changing from 'xmlschema' to 'lxml' in version 0.4.0.  To silence this warning, please provide the `parser` argument, specifying either 'lxml' (to opt into the new behavior), or'xmlschema' (to retain the old behavior).\n",
      "  d = to_dict(os.fspath(xml), parser=parser, validate=validate)\n"
     ]
    },
    {
     "name": "stdout",
     "output_type": "stream",
     "text": [
      "/allen/aics/assay-dev/users/Sandi/emt-project-leigh/cyto-gfp/for-testing-brightfield/1cb73c78636e4b1baca46384952831be/1cb73c78636e4b1baca46384952831be_T065.tiff\n"
     ]
    },
    {
     "name": "stderr",
     "output_type": "stream",
     "text": [
      "/allen/aics/apps/hpc_shared/mod/anaconda3-5.3.0/envs/tracking_analysis_morph/lib/python3.7/site-packages/ome_types/_convenience.py:105: FutureWarning: The default XML parser will be changing from 'xmlschema' to 'lxml' in version 0.4.0.  To silence this warning, please provide the `parser` argument, specifying either 'lxml' (to opt into the new behavior), or'xmlschema' (to retain the old behavior).\n",
      "  d = to_dict(os.fspath(xml), parser=parser, validate=validate)\n"
     ]
    },
    {
     "name": "stdout",
     "output_type": "stream",
     "text": [
      "/allen/aics/assay-dev/users/Sandi/emt-project-leigh/cyto-gfp/for-testing-brightfield/1cb73c78636e4b1baca46384952831be/1cb73c78636e4b1baca46384952831be_T066.tiff\n"
     ]
    },
    {
     "name": "stderr",
     "output_type": "stream",
     "text": [
      "/allen/aics/apps/hpc_shared/mod/anaconda3-5.3.0/envs/tracking_analysis_morph/lib/python3.7/site-packages/ome_types/_convenience.py:105: FutureWarning: The default XML parser will be changing from 'xmlschema' to 'lxml' in version 0.4.0.  To silence this warning, please provide the `parser` argument, specifying either 'lxml' (to opt into the new behavior), or'xmlschema' (to retain the old behavior).\n",
      "  d = to_dict(os.fspath(xml), parser=parser, validate=validate)\n"
     ]
    },
    {
     "name": "stdout",
     "output_type": "stream",
     "text": [
      "/allen/aics/assay-dev/users/Sandi/emt-project-leigh/cyto-gfp/for-testing-brightfield/1cb73c78636e4b1baca46384952831be/1cb73c78636e4b1baca46384952831be_T067.tiff\n"
     ]
    },
    {
     "name": "stderr",
     "output_type": "stream",
     "text": [
      "/allen/aics/apps/hpc_shared/mod/anaconda3-5.3.0/envs/tracking_analysis_morph/lib/python3.7/site-packages/ome_types/_convenience.py:105: FutureWarning: The default XML parser will be changing from 'xmlschema' to 'lxml' in version 0.4.0.  To silence this warning, please provide the `parser` argument, specifying either 'lxml' (to opt into the new behavior), or'xmlschema' (to retain the old behavior).\n",
      "  d = to_dict(os.fspath(xml), parser=parser, validate=validate)\n"
     ]
    },
    {
     "name": "stdout",
     "output_type": "stream",
     "text": [
      "/allen/aics/assay-dev/users/Sandi/emt-project-leigh/cyto-gfp/for-testing-brightfield/1cb73c78636e4b1baca46384952831be/1cb73c78636e4b1baca46384952831be_T068.tiff\n"
     ]
    },
    {
     "name": "stderr",
     "output_type": "stream",
     "text": [
      "/allen/aics/apps/hpc_shared/mod/anaconda3-5.3.0/envs/tracking_analysis_morph/lib/python3.7/site-packages/ome_types/_convenience.py:105: FutureWarning: The default XML parser will be changing from 'xmlschema' to 'lxml' in version 0.4.0.  To silence this warning, please provide the `parser` argument, specifying either 'lxml' (to opt into the new behavior), or'xmlschema' (to retain the old behavior).\n",
      "  d = to_dict(os.fspath(xml), parser=parser, validate=validate)\n"
     ]
    },
    {
     "name": "stdout",
     "output_type": "stream",
     "text": [
      "/allen/aics/assay-dev/users/Sandi/emt-project-leigh/cyto-gfp/for-testing-brightfield/1cb73c78636e4b1baca46384952831be/1cb73c78636e4b1baca46384952831be_T069.tiff\n"
     ]
    },
    {
     "name": "stderr",
     "output_type": "stream",
     "text": [
      "/allen/aics/apps/hpc_shared/mod/anaconda3-5.3.0/envs/tracking_analysis_morph/lib/python3.7/site-packages/ome_types/_convenience.py:105: FutureWarning: The default XML parser will be changing from 'xmlschema' to 'lxml' in version 0.4.0.  To silence this warning, please provide the `parser` argument, specifying either 'lxml' (to opt into the new behavior), or'xmlschema' (to retain the old behavior).\n",
      "  d = to_dict(os.fspath(xml), parser=parser, validate=validate)\n"
     ]
    },
    {
     "name": "stdout",
     "output_type": "stream",
     "text": [
      "/allen/aics/assay-dev/users/Sandi/emt-project-leigh/cyto-gfp/for-testing-brightfield/1cb73c78636e4b1baca46384952831be/1cb73c78636e4b1baca46384952831be_T070.tiff\n"
     ]
    },
    {
     "name": "stderr",
     "output_type": "stream",
     "text": [
      "/allen/aics/apps/hpc_shared/mod/anaconda3-5.3.0/envs/tracking_analysis_morph/lib/python3.7/site-packages/ome_types/_convenience.py:105: FutureWarning: The default XML parser will be changing from 'xmlschema' to 'lxml' in version 0.4.0.  To silence this warning, please provide the `parser` argument, specifying either 'lxml' (to opt into the new behavior), or'xmlschema' (to retain the old behavior).\n",
      "  d = to_dict(os.fspath(xml), parser=parser, validate=validate)\n"
     ]
    },
    {
     "name": "stdout",
     "output_type": "stream",
     "text": [
      "/allen/aics/assay-dev/users/Sandi/emt-project-leigh/cyto-gfp/for-testing-brightfield/1cb73c78636e4b1baca46384952831be/1cb73c78636e4b1baca46384952831be_T071.tiff\n"
     ]
    },
    {
     "name": "stderr",
     "output_type": "stream",
     "text": [
      "/allen/aics/apps/hpc_shared/mod/anaconda3-5.3.0/envs/tracking_analysis_morph/lib/python3.7/site-packages/ome_types/_convenience.py:105: FutureWarning: The default XML parser will be changing from 'xmlschema' to 'lxml' in version 0.4.0.  To silence this warning, please provide the `parser` argument, specifying either 'lxml' (to opt into the new behavior), or'xmlschema' (to retain the old behavior).\n",
      "  d = to_dict(os.fspath(xml), parser=parser, validate=validate)\n"
     ]
    },
    {
     "name": "stdout",
     "output_type": "stream",
     "text": [
      "/allen/aics/assay-dev/users/Sandi/emt-project-leigh/cyto-gfp/for-testing-brightfield/1cb73c78636e4b1baca46384952831be/1cb73c78636e4b1baca46384952831be_T072.tiff\n"
     ]
    },
    {
     "name": "stderr",
     "output_type": "stream",
     "text": [
      "/allen/aics/apps/hpc_shared/mod/anaconda3-5.3.0/envs/tracking_analysis_morph/lib/python3.7/site-packages/ome_types/_convenience.py:105: FutureWarning: The default XML parser will be changing from 'xmlschema' to 'lxml' in version 0.4.0.  To silence this warning, please provide the `parser` argument, specifying either 'lxml' (to opt into the new behavior), or'xmlschema' (to retain the old behavior).\n",
      "  d = to_dict(os.fspath(xml), parser=parser, validate=validate)\n"
     ]
    },
    {
     "name": "stdout",
     "output_type": "stream",
     "text": [
      "/allen/aics/assay-dev/users/Sandi/emt-project-leigh/cyto-gfp/for-testing-brightfield/1cb73c78636e4b1baca46384952831be/1cb73c78636e4b1baca46384952831be_T073.tiff\n"
     ]
    },
    {
     "name": "stderr",
     "output_type": "stream",
     "text": [
      "/allen/aics/apps/hpc_shared/mod/anaconda3-5.3.0/envs/tracking_analysis_morph/lib/python3.7/site-packages/ome_types/_convenience.py:105: FutureWarning: The default XML parser will be changing from 'xmlschema' to 'lxml' in version 0.4.0.  To silence this warning, please provide the `parser` argument, specifying either 'lxml' (to opt into the new behavior), or'xmlschema' (to retain the old behavior).\n",
      "  d = to_dict(os.fspath(xml), parser=parser, validate=validate)\n"
     ]
    },
    {
     "name": "stdout",
     "output_type": "stream",
     "text": [
      "/allen/aics/assay-dev/users/Sandi/emt-project-leigh/cyto-gfp/for-testing-brightfield/1cb73c78636e4b1baca46384952831be/1cb73c78636e4b1baca46384952831be_T074.tiff\n"
     ]
    },
    {
     "name": "stderr",
     "output_type": "stream",
     "text": [
      "/allen/aics/apps/hpc_shared/mod/anaconda3-5.3.0/envs/tracking_analysis_morph/lib/python3.7/site-packages/ome_types/_convenience.py:105: FutureWarning: The default XML parser will be changing from 'xmlschema' to 'lxml' in version 0.4.0.  To silence this warning, please provide the `parser` argument, specifying either 'lxml' (to opt into the new behavior), or'xmlschema' (to retain the old behavior).\n",
      "  d = to_dict(os.fspath(xml), parser=parser, validate=validate)\n"
     ]
    },
    {
     "name": "stdout",
     "output_type": "stream",
     "text": [
      "/allen/aics/assay-dev/users/Sandi/emt-project-leigh/cyto-gfp/for-testing-brightfield/1cb73c78636e4b1baca46384952831be/1cb73c78636e4b1baca46384952831be_T075.tiff\n"
     ]
    },
    {
     "name": "stderr",
     "output_type": "stream",
     "text": [
      "/allen/aics/apps/hpc_shared/mod/anaconda3-5.3.0/envs/tracking_analysis_morph/lib/python3.7/site-packages/ome_types/_convenience.py:105: FutureWarning: The default XML parser will be changing from 'xmlschema' to 'lxml' in version 0.4.0.  To silence this warning, please provide the `parser` argument, specifying either 'lxml' (to opt into the new behavior), or'xmlschema' (to retain the old behavior).\n",
      "  d = to_dict(os.fspath(xml), parser=parser, validate=validate)\n"
     ]
    },
    {
     "name": "stdout",
     "output_type": "stream",
     "text": [
      "/allen/aics/assay-dev/users/Sandi/emt-project-leigh/cyto-gfp/for-testing-brightfield/1cb73c78636e4b1baca46384952831be/1cb73c78636e4b1baca46384952831be_T076.tiff\n"
     ]
    },
    {
     "name": "stderr",
     "output_type": "stream",
     "text": [
      "/allen/aics/apps/hpc_shared/mod/anaconda3-5.3.0/envs/tracking_analysis_morph/lib/python3.7/site-packages/ome_types/_convenience.py:105: FutureWarning: The default XML parser will be changing from 'xmlschema' to 'lxml' in version 0.4.0.  To silence this warning, please provide the `parser` argument, specifying either 'lxml' (to opt into the new behavior), or'xmlschema' (to retain the old behavior).\n",
      "  d = to_dict(os.fspath(xml), parser=parser, validate=validate)\n"
     ]
    },
    {
     "name": "stdout",
     "output_type": "stream",
     "text": [
      "/allen/aics/assay-dev/users/Sandi/emt-project-leigh/cyto-gfp/for-testing-brightfield/1cb73c78636e4b1baca46384952831be/1cb73c78636e4b1baca46384952831be_T077.tiff\n"
     ]
    },
    {
     "name": "stderr",
     "output_type": "stream",
     "text": [
      "/allen/aics/apps/hpc_shared/mod/anaconda3-5.3.0/envs/tracking_analysis_morph/lib/python3.7/site-packages/ome_types/_convenience.py:105: FutureWarning: The default XML parser will be changing from 'xmlschema' to 'lxml' in version 0.4.0.  To silence this warning, please provide the `parser` argument, specifying either 'lxml' (to opt into the new behavior), or'xmlschema' (to retain the old behavior).\n",
      "  d = to_dict(os.fspath(xml), parser=parser, validate=validate)\n"
     ]
    },
    {
     "name": "stdout",
     "output_type": "stream",
     "text": [
      "/allen/aics/assay-dev/users/Sandi/emt-project-leigh/cyto-gfp/for-testing-brightfield/1cb73c78636e4b1baca46384952831be/1cb73c78636e4b1baca46384952831be_T078.tiff\n"
     ]
    },
    {
     "name": "stderr",
     "output_type": "stream",
     "text": [
      "/allen/aics/apps/hpc_shared/mod/anaconda3-5.3.0/envs/tracking_analysis_morph/lib/python3.7/site-packages/ome_types/_convenience.py:105: FutureWarning: The default XML parser will be changing from 'xmlschema' to 'lxml' in version 0.4.0.  To silence this warning, please provide the `parser` argument, specifying either 'lxml' (to opt into the new behavior), or'xmlschema' (to retain the old behavior).\n",
      "  d = to_dict(os.fspath(xml), parser=parser, validate=validate)\n"
     ]
    },
    {
     "name": "stdout",
     "output_type": "stream",
     "text": [
      "/allen/aics/assay-dev/users/Sandi/emt-project-leigh/cyto-gfp/for-testing-brightfield/1cb73c78636e4b1baca46384952831be/1cb73c78636e4b1baca46384952831be_T079.tiff\n"
     ]
    },
    {
     "name": "stderr",
     "output_type": "stream",
     "text": [
      "/allen/aics/apps/hpc_shared/mod/anaconda3-5.3.0/envs/tracking_analysis_morph/lib/python3.7/site-packages/ome_types/_convenience.py:105: FutureWarning: The default XML parser will be changing from 'xmlschema' to 'lxml' in version 0.4.0.  To silence this warning, please provide the `parser` argument, specifying either 'lxml' (to opt into the new behavior), or'xmlschema' (to retain the old behavior).\n",
      "  d = to_dict(os.fspath(xml), parser=parser, validate=validate)\n"
     ]
    },
    {
     "name": "stdout",
     "output_type": "stream",
     "text": [
      "/allen/aics/assay-dev/users/Sandi/emt-project-leigh/cyto-gfp/for-testing-brightfield/1cb73c78636e4b1baca46384952831be/1cb73c78636e4b1baca46384952831be_T080.tiff\n"
     ]
    },
    {
     "name": "stderr",
     "output_type": "stream",
     "text": [
      "/allen/aics/apps/hpc_shared/mod/anaconda3-5.3.0/envs/tracking_analysis_morph/lib/python3.7/site-packages/ome_types/_convenience.py:105: FutureWarning: The default XML parser will be changing from 'xmlschema' to 'lxml' in version 0.4.0.  To silence this warning, please provide the `parser` argument, specifying either 'lxml' (to opt into the new behavior), or'xmlschema' (to retain the old behavior).\n",
      "  d = to_dict(os.fspath(xml), parser=parser, validate=validate)\n"
     ]
    },
    {
     "name": "stdout",
     "output_type": "stream",
     "text": [
      "/allen/aics/assay-dev/users/Sandi/emt-project-leigh/cyto-gfp/for-testing-brightfield/1cb73c78636e4b1baca46384952831be/1cb73c78636e4b1baca46384952831be_T081.tiff\n"
     ]
    },
    {
     "name": "stderr",
     "output_type": "stream",
     "text": [
      "/allen/aics/apps/hpc_shared/mod/anaconda3-5.3.0/envs/tracking_analysis_morph/lib/python3.7/site-packages/ome_types/_convenience.py:105: FutureWarning: The default XML parser will be changing from 'xmlschema' to 'lxml' in version 0.4.0.  To silence this warning, please provide the `parser` argument, specifying either 'lxml' (to opt into the new behavior), or'xmlschema' (to retain the old behavior).\n",
      "  d = to_dict(os.fspath(xml), parser=parser, validate=validate)\n"
     ]
    },
    {
     "name": "stdout",
     "output_type": "stream",
     "text": [
      "/allen/aics/assay-dev/users/Sandi/emt-project-leigh/cyto-gfp/for-testing-brightfield/1cb73c78636e4b1baca46384952831be/1cb73c78636e4b1baca46384952831be_T082.tiff\n"
     ]
    },
    {
     "name": "stderr",
     "output_type": "stream",
     "text": [
      "/allen/aics/apps/hpc_shared/mod/anaconda3-5.3.0/envs/tracking_analysis_morph/lib/python3.7/site-packages/ome_types/_convenience.py:105: FutureWarning: The default XML parser will be changing from 'xmlschema' to 'lxml' in version 0.4.0.  To silence this warning, please provide the `parser` argument, specifying either 'lxml' (to opt into the new behavior), or'xmlschema' (to retain the old behavior).\n",
      "  d = to_dict(os.fspath(xml), parser=parser, validate=validate)\n"
     ]
    },
    {
     "name": "stdout",
     "output_type": "stream",
     "text": [
      "/allen/aics/assay-dev/users/Sandi/emt-project-leigh/cyto-gfp/for-testing-brightfield/1cb73c78636e4b1baca46384952831be/1cb73c78636e4b1baca46384952831be_T083.tiff\n"
     ]
    },
    {
     "name": "stderr",
     "output_type": "stream",
     "text": [
      "/allen/aics/apps/hpc_shared/mod/anaconda3-5.3.0/envs/tracking_analysis_morph/lib/python3.7/site-packages/ome_types/_convenience.py:105: FutureWarning: The default XML parser will be changing from 'xmlschema' to 'lxml' in version 0.4.0.  To silence this warning, please provide the `parser` argument, specifying either 'lxml' (to opt into the new behavior), or'xmlschema' (to retain the old behavior).\n",
      "  d = to_dict(os.fspath(xml), parser=parser, validate=validate)\n"
     ]
    },
    {
     "name": "stdout",
     "output_type": "stream",
     "text": [
      "/allen/aics/assay-dev/users/Sandi/emt-project-leigh/cyto-gfp/for-testing-brightfield/1cb73c78636e4b1baca46384952831be/1cb73c78636e4b1baca46384952831be_T084.tiff\n"
     ]
    },
    {
     "name": "stderr",
     "output_type": "stream",
     "text": [
      "/allen/aics/apps/hpc_shared/mod/anaconda3-5.3.0/envs/tracking_analysis_morph/lib/python3.7/site-packages/ome_types/_convenience.py:105: FutureWarning: The default XML parser will be changing from 'xmlschema' to 'lxml' in version 0.4.0.  To silence this warning, please provide the `parser` argument, specifying either 'lxml' (to opt into the new behavior), or'xmlschema' (to retain the old behavior).\n",
      "  d = to_dict(os.fspath(xml), parser=parser, validate=validate)\n"
     ]
    },
    {
     "name": "stdout",
     "output_type": "stream",
     "text": [
      "/allen/aics/assay-dev/users/Sandi/emt-project-leigh/cyto-gfp/for-testing-brightfield/1cb73c78636e4b1baca46384952831be/1cb73c78636e4b1baca46384952831be_T085.tiff\n"
     ]
    },
    {
     "name": "stderr",
     "output_type": "stream",
     "text": [
      "/allen/aics/apps/hpc_shared/mod/anaconda3-5.3.0/envs/tracking_analysis_morph/lib/python3.7/site-packages/ome_types/_convenience.py:105: FutureWarning: The default XML parser will be changing from 'xmlschema' to 'lxml' in version 0.4.0.  To silence this warning, please provide the `parser` argument, specifying either 'lxml' (to opt into the new behavior), or'xmlschema' (to retain the old behavior).\n",
      "  d = to_dict(os.fspath(xml), parser=parser, validate=validate)\n"
     ]
    },
    {
     "name": "stdout",
     "output_type": "stream",
     "text": [
      "/allen/aics/assay-dev/users/Sandi/emt-project-leigh/cyto-gfp/for-testing-brightfield/1cb73c78636e4b1baca46384952831be/1cb73c78636e4b1baca46384952831be_T086.tiff\n"
     ]
    },
    {
     "name": "stderr",
     "output_type": "stream",
     "text": [
      "/allen/aics/apps/hpc_shared/mod/anaconda3-5.3.0/envs/tracking_analysis_morph/lib/python3.7/site-packages/ome_types/_convenience.py:105: FutureWarning: The default XML parser will be changing from 'xmlschema' to 'lxml' in version 0.4.0.  To silence this warning, please provide the `parser` argument, specifying either 'lxml' (to opt into the new behavior), or'xmlschema' (to retain the old behavior).\n",
      "  d = to_dict(os.fspath(xml), parser=parser, validate=validate)\n"
     ]
    },
    {
     "name": "stdout",
     "output_type": "stream",
     "text": [
      "/allen/aics/assay-dev/users/Sandi/emt-project-leigh/cyto-gfp/for-testing-brightfield/1cb73c78636e4b1baca46384952831be/1cb73c78636e4b1baca46384952831be_T087.tiff\n"
     ]
    },
    {
     "name": "stderr",
     "output_type": "stream",
     "text": [
      "/allen/aics/apps/hpc_shared/mod/anaconda3-5.3.0/envs/tracking_analysis_morph/lib/python3.7/site-packages/ome_types/_convenience.py:105: FutureWarning: The default XML parser will be changing from 'xmlschema' to 'lxml' in version 0.4.0.  To silence this warning, please provide the `parser` argument, specifying either 'lxml' (to opt into the new behavior), or'xmlschema' (to retain the old behavior).\n",
      "  d = to_dict(os.fspath(xml), parser=parser, validate=validate)\n"
     ]
    },
    {
     "name": "stdout",
     "output_type": "stream",
     "text": [
      "/allen/aics/assay-dev/users/Sandi/emt-project-leigh/cyto-gfp/for-testing-brightfield/1cb73c78636e4b1baca46384952831be/1cb73c78636e4b1baca46384952831be_T088.tiff\n"
     ]
    },
    {
     "name": "stderr",
     "output_type": "stream",
     "text": [
      "/allen/aics/apps/hpc_shared/mod/anaconda3-5.3.0/envs/tracking_analysis_morph/lib/python3.7/site-packages/ome_types/_convenience.py:105: FutureWarning: The default XML parser will be changing from 'xmlschema' to 'lxml' in version 0.4.0.  To silence this warning, please provide the `parser` argument, specifying either 'lxml' (to opt into the new behavior), or'xmlschema' (to retain the old behavior).\n",
      "  d = to_dict(os.fspath(xml), parser=parser, validate=validate)\n"
     ]
    },
    {
     "name": "stdout",
     "output_type": "stream",
     "text": [
      "/allen/aics/assay-dev/users/Sandi/emt-project-leigh/cyto-gfp/for-testing-brightfield/1cb73c78636e4b1baca46384952831be/1cb73c78636e4b1baca46384952831be_T089.tiff\n"
     ]
    },
    {
     "name": "stderr",
     "output_type": "stream",
     "text": [
      "/allen/aics/apps/hpc_shared/mod/anaconda3-5.3.0/envs/tracking_analysis_morph/lib/python3.7/site-packages/ome_types/_convenience.py:105: FutureWarning: The default XML parser will be changing from 'xmlschema' to 'lxml' in version 0.4.0.  To silence this warning, please provide the `parser` argument, specifying either 'lxml' (to opt into the new behavior), or'xmlschema' (to retain the old behavior).\n",
      "  d = to_dict(os.fspath(xml), parser=parser, validate=validate)\n"
     ]
    },
    {
     "name": "stdout",
     "output_type": "stream",
     "text": [
      "/allen/aics/assay-dev/users/Sandi/emt-project-leigh/cyto-gfp/for-testing-brightfield/1cb73c78636e4b1baca46384952831be/1cb73c78636e4b1baca46384952831be_T090.tiff\n"
     ]
    },
    {
     "name": "stderr",
     "output_type": "stream",
     "text": [
      "/allen/aics/apps/hpc_shared/mod/anaconda3-5.3.0/envs/tracking_analysis_morph/lib/python3.7/site-packages/ome_types/_convenience.py:105: FutureWarning: The default XML parser will be changing from 'xmlschema' to 'lxml' in version 0.4.0.  To silence this warning, please provide the `parser` argument, specifying either 'lxml' (to opt into the new behavior), or'xmlschema' (to retain the old behavior).\n",
      "  d = to_dict(os.fspath(xml), parser=parser, validate=validate)\n"
     ]
    },
    {
     "name": "stdout",
     "output_type": "stream",
     "text": [
      "/allen/aics/assay-dev/users/Sandi/emt-project-leigh/cyto-gfp/for-testing-brightfield/1cb73c78636e4b1baca46384952831be/1cb73c78636e4b1baca46384952831be_T091.tiff\n"
     ]
    },
    {
     "name": "stderr",
     "output_type": "stream",
     "text": [
      "/allen/aics/apps/hpc_shared/mod/anaconda3-5.3.0/envs/tracking_analysis_morph/lib/python3.7/site-packages/ome_types/_convenience.py:105: FutureWarning: The default XML parser will be changing from 'xmlschema' to 'lxml' in version 0.4.0.  To silence this warning, please provide the `parser` argument, specifying either 'lxml' (to opt into the new behavior), or'xmlschema' (to retain the old behavior).\n",
      "  d = to_dict(os.fspath(xml), parser=parser, validate=validate)\n"
     ]
    },
    {
     "name": "stdout",
     "output_type": "stream",
     "text": [
      "/allen/aics/assay-dev/users/Sandi/emt-project-leigh/cyto-gfp/for-testing-brightfield/1cb73c78636e4b1baca46384952831be/1cb73c78636e4b1baca46384952831be_T092.tiff\n"
     ]
    },
    {
     "name": "stderr",
     "output_type": "stream",
     "text": [
      "/allen/aics/apps/hpc_shared/mod/anaconda3-5.3.0/envs/tracking_analysis_morph/lib/python3.7/site-packages/ome_types/_convenience.py:105: FutureWarning: The default XML parser will be changing from 'xmlschema' to 'lxml' in version 0.4.0.  To silence this warning, please provide the `parser` argument, specifying either 'lxml' (to opt into the new behavior), or'xmlschema' (to retain the old behavior).\n",
      "  d = to_dict(os.fspath(xml), parser=parser, validate=validate)\n"
     ]
    },
    {
     "name": "stdout",
     "output_type": "stream",
     "text": [
      "/allen/aics/assay-dev/users/Sandi/emt-project-leigh/cyto-gfp/for-testing-brightfield/1cb73c78636e4b1baca46384952831be/1cb73c78636e4b1baca46384952831be_T093.tiff\n"
     ]
    },
    {
     "name": "stderr",
     "output_type": "stream",
     "text": [
      "/allen/aics/apps/hpc_shared/mod/anaconda3-5.3.0/envs/tracking_analysis_morph/lib/python3.7/site-packages/ome_types/_convenience.py:105: FutureWarning: The default XML parser will be changing from 'xmlschema' to 'lxml' in version 0.4.0.  To silence this warning, please provide the `parser` argument, specifying either 'lxml' (to opt into the new behavior), or'xmlschema' (to retain the old behavior).\n",
      "  d = to_dict(os.fspath(xml), parser=parser, validate=validate)\n"
     ]
    },
    {
     "name": "stdout",
     "output_type": "stream",
     "text": [
      "/allen/aics/assay-dev/users/Sandi/emt-project-leigh/cyto-gfp/for-testing-brightfield/1cb73c78636e4b1baca46384952831be/1cb73c78636e4b1baca46384952831be_T094.tiff\n"
     ]
    },
    {
     "name": "stderr",
     "output_type": "stream",
     "text": [
      "/allen/aics/apps/hpc_shared/mod/anaconda3-5.3.0/envs/tracking_analysis_morph/lib/python3.7/site-packages/ome_types/_convenience.py:105: FutureWarning: The default XML parser will be changing from 'xmlschema' to 'lxml' in version 0.4.0.  To silence this warning, please provide the `parser` argument, specifying either 'lxml' (to opt into the new behavior), or'xmlschema' (to retain the old behavior).\n",
      "  d = to_dict(os.fspath(xml), parser=parser, validate=validate)\n"
     ]
    },
    {
     "name": "stdout",
     "output_type": "stream",
     "text": [
      "/allen/aics/assay-dev/users/Sandi/emt-project-leigh/cyto-gfp/for-testing-brightfield/1cb73c78636e4b1baca46384952831be/1cb73c78636e4b1baca46384952831be_T095.tiff\n"
     ]
    },
    {
     "name": "stderr",
     "output_type": "stream",
     "text": [
      "/allen/aics/apps/hpc_shared/mod/anaconda3-5.3.0/envs/tracking_analysis_morph/lib/python3.7/site-packages/ome_types/_convenience.py:105: FutureWarning: The default XML parser will be changing from 'xmlschema' to 'lxml' in version 0.4.0.  To silence this warning, please provide the `parser` argument, specifying either 'lxml' (to opt into the new behavior), or'xmlschema' (to retain the old behavior).\n",
      "  d = to_dict(os.fspath(xml), parser=parser, validate=validate)\n"
     ]
    },
    {
     "name": "stdout",
     "output_type": "stream",
     "text": [
      "/allen/aics/assay-dev/users/Sandi/emt-project-leigh/cyto-gfp/for-testing-brightfield/1cb73c78636e4b1baca46384952831be/1cb73c78636e4b1baca46384952831be_T096.tiff\n"
     ]
    },
    {
     "name": "stderr",
     "output_type": "stream",
     "text": [
      "/allen/aics/apps/hpc_shared/mod/anaconda3-5.3.0/envs/tracking_analysis_morph/lib/python3.7/site-packages/ome_types/_convenience.py:105: FutureWarning: The default XML parser will be changing from 'xmlschema' to 'lxml' in version 0.4.0.  To silence this warning, please provide the `parser` argument, specifying either 'lxml' (to opt into the new behavior), or'xmlschema' (to retain the old behavior).\n",
      "  d = to_dict(os.fspath(xml), parser=parser, validate=validate)\n"
     ]
    },
    {
     "name": "stdout",
     "output_type": "stream",
     "text": [
      "/allen/aics/assay-dev/users/Sandi/emt-project-leigh/cyto-gfp/for-testing-brightfield/1cb73c78636e4b1baca46384952831be/1cb73c78636e4b1baca46384952831be_T097.tiff\n"
     ]
    },
    {
     "name": "stderr",
     "output_type": "stream",
     "text": [
      "/allen/aics/apps/hpc_shared/mod/anaconda3-5.3.0/envs/tracking_analysis_morph/lib/python3.7/site-packages/ome_types/_convenience.py:105: FutureWarning: The default XML parser will be changing from 'xmlschema' to 'lxml' in version 0.4.0.  To silence this warning, please provide the `parser` argument, specifying either 'lxml' (to opt into the new behavior), or'xmlschema' (to retain the old behavior).\n",
      "  d = to_dict(os.fspath(xml), parser=parser, validate=validate)\n"
     ]
    },
    {
     "name": "stdout",
     "output_type": "stream",
     "text": [
      "/allen/aics/assay-dev/users/Sandi/emt-project-leigh/cyto-gfp/for-testing-brightfield/1cb73c78636e4b1baca46384952831be/1cb73c78636e4b1baca46384952831be_T098.tiff\n"
     ]
    },
    {
     "name": "stderr",
     "output_type": "stream",
     "text": [
      "/allen/aics/apps/hpc_shared/mod/anaconda3-5.3.0/envs/tracking_analysis_morph/lib/python3.7/site-packages/ome_types/_convenience.py:105: FutureWarning: The default XML parser will be changing from 'xmlschema' to 'lxml' in version 0.4.0.  To silence this warning, please provide the `parser` argument, specifying either 'lxml' (to opt into the new behavior), or'xmlschema' (to retain the old behavior).\n",
      "  d = to_dict(os.fspath(xml), parser=parser, validate=validate)\n"
     ]
    },
    {
     "name": "stdout",
     "output_type": "stream",
     "text": [
      "/allen/aics/assay-dev/users/Sandi/emt-project-leigh/cyto-gfp/for-testing-brightfield/1cb73c78636e4b1baca46384952831be/1cb73c78636e4b1baca46384952831be_T099.tiff\n"
     ]
    },
    {
     "name": "stderr",
     "output_type": "stream",
     "text": [
      "/allen/aics/apps/hpc_shared/mod/anaconda3-5.3.0/envs/tracking_analysis_morph/lib/python3.7/site-packages/ome_types/_convenience.py:105: FutureWarning: The default XML parser will be changing from 'xmlschema' to 'lxml' in version 0.4.0.  To silence this warning, please provide the `parser` argument, specifying either 'lxml' (to opt into the new behavior), or'xmlschema' (to retain the old behavior).\n",
      "  d = to_dict(os.fspath(xml), parser=parser, validate=validate)\n"
     ]
    },
    {
     "name": "stdout",
     "output_type": "stream",
     "text": [
      "/allen/aics/assay-dev/users/Sandi/emt-project-leigh/cyto-gfp/for-testing-brightfield/1cb73c78636e4b1baca46384952831be/1cb73c78636e4b1baca46384952831be_T100.tiff\n"
     ]
    },
    {
     "name": "stderr",
     "output_type": "stream",
     "text": [
      "/allen/aics/apps/hpc_shared/mod/anaconda3-5.3.0/envs/tracking_analysis_morph/lib/python3.7/site-packages/ome_types/_convenience.py:105: FutureWarning: The default XML parser will be changing from 'xmlschema' to 'lxml' in version 0.4.0.  To silence this warning, please provide the `parser` argument, specifying either 'lxml' (to opt into the new behavior), or'xmlschema' (to retain the old behavior).\n",
      "  d = to_dict(os.fspath(xml), parser=parser, validate=validate)\n"
     ]
    },
    {
     "name": "stdout",
     "output_type": "stream",
     "text": [
      "/allen/aics/assay-dev/users/Sandi/emt-project-leigh/cyto-gfp/for-testing-brightfield/1cb73c78636e4b1baca46384952831be/1cb73c78636e4b1baca46384952831be_T101.tiff\n"
     ]
    },
    {
     "name": "stderr",
     "output_type": "stream",
     "text": [
      "/allen/aics/apps/hpc_shared/mod/anaconda3-5.3.0/envs/tracking_analysis_morph/lib/python3.7/site-packages/ome_types/_convenience.py:105: FutureWarning: The default XML parser will be changing from 'xmlschema' to 'lxml' in version 0.4.0.  To silence this warning, please provide the `parser` argument, specifying either 'lxml' (to opt into the new behavior), or'xmlschema' (to retain the old behavior).\n",
      "  d = to_dict(os.fspath(xml), parser=parser, validate=validate)\n"
     ]
    },
    {
     "name": "stdout",
     "output_type": "stream",
     "text": [
      "/allen/aics/assay-dev/users/Sandi/emt-project-leigh/cyto-gfp/for-testing-brightfield/1cb73c78636e4b1baca46384952831be/1cb73c78636e4b1baca46384952831be_T102.tiff\n"
     ]
    },
    {
     "name": "stderr",
     "output_type": "stream",
     "text": [
      "/allen/aics/apps/hpc_shared/mod/anaconda3-5.3.0/envs/tracking_analysis_morph/lib/python3.7/site-packages/ome_types/_convenience.py:105: FutureWarning: The default XML parser will be changing from 'xmlschema' to 'lxml' in version 0.4.0.  To silence this warning, please provide the `parser` argument, specifying either 'lxml' (to opt into the new behavior), or'xmlschema' (to retain the old behavior).\n",
      "  d = to_dict(os.fspath(xml), parser=parser, validate=validate)\n"
     ]
    },
    {
     "name": "stdout",
     "output_type": "stream",
     "text": [
      "/allen/aics/assay-dev/users/Sandi/emt-project-leigh/cyto-gfp/for-testing-brightfield/1cb73c78636e4b1baca46384952831be/1cb73c78636e4b1baca46384952831be_T103.tiff\n"
     ]
    },
    {
     "name": "stderr",
     "output_type": "stream",
     "text": [
      "/allen/aics/apps/hpc_shared/mod/anaconda3-5.3.0/envs/tracking_analysis_morph/lib/python3.7/site-packages/ome_types/_convenience.py:105: FutureWarning: The default XML parser will be changing from 'xmlschema' to 'lxml' in version 0.4.0.  To silence this warning, please provide the `parser` argument, specifying either 'lxml' (to opt into the new behavior), or'xmlschema' (to retain the old behavior).\n",
      "  d = to_dict(os.fspath(xml), parser=parser, validate=validate)\n"
     ]
    },
    {
     "name": "stdout",
     "output_type": "stream",
     "text": [
      "/allen/aics/assay-dev/users/Sandi/emt-project-leigh/cyto-gfp/for-testing-brightfield/1cb73c78636e4b1baca46384952831be/1cb73c78636e4b1baca46384952831be_T104.tiff\n"
     ]
    },
    {
     "name": "stderr",
     "output_type": "stream",
     "text": [
      "/allen/aics/apps/hpc_shared/mod/anaconda3-5.3.0/envs/tracking_analysis_morph/lib/python3.7/site-packages/ome_types/_convenience.py:105: FutureWarning: The default XML parser will be changing from 'xmlschema' to 'lxml' in version 0.4.0.  To silence this warning, please provide the `parser` argument, specifying either 'lxml' (to opt into the new behavior), or'xmlschema' (to retain the old behavior).\n",
      "  d = to_dict(os.fspath(xml), parser=parser, validate=validate)\n"
     ]
    },
    {
     "name": "stdout",
     "output_type": "stream",
     "text": [
      "/allen/aics/assay-dev/users/Sandi/emt-project-leigh/cyto-gfp/for-testing-brightfield/1cb73c78636e4b1baca46384952831be/1cb73c78636e4b1baca46384952831be_T105.tiff\n"
     ]
    },
    {
     "name": "stderr",
     "output_type": "stream",
     "text": [
      "/allen/aics/apps/hpc_shared/mod/anaconda3-5.3.0/envs/tracking_analysis_morph/lib/python3.7/site-packages/ome_types/_convenience.py:105: FutureWarning: The default XML parser will be changing from 'xmlschema' to 'lxml' in version 0.4.0.  To silence this warning, please provide the `parser` argument, specifying either 'lxml' (to opt into the new behavior), or'xmlschema' (to retain the old behavior).\n",
      "  d = to_dict(os.fspath(xml), parser=parser, validate=validate)\n"
     ]
    },
    {
     "name": "stdout",
     "output_type": "stream",
     "text": [
      "/allen/aics/assay-dev/users/Sandi/emt-project-leigh/cyto-gfp/for-testing-brightfield/1cb73c78636e4b1baca46384952831be/1cb73c78636e4b1baca46384952831be_T106.tiff\n"
     ]
    },
    {
     "name": "stderr",
     "output_type": "stream",
     "text": [
      "/allen/aics/apps/hpc_shared/mod/anaconda3-5.3.0/envs/tracking_analysis_morph/lib/python3.7/site-packages/ome_types/_convenience.py:105: FutureWarning: The default XML parser will be changing from 'xmlschema' to 'lxml' in version 0.4.0.  To silence this warning, please provide the `parser` argument, specifying either 'lxml' (to opt into the new behavior), or'xmlschema' (to retain the old behavior).\n",
      "  d = to_dict(os.fspath(xml), parser=parser, validate=validate)\n"
     ]
    },
    {
     "name": "stdout",
     "output_type": "stream",
     "text": [
      "/allen/aics/assay-dev/users/Sandi/emt-project-leigh/cyto-gfp/for-testing-brightfield/1cb73c78636e4b1baca46384952831be/1cb73c78636e4b1baca46384952831be_T107.tiff\n"
     ]
    },
    {
     "name": "stderr",
     "output_type": "stream",
     "text": [
      "/allen/aics/apps/hpc_shared/mod/anaconda3-5.3.0/envs/tracking_analysis_morph/lib/python3.7/site-packages/ome_types/_convenience.py:105: FutureWarning: The default XML parser will be changing from 'xmlschema' to 'lxml' in version 0.4.0.  To silence this warning, please provide the `parser` argument, specifying either 'lxml' (to opt into the new behavior), or'xmlschema' (to retain the old behavior).\n",
      "  d = to_dict(os.fspath(xml), parser=parser, validate=validate)\n"
     ]
    },
    {
     "name": "stdout",
     "output_type": "stream",
     "text": [
      "/allen/aics/assay-dev/users/Sandi/emt-project-leigh/cyto-gfp/for-testing-brightfield/1cb73c78636e4b1baca46384952831be/1cb73c78636e4b1baca46384952831be_T108.tiff\n"
     ]
    },
    {
     "name": "stderr",
     "output_type": "stream",
     "text": [
      "/allen/aics/apps/hpc_shared/mod/anaconda3-5.3.0/envs/tracking_analysis_morph/lib/python3.7/site-packages/ome_types/_convenience.py:105: FutureWarning: The default XML parser will be changing from 'xmlschema' to 'lxml' in version 0.4.0.  To silence this warning, please provide the `parser` argument, specifying either 'lxml' (to opt into the new behavior), or'xmlschema' (to retain the old behavior).\n",
      "  d = to_dict(os.fspath(xml), parser=parser, validate=validate)\n"
     ]
    },
    {
     "name": "stdout",
     "output_type": "stream",
     "text": [
      "/allen/aics/assay-dev/users/Sandi/emt-project-leigh/cyto-gfp/for-testing-brightfield/1cb73c78636e4b1baca46384952831be/1cb73c78636e4b1baca46384952831be_T109.tiff\n"
     ]
    },
    {
     "name": "stderr",
     "output_type": "stream",
     "text": [
      "/allen/aics/apps/hpc_shared/mod/anaconda3-5.3.0/envs/tracking_analysis_morph/lib/python3.7/site-packages/ome_types/_convenience.py:105: FutureWarning: The default XML parser will be changing from 'xmlschema' to 'lxml' in version 0.4.0.  To silence this warning, please provide the `parser` argument, specifying either 'lxml' (to opt into the new behavior), or'xmlschema' (to retain the old behavior).\n",
      "  d = to_dict(os.fspath(xml), parser=parser, validate=validate)\n"
     ]
    },
    {
     "name": "stdout",
     "output_type": "stream",
     "text": [
      "/allen/aics/assay-dev/users/Sandi/emt-project-leigh/cyto-gfp/for-testing-brightfield/1cb73c78636e4b1baca46384952831be/1cb73c78636e4b1baca46384952831be_T110.tiff\n"
     ]
    },
    {
     "name": "stderr",
     "output_type": "stream",
     "text": [
      "/allen/aics/apps/hpc_shared/mod/anaconda3-5.3.0/envs/tracking_analysis_morph/lib/python3.7/site-packages/ome_types/_convenience.py:105: FutureWarning: The default XML parser will be changing from 'xmlschema' to 'lxml' in version 0.4.0.  To silence this warning, please provide the `parser` argument, specifying either 'lxml' (to opt into the new behavior), or'xmlschema' (to retain the old behavior).\n",
      "  d = to_dict(os.fspath(xml), parser=parser, validate=validate)\n"
     ]
    },
    {
     "name": "stdout",
     "output_type": "stream",
     "text": [
      "/allen/aics/assay-dev/users/Sandi/emt-project-leigh/cyto-gfp/for-testing-brightfield/1cb73c78636e4b1baca46384952831be/1cb73c78636e4b1baca46384952831be_T111.tiff\n"
     ]
    },
    {
     "name": "stderr",
     "output_type": "stream",
     "text": [
      "/allen/aics/apps/hpc_shared/mod/anaconda3-5.3.0/envs/tracking_analysis_morph/lib/python3.7/site-packages/ome_types/_convenience.py:105: FutureWarning: The default XML parser will be changing from 'xmlschema' to 'lxml' in version 0.4.0.  To silence this warning, please provide the `parser` argument, specifying either 'lxml' (to opt into the new behavior), or'xmlschema' (to retain the old behavior).\n",
      "  d = to_dict(os.fspath(xml), parser=parser, validate=validate)\n"
     ]
    },
    {
     "name": "stdout",
     "output_type": "stream",
     "text": [
      "/allen/aics/assay-dev/users/Sandi/emt-project-leigh/cyto-gfp/for-testing-brightfield/1cb73c78636e4b1baca46384952831be/1cb73c78636e4b1baca46384952831be_T112.tiff\n"
     ]
    },
    {
     "name": "stderr",
     "output_type": "stream",
     "text": [
      "/allen/aics/apps/hpc_shared/mod/anaconda3-5.3.0/envs/tracking_analysis_morph/lib/python3.7/site-packages/ome_types/_convenience.py:105: FutureWarning: The default XML parser will be changing from 'xmlschema' to 'lxml' in version 0.4.0.  To silence this warning, please provide the `parser` argument, specifying either 'lxml' (to opt into the new behavior), or'xmlschema' (to retain the old behavior).\n",
      "  d = to_dict(os.fspath(xml), parser=parser, validate=validate)\n"
     ]
    },
    {
     "name": "stdout",
     "output_type": "stream",
     "text": [
      "/allen/aics/assay-dev/users/Sandi/emt-project-leigh/cyto-gfp/for-testing-brightfield/1cb73c78636e4b1baca46384952831be/1cb73c78636e4b1baca46384952831be_T113.tiff\n"
     ]
    },
    {
     "name": "stderr",
     "output_type": "stream",
     "text": [
      "/allen/aics/apps/hpc_shared/mod/anaconda3-5.3.0/envs/tracking_analysis_morph/lib/python3.7/site-packages/ome_types/_convenience.py:105: FutureWarning: The default XML parser will be changing from 'xmlschema' to 'lxml' in version 0.4.0.  To silence this warning, please provide the `parser` argument, specifying either 'lxml' (to opt into the new behavior), or'xmlschema' (to retain the old behavior).\n",
      "  d = to_dict(os.fspath(xml), parser=parser, validate=validate)\n"
     ]
    },
    {
     "name": "stdout",
     "output_type": "stream",
     "text": [
      "/allen/aics/assay-dev/users/Sandi/emt-project-leigh/cyto-gfp/for-testing-brightfield/1cb73c78636e4b1baca46384952831be/1cb73c78636e4b1baca46384952831be_T114.tiff\n"
     ]
    },
    {
     "name": "stderr",
     "output_type": "stream",
     "text": [
      "/allen/aics/apps/hpc_shared/mod/anaconda3-5.3.0/envs/tracking_analysis_morph/lib/python3.7/site-packages/ome_types/_convenience.py:105: FutureWarning: The default XML parser will be changing from 'xmlschema' to 'lxml' in version 0.4.0.  To silence this warning, please provide the `parser` argument, specifying either 'lxml' (to opt into the new behavior), or'xmlschema' (to retain the old behavior).\n",
      "  d = to_dict(os.fspath(xml), parser=parser, validate=validate)\n"
     ]
    },
    {
     "name": "stdout",
     "output_type": "stream",
     "text": [
      "/allen/aics/assay-dev/users/Sandi/emt-project-leigh/cyto-gfp/for-testing-brightfield/1cb73c78636e4b1baca46384952831be/1cb73c78636e4b1baca46384952831be_T115.tiff\n"
     ]
    },
    {
     "name": "stderr",
     "output_type": "stream",
     "text": [
      "/allen/aics/apps/hpc_shared/mod/anaconda3-5.3.0/envs/tracking_analysis_morph/lib/python3.7/site-packages/ome_types/_convenience.py:105: FutureWarning: The default XML parser will be changing from 'xmlschema' to 'lxml' in version 0.4.0.  To silence this warning, please provide the `parser` argument, specifying either 'lxml' (to opt into the new behavior), or'xmlschema' (to retain the old behavior).\n",
      "  d = to_dict(os.fspath(xml), parser=parser, validate=validate)\n"
     ]
    },
    {
     "name": "stdout",
     "output_type": "stream",
     "text": [
      "/allen/aics/assay-dev/users/Sandi/emt-project-leigh/cyto-gfp/for-testing-brightfield/1cb73c78636e4b1baca46384952831be/1cb73c78636e4b1baca46384952831be_T116.tiff\n"
     ]
    },
    {
     "name": "stderr",
     "output_type": "stream",
     "text": [
      "/allen/aics/apps/hpc_shared/mod/anaconda3-5.3.0/envs/tracking_analysis_morph/lib/python3.7/site-packages/ome_types/_convenience.py:105: FutureWarning: The default XML parser will be changing from 'xmlschema' to 'lxml' in version 0.4.0.  To silence this warning, please provide the `parser` argument, specifying either 'lxml' (to opt into the new behavior), or'xmlschema' (to retain the old behavior).\n",
      "  d = to_dict(os.fspath(xml), parser=parser, validate=validate)\n"
     ]
    },
    {
     "name": "stdout",
     "output_type": "stream",
     "text": [
      "/allen/aics/assay-dev/users/Sandi/emt-project-leigh/cyto-gfp/for-testing-brightfield/1cb73c78636e4b1baca46384952831be/1cb73c78636e4b1baca46384952831be_T117.tiff\n"
     ]
    },
    {
     "name": "stderr",
     "output_type": "stream",
     "text": [
      "/allen/aics/apps/hpc_shared/mod/anaconda3-5.3.0/envs/tracking_analysis_morph/lib/python3.7/site-packages/ome_types/_convenience.py:105: FutureWarning: The default XML parser will be changing from 'xmlschema' to 'lxml' in version 0.4.0.  To silence this warning, please provide the `parser` argument, specifying either 'lxml' (to opt into the new behavior), or'xmlschema' (to retain the old behavior).\n",
      "  d = to_dict(os.fspath(xml), parser=parser, validate=validate)\n"
     ]
    },
    {
     "name": "stdout",
     "output_type": "stream",
     "text": [
      "/allen/aics/assay-dev/users/Sandi/emt-project-leigh/cyto-gfp/for-testing-brightfield/1cb73c78636e4b1baca46384952831be/1cb73c78636e4b1baca46384952831be_T118.tiff\n"
     ]
    },
    {
     "name": "stderr",
     "output_type": "stream",
     "text": [
      "/allen/aics/apps/hpc_shared/mod/anaconda3-5.3.0/envs/tracking_analysis_morph/lib/python3.7/site-packages/ome_types/_convenience.py:105: FutureWarning: The default XML parser will be changing from 'xmlschema' to 'lxml' in version 0.4.0.  To silence this warning, please provide the `parser` argument, specifying either 'lxml' (to opt into the new behavior), or'xmlschema' (to retain the old behavior).\n",
      "  d = to_dict(os.fspath(xml), parser=parser, validate=validate)\n"
     ]
    },
    {
     "name": "stdout",
     "output_type": "stream",
     "text": [
      "/allen/aics/assay-dev/users/Sandi/emt-project-leigh/cyto-gfp/for-testing-brightfield/1cb73c78636e4b1baca46384952831be/1cb73c78636e4b1baca46384952831be_T119.tiff\n"
     ]
    },
    {
     "name": "stderr",
     "output_type": "stream",
     "text": [
      "/allen/aics/apps/hpc_shared/mod/anaconda3-5.3.0/envs/tracking_analysis_morph/lib/python3.7/site-packages/ome_types/_convenience.py:105: FutureWarning: The default XML parser will be changing from 'xmlschema' to 'lxml' in version 0.4.0.  To silence this warning, please provide the `parser` argument, specifying either 'lxml' (to opt into the new behavior), or'xmlschema' (to retain the old behavior).\n",
      "  d = to_dict(os.fspath(xml), parser=parser, validate=validate)\n"
     ]
    },
    {
     "name": "stdout",
     "output_type": "stream",
     "text": [
      "/allen/aics/assay-dev/users/Sandi/emt-project-leigh/cyto-gfp/for-testing-brightfield/1cb73c78636e4b1baca46384952831be/1cb73c78636e4b1baca46384952831be_T120.tiff\n"
     ]
    },
    {
     "name": "stderr",
     "output_type": "stream",
     "text": [
      "/allen/aics/apps/hpc_shared/mod/anaconda3-5.3.0/envs/tracking_analysis_morph/lib/python3.7/site-packages/ome_types/_convenience.py:105: FutureWarning: The default XML parser will be changing from 'xmlschema' to 'lxml' in version 0.4.0.  To silence this warning, please provide the `parser` argument, specifying either 'lxml' (to opt into the new behavior), or'xmlschema' (to retain the old behavior).\n",
      "  d = to_dict(os.fspath(xml), parser=parser, validate=validate)\n"
     ]
    }
   ],
   "source": [
    "for timeStamp in range(0,121):\n",
    "    yy = xx.get_image_dask_data(\"CZYX\", T=timeStamp)\n",
    "    bb = yy[0,:]\n",
    "\n",
    "    temp_csv.file_path[fileRow].split('/')[-1]\n",
    "    \n",
    "    bf_name = \"/allen/aics/assay-dev/users/Sandi/emt-project-leigh/cyto-gfp/for-testing-brightfield/1cb73c78636e4b1baca46384952831be/\" + \"1cb73c78636e4b1baca46384952831be_T\" + f\"{timeStamp:03d}\"  + '.tiff'\n",
    "    print(bf_name)  \n",
    "    OmeTiffWriter.save(bb, bf_name, dim_order='ZYX')"
   ]
  },
  {
   "cell_type": "markdown",
   "id": "opposite-davis",
   "metadata": {},
   "source": [
    "<h3> Method 2: Dask Method 1 <h3>"
   ]
  },
  {
   "cell_type": "code",
   "execution_count": null,
   "id": "worth-helping",
   "metadata": {},
   "outputs": [],
   "source": [
    "path = r\"/allen/programs/allencell/data/proj0/1be/283/495/638/ca4/1ba/e4b/636/c78/b73/1c/3500005814_H02_001_20x_Timelapse-01(P55-G8).ome.tiff\"\n",
    "\n",
    "img=AICSImage(path)\n",
    "bf=img.get_image_dask_data(\"TZY\", C=0)\n",
    "bf_img=bf.compute() # this will read in the 4D array"
   ]
  },
  {
   "cell_type": "code",
   "execution_count": null,
   "id": "prerequisite-tamil",
   "metadata": {},
   "outputs": [],
   "source": []
  },
  {
   "cell_type": "code",
   "execution_count": null,
   "id": "passive-discount",
   "metadata": {},
   "outputs": [],
   "source": []
  },
  {
   "cell_type": "code",
   "execution_count": null,
   "id": "falling-marine",
   "metadata": {},
   "outputs": [],
   "source": []
  },
  {
   "cell_type": "code",
   "execution_count": null,
   "id": "banned-practice",
   "metadata": {},
   "outputs": [],
   "source": []
  }
 ],
 "metadata": {
  "kernelspec": {
   "display_name": "Python 3",
   "language": "python",
   "name": "python3"
  },
  "language_info": {
   "codemirror_mode": {
    "name": "ipython",
    "version": 3
   },
   "file_extension": ".py",
   "mimetype": "text/x-python",
   "name": "python",
   "nbconvert_exporter": "python",
   "pygments_lexer": "ipython3",
   "version": "3.7.9"
  }
 },
 "nbformat": 4,
 "nbformat_minor": 5
}
