{
 "cells": [
  {
   "cell_type": "code",
   "execution_count": 2,
   "id": "45512abc",
   "metadata": {},
   "outputs": [],
   "source": [
    "from aicsimageio import AICSImage\n",
    "from tifffile import imsave\n",
    "from pathlib import Path\n",
    "import numpy as np\n",
    "from skimage.filters import threshold_otsu\n",
    "from skimage.morphology import ball, binary_closing, remove_small_objects, dilation, erosion, disk\n",
    "from aicssegmentation.core.pre_processing_utils import  intensity_normalization, edge_preserving_smoothing_3d\n",
    "from aicssegmentation.core.vessel import vesselness3D\n",
    "from aicssegmentation.core.seg_dot import dot_2d\n",
    "from aicssegmentation.core.utils import topology_preserving_thinning, hole_filling\n",
    "import matplotlib.pyplot as plt\n",
    "import pandas as pd\n",
    "from itkwidgets import view   \n",
    "import seaborn as sns\n",
    "from aicssegmentation.core.visual import seg_fluo_side_by_side,  single_fluorescent_view, segmentation_quick_view\n",
    "plt.rcParams[\"figure.figsize\"] = [16, 12]"
   ]
  },
  {
   "cell_type": "markdown",
   "id": "e8e1039f",
   "metadata": {},
   "source": [
    "<h3> Example 1 <h3>"
   ]
  },
  {
   "cell_type": "code",
   "execution_count": 4,
   "id": "66bac964",
   "metadata": {},
   "outputs": [
    {
     "name": "stderr",
     "output_type": "stream",
     "text": [
      "Failed to parse XML for the provided file. Error: not well-formed (invalid token): line 1, column 0\n"
     ]
    }
   ],
   "source": [
    "# Comparing example 1 (50ms)\n",
    "filename = \"C:/Users/sandra.oluoch/Desktop/slurm-down/golgi-50ms-ex1v8.tiff\"\n",
    "reader = AICSImage(filename)\n",
    "IMG_ex1_50ms = reader.data.astype(np.float32)\n",
    "#IMG_ex1_50ms"
   ]
  },
  {
   "cell_type": "code",
   "execution_count": 7,
   "id": "768b0e76",
   "metadata": {},
   "outputs": [
    {
     "name": "stderr",
     "output_type": "stream",
     "text": [
      "Failed to parse XML for the provided file. Error: not well-formed (invalid token): line 1, column 0\n"
     ]
    }
   ],
   "source": [
    "# Comparing example 1 (200ms)\n",
    "filename = \"C:/Users/sandra.oluoch/Desktop/slurm-down/golgi-200ms-ex1v8.1.tiff\"\n",
    "reader = AICSImage(filename)\n",
    "IMG_ex1_200ms = reader.data.astype(np.float32)\n",
    "#IMG_ex1_200ms"
   ]
  },
  {
   "cell_type": "code",
   "execution_count": 9,
   "id": "1e962f1c",
   "metadata": {},
   "outputs": [
    {
     "data": {
      "text/plain": [
       "0.9999471296296296"
      ]
     },
     "execution_count": 9,
     "metadata": {},
     "output_type": "execute_result"
    }
   ],
   "source": [
    "ex1_similarity =2*np.sum(~np.logical_xor(IMG_ex1_50ms,IMG_ex1_200ms))/(IMG_ex1_50ms.size+IMG_ex1_200ms.size)\n",
    "ex1_similarity"
   ]
  },
  {
   "cell_type": "markdown",
   "id": "f4441cef",
   "metadata": {},
   "source": [
    "<h3> Example 2 <h3>"
   ]
  },
  {
   "cell_type": "code",
   "execution_count": 10,
   "id": "42d24a00",
   "metadata": {},
   "outputs": [
    {
     "name": "stderr",
     "output_type": "stream",
     "text": [
      "Failed to parse XML for the provided file. Error: not well-formed (invalid token): line 1, column 0\n"
     ]
    }
   ],
   "source": [
    "# Comparing example 2 (50ms)\n",
    "filename = \"C:/Users/sandra.oluoch/Desktop/slurm-down/golgi-50ms-ex1v8.tiff\"\n",
    "reader = AICSImage(filename)\n",
    "IMG_ex2_50ms = reader.data.astype(np.float32)"
   ]
  },
  {
   "cell_type": "code",
   "execution_count": 11,
   "id": "22154ed8",
   "metadata": {},
   "outputs": [
    {
     "name": "stderr",
     "output_type": "stream",
     "text": [
      "Failed to parse XML for the provided file. Error: not well-formed (invalid token): line 1, column 0\n"
     ]
    }
   ],
   "source": [
    "# Comparing example 2 (200ms)\n",
    "filename = \"C:/Users/sandra.oluoch/Desktop/slurm-down/golgi-200ms-ex2v8.1.tiff\"\n",
    "reader = AICSImage(filename)\n",
    "IMG_ex2_200ms = reader.data.astype(np.float32)"
   ]
  },
  {
   "cell_type": "code",
   "execution_count": 16,
   "id": "9d578a67",
   "metadata": {},
   "outputs": [
    {
     "data": {
      "text/plain": [
       "0.9998803125"
      ]
     },
     "execution_count": 16,
     "metadata": {},
     "output_type": "execute_result"
    }
   ],
   "source": [
    "ex2_similarity =2*np.sum(~np.logical_xor(IMG_ex2_50ms,IMG_ex2_200ms))/(IMG_ex2_50ms.size+IMG_ex2_200ms.size)\n",
    "ex2_similarity"
   ]
  },
  {
   "cell_type": "markdown",
   "id": "6015620f",
   "metadata": {},
   "source": [
    "<h3> Example 3 <h3> "
   ]
  },
  {
   "cell_type": "code",
   "execution_count": 41,
   "id": "ef11e0be",
   "metadata": {},
   "outputs": [
    {
     "name": "stderr",
     "output_type": "stream",
     "text": [
      "Failed to parse XML for the provided file. Error: not well-formed (invalid token): line 1, column 0\n",
      "Failed to parse XML for the provided file. Error: not well-formed (invalid token): line 1, column 6\n"
     ]
    }
   ],
   "source": [
    "# Comparing example 3 (50ms)\n",
    "filename = \"C:/Users/sandra.oluoch/Desktop/slurm-down/golgi-50ms-ex3v9.2.tiff\"\n",
    "reader = AICSImage(filename)\n",
    "IMG_ex3_50ms = reader.data.astype(np.float32)\n",
    "\n",
    "filename_struct = \"C:/Users/sandra.oluoch/Desktop/slurm-down/EX3_struct1_50ms.tiff\"\n",
    "reader_struct = AICSImage(filename_struct)\n",
    "struct1_50ms = reader_struct.data.astype(np.float32)"
   ]
  },
  {
   "cell_type": "code",
   "execution_count": 12,
   "id": "ef884597",
   "metadata": {},
   "outputs": [
    {
     "name": "stderr",
     "output_type": "stream",
     "text": [
      "Failed to parse XML for the provided file. Error: not well-formed (invalid token): line 1, column 0\n",
      "Failed to parse XML for the provided file. Error: not well-formed (invalid token): line 1, column 6\n"
     ]
    }
   ],
   "source": [
    "# Comparing example 3 (200ms)\n",
    "filename = \"C:/Users/sandra.oluoch/Desktop/slurm-down/golgi-200ms-ex3v9TEST.tiff\"\n",
    "reader = AICSImage(filename)\n",
    "IMG_ex3_200ms = reader.data.astype(np.float32)\n",
    "\n",
    "filename_struct = \"C:/Users/sandra.oluoch/Desktop/slurm-down/EX3_struct1_200ms.tiff\"\n",
    "reader_struct = AICSImage(filename_struct)\n",
    "struct1_200ms = reader_struct.data.astype(np.float32)"
   ]
  },
  {
   "cell_type": "code",
   "execution_count": 40,
   "id": "66b6b357",
   "metadata": {
    "scrolled": true
   },
   "outputs": [
    {
     "data": {
      "text/plain": [
       "0.999679837962963"
      ]
     },
     "execution_count": 40,
     "metadata": {},
     "output_type": "execute_result"
    }
   ],
   "source": [
    "# Matheus's version\n",
    "ex3_similarity =2*np.sum(~np.logical_xor(IMG_ex3_50ms,IMG_ex3_200ms))/(IMG_ex3_50ms.size+IMG_ex3_200ms.size)\n",
    "ex3_similarity"
   ]
  },
  {
   "cell_type": "markdown",
   "id": "d4740fb6",
   "metadata": {},
   "source": [
    "<h3> Example 5 <h3>"
   ]
  },
  {
   "cell_type": "code",
   "execution_count": 23,
   "id": "22c33fb9",
   "metadata": {},
   "outputs": [
    {
     "name": "stderr",
     "output_type": "stream",
     "text": [
      "Failed to parse XML for the provided file. Error: not well-formed (invalid token): line 1, column 0\n"
     ]
    }
   ],
   "source": [
    "# Comparing example 2 (50ms)\n",
    "filename = \"C:/Users/sandra.oluoch/Desktop/slurm-down/golgi-50ms-ex5v8.tiff\"\n",
    "reader = AICSImage(filename)\n",
    "IMG_ex5_50ms = reader.data.astype(np.float32)"
   ]
  },
  {
   "cell_type": "code",
   "execution_count": 24,
   "id": "b3c6b17e",
   "metadata": {},
   "outputs": [
    {
     "name": "stderr",
     "output_type": "stream",
     "text": [
      "Failed to parse XML for the provided file. Error: not well-formed (invalid token): line 1, column 0\n"
     ]
    }
   ],
   "source": [
    "# Comparing example 2 (200ms)\n",
    "filename = \"C:/Users/sandra.oluoch/Desktop/slurm-down/golgi-200ms-ex5v8.1.tiff\"\n",
    "reader = AICSImage(filename)\n",
    "IMG_ex5_200ms = reader.data.astype(np.float32)"
   ]
  },
  {
   "cell_type": "code",
   "execution_count": 25,
   "id": "7bbcfd81",
   "metadata": {},
   "outputs": [
    {
     "data": {
      "text/plain": [
       "0.9998991898148148"
      ]
     },
     "execution_count": 25,
     "metadata": {},
     "output_type": "execute_result"
    }
   ],
   "source": [
    "ex5_similarity =2*np.sum(~np.logical_xor(IMG_ex5_50ms,IMG_ex5_200ms))/(IMG_ex5_50ms.size+IMG_ex5_200ms.size)\n",
    "ex5_similarity"
   ]
  },
  {
   "cell_type": "code",
   "execution_count": 42,
   "id": "127b0e3b",
   "metadata": {},
   "outputs": [],
   "source": [
    "# Alternate version \n",
    "def jaccard_binary(x,y):\n",
    "    \"\"\"A function for finding the similarity between two binary vectors\"\"\"\n",
    "    intersection = np.logical_and(x, y)\n",
    "    union = np.logical_or(x, y)\n",
    "    similarity = 2*(intersection.sum() / float(union.sum()))\n",
    "    return similarity"
   ]
  },
  {
   "cell_type": "code",
   "execution_count": 43,
   "id": "52caba47",
   "metadata": {},
   "outputs": [
    {
     "data": {
      "text/plain": [
       "0.37914386868361766"
      ]
     },
     "execution_count": 43,
     "metadata": {},
     "output_type": "execute_result"
    }
   ],
   "source": [
    "jaccard_binary(struct1_50ms,struct1_200ms)"
   ]
  },
  {
   "cell_type": "markdown",
   "id": "f96e5bed",
   "metadata": {},
   "source": [
    "<h3> F1-Score Calculation (Max Projection) <h3>"
   ]
  },
  {
   "cell_type": "code",
   "execution_count": 215,
   "id": "8d69a896",
   "metadata": {},
   "outputs": [
    {
     "name": "stderr",
     "output_type": "stream",
     "text": [
      "Failed to parse XML for the provided file. Error: not well-formed (invalid token): line 1, column 0\n"
     ]
    },
    {
     "data": {
      "text/plain": [
       "(1, 1, 1, 1200, 1800)"
      ]
     },
     "execution_count": 215,
     "metadata": {},
     "output_type": "execute_result"
    }
   ],
   "source": [
    "filename_50ms = \"C:/Users/sandra.oluoch/Desktop/slurm-down/maxproj-seg-50ms-ex7v9.2.tiff\"\n",
    "reader = AICSImage(filename_50ms) \n",
    "IMG_50maxproj = reader.data.astype(np.float32)\n",
    "IMG_50maxproj.shape"
   ]
  },
  {
   "cell_type": "code",
   "execution_count": 216,
   "id": "809bf514",
   "metadata": {},
   "outputs": [
    {
     "name": "stderr",
     "output_type": "stream",
     "text": [
      "Failed to parse XML for the provided file. Error: not well-formed (invalid token): line 1, column 0\n"
     ]
    },
    {
     "data": {
      "text/plain": [
       "(1, 1, 1, 1200, 1800)"
      ]
     },
     "execution_count": 216,
     "metadata": {},
     "output_type": "execute_result"
    }
   ],
   "source": [
    "filename_200ms = \"C:/Users/sandra.oluoch/Desktop/slurm-down/maxproj-seg-200ms-ex7v9.3.tiff\"\n",
    "reader = AICSImage(filename_200ms) \n",
    "IMG_200maxproj = reader.data.astype(np.float32)\n",
    "IMG_200maxproj.shape"
   ]
  },
  {
   "cell_type": "code",
   "execution_count": 217,
   "id": "7e3ae682",
   "metadata": {},
   "outputs": [
    {
     "data": {
      "text/plain": [
       "(1200, 1800)"
      ]
     },
     "execution_count": 217,
     "metadata": {},
     "output_type": "execute_result"
    }
   ],
   "source": [
    "# reducing dimensions for f1-score\n",
    "\n",
    "IMG50_squeeze1 = np.squeeze(IMG_50maxproj)\n",
    "IMG200_squeeze1 = np.squeeze(IMG_200maxproj)\n",
    "\n",
    "IMG200_squeeze1.shape"
   ]
  },
  {
   "cell_type": "code",
   "execution_count": 218,
   "id": "56148ac1",
   "metadata": {},
   "outputs": [
    {
     "data": {
      "text/plain": [
       "0.8842538190364277"
      ]
     },
     "execution_count": 218,
     "metadata": {},
     "output_type": "execute_result"
    }
   ],
   "source": [
    "from sklearn.preprocessing import MultiLabelBinarizer\n",
    "binarizer = MultiLabelBinarizer()\n",
    "\n",
    "# This should be your original approach\n",
    "#binarizer.fit(your actual true output consisting of all labels)\n",
    "\n",
    "# In this case, I am considering only the given labels.\n",
    "binarizer.fit(IMG200_squeeze1)\n",
    "\n",
    "f1_score(binarizer.transform(IMG200_squeeze1), \n",
    "         binarizer.transform(IMG50_squeeze1), \n",
    "         average='macro')\n",
    "\n",
    "# code from: https://stackoverflow.com/questions/43198613/scikit-learn-f1-score-for-list-of-strings"
   ]
  },
  {
   "cell_type": "markdown",
   "id": "b169ae4c",
   "metadata": {},
   "source": [
    "<h3> F1-Score Calculation (3D Image) <h3>"
   ]
  },
  {
   "cell_type": "code",
   "execution_count": 153,
   "id": "284c6926",
   "metadata": {},
   "outputs": [
    {
     "name": "stderr",
     "output_type": "stream",
     "text": [
      "Failed to parse XML for the provided file. Error: not well-formed (invalid token): line 1, column 0\n"
     ]
    },
    {
     "data": {
      "text/plain": [
       "(1, 1, 40, 1200, 1800)"
      ]
     },
     "execution_count": 153,
     "metadata": {},
     "output_type": "execute_result"
    }
   ],
   "source": [
    "filename_50ms = \"C:/Users/sandra.oluoch/Desktop/slurm-down/golgi-50ms-ex3v9.2.tiff\"\n",
    "reader = AICSImage(filename_50ms) \n",
    "IMG_50 = reader.data.astype(np.float32)\n",
    "IMG_50.shape"
   ]
  },
  {
   "cell_type": "code",
   "execution_count": 155,
   "id": "092e0615",
   "metadata": {},
   "outputs": [
    {
     "name": "stderr",
     "output_type": "stream",
     "text": [
      "Failed to parse XML for the provided file. Error: not well-formed (invalid token): line 1, column 0\n"
     ]
    },
    {
     "data": {
      "text/plain": [
       "(1, 1, 40, 1200, 1800)"
      ]
     },
     "execution_count": 155,
     "metadata": {},
     "output_type": "execute_result"
    }
   ],
   "source": [
    "filename_200ms = \"C:/Users/sandra.oluoch/Desktop/slurm-down/golgi-50ms-ex3v9.2.tiff\"\n",
    "reader = AICSImage(filename_200ms) \n",
    "IMG_200 = reader.data.astype(np.float32)\n",
    "IMG_200.shape"
   ]
  },
  {
   "cell_type": "code",
   "execution_count": 156,
   "id": "ce35cf57",
   "metadata": {},
   "outputs": [
    {
     "data": {
      "text/plain": [
       "(40, 1200, 1800)"
      ]
     },
     "execution_count": 156,
     "metadata": {},
     "output_type": "execute_result"
    }
   ],
   "source": [
    "# reducing dimensions for f1-score\n",
    "\n",
    "IMG50_squeeze1 = np.squeeze(IMG_50)\n",
    "IMG200_squeeze1 = np.squeeze(IMG_200)\n",
    "\n",
    "IMG200_squeeze1.shape"
   ]
  },
  {
   "cell_type": "code",
   "execution_count": 189,
   "id": "0d39b1cf",
   "metadata": {},
   "outputs": [
    {
     "data": {
      "text/plain": [
       "1.0"
      ]
     },
     "execution_count": 189,
     "metadata": {},
     "output_type": "execute_result"
    }
   ],
   "source": [
    "from sklearn.preprocessing import MultiLabelBinarizer\n",
    "binarizer = MultiLabelBinarizer()\n",
    "\n",
    "# This should be your original approach\n",
    "#binarizer.fit(your actual true output consisting of all labels)\n",
    "\n",
    "# In this case, I am considering only the given labels.\n",
    "binarizer.fit(y1[20])\n",
    "\n",
    "f1_score(binarizer.transform(y1[20]), \n",
    "         binarizer.transform(x1[20]), \n",
    "         average='macro')"
   ]
  },
  {
   "cell_type": "markdown",
   "id": "9afed955",
   "metadata": {},
   "source": [
    "<h3> Counting Segmented Pieces <h3>"
   ]
  },
  {
   "cell_type": "code",
   "execution_count": 263,
   "id": "c6d18acd",
   "metadata": {},
   "outputs": [
    {
     "data": {
      "text/plain": [
       "7741"
      ]
     },
     "execution_count": 263,
     "metadata": {},
     "output_type": "execute_result"
    }
   ],
   "source": [
    "from skimage import data, util\n",
    "from skimage.measure import label, regionprops\n",
    "\n",
    "img = util.img_as_ubyte(data.coins()) > 110\n",
    "label_img = label(img, connectivity=img.ndim)\n",
    "\n",
    "# define pixelcount function\n",
    "def pixelcount(regionmask):\n",
    "    return np.sum(regionmask)\n",
    "\n",
    "props = regionprops(label_img, extra_properties=(pixelcount,))\n",
    "props[0].pixelcount"
   ]
  },
  {
   "cell_type": "code",
   "execution_count": 267,
   "id": "2b416e08",
   "metadata": {},
   "outputs": [
    {
     "data": {
      "text/plain": [
       "3269"
      ]
     },
     "execution_count": 267,
     "metadata": {},
     "output_type": "execute_result"
    }
   ],
   "source": [
    "props2 = regionprops(IMG200_squeeze1.astype(int))\n",
    "props2 = regionprops(IMG200_squeeze1.astype(int), extra_properties=(pixelcount,))\n",
    "props2[0].pixelcount"
   ]
  },
  {
   "cell_type": "code",
   "execution_count": null,
   "id": "96769b32",
   "metadata": {},
   "outputs": [],
   "source": []
  }
 ],
 "metadata": {
  "kernelspec": {
   "display_name": "Python 3 (ipykernel)",
   "language": "python",
   "name": "python3"
  },
  "language_info": {
   "codemirror_mode": {
    "name": "ipython",
    "version": 3
   },
   "file_extension": ".py",
   "mimetype": "text/x-python",
   "name": "python",
   "nbconvert_exporter": "python",
   "pygments_lexer": "ipython3",
   "version": "3.9.7"
  }
 },
 "nbformat": 4,
 "nbformat_minor": 5
}
