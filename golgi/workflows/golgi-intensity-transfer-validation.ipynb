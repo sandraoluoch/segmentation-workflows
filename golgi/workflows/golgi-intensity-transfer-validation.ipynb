{
 "cells": [
  {
   "cell_type": "code",
   "execution_count": 1,
   "id": "intended-catch",
   "metadata": {},
   "outputs": [],
   "source": [
    "from aicsimageio import AICSImage\n",
    "from tifffile import imsave\n",
    "from pathlib import Path\n",
    "import numpy as np\n",
    "from skimage.filters import threshold_otsu\n",
    "from skimage.morphology import ball, binary_closing, remove_small_objects, dilation, erosion, disk\n",
    "from aicssegmentation.core.pre_processing_utils import  intensity_normalization, edge_preserving_smoothing_3d\n",
    "from aicssegmentation.core.vessel import vesselness3D\n",
    "from aicssegmentation.core.seg_dot import dot_2d\n",
    "from aicssegmentation.core.utils import topology_preserving_thinning, hole_filling\n",
    "import matplotlib.pyplot as plt\n",
    "import pandas as pd\n",
    "from itkwidgets import view   \n",
    "import seaborn as sns\n",
    "from aicssegmentation.core.visual import seg_fluo_side_by_side,  single_fluorescent_view, segmentation_quick_view\n",
    "plt.rcParams[\"figure.figsize\"] = [16, 12]"
   ]
  },
  {
   "cell_type": "markdown",
   "id": "interested-exchange",
   "metadata": {},
   "source": [
    "<h3> Initial Overall Validation (v5 data) <h3>"
   ]
  },
  {
   "cell_type": "code",
   "execution_count": 5,
   "id": "mexican-stanford",
   "metadata": {},
   "outputs": [
    {
     "name": "stderr",
     "output_type": "stream",
     "text": [
      "Failed to parse XML for the provided file. Error: not well-formed (invalid token): line 1, column 0\n",
      "Failed to parse XML for the provided file. Error: not well-formed (invalid token): line 1, column 0\n",
      "Failed to parse XML for the provided file. Error: not well-formed (invalid token): line 1, column 0\n",
      "Failed to parse XML for the provided file. Error: not well-formed (invalid token): line 1, column 0\n"
     ]
    },
    {
     "data": {
      "text/plain": [
       "[20473.0, 14681.0, 29616.0, 21807.0]"
      ]
     },
     "execution_count": 5,
     "metadata": {},
     "output_type": "execute_result"
    }
   ],
   "source": [
    "filepaths_50ms_v5 = [\"//allen/aics/assay-dev/users/Sandi/aics-segmentation/lookup_table_demo/golgi-50ms-ex1v5.tiff\",\n",
    "                    \"//allen/aics/assay-dev/users/Sandi/aics-segmentation/lookup_table_demo/golgi-50ms-ex2v5.tiff\",\n",
    "                    \"//allen/aics/assay-dev/users/Sandi/aics-segmentation/lookup_table_demo/golgi-50ms-ex3v5.tiff\",\n",
    "                    \"//allen/aics/assay-dev/users/Sandi/aics-segmentation/lookup_table_demo/golgi-50ms-ex5v5.tiff\"]\n",
    "volumes_50ms_v5 = []\n",
    "\n",
    "for filename in filepaths_50ms_v5:\n",
    "    # read file\n",
    "    reader = AICSImage(filename) \n",
    "    IMG50 = reader.data.astype(np.float32)\n",
    "    # calculate volume\n",
    "    volume50 = np.sum(IMG50)\n",
    "    volumes_50ms_v5.append(volume50)\n",
    "    \n",
    "volumes_50ms_v5  \n"
   ]
  },
  {
   "cell_type": "code",
   "execution_count": 7,
   "id": "apparent-siemens",
   "metadata": {
    "scrolled": true
   },
   "outputs": [
    {
     "name": "stderr",
     "output_type": "stream",
     "text": [
      "Failed to parse XML for the provided file. Error: not well-formed (invalid token): line 1, column 0\n",
      "Failed to parse XML for the provided file. Error: not well-formed (invalid token): line 1, column 0\n",
      "Failed to parse XML for the provided file. Error: not well-formed (invalid token): line 1, column 0\n",
      "Failed to parse XML for the provided file. Error: not well-formed (invalid token): line 1, column 0\n"
     ]
    },
    {
     "data": {
      "text/plain": [
       "[3917.0, 7834.0, 12551.0, 9019.0]"
      ]
     },
     "execution_count": 7,
     "metadata": {},
     "output_type": "execute_result"
    }
   ],
   "source": [
    "filepaths_200ms_v5 = [\"//allen/aics/assay-dev/users/Sandi/aics-segmentation/lookup_table_demo/golgi-200ms-ex1v5.tiff\",\n",
    "                     \"//allen/aics/assay-dev/users/Sandi/aics-segmentation/lookup_table_demo/golgi-200ms-ex2v5.tiff\",\n",
    "                     \"//allen/aics/assay-dev/users/Sandi/aics-segmentation/lookup_table_demo/golgi-200ms-ex3v5.tiff\",\n",
    "                     \"//allen/aics/assay-dev/users/Sandi/aics-segmentation/lookup_table_demo/golgi-200ms-ex5v5.tiff\"]\n",
    "volumes_200ms_v5 = []\n",
    "\n",
    "for filename in filepaths_200ms_v5:\n",
    "    # read file\n",
    "    reader = AICSImage(filename) \n",
    "    IMG200 = reader.data.astype(np.float32)\n",
    "    # calculate volume\n",
    "    volume200 = np.sum(IMG200)\n",
    "    volumes_200ms_v5.append(volume200)\n",
    "    \n",
    "volumes_200ms_v5"
   ]
  },
  {
   "cell_type": "code",
   "execution_count": 10,
   "id": "opposite-sierra",
   "metadata": {
    "scrolled": true
   },
   "outputs": [
    {
     "name": "stderr",
     "output_type": "stream",
     "text": [
      "Failed to parse XML for the provided file. Error: not well-formed (invalid token): line 1, column 0\n",
      "Failed to parse XML for the provided file. Error: not well-formed (invalid token): line 1, column 0\n",
      "Failed to parse XML for the provided file. Error: not well-formed (invalid token): line 1, column 0\n",
      "Failed to parse XML for the provided file. Error: not well-formed (invalid token): line 1, column 0\n"
     ]
    },
    {
     "data": {
      "text/plain": [
       "[4911.0, 7807.0, 15060.0, 6990.0]"
      ]
     },
     "execution_count": 10,
     "metadata": {},
     "output_type": "execute_result"
    }
   ],
   "source": [
    "filepaths_tf200ms_v5 = [\"//allen/aics/assay-dev/users/Sandi/aics-segmentation/lookup_table_demo/golgi-tf200ms-ex1v5.tiff\",\n",
    "                     \"//allen/aics/assay-dev/users/Sandi/aics-segmentation/lookup_table_demo/golgi-tf200ms-ex2v5.tiff\",\n",
    "                     \"//allen/aics/assay-dev/users/Sandi/aics-segmentation/lookup_table_demo/golgi-tf200ms-ex3v5.tiff\",\n",
    "                     \"//allen/aics/assay-dev/users/Sandi/aics-segmentation/lookup_table_demo/golgi-tf200ms-ex5v5.tiff\"]\n",
    "\n",
    "volumes_tf200ms_v5 = []\n",
    "\n",
    "for filename in filepaths_tf200ms_v5:\n",
    "    # read file\n",
    "    reader = AICSImage(filename, dir_order=\"ZYX\") \n",
    "    IMGtf200 = reader.data.astype(np.float32)\n",
    "    # calculate volume\n",
    "    volumetf200 = np.sum(IMGtf200)\n",
    "    volumes_tf200ms_v5.append(volumetf200)\n",
    "    \n",
    "volumes_tf200ms_v5\n"
   ]
  },
  {
   "cell_type": "code",
   "execution_count": 11,
   "id": "rolled-canon",
   "metadata": {
    "scrolled": true
   },
   "outputs": [
    {
     "data": {
      "text/html": [
       "<div>\n",
       "<style scoped>\n",
       "    .dataframe tbody tr th:only-of-type {\n",
       "        vertical-align: middle;\n",
       "    }\n",
       "\n",
       "    .dataframe tbody tr th {\n",
       "        vertical-align: top;\n",
       "    }\n",
       "\n",
       "    .dataframe thead th {\n",
       "        text-align: right;\n",
       "    }\n",
       "</style>\n",
       "<table border=\"1\" class=\"dataframe\">\n",
       "  <thead>\n",
       "    <tr style=\"text-align: right;\">\n",
       "      <th></th>\n",
       "      <th>50ms_volumes_v5</th>\n",
       "      <th>200ms_volumes_v5</th>\n",
       "      <th>tf200ms_volumes_v5</th>\n",
       "    </tr>\n",
       "  </thead>\n",
       "  <tbody>\n",
       "    <tr>\n",
       "      <th>0</th>\n",
       "      <td>20473.0</td>\n",
       "      <td>3917.0</td>\n",
       "      <td>4911.0</td>\n",
       "    </tr>\n",
       "    <tr>\n",
       "      <th>1</th>\n",
       "      <td>14681.0</td>\n",
       "      <td>7834.0</td>\n",
       "      <td>7807.0</td>\n",
       "    </tr>\n",
       "    <tr>\n",
       "      <th>2</th>\n",
       "      <td>29616.0</td>\n",
       "      <td>12551.0</td>\n",
       "      <td>15060.0</td>\n",
       "    </tr>\n",
       "    <tr>\n",
       "      <th>3</th>\n",
       "      <td>21807.0</td>\n",
       "      <td>9019.0</td>\n",
       "      <td>6990.0</td>\n",
       "    </tr>\n",
       "  </tbody>\n",
       "</table>\n",
       "</div>"
      ],
      "text/plain": [
       "   50ms_volumes_v5  200ms_volumes_v5  tf200ms_volumes_v5\n",
       "0          20473.0            3917.0              4911.0\n",
       "1          14681.0            7834.0              7807.0\n",
       "2          29616.0           12551.0             15060.0\n",
       "3          21807.0            9019.0              6990.0"
      ]
     },
     "execution_count": 11,
     "metadata": {},
     "output_type": "execute_result"
    }
   ],
   "source": [
    "import pandas as pd\n",
    "# create a dataframe with all the info \n",
    "data_v5 = {'50ms_volumes_v5': volumes_50ms_v5,\n",
    "        '200ms_volumes_v5': volumes_200ms_v5,\n",
    "        'tf200ms_volumes_v5': volumes_tf200ms_v5}\n",
    "\n",
    "volumes_v5 = pd.DataFrame(data_v5)\n",
    "volumes_v5"
   ]
  },
  {
   "cell_type": "code",
   "execution_count": 12,
   "id": "decreased-marriage",
   "metadata": {},
   "outputs": [
    {
     "data": {
      "image/png": "[encoded data removed]",
      "text/plain": [
       "<Figure size 576x360 with 2 Axes>"
      ]
     },
     "metadata": {
      "needs_background": "light"
     },
     "output_type": "display_data"
    }
   ],
   "source": [
    "# plot volumes against each other \n",
    "#figure(figsize=(8, 6), dpi=80)\n",
    "fig, ax = plt.subplots(figsize=(8,5))\n",
    "\n",
    "X = np.arange(4)\n",
    "ax = fig.add_axes([0,0,1,1])\n",
    "\n",
    "ax.bar(X, volumes_v5['50ms_volumes_v5'], color='b', width = 0.10)\n",
    "ax.bar(X + 0.10, volumes_v5['200ms_volumes_v5'], color='g', width = 0.10)\n",
    "ax.bar(X +0.20, volumes_v5['tf200ms_volumes_v5'], color= 'r', width = 0.10)\n",
    "\n",
    "plt.xlabel('FOV')\n",
    "plt.ylabel('volume (voxels)')\n",
    "plt.title('Intensity Transfer Seg Validation')\n",
    "ax.legend(['50ms','200ms', 'TF 200ms'])\n",
    "\n",
    "ax.xaxis.set_ticklabels = (['FOV1', 'FOV2', 'FOV3', 'FOV4'])\n",
    "ax.xaxis.set_ticks([1,2,3,4])\n",
    "\n",
    "plt.show()"
   ]
  },
  {
   "cell_type": "markdown",
   "id": "russian-corruption",
   "metadata": {},
   "source": [
    "<h3> Initial Overall Validation (v3 data) <h3>"
   ]
  },
  {
   "cell_type": "code",
   "execution_count": null,
   "id": "graphic-latter",
   "metadata": {},
   "outputs": [],
   "source": [
    "filepaths_200ms = [\"//allen/aics/assay-dev/users/Sandi/aics-segmentation/lookup_table_demo/golgi-200ms-imgs/seg/golgi-200ms-ex1v3.tiff\",\n",
    "                  \"//allen/aics/assay-dev/users/Sandi/aics-segmentation/lookup_table_demo/golgi-200ms-imgs/seg/golgi-200ms-ex2v3.tiff\",\n",
    "                  \"//allen/aics/assay-dev/users/Sandi/aics-segmentation/lookup_table_demo/golgi-200ms-imgs/seg/golgi-200ms-ex4v3.tiff\",\n",
    "                  \"//allen/aics/assay-dev/users/Sandi/aics-segmentation/lookup_table_demo/golgi-200ms-imgs/seg/golgi-200ms-ex5v3.tiff\"]\n",
    "\n",
    "volumes_200ms = []\n",
    "\n",
    "for filename in filepaths_200ms:\n",
    "    # read file\n",
    "    reader = AICSImage(filename) \n",
    "    IMG200 = reader.data.astype(np.float32)\n",
    "    # calculate volume\n",
    "    volume200 = np.sum(IMG200)\n",
    "    volumes_200ms.append(volume200)\n",
    "    \n",
    "volumes_200ms"
   ]
  },
  {
   "cell_type": "code",
   "execution_count": 2,
   "id": "official-shanghai",
   "metadata": {},
   "outputs": [
    {
     "name": "stderr",
     "output_type": "stream",
     "text": [
      "Failed to parse XML for the provided file. Error: not well-formed (invalid token): line 1, column 0\n",
      "Failed to parse XML for the provided file. Error: not well-formed (invalid token): line 1, column 0\n",
      "Failed to parse XML for the provided file. Error: not well-formed (invalid token): line 1, column 0\n",
      "Failed to parse XML for the provided file. Error: not well-formed (invalid token): line 1, column 0\n"
     ]
    },
    {
     "data": {
      "text/plain": [
       "[5533.0, 3663.0, 8780.0, 5473.0]"
      ]
     },
     "execution_count": 2,
     "metadata": {},
     "output_type": "execute_result"
    }
   ],
   "source": [
    "filepaths_50ms_v5 = [\"//allen/aics/assay-dev/users/Sandi/aics-segmentation/lookup_table_demo/golgi-50ms-imgs/seg/golgi-50ms-ex1v3.tiff\",\n",
    "              \"//allen/aics/assay-dev/users/Sandi/aics-segmentation/lookup_table_demo/golgi-50ms-imgs/seg/golgi-50ms-ex2v3.tiff\",\n",
    "              \"//allen/aics/assay-dev/users/Sandi/aics-segmentation/lookup_table_demo/golgi-50ms-imgs/seg/golgi-50ms-ex3v3.tiff\",\n",
    "                 \"//allen/aics/assay-dev/users/Sandi/aics-segmentation/lookup_table_demo/golgi-50ms-imgs/seg/golgi-50ms-ex5v3.tiff\"]\n",
    "volumes_50ms_v5 = []\n",
    "\n",
    "for filename in filepaths_50ms:\n",
    "    # read file\n",
    "    reader = AICSImage(filename) \n",
    "    IMG50 = reader.data.astype(np.float32)\n",
    "    # calculate volume\n",
    "    volume50 = np.sum(IMG50)\n",
    "    volumes_50ms.append(volume50)\n",
    "    \n",
    "volumes_50ms   "
   ]
  },
  {
   "cell_type": "code",
   "execution_count": 3,
   "id": "bibliographic-hostel",
   "metadata": {},
   "outputs": [
    {
     "name": "stderr",
     "output_type": "stream",
     "text": [
      "Failed to parse XML for the provided file. Error: not well-formed (invalid token): line 1, column 0\n",
      "Failed to parse XML for the provided file. Error: not well-formed (invalid token): line 1, column 0\n",
      "Failed to parse XML for the provided file. Error: not well-formed (invalid token): line 1, column 0\n",
      "Failed to parse XML for the provided file. Error: not well-formed (invalid token): line 1, column 0\n"
     ]
    },
    {
     "data": {
      "text/plain": [
       "[2427.0, 6881.0, 4890.0, 6146.0]"
      ]
     },
     "execution_count": 3,
     "metadata": {},
     "output_type": "execute_result"
    }
   ],
   "source": [
    "filepaths_200ms = [\"//allen/aics/assay-dev/users/Sandi/aics-segmentation/lookup_table_demo/golgi-200ms-imgs/seg/golgi-200ms-ex1v3.tiff\",\n",
    "                  \"//allen/aics/assay-dev/users/Sandi/aics-segmentation/lookup_table_demo/golgi-200ms-imgs/seg/golgi-200ms-ex2v3.tiff\",\n",
    "                  \"//allen/aics/assay-dev/users/Sandi/aics-segmentation/lookup_table_demo/golgi-200ms-imgs/seg/golgi-200ms-ex4v3.tiff\",\n",
    "                  \"//allen/aics/assay-dev/users/Sandi/aics-segmentation/lookup_table_demo/golgi-200ms-imgs/seg/golgi-200ms-ex5v3.tiff\"]\n",
    "\n",
    "volumes_200ms = []\n",
    "\n",
    "for filename in filepaths_200ms:\n",
    "    # read file\n",
    "    reader = AICSImage(filename) \n",
    "    IMG200 = reader.data.astype(np.float32)\n",
    "    # calculate volume\n",
    "    volume200 = np.sum(IMG200)\n",
    "    volumes_200ms.append(volume200)\n",
    "    \n",
    "volumes_200ms"
   ]
  },
  {
   "cell_type": "code",
   "execution_count": 4,
   "id": "forward-playlist",
   "metadata": {
    "scrolled": true
   },
   "outputs": [
    {
     "name": "stderr",
     "output_type": "stream",
     "text": [
      "Failed to parse XML for the provided file. Error: not well-formed (invalid token): line 1, column 0\n",
      "Failed to parse XML for the provided file. Error: not well-formed (invalid token): line 1, column 0\n",
      "Failed to parse XML for the provided file. Error: not well-formed (invalid token): line 1, column 0\n",
      "Failed to parse XML for the provided file. Error: not well-formed (invalid token): line 1, column 0\n"
     ]
    },
    {
     "data": {
      "text/plain": [
       "[7256.0, 12572.0, 12663.0, 10397.0]"
      ]
     },
     "execution_count": 4,
     "metadata": {},
     "output_type": "execute_result"
    }
   ],
   "source": [
    "filepaths_tf200ms = [\"//allen/aics/assay-dev/users/Sandi/aics-segmentation/lookup_table_demo/golgi-tf200ms-imgs/seg/golgi-tf200ms-ex1v3.tiff\",\n",
    "                     \"//allen/aics/assay-dev/users/Sandi/aics-segmentation/lookup_table_demo/golgi-tf200ms-imgs/seg/golgi-tf200ms-ex2v3.tiff\",\n",
    "                     \"//allen/aics/assay-dev/users/Sandi/aics-segmentation/lookup_table_demo/golgi-tf200ms-imgs/seg/golgi-tf200ms-ex4v3.tiff\",\n",
    "                     \"//allen/aics/assay-dev/users/Sandi/aics-segmentation/lookup_table_demo/golgi-tf200ms-imgs/seg/golgi-tf200ms-ex5v3.tiff\"\n",
    "    \n",
    "]\n",
    "\n",
    "volumes_tf200ms = []\n",
    "\n",
    "for filename in filepaths_tf200ms:\n",
    "    # read file\n",
    "    reader = AICSImage(filename, dir_order=\"ZYX\") \n",
    "    IMGtf200 = reader.data.astype(np.float32)\n",
    "    # calculate volume\n",
    "    volumetf200 = np.sum(IMGtf200)\n",
    "    volumes_tf200ms.append(volumetf200)\n",
    "    \n",
    "volumes_tf200ms\n"
   ]
  },
  {
   "cell_type": "code",
   "execution_count": 5,
   "id": "better-frame",
   "metadata": {},
   "outputs": [],
   "source": [
    "volumes_tf200ms_v7 = [2087, 3793, 6161, 4214]"
   ]
  },
  {
   "cell_type": "code",
   "execution_count": 5,
   "id": "decreased-novel",
   "metadata": {},
   "outputs": [
    {
     "name": "stderr",
     "output_type": "stream",
     "text": [
      "Failed to parse XML for the provided file. Error: not well-formed (invalid token): line 1, column 0\n",
      "Failed to parse XML for the provided file. Error: not well-formed (invalid token): line 1, column 0\n",
      "Failed to parse XML for the provided file. Error: not well-formed (invalid token): line 1, column 0\n",
      "Failed to parse XML for the provided file. Error: not well-formed (invalid token): line 1, column 0\n"
     ]
    },
    {
     "data": {
      "text/plain": [
       "[2943.0, 6001.0, 9745.0, 3787.0]"
      ]
     },
     "execution_count": 5,
     "metadata": {},
     "output_type": "execute_result"
    }
   ],
   "source": [
    "filepaths_tf200ms_v5 = [\"//allen/aics/assay-dev/users/Sandi/aics-segmentation/lookup_table_demo/golgi-tf200ms-ex1v6.tiff\",\n",
    "                      \"//allen/aics/assay-dev/users/Sandi/aics-segmentation/lookup_table_demo/golgi-tf200ms-ex2v6.tiff\",\n",
    "                        \"//allen/aics/assay-dev/users/Sandi/aics-segmentation/lookup_table_demo/golgi-tf200ms-ex3v6.tiff\",\n",
    "                     \"//allen/aics/assay-dev/users/Sandi/aics-segmentation/lookup_table_demo/golgi-tf200ms-ex5v6.tiff\"]\n",
    "\n",
    "volumes_tf200ms_v5 = []\n",
    "\n",
    "for filename in filepaths_tf200ms_v5:\n",
    "    # read file\n",
    "    reader = AICSImage(filename, dir_order=\"ZYX\") \n",
    "    IMGtf200_v5 = reader.data.astype(np.float32)\n",
    "    # calculate volume\n",
    "    volumetf200_v5 = np.sum(IMGtf200_v5)\n",
    "    volumes_tf200ms_v5.append(volumetf200_v5)\n",
    "    \n",
    "volumes_tf200ms_v5"
   ]
  },
  {
   "cell_type": "code",
   "execution_count": 6,
   "id": "approximate-accused",
   "metadata": {
    "scrolled": true
   },
   "outputs": [
    {
     "data": {
      "text/html": [
       "<div>\n",
       "<style scoped>\n",
       "    .dataframe tbody tr th:only-of-type {\n",
       "        vertical-align: middle;\n",
       "    }\n",
       "\n",
       "    .dataframe tbody tr th {\n",
       "        vertical-align: top;\n",
       "    }\n",
       "\n",
       "    .dataframe thead th {\n",
       "        text-align: right;\n",
       "    }\n",
       "</style>\n",
       "<table border=\"1\" class=\"dataframe\">\n",
       "  <thead>\n",
       "    <tr style=\"text-align: right;\">\n",
       "      <th></th>\n",
       "      <th>50ms_volumes</th>\n",
       "      <th>200ms_volumes</th>\n",
       "      <th>tf200ms_volumes</th>\n",
       "      <th>tf200ms_volumesV7</th>\n",
       "    </tr>\n",
       "  </thead>\n",
       "  <tbody>\n",
       "    <tr>\n",
       "      <th>0</th>\n",
       "      <td>5533.0</td>\n",
       "      <td>2427.0</td>\n",
       "      <td>7256.0</td>\n",
       "      <td>2087</td>\n",
       "    </tr>\n",
       "    <tr>\n",
       "      <th>1</th>\n",
       "      <td>3663.0</td>\n",
       "      <td>6881.0</td>\n",
       "      <td>12572.0</td>\n",
       "      <td>3793</td>\n",
       "    </tr>\n",
       "    <tr>\n",
       "      <th>2</th>\n",
       "      <td>8780.0</td>\n",
       "      <td>4890.0</td>\n",
       "      <td>12663.0</td>\n",
       "      <td>6161</td>\n",
       "    </tr>\n",
       "    <tr>\n",
       "      <th>3</th>\n",
       "      <td>5473.0</td>\n",
       "      <td>6146.0</td>\n",
       "      <td>10397.0</td>\n",
       "      <td>4214</td>\n",
       "    </tr>\n",
       "  </tbody>\n",
       "</table>\n",
       "</div>"
      ],
      "text/plain": [
       "   50ms_volumes  200ms_volumes  tf200ms_volumes  tf200ms_volumesV7\n",
       "0        5533.0         2427.0           7256.0               2087\n",
       "1        3663.0         6881.0          12572.0               3793\n",
       "2        8780.0         4890.0          12663.0               6161\n",
       "3        5473.0         6146.0          10397.0               4214"
      ]
     },
     "execution_count": 6,
     "metadata": {},
     "output_type": "execute_result"
    }
   ],
   "source": [
    "import pandas as pd\n",
    "# create a dataframe with all the info \n",
    "data = {'50ms_volumes': volumes_50ms,\n",
    "        '200ms_volumes': volumes_200ms,\n",
    "        'tf200ms_volumes': volumes_tf200ms,\n",
    "       'tf200ms_volumesV7': volumes_tf200ms_v7}\n",
    "\n",
    "volume_df = pd.DataFrame(data)\n",
    "volume_df"
   ]
  },
  {
   "cell_type": "code",
   "execution_count": 7,
   "id": "broken-mexican",
   "metadata": {},
   "outputs": [
    {
     "data": {
      "image/png": "[encoded data removed]",
      "text/plain": [
       "<Figure size 576x360 with 2 Axes>"
      ]
     },
     "metadata": {
      "needs_background": "light"
     },
     "output_type": "display_data"
    }
   ],
   "source": [
    "# plot volumes against each other \n",
    "#figure(figsize=(8, 6), dpi=80)\n",
    "fig, ax = plt.subplots(figsize=(8,5))\n",
    "\n",
    "X = np.arange(4)\n",
    "ax = fig.add_axes([0,0,1,1])\n",
    "\n",
    "ax.bar(X, volume_df['50ms_volumes'], color='b', width = 0.10)\n",
    "ax.bar(X + 0.10, volume_df['200ms_volumes'], color='g', width = 0.10)\n",
    "ax.bar(X +0.20, volume_df['tf200ms_volumes'], color= 'r', width = 0.10)\n",
    "\n",
    "plt.xlabel('FOV')\n",
    "plt.ylabel('volume (voxels)')\n",
    "plt.title('Intensity Transfer Seg Validation')\n",
    "ax.legend(['50ms','200ms', 'TF 200ms'])\n",
    "\n",
    "ax.xaxis.set_ticklabels = (['FOV1', 'FOV2', 'FOV3', 'FOV4'])\n",
    "ax.xaxis.set_ticks([1,2,3,4])\n",
    "\n",
    "plt.show()"
   ]
  },
  {
   "cell_type": "code",
   "execution_count": 14,
   "id": "integrated-county",
   "metadata": {},
   "outputs": [
    {
     "data": {
      "image/png": "[encoded data removed]",
      "text/plain": [
       "<Figure size 576x360 with 2 Axes>"
      ]
     },
     "metadata": {
      "needs_background": "light"
     },
     "output_type": "display_data"
    }
   ],
   "source": [
    "# plot volumes against each other \n",
    "#figure(figsize=(8, 6), dpi=80)\n",
    "fig, ax = plt.subplots(figsize=(8,5))\n",
    "\n",
    "X = np.arange(4)\n",
    "ax = fig.add_axes([0,0,1,1])\n",
    "\n",
    "ax.bar(X, volume_df['tf200ms_volumes'], color='r', width = 0.10)\n",
    "ax.bar(X + 0.10, volume_df['200ms_volumes'], color='g', width = 0.10)\n",
    "ax.bar(X +0.20, volume_df['tf200ms_volumesV7'], color= 'purple', width = 0.10)\n",
    "\n",
    "plt.xlabel('FOV')\n",
    "plt.ylabel('volume (voxels)')\n",
    "plt.title('Intensity Transfer Seg Validation')\n",
    "ax.legend(['tf200ms','200ms', 'TF 200ms (update)'])\n",
    "\n",
    "ax.xaxis.set_ticklabels = (['FOV1', 'FOV2', 'FOV3', 'FOV4'])\n",
    "ax.xaxis.set_ticks([1,2,3,4])\n",
    "\n",
    "plt.show()"
   ]
  },
  {
   "cell_type": "code",
   "execution_count": 98,
   "id": "tired-membrane",
   "metadata": {
    "scrolled": true
   },
   "outputs": [
    {
     "data": {
      "text/plain": [
       "'//allen/aics/assay-dev/users/Benji/Sandwich_Block7_TF/golgi_ch=1_50ms/valid/5500000635_EE_1-01_AcquisitionBlock7_pt7_Scene-4_aligned.ome.tiff'"
      ]
     },
     "execution_count": 98,
     "metadata": {},
     "output_type": "execute_result"
    }
   ],
   "source": [
    "B = \"//allen/aics/assay-dev/users/Benji/Sandwich_Block7_TF/golgi_ch=1_50ms/valid/5500000635_EE_1-01_AcquisitionBlock7_pt7_Scene-4_aligned.ome.tiff\"\n",
    "B"
   ]
  },
  {
   "cell_type": "markdown",
   "id": "reflected-cooper",
   "metadata": {},
   "source": [
    "<h2> 2D Spot Filter Validation <h2>"
   ]
  },
  {
   "cell_type": "code",
   "execution_count": 19,
   "id": "affected-genre",
   "metadata": {},
   "outputs": [],
   "source": [
    "spotfilter_50_imgs = [\"//allen/aics/assay-dev/users/Sandi/aics-segmentation/lookup_table_demo/golgi-50ms-ex1-spotfilter-25.tiff\"]\n",
    "\n",
    "spotfilter_200_imgs = [\"//allen/aics/assay-dev/users/Sandi/aics-segmentation/lookup_table_demo/golgi-200ms-ex1-spotfilter-25.tiff\"]\n",
    "\n",
    "spotfilter_tf200_imgs = [\"//allen/aics/assay-dev/users/Sandi/aics-segmentation/lookup_table_demo/golgi-tf200ms-ex1-spotfilter-25.tiff\"]"
   ]
  },
  {
   "cell_type": "code",
   "execution_count": 20,
   "id": "intermediate-blocking",
   "metadata": {},
   "outputs": [
    {
     "name": "stderr",
     "output_type": "stream",
     "text": [
      "Failed to parse XML for the provided file. Error: not well-formed (invalid token): line 1, column 0\n",
      "Failed to parse XML for the provided file. Error: not well-formed (invalid token): line 1, column 0\n",
      "Failed to parse XML for the provided file. Error: not well-formed (invalid token): line 1, column 0\n"
     ]
    }
   ],
   "source": [
    "spotfilter_50ms = []\n",
    "for filename in spotfilter_50_imgs:\n",
    "    # read file\n",
    "    reader = AICSImage(filename, dir_order=\"ZYX\") \n",
    "    IMG_spotfilter = reader.data.astype(np.float32)\n",
    "    # calculate volume\n",
    "    vol_spotfilter = np.sum(IMG_spotfilter)\n",
    "    spotfilter_50ms.append(vol_spotfilter)\n",
    "    \n",
    "spotfilter_200ms = []\n",
    "for filename in spotfilter_200_imgs:\n",
    "    # read file\n",
    "    reader = AICSImage(filename, dir_order=\"ZYX\") \n",
    "    IMG_spotfilter = reader.data.astype(np.float32)\n",
    "    # calculate volume\n",
    "    vol_spotfilter = np.sum(IMG_spotfilter)\n",
    "    spotfilter_200ms.append(vol_spotfilter)\n",
    "    \n",
    "spotfilter_tf200ms = []\n",
    "for filename in spotfilter_tf200_imgs:\n",
    "    # read file\n",
    "    reader = AICSImage(filename, dir_order=\"ZYX\") \n",
    "    IMG_spotfilter = reader.data.astype(np.float32)\n",
    "    # calculate volume\n",
    "    vol_spotfilter = np.sum(IMG_spotfilter)\n",
    "    spotfilter_tf200ms.append(vol_spotfilter)"
   ]
  },
  {
   "cell_type": "code",
   "execution_count": 21,
   "id": "ordered-front",
   "metadata": {},
   "outputs": [
    {
     "name": "stdout",
     "output_type": "stream",
     "text": [
      "[10136.0] [1030.0] [2271.0]\n"
     ]
    }
   ],
   "source": [
    "print(spotfilter_50ms, spotfilter_200ms, spotfilter_tf200ms)"
   ]
  },
  {
   "cell_type": "code",
   "execution_count": 22,
   "id": "caroline-turkish",
   "metadata": {},
   "outputs": [
    {
     "data": {
      "text/html": [
       "<div>\n",
       "<style scoped>\n",
       "    .dataframe tbody tr th:only-of-type {\n",
       "        vertical-align: middle;\n",
       "    }\n",
       "\n",
       "    .dataframe tbody tr th {\n",
       "        vertical-align: top;\n",
       "    }\n",
       "\n",
       "    .dataframe thead th {\n",
       "        text-align: right;\n",
       "    }\n",
       "</style>\n",
       "<table border=\"1\" class=\"dataframe\">\n",
       "  <thead>\n",
       "    <tr style=\"text-align: right;\">\n",
       "      <th></th>\n",
       "      <th>50ms_spotfilter</th>\n",
       "      <th>200ms_spotfilter</th>\n",
       "      <th>tf200ms_spotfilter</th>\n",
       "    </tr>\n",
       "  </thead>\n",
       "  <tbody>\n",
       "    <tr>\n",
       "      <th>0</th>\n",
       "      <td>10136.0</td>\n",
       "      <td>1030.0</td>\n",
       "      <td>2271.0</td>\n",
       "    </tr>\n",
       "  </tbody>\n",
       "</table>\n",
       "</div>"
      ],
      "text/plain": [
       "   50ms_spotfilter  200ms_spotfilter  tf200ms_spotfilter\n",
       "0          10136.0            1030.0              2271.0"
      ]
     },
     "execution_count": 22,
     "metadata": {},
     "output_type": "execute_result"
    }
   ],
   "source": [
    "# create a dataframe with all the info \n",
    "spotfilter_data = {'50ms_spotfilter': spotfilter_50ms,\n",
    "                  '200ms_spotfilter': spotfilter_200ms,\n",
    "                  'tf200ms_spotfilter': spotfilter_tf200ms}\n",
    "\n",
    "spotfilter_volumes = pd.DataFrame(spotfilter_data)\n",
    "spotfilter_volumes"
   ]
  },
  {
   "cell_type": "code",
   "execution_count": 29,
   "id": "cordless-transcript",
   "metadata": {},
   "outputs": [
    {
     "data": {
      "image/png": "[encoded data removed]",
      "text/plain": [
       "<Figure size 576x360 with 1 Axes>"
      ]
     },
     "metadata": {
      "needs_background": "light"
     },
     "output_type": "display_data"
    }
   ],
   "source": [
    "# plot volumes against each other \n",
    "\n",
    "fig, ax = plt.subplots(figsize=(8,5))\n",
    "\n",
    "X = np.arange(1)\n",
    "#ax = fig.add_axes([0,0,1,1])\n",
    "\n",
    "ax.bar(X, spotfilter_volumes['50ms_spotfilter'], color='b', width = 0.10)\n",
    "ax.bar(X+0.10, spotfilter_volumes['200ms_spotfilter'], color='g', width = 0.10)\n",
    "ax.bar(X+0.20 , spotfilter_volumes['tf200ms_spotfilter'], color= 'r', width = 0.10)\n",
    "\n",
    "plt.xlabel('FOV')\n",
    "plt.ylabel('volume (voxels)')\n",
    "plt.title('Intensity Transfer Seg Validation')\n",
    "ax.legend(['50ms','200ms', 'tf200ms'])\n",
    "\n",
    "#ax.xaxis.set_ticklabels = (['FOV1', 'FOV2', 'FOV3', 'FOV4'])\n",
    "#ax.xaxis.set_ticks([1,2,3,4])\n",
    "\n",
    "plt.show()"
   ]
  },
  {
   "cell_type": "markdown",
   "id": "expensive-needle",
   "metadata": {},
   "source": [
    "<h3> Spot Filter/Erosion Thinning GridSearch Results <h3> "
   ]
  },
  {
   "cell_type": "code",
   "execution_count": 4,
   "id": "individual-profile",
   "metadata": {},
   "outputs": [],
   "source": [
    "# parameter sweep results \n",
    "\n",
    "spotfilter_vals = [0.05, 0.05, 0.05, 0.05, 0.1, 0.1, 0.1, 0.1, 0.15, 0.15, 0.15, 0.15, 0.2, 0.2, 0.2, 0.2]\n",
    "erosion_vals = [0.5, 1.0, 1.5, 2.0, 0.5, 1.0, 1.5, 2.0, 0.5, 1.0, 1.5, 2.0, 0.5, 1.0, 1.5, 2.0]\n",
    "v5_50ms_results = [16988, 16353, 16353, 16353, 16455, 15618, 15618, 15618, 15024, 15024, 15024, 15024, 16078, 14805, 14805,\n",
    "               14805]\n",
    "v5_200ms_results = [3514, 3334, 3334, 3334, 2917, 2497, 2497, 2497, 2545, 1829, 1829, 1829, 2354, 1408, 1408, 1405]"
   ]
  },
  {
   "cell_type": "code",
   "execution_count": 5,
   "id": "regulation-spouse",
   "metadata": {},
   "outputs": [
    {
     "data": {
      "text/html": [
       "<div>\n",
       "<style scoped>\n",
       "    .dataframe tbody tr th:only-of-type {\n",
       "        vertical-align: middle;\n",
       "    }\n",
       "\n",
       "    .dataframe tbody tr th {\n",
       "        vertical-align: top;\n",
       "    }\n",
       "\n",
       "    .dataframe thead th {\n",
       "        text-align: right;\n",
       "    }\n",
       "</style>\n",
       "<table border=\"1\" class=\"dataframe\">\n",
       "  <thead>\n",
       "    <tr style=\"text-align: right;\">\n",
       "      <th></th>\n",
       "      <th>spot_filter</th>\n",
       "      <th>erosion_thin</th>\n",
       "      <th>50ms_ex1</th>\n",
       "      <th>200ms_ex1</th>\n",
       "    </tr>\n",
       "  </thead>\n",
       "  <tbody>\n",
       "    <tr>\n",
       "      <th>0</th>\n",
       "      <td>0.05</td>\n",
       "      <td>0.5</td>\n",
       "      <td>16988</td>\n",
       "      <td>3514</td>\n",
       "    </tr>\n",
       "    <tr>\n",
       "      <th>1</th>\n",
       "      <td>0.05</td>\n",
       "      <td>1.0</td>\n",
       "      <td>16353</td>\n",
       "      <td>3334</td>\n",
       "    </tr>\n",
       "    <tr>\n",
       "      <th>2</th>\n",
       "      <td>0.05</td>\n",
       "      <td>1.5</td>\n",
       "      <td>16353</td>\n",
       "      <td>3334</td>\n",
       "    </tr>\n",
       "    <tr>\n",
       "      <th>3</th>\n",
       "      <td>0.05</td>\n",
       "      <td>2.0</td>\n",
       "      <td>16353</td>\n",
       "      <td>3334</td>\n",
       "    </tr>\n",
       "    <tr>\n",
       "      <th>4</th>\n",
       "      <td>0.10</td>\n",
       "      <td>0.5</td>\n",
       "      <td>16455</td>\n",
       "      <td>2917</td>\n",
       "    </tr>\n",
       "  </tbody>\n",
       "</table>\n",
       "</div>"
      ],
      "text/plain": [
       "   spot_filter  erosion_thin  50ms_ex1  200ms_ex1\n",
       "0         0.05           0.5     16988       3514\n",
       "1         0.05           1.0     16353       3334\n",
       "2         0.05           1.5     16353       3334\n",
       "3         0.05           2.0     16353       3334\n",
       "4         0.10           0.5     16455       2917"
      ]
     },
     "execution_count": 5,
     "metadata": {},
     "output_type": "execute_result"
    }
   ],
   "source": [
    "results_dict = {'spot_filter': spotfilter_vals,\n",
    "               'erosion_thin': erosion_vals,\n",
    "               '50ms_ex1': v5_50ms_results,\n",
    "               '200ms_ex1': v5_200ms_results}\n",
    "\n",
    "results_df = pd.DataFrame(results_dict)\n",
    "results_df.head()"
   ]
  },
  {
   "cell_type": "code",
   "execution_count": 6,
   "id": "blocked-pixel",
   "metadata": {},
   "outputs": [],
   "source": [
    "error = abs(results_df['50ms_ex1'] - results_df['200ms_ex1'])\n",
    "results_df['error'] = error"
   ]
  },
  {
   "cell_type": "code",
   "execution_count": 7,
   "id": "sustained-temperature",
   "metadata": {},
   "outputs": [
    {
     "data": {
      "text/html": [
       "<div>\n",
       "<style scoped>\n",
       "    .dataframe tbody tr th:only-of-type {\n",
       "        vertical-align: middle;\n",
       "    }\n",
       "\n",
       "    .dataframe tbody tr th {\n",
       "        vertical-align: top;\n",
       "    }\n",
       "\n",
       "    .dataframe thead th {\n",
       "        text-align: right;\n",
       "    }\n",
       "</style>\n",
       "<table border=\"1\" class=\"dataframe\">\n",
       "  <thead>\n",
       "    <tr style=\"text-align: right;\">\n",
       "      <th></th>\n",
       "      <th>spot_filter</th>\n",
       "      <th>erosion_thin</th>\n",
       "      <th>50ms_ex1</th>\n",
       "      <th>200ms_ex1</th>\n",
       "      <th>error</th>\n",
       "    </tr>\n",
       "  </thead>\n",
       "  <tbody>\n",
       "    <tr>\n",
       "      <th>0</th>\n",
       "      <td>0.05</td>\n",
       "      <td>0.5</td>\n",
       "      <td>16988</td>\n",
       "      <td>3514</td>\n",
       "      <td>13474</td>\n",
       "    </tr>\n",
       "    <tr>\n",
       "      <th>1</th>\n",
       "      <td>0.05</td>\n",
       "      <td>1.0</td>\n",
       "      <td>16353</td>\n",
       "      <td>3334</td>\n",
       "      <td>13019</td>\n",
       "    </tr>\n",
       "    <tr>\n",
       "      <th>2</th>\n",
       "      <td>0.05</td>\n",
       "      <td>1.5</td>\n",
       "      <td>16353</td>\n",
       "      <td>3334</td>\n",
       "      <td>13019</td>\n",
       "    </tr>\n",
       "    <tr>\n",
       "      <th>3</th>\n",
       "      <td>0.05</td>\n",
       "      <td>2.0</td>\n",
       "      <td>16353</td>\n",
       "      <td>3334</td>\n",
       "      <td>13019</td>\n",
       "    </tr>\n",
       "    <tr>\n",
       "      <th>4</th>\n",
       "      <td>0.10</td>\n",
       "      <td>0.5</td>\n",
       "      <td>16455</td>\n",
       "      <td>2917</td>\n",
       "      <td>13538</td>\n",
       "    </tr>\n",
       "  </tbody>\n",
       "</table>\n",
       "</div>"
      ],
      "text/plain": [
       "   spot_filter  erosion_thin  50ms_ex1  200ms_ex1  error\n",
       "0         0.05           0.5     16988       3514  13474\n",
       "1         0.05           1.0     16353       3334  13019\n",
       "2         0.05           1.5     16353       3334  13019\n",
       "3         0.05           2.0     16353       3334  13019\n",
       "4         0.10           0.5     16455       2917  13538"
      ]
     },
     "execution_count": 7,
     "metadata": {},
     "output_type": "execute_result"
    }
   ],
   "source": [
    "results_df.head()"
   ]
  },
  {
   "cell_type": "code",
   "execution_count": 8,
   "id": "sublime-college",
   "metadata": {},
   "outputs": [
    {
     "data": {
      "text/html": [
       "<div>\n",
       "<style scoped>\n",
       "    .dataframe tbody tr th:only-of-type {\n",
       "        vertical-align: middle;\n",
       "    }\n",
       "\n",
       "    .dataframe tbody tr th {\n",
       "        vertical-align: top;\n",
       "    }\n",
       "\n",
       "    .dataframe thead th {\n",
       "        text-align: right;\n",
       "    }\n",
       "</style>\n",
       "<table border=\"1\" class=\"dataframe\">\n",
       "  <thead>\n",
       "    <tr style=\"text-align: right;\">\n",
       "      <th></th>\n",
       "      <th>spot_filter</th>\n",
       "      <th>erosion_thin</th>\n",
       "      <th>error</th>\n",
       "    </tr>\n",
       "  </thead>\n",
       "  <tbody>\n",
       "    <tr>\n",
       "      <th>0</th>\n",
       "      <td>0.05</td>\n",
       "      <td>0.5</td>\n",
       "      <td>13474</td>\n",
       "    </tr>\n",
       "    <tr>\n",
       "      <th>1</th>\n",
       "      <td>0.05</td>\n",
       "      <td>1.0</td>\n",
       "      <td>13019</td>\n",
       "    </tr>\n",
       "    <tr>\n",
       "      <th>2</th>\n",
       "      <td>0.05</td>\n",
       "      <td>1.5</td>\n",
       "      <td>13019</td>\n",
       "    </tr>\n",
       "    <tr>\n",
       "      <th>3</th>\n",
       "      <td>0.05</td>\n",
       "      <td>2.0</td>\n",
       "      <td>13019</td>\n",
       "    </tr>\n",
       "    <tr>\n",
       "      <th>4</th>\n",
       "      <td>0.10</td>\n",
       "      <td>0.5</td>\n",
       "      <td>13538</td>\n",
       "    </tr>\n",
       "    <tr>\n",
       "      <th>5</th>\n",
       "      <td>0.10</td>\n",
       "      <td>1.0</td>\n",
       "      <td>13121</td>\n",
       "    </tr>\n",
       "    <tr>\n",
       "      <th>6</th>\n",
       "      <td>0.10</td>\n",
       "      <td>1.5</td>\n",
       "      <td>13121</td>\n",
       "    </tr>\n",
       "    <tr>\n",
       "      <th>7</th>\n",
       "      <td>0.10</td>\n",
       "      <td>2.0</td>\n",
       "      <td>13121</td>\n",
       "    </tr>\n",
       "    <tr>\n",
       "      <th>8</th>\n",
       "      <td>0.15</td>\n",
       "      <td>0.5</td>\n",
       "      <td>12479</td>\n",
       "    </tr>\n",
       "    <tr>\n",
       "      <th>9</th>\n",
       "      <td>0.15</td>\n",
       "      <td>1.0</td>\n",
       "      <td>13195</td>\n",
       "    </tr>\n",
       "    <tr>\n",
       "      <th>10</th>\n",
       "      <td>0.15</td>\n",
       "      <td>1.5</td>\n",
       "      <td>13195</td>\n",
       "    </tr>\n",
       "    <tr>\n",
       "      <th>11</th>\n",
       "      <td>0.15</td>\n",
       "      <td>2.0</td>\n",
       "      <td>13195</td>\n",
       "    </tr>\n",
       "    <tr>\n",
       "      <th>12</th>\n",
       "      <td>0.20</td>\n",
       "      <td>0.5</td>\n",
       "      <td>13724</td>\n",
       "    </tr>\n",
       "    <tr>\n",
       "      <th>13</th>\n",
       "      <td>0.20</td>\n",
       "      <td>1.0</td>\n",
       "      <td>13397</td>\n",
       "    </tr>\n",
       "    <tr>\n",
       "      <th>14</th>\n",
       "      <td>0.20</td>\n",
       "      <td>1.5</td>\n",
       "      <td>13397</td>\n",
       "    </tr>\n",
       "    <tr>\n",
       "      <th>15</th>\n",
       "      <td>0.20</td>\n",
       "      <td>2.0</td>\n",
       "      <td>13400</td>\n",
       "    </tr>\n",
       "  </tbody>\n",
       "</table>\n",
       "</div>"
      ],
      "text/plain": [
       "    spot_filter  erosion_thin  error\n",
       "0          0.05           0.5  13474\n",
       "1          0.05           1.0  13019\n",
       "2          0.05           1.5  13019\n",
       "3          0.05           2.0  13019\n",
       "4          0.10           0.5  13538\n",
       "5          0.10           1.0  13121\n",
       "6          0.10           1.5  13121\n",
       "7          0.10           2.0  13121\n",
       "8          0.15           0.5  12479\n",
       "9          0.15           1.0  13195\n",
       "10         0.15           1.5  13195\n",
       "11         0.15           2.0  13195\n",
       "12         0.20           0.5  13724\n",
       "13         0.20           1.0  13397\n",
       "14         0.20           1.5  13397\n",
       "15         0.20           2.0  13400"
      ]
     },
     "execution_count": 8,
     "metadata": {},
     "output_type": "execute_result"
    }
   ],
   "source": [
    "error_results = results_df[['spot_filter', 'erosion_thin','error']]\n",
    "error_results"
   ]
  },
  {
   "cell_type": "code",
   "execution_count": 9,
   "id": "handmade-system",
   "metadata": {},
   "outputs": [
    {
     "data": {
      "image/png": "[encoded data removed]",
      "text/plain": [
       "<Figure size 720x576 with 2 Axes>"
      ]
     },
     "metadata": {
      "needs_background": "light"
     },
     "output_type": "display_data"
    }
   ],
   "source": [
    "# create a heatmap \n",
    "import seaborn as sns\n",
    "\n",
    "fig, ax = plt.subplots(figsize=(10,8))\n",
    "sns.heatmap(error_results, annot = True, fmt='g')\n",
    "plt.show()"
   ]
  },
  {
   "cell_type": "code",
   "execution_count": 10,
   "id": "raising-omega",
   "metadata": {},
   "outputs": [],
   "source": [
    "flights_long = sns.load_dataset(\"flights\")"
   ]
  },
  {
   "cell_type": "code",
   "execution_count": 11,
   "id": "bcebd5cc",
   "metadata": {},
   "outputs": [
    {
     "data": {
      "text/html": [
       "<div>\n",
       "<style scoped>\n",
       "    .dataframe tbody tr th:only-of-type {\n",
       "        vertical-align: middle;\n",
       "    }\n",
       "\n",
       "    .dataframe tbody tr th {\n",
       "        vertical-align: top;\n",
       "    }\n",
       "\n",
       "    .dataframe thead th {\n",
       "        text-align: right;\n",
       "    }\n",
       "</style>\n",
       "<table border=\"1\" class=\"dataframe\">\n",
       "  <thead>\n",
       "    <tr style=\"text-align: right;\">\n",
       "      <th></th>\n",
       "      <th>year</th>\n",
       "      <th>month</th>\n",
       "      <th>passengers</th>\n",
       "    </tr>\n",
       "  </thead>\n",
       "  <tbody>\n",
       "    <tr>\n",
       "      <th>0</th>\n",
       "      <td>1949</td>\n",
       "      <td>Jan</td>\n",
       "      <td>112</td>\n",
       "    </tr>\n",
       "    <tr>\n",
       "      <th>1</th>\n",
       "      <td>1949</td>\n",
       "      <td>Feb</td>\n",
       "      <td>118</td>\n",
       "    </tr>\n",
       "    <tr>\n",
       "      <th>2</th>\n",
       "      <td>1949</td>\n",
       "      <td>Mar</td>\n",
       "      <td>132</td>\n",
       "    </tr>\n",
       "    <tr>\n",
       "      <th>3</th>\n",
       "      <td>1949</td>\n",
       "      <td>Apr</td>\n",
       "      <td>129</td>\n",
       "    </tr>\n",
       "    <tr>\n",
       "      <th>4</th>\n",
       "      <td>1949</td>\n",
       "      <td>May</td>\n",
       "      <td>121</td>\n",
       "    </tr>\n",
       "    <tr>\n",
       "      <th>...</th>\n",
       "      <td>...</td>\n",
       "      <td>...</td>\n",
       "      <td>...</td>\n",
       "    </tr>\n",
       "    <tr>\n",
       "      <th>139</th>\n",
       "      <td>1960</td>\n",
       "      <td>Aug</td>\n",
       "      <td>606</td>\n",
       "    </tr>\n",
       "    <tr>\n",
       "      <th>140</th>\n",
       "      <td>1960</td>\n",
       "      <td>Sep</td>\n",
       "      <td>508</td>\n",
       "    </tr>\n",
       "    <tr>\n",
       "      <th>141</th>\n",
       "      <td>1960</td>\n",
       "      <td>Oct</td>\n",
       "      <td>461</td>\n",
       "    </tr>\n",
       "    <tr>\n",
       "      <th>142</th>\n",
       "      <td>1960</td>\n",
       "      <td>Nov</td>\n",
       "      <td>390</td>\n",
       "    </tr>\n",
       "    <tr>\n",
       "      <th>143</th>\n",
       "      <td>1960</td>\n",
       "      <td>Dec</td>\n",
       "      <td>432</td>\n",
       "    </tr>\n",
       "  </tbody>\n",
       "</table>\n",
       "<p>144 rows × 3 columns</p>\n",
       "</div>"
      ],
      "text/plain": [
       "     year month  passengers\n",
       "0    1949   Jan         112\n",
       "1    1949   Feb         118\n",
       "2    1949   Mar         132\n",
       "3    1949   Apr         129\n",
       "4    1949   May         121\n",
       "..    ...   ...         ...\n",
       "139  1960   Aug         606\n",
       "140  1960   Sep         508\n",
       "141  1960   Oct         461\n",
       "142  1960   Nov         390\n",
       "143  1960   Dec         432\n",
       "\n",
       "[144 rows x 3 columns]"
      ]
     },
     "execution_count": 11,
     "metadata": {},
     "output_type": "execute_result"
    }
   ],
   "source": [
    "flights_long"
   ]
  },
  {
   "cell_type": "code",
   "execution_count": 28,
   "id": "feba7818",
   "metadata": {},
   "outputs": [
    {
     "data": {
      "text/plain": [
       "<AxesSubplot:xlabel='erosion_thin', ylabel='spot_filter'>"
      ]
     },
     "execution_count": 28,
     "metadata": {},
     "output_type": "execute_result"
    },
    {
     "data": {
      "image/png": "[encoded data removed]",
      "text/plain": [
       "<Figure size 648x432 with 2 Axes>"
      ]
     },
     "metadata": {
      "needs_background": "light"
     },
     "output_type": "display_data"
    }
   ],
   "source": [
    "error_results2 = error_results.pivot(\"spot_filter\", \"erosion_thin\", \"error\")\n",
    "\n",
    "f, ax = plt.subplots(figsize=(9, 6))\n",
    "sns.heatmap(error_results2, annot=True, fmt=\"d\", linewidths=.5, ax=ax)"
   ]
  },
  {
   "cell_type": "markdown",
   "id": "ba49df67",
   "metadata": {},
   "source": [
    "<h3> Otsu Thresholding Grid Search Results <h3>"
   ]
  },
  {
   "cell_type": "code",
   "execution_count": 17,
   "id": "b104908f",
   "metadata": {
    "scrolled": true
   },
   "outputs": [
    {
     "data": {
      "text/html": [
       "<div>\n",
       "<style scoped>\n",
       "    .dataframe tbody tr th:only-of-type {\n",
       "        vertical-align: middle;\n",
       "    }\n",
       "\n",
       "    .dataframe tbody tr th {\n",
       "        vertical-align: top;\n",
       "    }\n",
       "\n",
       "    .dataframe thead th {\n",
       "        text-align: right;\n",
       "    }\n",
       "</style>\n",
       "<table border=\"1\" class=\"dataframe\">\n",
       "  <thead>\n",
       "    <tr style=\"text-align: right;\">\n",
       "      <th></th>\n",
       "      <th>otsu_thresh_vals</th>\n",
       "      <th>v5_50ms_results</th>\n",
       "      <th>v5_200ms_results</th>\n",
       "    </tr>\n",
       "  </thead>\n",
       "  <tbody>\n",
       "    <tr>\n",
       "      <th>0</th>\n",
       "      <td>2.8</td>\n",
       "      <td>6689</td>\n",
       "      <td>3917</td>\n",
       "    </tr>\n",
       "    <tr>\n",
       "      <th>1</th>\n",
       "      <td>3.8</td>\n",
       "      <td>6366</td>\n",
       "      <td>6237</td>\n",
       "    </tr>\n",
       "    <tr>\n",
       "      <th>2</th>\n",
       "      <td>4.8</td>\n",
       "      <td>6355</td>\n",
       "      <td>6338</td>\n",
       "    </tr>\n",
       "    <tr>\n",
       "      <th>3</th>\n",
       "      <td>5.8</td>\n",
       "      <td>2880</td>\n",
       "      <td>6354</td>\n",
       "    </tr>\n",
       "    <tr>\n",
       "      <th>4</th>\n",
       "      <td>6.8</td>\n",
       "      <td>2302</td>\n",
       "      <td>6355</td>\n",
       "    </tr>\n",
       "  </tbody>\n",
       "</table>\n",
       "</div>"
      ],
      "text/plain": [
       "   otsu_thresh_vals  v5_50ms_results  v5_200ms_results\n",
       "0               2.8             6689              3917\n",
       "1               3.8             6366              6237\n",
       "2               4.8             6355              6338\n",
       "3               5.8             2880              6354\n",
       "4               6.8             2302              6355"
      ]
     },
     "execution_count": 17,
     "metadata": {},
     "output_type": "execute_result"
    }
   ],
   "source": [
    "otsu_thresh_vals = [2.8, 3.8, 4.8, 5.8, 6.8]\n",
    "v5_50ms_results = [6689, 6366, 6355, 2880, 2302]\n",
    "v5_200ms_results = [3917, 6237, 6338, 6354, 6355]\n",
    "\n",
    "otsu_dict = {'otsu_thresh_vals':otsu_thresh_vals,\n",
    "             'v5_50ms_results':v5_50ms_results,\n",
    "             'v5_200ms_results':v5_200ms_results}\n",
    "\n",
    "otsu_errors = pd.DataFrame(otsu_dict)\n",
    "otsu_errors.head()         "
   ]
  },
  {
   "cell_type": "code",
   "execution_count": 21,
   "id": "39ca9ab4",
   "metadata": {},
   "outputs": [
    {
     "data": {
      "text/html": [
       "<div>\n",
       "<style scoped>\n",
       "    .dataframe tbody tr th:only-of-type {\n",
       "        vertical-align: middle;\n",
       "    }\n",
       "\n",
       "    .dataframe tbody tr th {\n",
       "        vertical-align: top;\n",
       "    }\n",
       "\n",
       "    .dataframe thead th {\n",
       "        text-align: right;\n",
       "    }\n",
       "</style>\n",
       "<table border=\"1\" class=\"dataframe\">\n",
       "  <thead>\n",
       "    <tr style=\"text-align: right;\">\n",
       "      <th></th>\n",
       "      <th>otsu_thresh_vals</th>\n",
       "      <th>v5_50ms_results</th>\n",
       "      <th>v5_200ms_results</th>\n",
       "      <th>error</th>\n",
       "      <th>otsu_thresh_vals2</th>\n",
       "    </tr>\n",
       "  </thead>\n",
       "  <tbody>\n",
       "    <tr>\n",
       "      <th>0</th>\n",
       "      <td>2.8</td>\n",
       "      <td>6689</td>\n",
       "      <td>3917</td>\n",
       "      <td>2772</td>\n",
       "      <td>2.8</td>\n",
       "    </tr>\n",
       "    <tr>\n",
       "      <th>1</th>\n",
       "      <td>3.8</td>\n",
       "      <td>6366</td>\n",
       "      <td>6237</td>\n",
       "      <td>129</td>\n",
       "      <td>3.8</td>\n",
       "    </tr>\n",
       "    <tr>\n",
       "      <th>2</th>\n",
       "      <td>4.8</td>\n",
       "      <td>6355</td>\n",
       "      <td>6338</td>\n",
       "      <td>17</td>\n",
       "      <td>4.8</td>\n",
       "    </tr>\n",
       "    <tr>\n",
       "      <th>3</th>\n",
       "      <td>5.8</td>\n",
       "      <td>2880</td>\n",
       "      <td>6354</td>\n",
       "      <td>3474</td>\n",
       "      <td>5.8</td>\n",
       "    </tr>\n",
       "    <tr>\n",
       "      <th>4</th>\n",
       "      <td>6.8</td>\n",
       "      <td>2302</td>\n",
       "      <td>6355</td>\n",
       "      <td>4053</td>\n",
       "      <td>6.8</td>\n",
       "    </tr>\n",
       "  </tbody>\n",
       "</table>\n",
       "</div>"
      ],
      "text/plain": [
       "   otsu_thresh_vals  v5_50ms_results  v5_200ms_results  error  \\\n",
       "0               2.8             6689              3917   2772   \n",
       "1               3.8             6366              6237    129   \n",
       "2               4.8             6355              6338     17   \n",
       "3               5.8             2880              6354   3474   \n",
       "4               6.8             2302              6355   4053   \n",
       "\n",
       "   otsu_thresh_vals2  \n",
       "0                2.8  \n",
       "1                3.8  \n",
       "2                4.8  \n",
       "3                5.8  \n",
       "4                6.8  "
      ]
     },
     "execution_count": 21,
     "metadata": {},
     "output_type": "execute_result"
    }
   ],
   "source": [
    "error2 = abs(otsu_errors['v5_50ms_results'] - otsu_errors['v5_200ms_results'])\n",
    "otsu_errors['error'] = error2\n",
    "otsu_errors['otsu_thresh_vals2'] = otsu_thresh_vals\n",
    "otsu_errors.head()"
   ]
  },
  {
   "cell_type": "code",
   "execution_count": 27,
   "id": "6a576e78",
   "metadata": {},
   "outputs": [
    {
     "data": {
      "text/plain": [
       "<AxesSubplot:xlabel='otsu_thresh_vals2', ylabel='otsu_thresh_vals'>"
      ]
     },
     "execution_count": 27,
     "metadata": {},
     "output_type": "execute_result"
    },
    {
     "data": {
      "image/png": "[encoded data removed]",
      "text/plain": [
       "<Figure size 648x432 with 2 Axes>"
      ]
     },
     "metadata": {
      "needs_background": "light"
     },
     "output_type": "display_data"
    }
   ],
   "source": [
    "otsu_errors2 = otsu_errors.pivot(\"otsu_thresh_vals\", \"otsu_thresh_vals2\", \"error\")\n",
    "\n",
    "f, ax = plt.subplots(figsize=(9, 6))\n",
    "sns.heatmap(otsu_errors2, annot=True, fmt='g', linewidths=.5, ax=ax)"
   ]
  },
  {
   "cell_type": "markdown",
   "id": "8af3697b",
   "metadata": {},
   "source": [
    "<h2> V6 Validation Results <h2> "
   ]
  },
  {
   "cell_type": "code",
   "execution_count": 31,
   "id": "97e8451d",
   "metadata": {},
   "outputs": [
    {
     "name": "stderr",
     "output_type": "stream",
     "text": [
      "Failed to parse XML for the provided file. Error: not well-formed (invalid token): line 1, column 0\n",
      "Failed to parse XML for the provided file. Error: not well-formed (invalid token): line 1, column 0\n",
      "Failed to parse XML for the provided file. Error: not well-formed (invalid token): line 1, column 0\n",
      "Failed to parse XML for the provided file. Error: not well-formed (invalid token): line 1, column 0\n"
     ]
    },
    {
     "data": {
      "text/plain": [
       "[3532.0, 2912.0, 5907.0, 3616.0]"
      ]
     },
     "execution_count": 31,
     "metadata": {},
     "output_type": "execute_result"
    }
   ],
   "source": [
    "filepaths_50ms_v6 = [\"C:/Users/sandra.oluoch/Desktop/slurm-down/golgi-50ms-ex1v6.tiff\",\n",
    "                    \"C:/Users/sandra.oluoch/Desktop/slurm-down/golgi-50ms-ex2v6.tiff\",\n",
    "                    \"C:/Users/sandra.oluoch/Desktop/slurm-down/golgi-50ms-ex3v6.tiff\",\n",
    "                    \"C:/Users/sandra.oluoch/Desktop/slurm-down/golgi-50ms-ex5v6.tiff\"]\n",
    "volumes_50ms_v6 = []\n",
    "\n",
    "for filename in filepaths_50ms_v6:\n",
    "    # read file\n",
    "    reader = AICSImage(filename) \n",
    "    IMG50 = reader.data.astype(np.float32)\n",
    "    # calculate volume\n",
    "    volume50 = np.sum(IMG50)\n",
    "    volumes_50ms_v6.append(volume50)\n",
    "    \n",
    "volumes_50ms_v6 "
   ]
  },
  {
   "cell_type": "code",
   "execution_count": 32,
   "id": "01795e11",
   "metadata": {},
   "outputs": [
    {
     "name": "stderr",
     "output_type": "stream",
     "text": [
      "Failed to parse XML for the provided file. Error: not well-formed (invalid token): line 1, column 0\n",
      "Failed to parse XML for the provided file. Error: not well-formed (invalid token): line 1, column 0\n",
      "Failed to parse XML for the provided file. Error: not well-formed (invalid token): line 1, column 0\n",
      "Failed to parse XML for the provided file. Error: not well-formed (invalid token): line 1, column 0\n"
     ]
    },
    {
     "data": {
      "text/plain": [
       "[3580.0, 7009.0, 10780.0, 7640.0]"
      ]
     },
     "execution_count": 32,
     "metadata": {},
     "output_type": "execute_result"
    }
   ],
   "source": [
    "filepaths_200ms_v6 = [\"C:/Users/sandra.oluoch/Desktop/slurm-down/golgi-200ms-ex1v6.tiff\",\n",
    "                     \"C:/Users/sandra.oluoch/Desktop/slurm-down/golgi-200ms-ex2v6.tiff\",\n",
    "                      \"C:/Users/sandra.oluoch/Desktop/slurm-down/golgi-200ms-ex3v6.tiff\",\n",
    "                     \"C:/Users/sandra.oluoch/Desktop/slurm-down/golgi-200ms-ex5v6.tiff\"]\n",
    "\n",
    "volumes_200ms_v6 = []\n",
    "\n",
    "for filename in filepaths_200ms_v6:\n",
    "    # read file\n",
    "    reader = AICSImage(filename) \n",
    "    IMG200 = reader.data.astype(np.float32)\n",
    "    # calculate volume\n",
    "    volume200 = np.sum(IMG200)\n",
    "    volumes_200ms_v6.append(volume200)\n",
    "    \n",
    "volumes_200ms_v6"
   ]
  },
  {
   "cell_type": "code",
   "execution_count": 33,
   "id": "918f87f4",
   "metadata": {},
   "outputs": [
    {
     "name": "stderr",
     "output_type": "stream",
     "text": [
      "Failed to parse XML for the provided file. Error: not well-formed (invalid token): line 1, column 0\n",
      "Failed to parse XML for the provided file. Error: not well-formed (invalid token): line 1, column 0\n",
      "Failed to parse XML for the provided file. Error: not well-formed (invalid token): line 1, column 0\n",
      "Failed to parse XML for the provided file. Error: not well-formed (invalid token): line 1, column 0\n"
     ]
    },
    {
     "data": {
      "text/plain": [
       "[9992.0, 18258.0, 31826.0, 21015.0]"
      ]
     },
     "execution_count": 33,
     "metadata": {},
     "output_type": "execute_result"
    }
   ],
   "source": [
    "filepaths_tf200ms_v6 = [\"C:/Users/sandra.oluoch/Desktop/slurm-down/golgi-tf200ms-ex1v6.tiff\",\n",
    "                       \"C:/Users/sandra.oluoch/Desktop/slurm-down/golgi-tf200ms-ex2v6.tiff\",\n",
    "                       \"C:/Users/sandra.oluoch/Desktop/slurm-down/golgi-tf200ms-ex3v6.tiff\",\n",
    "                       \"C:/Users/sandra.oluoch/Desktop/slurm-down/golgi-tf200ms-ex5v6.tiff\"]\n",
    "\n",
    "volumes_tf200ms_v6 = []\n",
    "\n",
    "for filename in filepaths_tf200ms_v6:\n",
    "    # read file\n",
    "    reader = AICSImage(filename, dir_order=\"ZYX\") \n",
    "    IMGtf200 = reader.data.astype(np.float32)\n",
    "    # calculate volume\n",
    "    volumetf200 = np.sum(IMGtf200)\n",
    "    volumes_tf200ms_v6.append(volumetf200)\n",
    "    \n",
    "volumes_tf200ms_v6"
   ]
  },
  {
   "cell_type": "code",
   "execution_count": 34,
   "id": "a9cf9a6d",
   "metadata": {},
   "outputs": [
    {
     "data": {
      "text/html": [
       "<div>\n",
       "<style scoped>\n",
       "    .dataframe tbody tr th:only-of-type {\n",
       "        vertical-align: middle;\n",
       "    }\n",
       "\n",
       "    .dataframe tbody tr th {\n",
       "        vertical-align: top;\n",
       "    }\n",
       "\n",
       "    .dataframe thead th {\n",
       "        text-align: right;\n",
       "    }\n",
       "</style>\n",
       "<table border=\"1\" class=\"dataframe\">\n",
       "  <thead>\n",
       "    <tr style=\"text-align: right;\">\n",
       "      <th></th>\n",
       "      <th>50ms_volumesV6</th>\n",
       "      <th>200ms_volumesV6</th>\n",
       "      <th>tf200ms_volumesV6</th>\n",
       "    </tr>\n",
       "  </thead>\n",
       "  <tbody>\n",
       "    <tr>\n",
       "      <th>0</th>\n",
       "      <td>3532.0</td>\n",
       "      <td>3580.0</td>\n",
       "      <td>9992.0</td>\n",
       "    </tr>\n",
       "    <tr>\n",
       "      <th>1</th>\n",
       "      <td>2912.0</td>\n",
       "      <td>7009.0</td>\n",
       "      <td>18258.0</td>\n",
       "    </tr>\n",
       "    <tr>\n",
       "      <th>2</th>\n",
       "      <td>5907.0</td>\n",
       "      <td>10780.0</td>\n",
       "      <td>31826.0</td>\n",
       "    </tr>\n",
       "    <tr>\n",
       "      <th>3</th>\n",
       "      <td>3616.0</td>\n",
       "      <td>7640.0</td>\n",
       "      <td>21015.0</td>\n",
       "    </tr>\n",
       "  </tbody>\n",
       "</table>\n",
       "</div>"
      ],
      "text/plain": [
       "   50ms_volumesV6  200ms_volumesV6  tf200ms_volumesV6\n",
       "0          3532.0           3580.0             9992.0\n",
       "1          2912.0           7009.0            18258.0\n",
       "2          5907.0          10780.0            31826.0\n",
       "3          3616.0           7640.0            21015.0"
      ]
     },
     "execution_count": 34,
     "metadata": {},
     "output_type": "execute_result"
    }
   ],
   "source": [
    "# create a dataframe with all the info \n",
    "data = {'50ms_volumesV6': volumes_50ms_v6,\n",
    "        '200ms_volumesV6': volumes_200ms_v6,\n",
    "        'tf200ms_volumesV6': volumes_tf200ms_v6}\n",
    "\n",
    "volumeV6_df = pd.DataFrame(data)\n",
    "volumeV6_df"
   ]
  },
  {
   "cell_type": "code",
   "execution_count": 37,
   "id": "7fa71269",
   "metadata": {},
   "outputs": [
    {
     "data": {
      "image/png": "[encoded data removed]",
      "text/plain": [
       "<Figure size 576x360 with 2 Axes>"
      ]
     },
     "metadata": {
      "needs_background": "light"
     },
     "output_type": "display_data"
    }
   ],
   "source": [
    "# plot volumes against each other \n",
    "fig, ax = plt.subplots(figsize=(8,5))\n",
    "\n",
    "X = np.arange(4)\n",
    "ax = fig.add_axes([0,0,1,1])\n",
    "\n",
    "ax.bar(X, volumeV6_df['50ms_volumesV6'], color='b', width = 0.10)\n",
    "ax.bar(X + 0.10, volumeV6_df['200ms_volumesV6'], color='g', width = 0.10)\n",
    "ax.bar(X +0.20, volumeV6_df['tf200ms_volumesV6'], color= 'r', width = 0.10)\n",
    "\n",
    "plt.xlabel('FOV')\n",
    "plt.ylabel('volume (voxels)')\n",
    "plt.title('Intensity Transfer Seg Validation (v6)')\n",
    "ax.legend(['50ms','200ms', 'TF 200ms'])\n",
    "\n",
    "ax.xaxis.set_ticklabels = (['FOV1', 'FOV2', 'FOV3', 'FOV4'])\n",
    "ax.xaxis.set_ticks([1,2,3,4])\n",
    "\n",
    "plt.show()"
   ]
  },
  {
   "cell_type": "code",
   "execution_count": 5,
   "id": "a3562e93",
   "metadata": {},
   "outputs": [
    {
     "data": {
      "text/html": [
       "<div>\n",
       "<style scoped>\n",
       "    .dataframe tbody tr th:only-of-type {\n",
       "        vertical-align: middle;\n",
       "    }\n",
       "\n",
       "    .dataframe tbody tr th {\n",
       "        vertical-align: top;\n",
       "    }\n",
       "\n",
       "    .dataframe thead th {\n",
       "        text-align: right;\n",
       "    }\n",
       "</style>\n",
       "<table border=\"1\" class=\"dataframe\">\n",
       "  <thead>\n",
       "    <tr style=\"text-align: right;\">\n",
       "      <th></th>\n",
       "      <th>spot_filter_vals</th>\n",
       "      <th>erosion_thin_vals</th>\n",
       "      <th>ex1_50ms_volume</th>\n",
       "      <th>ex1_200ms_volume</th>\n",
       "      <th>error</th>\n",
       "    </tr>\n",
       "  </thead>\n",
       "  <tbody>\n",
       "    <tr>\n",
       "      <th>0</th>\n",
       "      <td>0.01</td>\n",
       "      <td>0.28</td>\n",
       "      <td>3326</td>\n",
       "      <td>2404</td>\n",
       "      <td>922</td>\n",
       "    </tr>\n",
       "    <tr>\n",
       "      <th>1</th>\n",
       "      <td>0.01</td>\n",
       "      <td>0.38</td>\n",
       "      <td>1823</td>\n",
       "      <td>1583</td>\n",
       "      <td>240</td>\n",
       "    </tr>\n",
       "    <tr>\n",
       "      <th>2</th>\n",
       "      <td>0.01</td>\n",
       "      <td>0.48</td>\n",
       "      <td>938</td>\n",
       "      <td>1118</td>\n",
       "      <td>180</td>\n",
       "    </tr>\n",
       "    <tr>\n",
       "      <th>3</th>\n",
       "      <td>0.01</td>\n",
       "      <td>0.58</td>\n",
       "      <td>519</td>\n",
       "      <td>792</td>\n",
       "      <td>273</td>\n",
       "    </tr>\n",
       "    <tr>\n",
       "      <th>4</th>\n",
       "      <td>0.02</td>\n",
       "      <td>0.28</td>\n",
       "      <td>1084</td>\n",
       "      <td>2403</td>\n",
       "      <td>1319</td>\n",
       "    </tr>\n",
       "  </tbody>\n",
       "</table>\n",
       "</div>"
      ],
      "text/plain": [
       "   spot_filter_vals  erosion_thin_vals  ex1_50ms_volume  ex1_200ms_volume  \\\n",
       "0              0.01               0.28             3326              2404   \n",
       "1              0.01               0.38             1823              1583   \n",
       "2              0.01               0.48              938              1118   \n",
       "3              0.01               0.58              519               792   \n",
       "4              0.02               0.28             1084              2403   \n",
       "\n",
       "   error  \n",
       "0    922  \n",
       "1    240  \n",
       "2    180  \n",
       "3    273  \n",
       "4   1319  "
      ]
     },
     "execution_count": 5,
     "metadata": {},
     "output_type": "execute_result"
    }
   ],
   "source": [
    "# RESULTS PART 1\n",
    "ex1_50v6_volume = [3326,1823,938,519,1084,754,565,409,1063,751,565,409,1063,751,565,409,1063,751,565,409]\n",
    "ex1_200v6_volume = [2404,1583,1118,792,2403,1583,1118,792,2403,1583,1118,792,2403,1583,1118,792,2403,1583,1118,792]\n",
    "spotfilter_vals = [0.01,0.01,0.01,0.01,0.02,0.02,0.02,0.02,0.03,0.03,0.03,0.03,0.04,0.04,0.04,0.04,0.05,0.05,0.05,0.05]\n",
    "erosion_vals = [0.28,0.38,0.48,0.58,0.28,0.38,0.48,0.58,0.28,0.38,0.48,0.58,0.28,0.38,0.48,0.58,0.28,0.38,0.48,0.58]\n",
    "\n",
    "\n",
    "gridsearchv6_dict = {'spot_filter_vals':spotfilter_vals,\n",
    "                     'erosion_thin_vals':erosion_vals,\n",
    "                     'ex1_50ms_volume':ex1_50v6_volume,\n",
    "                     'ex1_200ms_volume':ex1_200v6_volume}\n",
    "\n",
    "# print(len(ex1_50v6_volume), len(ex1_200v6_volume), len(spotfilter_vals), len(erosion_vals))\n",
    "gridsearchv6_df = pd.DataFrame(gridsearchv6_dict)\n",
    "\n",
    "v6_errors = abs(gridsearchv6_df['ex1_50ms_volume'] - gridsearchv6_df['ex1_200ms_volume'])\n",
    "gridsearchv6_df['error'] = v6_errors\n",
    "gridsearchv6_df.head()"
   ]
  },
  {
   "cell_type": "code",
   "execution_count": 13,
   "id": "2f059c34",
   "metadata": {},
   "outputs": [
    {
     "data": {
      "text/html": [
       "<div>\n",
       "<style scoped>\n",
       "    .dataframe tbody tr th:only-of-type {\n",
       "        vertical-align: middle;\n",
       "    }\n",
       "\n",
       "    .dataframe tbody tr th {\n",
       "        vertical-align: top;\n",
       "    }\n",
       "\n",
       "    .dataframe thead th {\n",
       "        text-align: right;\n",
       "    }\n",
       "</style>\n",
       "<table border=\"1\" class=\"dataframe\">\n",
       "  <thead>\n",
       "    <tr style=\"text-align: right;\">\n",
       "      <th></th>\n",
       "      <th>spot_filter_vals</th>\n",
       "      <th>erosion_thin_vals</th>\n",
       "      <th>ex1_50ms_volume</th>\n",
       "      <th>ex1_200ms_volume</th>\n",
       "      <th>error</th>\n",
       "    </tr>\n",
       "  </thead>\n",
       "  <tbody>\n",
       "    <tr>\n",
       "      <th>0</th>\n",
       "      <td>0.005</td>\n",
       "      <td>0.08</td>\n",
       "      <td>6843</td>\n",
       "      <td>5608</td>\n",
       "      <td>1235</td>\n",
       "    </tr>\n",
       "    <tr>\n",
       "      <th>1</th>\n",
       "      <td>0.005</td>\n",
       "      <td>0.12</td>\n",
       "      <td>5107</td>\n",
       "      <td>3612</td>\n",
       "      <td>1495</td>\n",
       "    </tr>\n",
       "    <tr>\n",
       "      <th>2</th>\n",
       "      <td>0.005</td>\n",
       "      <td>0.16</td>\n",
       "      <td>4031</td>\n",
       "      <td>2406</td>\n",
       "      <td>1625</td>\n",
       "    </tr>\n",
       "    <tr>\n",
       "      <th>3</th>\n",
       "      <td>0.005</td>\n",
       "      <td>0.20</td>\n",
       "      <td>3356</td>\n",
       "      <td>1712</td>\n",
       "      <td>1644</td>\n",
       "    </tr>\n",
       "    <tr>\n",
       "      <th>4</th>\n",
       "      <td>0.005</td>\n",
       "      <td>0.24</td>\n",
       "      <td>2841</td>\n",
       "      <td>1322</td>\n",
       "      <td>1519</td>\n",
       "    </tr>\n",
       "    <tr>\n",
       "      <th>5</th>\n",
       "      <td>0.006</td>\n",
       "      <td>0.08</td>\n",
       "      <td>6843</td>\n",
       "      <td>4341</td>\n",
       "      <td>2502</td>\n",
       "    </tr>\n",
       "    <tr>\n",
       "      <th>6</th>\n",
       "      <td>0.006</td>\n",
       "      <td>0.12</td>\n",
       "      <td>5107</td>\n",
       "      <td>2929</td>\n",
       "      <td>2178</td>\n",
       "    </tr>\n",
       "    <tr>\n",
       "      <th>7</th>\n",
       "      <td>0.006</td>\n",
       "      <td>0.16</td>\n",
       "      <td>4031</td>\n",
       "      <td>2144</td>\n",
       "      <td>1887</td>\n",
       "    </tr>\n",
       "    <tr>\n",
       "      <th>8</th>\n",
       "      <td>0.006</td>\n",
       "      <td>0.20</td>\n",
       "      <td>3356</td>\n",
       "      <td>1630</td>\n",
       "      <td>1726</td>\n",
       "    </tr>\n",
       "    <tr>\n",
       "      <th>9</th>\n",
       "      <td>0.006</td>\n",
       "      <td>0.24</td>\n",
       "      <td>2841</td>\n",
       "      <td>1301</td>\n",
       "      <td>1540</td>\n",
       "    </tr>\n",
       "    <tr>\n",
       "      <th>10</th>\n",
       "      <td>0.007</td>\n",
       "      <td>0.08</td>\n",
       "      <td>6843</td>\n",
       "      <td>4339</td>\n",
       "      <td>2504</td>\n",
       "    </tr>\n",
       "    <tr>\n",
       "      <th>11</th>\n",
       "      <td>0.007</td>\n",
       "      <td>0.12</td>\n",
       "      <td>5107</td>\n",
       "      <td>2929</td>\n",
       "      <td>2178</td>\n",
       "    </tr>\n",
       "    <tr>\n",
       "      <th>12</th>\n",
       "      <td>0.007</td>\n",
       "      <td>0.16</td>\n",
       "      <td>4031</td>\n",
       "      <td>2144</td>\n",
       "      <td>1887</td>\n",
       "    </tr>\n",
       "    <tr>\n",
       "      <th>13</th>\n",
       "      <td>0.007</td>\n",
       "      <td>0.20</td>\n",
       "      <td>3356</td>\n",
       "      <td>1630</td>\n",
       "      <td>1726</td>\n",
       "    </tr>\n",
       "    <tr>\n",
       "      <th>14</th>\n",
       "      <td>0.007</td>\n",
       "      <td>0.24</td>\n",
       "      <td>2841</td>\n",
       "      <td>1301</td>\n",
       "      <td>1540</td>\n",
       "    </tr>\n",
       "    <tr>\n",
       "      <th>15</th>\n",
       "      <td>0.008</td>\n",
       "      <td>0.08</td>\n",
       "      <td>6843</td>\n",
       "      <td>4339</td>\n",
       "      <td>2504</td>\n",
       "    </tr>\n",
       "    <tr>\n",
       "      <th>16</th>\n",
       "      <td>0.008</td>\n",
       "      <td>0.12</td>\n",
       "      <td>5107</td>\n",
       "      <td>2929</td>\n",
       "      <td>2178</td>\n",
       "    </tr>\n",
       "    <tr>\n",
       "      <th>17</th>\n",
       "      <td>0.008</td>\n",
       "      <td>0.16</td>\n",
       "      <td>4031</td>\n",
       "      <td>2144</td>\n",
       "      <td>1887</td>\n",
       "    </tr>\n",
       "    <tr>\n",
       "      <th>18</th>\n",
       "      <td>0.008</td>\n",
       "      <td>0.20</td>\n",
       "      <td>3356</td>\n",
       "      <td>1630</td>\n",
       "      <td>1726</td>\n",
       "    </tr>\n",
       "    <tr>\n",
       "      <th>19</th>\n",
       "      <td>0.008</td>\n",
       "      <td>0.24</td>\n",
       "      <td>2841</td>\n",
       "      <td>1301</td>\n",
       "      <td>1540</td>\n",
       "    </tr>\n",
       "    <tr>\n",
       "      <th>20</th>\n",
       "      <td>0.009</td>\n",
       "      <td>0.08</td>\n",
       "      <td>6843</td>\n",
       "      <td>4339</td>\n",
       "      <td>2504</td>\n",
       "    </tr>\n",
       "    <tr>\n",
       "      <th>21</th>\n",
       "      <td>0.009</td>\n",
       "      <td>0.12</td>\n",
       "      <td>5107</td>\n",
       "      <td>2929</td>\n",
       "      <td>2178</td>\n",
       "    </tr>\n",
       "    <tr>\n",
       "      <th>22</th>\n",
       "      <td>0.009</td>\n",
       "      <td>0.16</td>\n",
       "      <td>4031</td>\n",
       "      <td>2144</td>\n",
       "      <td>1887</td>\n",
       "    </tr>\n",
       "    <tr>\n",
       "      <th>23</th>\n",
       "      <td>0.009</td>\n",
       "      <td>0.20</td>\n",
       "      <td>3356</td>\n",
       "      <td>1630</td>\n",
       "      <td>1726</td>\n",
       "    </tr>\n",
       "    <tr>\n",
       "      <th>24</th>\n",
       "      <td>0.009</td>\n",
       "      <td>0.24</td>\n",
       "      <td>2841</td>\n",
       "      <td>1301</td>\n",
       "      <td>1540</td>\n",
       "    </tr>\n",
       "  </tbody>\n",
       "</table>\n",
       "</div>"
      ],
      "text/plain": [
       "    spot_filter_vals  erosion_thin_vals  ex1_50ms_volume  ex1_200ms_volume  \\\n",
       "0              0.005               0.08             6843              5608   \n",
       "1              0.005               0.12             5107              3612   \n",
       "2              0.005               0.16             4031              2406   \n",
       "3              0.005               0.20             3356              1712   \n",
       "4              0.005               0.24             2841              1322   \n",
       "5              0.006               0.08             6843              4341   \n",
       "6              0.006               0.12             5107              2929   \n",
       "7              0.006               0.16             4031              2144   \n",
       "8              0.006               0.20             3356              1630   \n",
       "9              0.006               0.24             2841              1301   \n",
       "10             0.007               0.08             6843              4339   \n",
       "11             0.007               0.12             5107              2929   \n",
       "12             0.007               0.16             4031              2144   \n",
       "13             0.007               0.20             3356              1630   \n",
       "14             0.007               0.24             2841              1301   \n",
       "15             0.008               0.08             6843              4339   \n",
       "16             0.008               0.12             5107              2929   \n",
       "17             0.008               0.16             4031              2144   \n",
       "18             0.008               0.20             3356              1630   \n",
       "19             0.008               0.24             2841              1301   \n",
       "20             0.009               0.08             6843              4339   \n",
       "21             0.009               0.12             5107              2929   \n",
       "22             0.009               0.16             4031              2144   \n",
       "23             0.009               0.20             3356              1630   \n",
       "24             0.009               0.24             2841              1301   \n",
       "\n",
       "    error  \n",
       "0    1235  \n",
       "1    1495  \n",
       "2    1625  \n",
       "3    1644  \n",
       "4    1519  \n",
       "5    2502  \n",
       "6    2178  \n",
       "7    1887  \n",
       "8    1726  \n",
       "9    1540  \n",
       "10   2504  \n",
       "11   2178  \n",
       "12   1887  \n",
       "13   1726  \n",
       "14   1540  \n",
       "15   2504  \n",
       "16   2178  \n",
       "17   1887  \n",
       "18   1726  \n",
       "19   1540  \n",
       "20   2504  \n",
       "21   2178  \n",
       "22   1887  \n",
       "23   1726  \n",
       "24   1540  "
      ]
     },
     "execution_count": 13,
     "metadata": {},
     "output_type": "execute_result"
    }
   ],
   "source": [
    "# RESULTS PART 2\n",
    "\n",
    "ex1_50v6_volume2 = [6843,5107,4031,3356,2841,6843,5107,4031,3356,2841,6843,5107,4031,3356,2841,6843,5107,4031,3356,2841,6843,\n",
    "                  5107,4031,3356,2841]\n",
    "ex1_200v6_volume2 = [5608,3612,2406,1712,1322,4341,2929,2144,1630,1301,4339,2929,2144,1630,1301,4339,2929,2144,1630,1301,4339,\n",
    "                    2929,2144,1630,1301]\n",
    "spotfilter_vals2 = [0.005,0.005,0.005,0.005,0.005,0.006,0.006,0.006,0.006,0.006,0.007,0.007,0.007,0.007,0.007,0.008,0.008,0.008,\n",
    "                   0.008,0.008,0.009,0.009,0.009,0.009,0.009]\n",
    "erosion_vals2 = [0.08,0.12,0.16,0.20,0.24,0.08,0.12,0.16,0.20,0.24,0.08,0.12,0.16,0.20,0.24,0.08,0.12,0.16,0.20,0.24,\n",
    "                 0.08,0.12,0.16,0.20,0.24,]\n",
    "\n",
    "\n",
    "gridsearchv6_dict2 = {'spot_filter_vals':spotfilter_vals2,\n",
    "                     'erosion_thin_vals':erosion_vals2,\n",
    "                     'ex1_50ms_volume':ex1_50v6_volume2,\n",
    "                     'ex1_200ms_volume':ex1_200v6_volume2}\n",
    "\n",
    "# print(len(ex1_50v6_volume), len(ex1_200v6_volume), len(spotfilter_vals), len(erosion_vals))\n",
    "gridsearchv6_df2 = pd.DataFrame(gridsearchv6_dict2)\n",
    "\n",
    "v6_errors2 = abs(gridsearchv6_df2['ex1_50ms_volume'] - gridsearchv6_df2['ex1_200ms_volume'])\n",
    "gridsearchv6_df2['error'] = v6_errors2\n",
    "gridsearchv6_df2"
   ]
  },
  {
   "cell_type": "code",
   "execution_count": 7,
   "id": "17769665",
   "metadata": {},
   "outputs": [
    {
     "data": {
      "text/plain": [
       "<AxesSubplot:xlabel='erosion_thin_vals', ylabel='spot_filter_vals'>"
      ]
     },
     "execution_count": 7,
     "metadata": {},
     "output_type": "execute_result"
    },
    {
     "data": {
      "image/png": "[encoded data removed]",
      "text/plain": [
       "<Figure size 648x432 with 2 Axes>"
      ]
     },
     "metadata": {
      "needs_background": "light"
     },
     "output_type": "display_data"
    }
   ],
   "source": [
    "gridsearchv6_df2 = gridsearchv6_df2.pivot(\"spot_filter_vals\", \"erosion_thin_vals\", \"error\")\n",
    "\n",
    "f, ax = plt.subplots(figsize=(9, 6))\n",
    "sns.heatmap(gridsearchv6_df2, annot=True, fmt=\"d\", linewidths=.5, ax=ax)"
   ]
  },
  {
   "cell_type": "markdown",
   "id": "bd67a669",
   "metadata": {},
   "source": [
    "<h3> 50ms V7 Volumes <h3>"
   ]
  },
  {
   "cell_type": "code",
   "execution_count": 33,
   "id": "400938d8",
   "metadata": {},
   "outputs": [
    {
     "name": "stderr",
     "output_type": "stream",
     "text": [
      "Failed to parse XML for the provided file. Error: not well-formed (invalid token): line 1, column 0\n",
      "Failed to parse XML for the provided file. Error: not well-formed (invalid token): line 1, column 0\n",
      "Failed to parse XML for the provided file. Error: not well-formed (invalid token): line 1, column 0\n",
      "Failed to parse XML for the provided file. Error: not well-formed (invalid token): line 1, column 0\n",
      "Failed to parse XML for the provided file. Error: not well-formed (invalid token): line 1, column 0\n",
      "Failed to parse XML for the provided file. Error: not well-formed (invalid token): line 1, column 0\n",
      "Failed to parse XML for the provided file. Error: not well-formed (invalid token): line 1, column 0\n",
      "Failed to parse XML for the provided file. Error: not well-formed (invalid token): line 1, column 0\n",
      "Failed to parse XML for the provided file. Error: not well-formed (invalid token): line 1, column 0\n",
      "Failed to parse XML for the provided file. Error: not well-formed (invalid token): line 1, column 0\n",
      "Failed to parse XML for the provided file. Error: not well-formed (invalid token): line 1, column 0\n",
      "Failed to parse XML for the provided file. Error: not well-formed (invalid token): line 1, column 0\n"
     ]
    },
    {
     "data": {
      "text/plain": [
       "[3917.0,\n",
       " 4911.0,\n",
       " 6460.0,\n",
       " 7834.0,\n",
       " 7807.0,\n",
       " 5025.0,\n",
       " 12551.0,\n",
       " 15060.0,\n",
       " 10888.0,\n",
       " 9019.0,\n",
       " 6990.0,\n",
       " 7067.0]"
      ]
     },
     "execution_count": 33,
     "metadata": {},
     "output_type": "execute_result"
    }
   ],
   "source": [
    "volume_check_paths = [\"//allen/aics/assay-dev/users/Sandi/aics-segmentation/lookup_table_demo/golgi-200ms-ex1v5.tiff\",\n",
    "                     \"//allen/aics/assay-dev/users/Sandi/aics-segmentation/lookup_table_demo/golgi-tf200ms-ex1v5.tiff\",\n",
    "                     \"C:/Users/sandra.oluoch/Desktop/slurm-down/golgi-50ms-ex1v7.tiff\",\n",
    "                     \"//allen/aics/assay-dev/users/Sandi/aics-segmentation/lookup_table_demo/golgi-200ms-ex2v5.tiff\",\n",
    "                     \"//allen/aics/assay-dev/users/Sandi/aics-segmentation/lookup_table_demo/golgi-tf200ms-ex2v5.tiff\",\n",
    "                     \"C:/Users/sandra.oluoch/Desktop/slurm-down/golgi-50ms-ex2v7.tiff\",\n",
    "                     \"//allen/aics/assay-dev/users/Sandi/aics-segmentation/lookup_table_demo/golgi-200ms-ex3v5.tiff\",\n",
    "                     \"//allen/aics/assay-dev/users/Sandi/aics-segmentation/lookup_table_demo/golgi-tf200ms-ex3v5.tiff\",\n",
    "                     \"C:/Users/sandra.oluoch/Desktop/slurm-down/golgi-50ms-ex3v7.tiff\",\n",
    "                      \"//allen/aics/assay-dev/users/Sandi/aics-segmentation/lookup_table_demo/golgi-200ms-ex5v5.tiff\",\n",
    "                     \"//allen/aics/assay-dev/users/Sandi/aics-segmentation/lookup_table_demo/golgi-tf200ms-ex5v5.tiff\",\n",
    "                     \"C:/Users/sandra.oluoch/Desktop/slurm-down/golgi-50ms-ex5v7.tiff\"]\n",
    "volumes_check = []\n",
    "\n",
    "for filename in volume_check_paths:\n",
    "    # read file\n",
    "    reader = AICSImage(filename) \n",
    "    IMG = reader.data.astype(np.float32)\n",
    "    # calculate volume\n",
    "    volumeIMG = np.sum(IMG)\n",
    "    volumes_check.append(volumeIMG)\n",
    "    \n",
    "volumes_check"
   ]
  },
  {
   "cell_type": "code",
   "execution_count": 35,
   "id": "32e479ad",
   "metadata": {},
   "outputs": [
    {
     "name": "stderr",
     "output_type": "stream",
     "text": [
      "Failed to parse XML for the provided file. Error: not well-formed (invalid token): line 1, column 0\n",
      "Failed to parse XML for the provided file. Error: not well-formed (invalid token): line 1, column 0\n",
      "Failed to parse XML for the provided file. Error: not well-formed (invalid token): line 1, column 0\n",
      "Failed to parse XML for the provided file. Error: not well-formed (invalid token): line 1, column 0\n"
     ]
    },
    {
     "data": {
      "text/plain": [
       "[6460.0, 5025.0, 10888.0, 7067.0]"
      ]
     },
     "execution_count": 35,
     "metadata": {},
     "output_type": "execute_result"
    }
   ],
   "source": [
    "filepaths_50ms_v7 = [\"C:/Users/sandra.oluoch/Desktop/slurm-down/golgi-50ms-ex1v7.tiff\",\n",
    "                      \"C:/Users/sandra.oluoch/Desktop/slurm-down/golgi-50ms-ex2v7.tiff\",\n",
    "                       \"C:/Users/sandra.oluoch/Desktop/slurm-down/golgi-50ms-ex3v7.tiff\",\n",
    "                      \"C:/Users/sandra.oluoch/Desktop/slurm-down/golgi-50ms-ex5v7.tiff\"]\n",
    "\n",
    "volumes_50ms_v7 = []\n",
    "\n",
    "for filename in filepaths_50ms_v7:\n",
    "    # read file\n",
    "    reader = AICSImage(filename) \n",
    "    IMG50 = reader.data.astype(np.float32)\n",
    "    # calculate volume\n",
    "    volume50 = np.sum(IMG50)\n",
    "    volumes_50ms_v7.append(volume50)\n",
    "    \n",
    "volumes_50ms_v7  "
   ]
  },
  {
   "cell_type": "code",
   "execution_count": 36,
   "id": "dd939354",
   "metadata": {},
   "outputs": [
    {
     "name": "stderr",
     "output_type": "stream",
     "text": [
      "Failed to parse XML for the provided file. Error: not well-formed (invalid token): line 1, column 0\n",
      "Failed to parse XML for the provided file. Error: not well-formed (invalid token): line 1, column 0\n",
      "Failed to parse XML for the provided file. Error: not well-formed (invalid token): line 1, column 0\n",
      "Failed to parse XML for the provided file. Error: not well-formed (invalid token): line 1, column 0\n"
     ]
    },
    {
     "data": {
      "text/plain": [
       "[3917.0, 7834.0, 12551.0, 9019.0]"
      ]
     },
     "execution_count": 36,
     "metadata": {},
     "output_type": "execute_result"
    }
   ],
   "source": [
    "filepaths_200ms_v5 = [\"//allen/aics/assay-dev/users/Sandi/aics-segmentation/lookup_table_demo/golgi-200ms-ex1v5.tiff\",\n",
    "                     \"//allen/aics/assay-dev/users/Sandi/aics-segmentation/lookup_table_demo/golgi-200ms-ex2v5.tiff\",\n",
    "                     \"//allen/aics/assay-dev/users/Sandi/aics-segmentation/lookup_table_demo/golgi-200ms-ex3v5.tiff\",\n",
    "                     \"//allen/aics/assay-dev/users/Sandi/aics-segmentation/lookup_table_demo/golgi-200ms-ex5v5.tiff\"]\n",
    "volumes_200ms_v5 = []\n",
    "\n",
    "for filename in filepaths_200ms_v5:\n",
    "    # read file\n",
    "    reader = AICSImage(filename) \n",
    "    IMG200 = reader.data.astype(np.float32)\n",
    "    # calculate volume\n",
    "    volume200 = np.sum(IMG200)\n",
    "    volumes_200ms_v5.append(volume200)\n",
    "    \n",
    "volumes_200ms_v5"
   ]
  },
  {
   "cell_type": "code",
   "execution_count": 38,
   "id": "6996541e",
   "metadata": {},
   "outputs": [
    {
     "name": "stderr",
     "output_type": "stream",
     "text": [
      "Failed to parse XML for the provided file. Error: not well-formed (invalid token): line 1, column 0\n",
      "Failed to parse XML for the provided file. Error: not well-formed (invalid token): line 1, column 0\n",
      "Failed to parse XML for the provided file. Error: not well-formed (invalid token): line 1, column 0\n",
      "Failed to parse XML for the provided file. Error: not well-formed (invalid token): line 1, column 0\n"
     ]
    },
    {
     "data": {
      "text/plain": [
       "[4911.0, 7807.0, 15060.0, 6990.0]"
      ]
     },
     "execution_count": 38,
     "metadata": {},
     "output_type": "execute_result"
    }
   ],
   "source": [
    "filepaths_tf200ms_v5 = [\"//allen/aics/assay-dev/users/Sandi/aics-segmentation/lookup_table_demo/golgi-tf200ms-ex1v5.tiff\",\n",
    "                       \"//allen/aics/assay-dev/users/Sandi/aics-segmentation/lookup_table_demo/golgi-tf200ms-ex2v5.tiff\",\n",
    "                       \"//allen/aics/assay-dev/users/Sandi/aics-segmentation/lookup_table_demo/golgi-tf200ms-ex3v5.tiff\",\n",
    "                       \"//allen/aics/assay-dev/users/Sandi/aics-segmentation/lookup_table_demo/golgi-tf200ms-ex5v5.tiff\"]\n",
    "\n",
    "volumes_tf200ms_v5 = []\n",
    "\n",
    "for filename in filepaths_tf200ms_v5:\n",
    "    # read file\n",
    "    reader = AICSImage(filename, dir_order=\"ZYX\") \n",
    "    IMGtf200_v5 = reader.data.astype(np.float32)\n",
    "    # calculate volume\n",
    "    volumetf200_v5 = np.sum(IMGtf200_v5)\n",
    "    volumes_tf200ms_v5.append(volumetf200_v5)\n",
    "    \n",
    "volumes_tf200ms_v5"
   ]
  },
  {
   "cell_type": "code",
   "execution_count": 41,
   "id": "abbbaad1",
   "metadata": {},
   "outputs": [
    {
     "data": {
      "text/html": [
       "<div>\n",
       "<style scoped>\n",
       "    .dataframe tbody tr th:only-of-type {\n",
       "        vertical-align: middle;\n",
       "    }\n",
       "\n",
       "    .dataframe tbody tr th {\n",
       "        vertical-align: top;\n",
       "    }\n",
       "\n",
       "    .dataframe thead th {\n",
       "        text-align: right;\n",
       "    }\n",
       "</style>\n",
       "<table border=\"1\" class=\"dataframe\">\n",
       "  <thead>\n",
       "    <tr style=\"text-align: right;\">\n",
       "      <th></th>\n",
       "      <th>50ms_volumes_v7</th>\n",
       "      <th>200ms_volumes_v5</th>\n",
       "      <th>tf200ms_volumes_v5</th>\n",
       "    </tr>\n",
       "  </thead>\n",
       "  <tbody>\n",
       "    <tr>\n",
       "      <th>0</th>\n",
       "      <td>6460.0</td>\n",
       "      <td>3917.0</td>\n",
       "      <td>4911.0</td>\n",
       "    </tr>\n",
       "    <tr>\n",
       "      <th>1</th>\n",
       "      <td>5025.0</td>\n",
       "      <td>7834.0</td>\n",
       "      <td>7807.0</td>\n",
       "    </tr>\n",
       "    <tr>\n",
       "      <th>2</th>\n",
       "      <td>10888.0</td>\n",
       "      <td>12551.0</td>\n",
       "      <td>15060.0</td>\n",
       "    </tr>\n",
       "    <tr>\n",
       "      <th>3</th>\n",
       "      <td>7067.0</td>\n",
       "      <td>9019.0</td>\n",
       "      <td>6990.0</td>\n",
       "    </tr>\n",
       "  </tbody>\n",
       "</table>\n",
       "</div>"
      ],
      "text/plain": [
       "   50ms_volumes_v7  200ms_volumes_v5  tf200ms_volumes_v5\n",
       "0           6460.0            3917.0              4911.0\n",
       "1           5025.0            7834.0              7807.0\n",
       "2          10888.0           12551.0             15060.0\n",
       "3           7067.0            9019.0              6990.0"
      ]
     },
     "execution_count": 41,
     "metadata": {},
     "output_type": "execute_result"
    }
   ],
   "source": [
    "# create a dataframe with all the info \n",
    "data_v7 = {'50ms_volumes_v7': volumes_50ms_v7,\n",
    "        '200ms_volumes_v5': volumes_200ms_v5,\n",
    "        'tf200ms_volumes_v5': volumes_tf200ms_v5}\n",
    "\n",
    "volumes_v7 = pd.DataFrame(data_v7)\n",
    "volumes_v7"
   ]
  },
  {
   "cell_type": "code",
   "execution_count": 43,
   "id": "53574f4c",
   "metadata": {},
   "outputs": [
    {
     "data": {
      "image/png": "[encoded data removed]",
      "text/plain": [
       "<Figure size 576x360 with 2 Axes>"
      ]
     },
     "metadata": {
      "needs_background": "light"
     },
     "output_type": "display_data"
    }
   ],
   "source": [
    "# plot volumes against each other \n",
    "fig, ax = plt.subplots(figsize=(8,5))\n",
    "\n",
    "X = np.arange(4)\n",
    "ax = fig.add_axes([0,0,1,1])\n",
    "\n",
    "ax.bar(X, volumes_v7['50ms_volumes_v7'], color='b', width = 0.10)\n",
    "ax.bar(X + 0.10, volumes_v7['200ms_volumes_v5'], color='g', width = 0.10)\n",
    "ax.bar(X +0.20, volumes_v7['tf200ms_volumes_v5'], color= 'r', width = 0.10)\n",
    "\n",
    "plt.xlabel('FOV')\n",
    "plt.ylabel('volume (voxels)')\n",
    "plt.title('Intensity Transfer Seg Validation')\n",
    "ax.legend(['50ms','200ms', 'TF 200ms'])\n",
    "\n",
    "ax.xaxis.set_ticklabels = (['FOV1', 'FOV2', 'FOV3', 'FOV4'])\n",
    "ax.xaxis.set_ticks([1,2,3,4])\n",
    "\n",
    "plt.show()"
   ]
  },
  {
   "cell_type": "markdown",
   "id": "6d29f0dc",
   "metadata": {},
   "source": [
    "<h3> Updated v5 Runs 200/TF200 11/18 <h3>"
   ]
  },
  {
   "cell_type": "code",
   "execution_count": 55,
   "id": "f4a95425",
   "metadata": {},
   "outputs": [
    {
     "name": "stderr",
     "output_type": "stream",
     "text": [
      "Failed to parse XML for the provided file. Error: not well-formed (invalid token): line 1, column 0\n",
      "Failed to parse XML for the provided file. Error: not well-formed (invalid token): line 1, column 0\n",
      "Failed to parse XML for the provided file. Error: not well-formed (invalid token): line 1, column 0\n",
      "Failed to parse XML for the provided file. Error: not well-formed (invalid token): line 1, column 0\n",
      "Failed to parse XML for the provided file. Error: not well-formed (invalid token): line 1, column 0\n",
      "Failed to parse XML for the provided file. Error: not well-formed (invalid token): line 1, column 0\n",
      "Failed to parse XML for the provided file. Error: not well-formed (invalid token): line 1, column 0\n",
      "Failed to parse XML for the provided file. Error: not well-formed (invalid token): line 1, column 0\n"
     ]
    },
    {
     "data": {
      "text/plain": [
       "[6677.0, 5986.0, 6572.0, 12633.0]"
      ]
     },
     "execution_count": 55,
     "metadata": {},
     "output_type": "execute_result"
    }
   ],
   "source": [
    "filepaths_200ms_v5 = [\"C:/Users/sandra.oluoch/Desktop/slurm-down/golgi-200ms-ex1v5check.tiff\",\n",
    "\"C:/Users/sandra.oluoch/Desktop/slurm-down/golgi-200ms-ex2v5check.tiff\",\n",
    "\"C:/Users/sandra.oluoch/Desktop/slurm-down/golgi-200ms-ex3v5check.tiff\",\n",
    "\"C:/Users/sandra.oluoch/Desktop/slurm-down/golgi-200ms-ex5v5check.tiff\",\n",
    "\"C:/Users/sandra.oluoch/Desktop/slurm-down/golgi-200ms-ex6v5.tiff\",\n",
    "\"C:/Users/sandra.oluoch/Desktop/slurm-down/golgi-200ms-ex7v5.tiff\",\n",
    "\"C:/Users/sandra.oluoch/Desktop/slurm-down/golgi-200ms-ex8v5.tiff\",\n",
    "\"C:/Users/sandra.oluoch/Desktop/slurm-down/golgi-200ms-ex9v5.tiff\"]\n",
    "\n",
    "filepaths_tf200ms_v5 = [\"C:/Users/sandra.oluoch/Desktop/slurm-down/golgi-tf200ms-ex1v5check.tiff\",\n",
    "\"C:/Users/sandra.oluoch/Desktop/slurm-down/golgi-tf200ms-ex2v5check.tiff\",\n",
    "\"C:/Users/sandra.oluoch/Desktop/slurm-down/golgi-tf200ms-ex3v5check.tiff\",\n",
    "\"C:/Users/sandra.oluoch/Desktop/slurm-down/golgi-tf200ms-ex5v5check.tiff\",\n",
    "\"C:/Users/sandra.oluoch/Desktop/slurm-down/golgi-tf200ms-ex6v5.tiff\",\n",
    "\"C:/Users/sandra.oluoch/Desktop/slurm-down/golgi-tf200ms-ex7v5.tiff\",\n",
    "\"C:/Users/sandra.oluoch/Desktop/slurm-down/golgi-tf200ms-ex8v5.tiff\",\n",
    "\"C:/Users/sandra.oluoch/Desktop/slurm-down/golgi-tf200ms-ex9v5.tiff\"]\n",
    "\n",
    "volumes_200ms_v5 = []\n",
    "\n",
    "for filename in filepaths_200ms_v5:\n",
    "    # read file\n",
    "    reader = AICSImage(filename) \n",
    "    IMG200 = reader.data.astype(np.float32)\n",
    "    # calculate volume\n",
    "    volume200 = np.sum(IMG200)\n",
    "    volumes_200ms_v5.append(volume200)\n",
    "    \n",
    "volumes_200ms_v5\n",
    "\n",
    "volumes_tf200ms_v5 = []\n",
    "\n",
    "for filename in filepaths_tf200ms_v5:\n",
    "    # read file\n",
    "    reader = AICSImage(filename, dir_order=\"ZYX\") \n",
    "    IMGtf200_v5 = reader.data.astype(np.float32)\n",
    "    # calculate volume\n",
    "    volumetf200_v5 = np.sum(IMGtf200_v5)\n",
    "    volumes_tf200ms_v5.append(volumetf200_v5)\n",
    "    \n",
    "volumes_tf200ms_v5"
   ]
  },
  {
   "cell_type": "code",
   "execution_count": 79,
   "id": "b67da200",
   "metadata": {},
   "outputs": [
    {
     "name": "stderr",
     "output_type": "stream",
     "text": [
      "Failed to parse XML for the provided file. Error: not well-formed (invalid token): line 1, column 0\n",
      "Failed to parse XML for the provided file. Error: not well-formed (invalid token): line 1, column 0\n",
      "Failed to parse XML for the provided file. Error: not well-formed (invalid token): line 1, column 0\n"
     ]
    },
    {
     "data": {
      "text/plain": [
       "[5025.0, 5578.0, 1768.0]"
      ]
     },
     "execution_count": 79,
     "metadata": {},
     "output_type": "execute_result"
    }
   ],
   "source": [
    "filepaths_50ms_v5 = [\"C:/Users/sandra.oluoch/Desktop/slurm-down/golgi-50ms-ex2v7.tiff\",\n",
    "                     \"C:\\Users\\sandra.oluoch\\Desktop\\slurm-down\\golgi-50ms-ex3v5.tiff\",\n",
    "                     \"C:\\Users\\sandra.oluoch\\Desktop\\slurm-down\\golgi-50ms-ex5v5.tiff\",\n",
    "                     \"C:\\Users\\sandra.oluoch\\Desktop\\slurm-down\\golgi-50ms-ex7v5.tiff\",\n",
    "                     \"C:\\Users\\sandra.oluoch\\Desktop\\slurm-down\\golgi-50ms-ex8v5.tiff\"\n",
    "                     \n",
    "                     \"C:/Users/sandra.oluoch/Desktop/slurm-down/golgi-50ms-ex7v5.tiff\",\n",
    "                    \"C:/Users/sandra.oluoch/Desktop/slurm-down/golgi-50ms-ex8v7.tiff\"]\n",
    "volumes_50ms_v5 = []\n",
    "\n",
    "for filename in filepaths_50ms_v5:\n",
    "    # read file\n",
    "    reader = AICSImage(filename, dir_order=\"ZYX\") \n",
    "    IMG50_v5 = reader.data.astype(np.float32)\n",
    "    # calculate volume\n",
    "    volume50_v5 = np.sum(IMG50_v5)\n",
    "    volumes_50ms_v5.append(volume50_v5)\n",
    "    \n",
    "volumes_50ms_v5"
   ]
  },
  {
   "cell_type": "code",
   "execution_count": 80,
   "id": "f71aaa60",
   "metadata": {},
   "outputs": [],
   "source": [
    "volumes_50ms_v5 = [5025, 5347, 9148,11546]"
   ]
  },
  {
   "cell_type": "code",
   "execution_count": 77,
   "id": "5ed8d4b7",
   "metadata": {},
   "outputs": [
    {
     "data": {
      "text/html": [
       "<div>\n",
       "<style scoped>\n",
       "    .dataframe tbody tr th:only-of-type {\n",
       "        vertical-align: middle;\n",
       "    }\n",
       "\n",
       "    .dataframe tbody tr th {\n",
       "        vertical-align: top;\n",
       "    }\n",
       "\n",
       "    .dataframe thead th {\n",
       "        text-align: right;\n",
       "    }\n",
       "</style>\n",
       "<table border=\"1\" class=\"dataframe\">\n",
       "  <thead>\n",
       "    <tr style=\"text-align: right;\">\n",
       "      <th></th>\n",
       "      <th>200ms_volumes_v5</th>\n",
       "      <th>tf200ms_volumes_v5</th>\n",
       "      <th>50ms_volumes_v5</th>\n",
       "    </tr>\n",
       "  </thead>\n",
       "  <tbody>\n",
       "    <tr>\n",
       "      <th>0</th>\n",
       "      <td>6824.0</td>\n",
       "      <td>6677.0</td>\n",
       "      <td>5025</td>\n",
       "    </tr>\n",
       "    <tr>\n",
       "      <th>1</th>\n",
       "      <td>7009.0</td>\n",
       "      <td>5986.0</td>\n",
       "      <td>5347</td>\n",
       "    </tr>\n",
       "    <tr>\n",
       "      <th>2</th>\n",
       "      <td>7612.0</td>\n",
       "      <td>6572.0</td>\n",
       "      <td>9148</td>\n",
       "    </tr>\n",
       "    <tr>\n",
       "      <th>3</th>\n",
       "      <td>10286.0</td>\n",
       "      <td>12633.0</td>\n",
       "      <td>11546</td>\n",
       "    </tr>\n",
       "  </tbody>\n",
       "</table>\n",
       "</div>"
      ],
      "text/plain": [
       "   200ms_volumes_v5  tf200ms_volumes_v5  50ms_volumes_v5\n",
       "0            6824.0              6677.0             5025\n",
       "1            7009.0              5986.0             5347\n",
       "2            7612.0              6572.0             9148\n",
       "3           10286.0             12633.0            11546"
      ]
     },
     "execution_count": 77,
     "metadata": {},
     "output_type": "execute_result"
    }
   ],
   "source": [
    "# create a dataframe with all the info \n",
    "data_200s_v5 = {'200ms_volumes_v5': volumes_200ms_v5,\n",
    "               'tf200ms_volumes_v5': volumes_tf200ms_v5,\n",
    "               '50ms_volumes_v5': volumes_50ms_v5}\n",
    "\n",
    "volumes_200s_v5 = pd.DataFrame(data_200s_v5)\n",
    "volumes_200s_v5"
   ]
  },
  {
   "cell_type": "code",
   "execution_count": 84,
   "id": "c03c5e4a",
   "metadata": {},
   "outputs": [
    {
     "data": {
      "image/png": "[encoded data removed]",
      "text/plain": [
       "<Figure size 576x360 with 1 Axes>"
      ]
     },
     "metadata": {
      "needs_background": "light"
     },
     "output_type": "display_data"
    }
   ],
   "source": [
    "# plot volumes against each other \n",
    "fig, ax = plt.subplots(figsize=(8,5))\n",
    "\n",
    "X = np.arange(4)\n",
    "#ax = fig.add_axes([0,0,1,1])\n",
    "\n",
    "ax.bar(X, volumes_200s_v5['50ms_volumes_v5'], color='b', width = 0.10)\n",
    "ax.bar(X + 0.10, volumes_200s_v5['200ms_volumes_v5'], color='g', width = 0.10)\n",
    "ax.bar(X +0.20, volumes_200s_v5['tf200ms_volumes_v5'], color= 'r', width = 0.10)\n",
    "\n",
    "plt.xlabel('FOV')\n",
    "plt.ylabel('volume (voxels)')\n",
    "plt.title('Intensity Transfer Seg Validation Update')\n",
    "ax.legend(['50ms','200ms', 'TF 200ms'])\n",
    "\n",
    "ax.xaxis.set_ticklabels = (['FOV1', 'FOV2', 'FOV3', 'FOV4'])\n",
    "ax.xaxis.set_ticks([1,2,3,4])\n",
    "\n",
    "plt.show()"
   ]
  },
  {
   "cell_type": "markdown",
   "id": "cc644c1e",
   "metadata": {},
   "source": [
    "<h3> Segmentation Results Nov 20th <h3>"
   ]
  },
  {
   "cell_type": "code",
   "execution_count": 93,
   "id": "f0fe2d9c",
   "metadata": {},
   "outputs": [
    {
     "name": "stderr",
     "output_type": "stream",
     "text": [
      "Failed to parse XML for the provided file. Error: not well-formed (invalid token): line 1, column 0\n",
      "Failed to parse XML for the provided file. Error: not well-formed (invalid token): line 1, column 0\n",
      "Failed to parse XML for the provided file. Error: not well-formed (invalid token): line 1, column 0\n",
      "Failed to parse XML for the provided file. Error: not well-formed (invalid token): line 1, column 0\n",
      "Failed to parse XML for the provided file. Error: not well-formed (invalid token): line 1, column 0\n",
      "Failed to parse XML for the provided file. Error: not well-formed (invalid token): line 1, column 0\n",
      "Failed to parse XML for the provided file. Error: not well-formed (invalid token): line 1, column 0\n",
      "Failed to parse XML for the provided file. Error: not well-formed (invalid token): line 1, column 0\n",
      "Failed to parse XML for the provided file. Error: not well-formed (invalid token): line 1, column 0\n",
      "Failed to parse XML for the provided file. Error: not well-formed (invalid token): line 1, column 0\n",
      "Failed to parse XML for the provided file. Error: not well-formed (invalid token): line 1, column 0\n"
     ]
    },
    {
     "data": {
      "text/plain": [
       "[6455.0,\n",
       " 5024.0,\n",
       " 10880.0,\n",
       " 7061.0,\n",
       " 186.0,\n",
       " 5578.0,\n",
       " 2386.0,\n",
       " 1901.0,\n",
       " 9966.0,\n",
       " 13284.0,\n",
       " 11796.0]"
      ]
     },
     "execution_count": 93,
     "metadata": {},
     "output_type": "execute_result"
    }
   ],
   "source": [
    "filepaths_50ms_nov20 = [\"C:/Users/sandra.oluoch/Desktop/slurm-down/golgi-50ms-ex1v5.tiff\",\n",
    "                     \"C:/Users/sandra.oluoch/Desktop/slurm-down/golgi-50ms-ex2v5.tiff\",\n",
    "                        \"C:/Users/sandra.oluoch/Desktop/slurm-down/golgi-50ms-ex3v5.tiff\",\n",
    "                        \"C:/Users/sandra.oluoch/Desktop/slurm-down/golgi-50ms-ex5v5.tiff\",\n",
    "                        \"C:/Users/sandra.oluoch/Desktop/slurm-down/golgi-50ms-ex6v5.tiff\",\n",
    "                      \"C:/Users/sandra.oluoch/Desktop/slurm-down/golgi-50ms-ex7v5.tiff\",\n",
    "                      \"C:/Users/sandra.oluoch/Desktop/slurm-down/golgi-50ms-ex8v5.tiff\",\n",
    "                      \"C:/Users/sandra.oluoch/Desktop/slurm-down/golgi-50ms-ex9v5.tiff\",\n",
    "                      \"C:/Users/sandra.oluoch/Desktop/slurm-down/golgi-50ms-ex10v5.tiff\",\n",
    "                      \"C:/Users/sandra.oluoch/Desktop/slurm-down/golgi-50ms-ex11v5.tiff\",\n",
    "                     \"C:/Users/sandra.oluoch/Desktop/slurm-down/golgi-50ms-ex12v5.tiff\"]\n",
    "\n",
    "volumes_50ms_nov20 = []\n",
    "\n",
    "for filename in filepaths_50ms_nov20:\n",
    "    # read file\n",
    "    reader = AICSImage(filename, dir_order=\"ZYX\") \n",
    "    IMG50_nov20 = reader.data.astype(np.float32)\n",
    "    # calculate volume\n",
    "    volume50_nov20 = np.sum(IMG50_nov20)\n",
    "    volumes_50ms_nov20.append(volume50_nov20)\n",
    "    \n",
    "volumes_50ms_nov20"
   ]
  },
  {
   "cell_type": "code",
   "execution_count": 94,
   "id": "4998f20a",
   "metadata": {},
   "outputs": [
    {
     "name": "stderr",
     "output_type": "stream",
     "text": [
      "Failed to parse XML for the provided file. Error: not well-formed (invalid token): line 1, column 0\n",
      "Failed to parse XML for the provided file. Error: not well-formed (invalid token): line 1, column 0\n",
      "Failed to parse XML for the provided file. Error: not well-formed (invalid token): line 1, column 0\n",
      "Failed to parse XML for the provided file. Error: not well-formed (invalid token): line 1, column 0\n",
      "Failed to parse XML for the provided file. Error: not well-formed (invalid token): line 1, column 0\n",
      "Failed to parse XML for the provided file. Error: not well-formed (invalid token): line 1, column 0\n",
      "Failed to parse XML for the provided file. Error: not well-formed (invalid token): line 1, column 0\n",
      "Failed to parse XML for the provided file. Error: not well-formed (invalid token): line 1, column 0\n",
      "Failed to parse XML for the provided file. Error: not well-formed (invalid token): line 1, column 0\n",
      "Failed to parse XML for the provided file. Error: not well-formed (invalid token): line 1, column 0\n",
      "Failed to parse XML for the provided file. Error: not well-formed (invalid token): line 1, column 0\n"
     ]
    },
    {
     "data": {
      "text/plain": [
       "[2404.0,\n",
       " 6824.0,\n",
       " 8812.0,\n",
       " 6030.0,\n",
       " 504.0,\n",
       " 7009.0,\n",
       " 7612.0,\n",
       " 10286.0,\n",
       " 2252.0,\n",
       " 4075.0,\n",
       " 4018.0]"
      ]
     },
     "execution_count": 94,
     "metadata": {},
     "output_type": "execute_result"
    }
   ],
   "source": [
    "filepaths_200ms_nov20 = [\"C:/Users/sandra.oluoch/Desktop/slurm-down/golgi-200ms-ex1v5check.tiff\",\n",
    "\"C:/Users/sandra.oluoch/Desktop/slurm-down/golgi-200ms-ex2v5check.tiff\",\n",
    "\"C:/Users/sandra.oluoch/Desktop/slurm-down/golgi-200ms-ex3v5check.tiff\",\n",
    "\"C:/Users/sandra.oluoch/Desktop/slurm-down/golgi-200ms-ex5v5check.tiff\",\n",
    " \"C:/Users/sandra.oluoch/Desktop/slurm-down/golgi-200ms-ex6v5.tiff\",\n",
    "\"C:/Users/sandra.oluoch/Desktop/slurm-down/golgi-200ms-ex7v5.tiff\",\n",
    "\"C:/Users/sandra.oluoch/Desktop/slurm-down/golgi-200ms-ex8v5.tiff\",\n",
    "\"C:/Users/sandra.oluoch/Desktop/slurm-down/golgi-200ms-ex9v5.tiff\",\n",
    "\"C:/Users/sandra.oluoch/Desktop/slurm-down/golgi-200ms-ex10v5.tiff\",\n",
    "\"C:/Users/sandra.oluoch/Desktop/slurm-down/golgi-200ms-ex11v5.tiff\",\n",
    "\"C:/Users/sandra.oluoch/Desktop/slurm-down/golgi-200ms-ex12v5.tiff\"]\n",
    "\n",
    "volumes_200ms_nov20 = []\n",
    "\n",
    "for filename in filepaths_200ms_nov20:\n",
    "    # read file\n",
    "    reader = AICSImage(filename, dir_order=\"ZYX\") \n",
    "    IMG200_nov20 = reader.data.astype(np.float32)\n",
    "    # calculate volume\n",
    "    volume200_nov20 = np.sum(IMG200_nov20)\n",
    "    volumes_200ms_nov20.append(volume200_nov20)\n",
    "    \n",
    "volumes_200ms_nov20\n"
   ]
  },
  {
   "cell_type": "code",
   "execution_count": 90,
   "id": "a69e3a63",
   "metadata": {},
   "outputs": [
    {
     "name": "stderr",
     "output_type": "stream",
     "text": [
      "Failed to parse XML for the provided file. Error: not well-formed (invalid token): line 1, column 0\n",
      "Failed to parse XML for the provided file. Error: not well-formed (invalid token): line 1, column 0\n",
      "Failed to parse XML for the provided file. Error: not well-formed (invalid token): line 1, column 0\n",
      "Failed to parse XML for the provided file. Error: not well-formed (invalid token): line 1, column 0\n",
      "Failed to parse XML for the provided file. Error: not well-formed (invalid token): line 1, column 0\n",
      "Failed to parse XML for the provided file. Error: not well-formed (invalid token): line 1, column 0\n",
      "Failed to parse XML for the provided file. Error: not well-formed (invalid token): line 1, column 0\n",
      "Failed to parse XML for the provided file. Error: not well-formed (invalid token): line 1, column 0\n",
      "Failed to parse XML for the provided file. Error: not well-formed (invalid token): line 1, column 0\n",
      "Failed to parse XML for the provided file. Error: not well-formed (invalid token): line 1, column 0\n",
      "Failed to parse XML for the provided file. Error: not well-formed (invalid token): line 1, column 0\n"
     ]
    },
    {
     "data": {
      "text/plain": [
       "[7029.0,\n",
       " 6677.0,\n",
       " 20217.0,\n",
       " 9950.0,\n",
       " 5593.0,\n",
       " 5986.0,\n",
       " 6572.0,\n",
       " 14559.0,\n",
       " 15342.0,\n",
       " 14559.0,\n",
       " 20723.0]"
      ]
     },
     "execution_count": 90,
     "metadata": {},
     "output_type": "execute_result"
    }
   ],
   "source": [
    "filepaths_tf200ms_nov20 = [\"C:/Users/sandra.oluoch/Desktop/slurm-down/golgi-tf200ms-ex1v5check.tiff\",\n",
    "\"C:/Users/sandra.oluoch/Desktop/slurm-down/golgi-tf200ms-ex2v5check.tiff\",\n",
    "\"C:/Users/sandra.oluoch/Desktop/slurm-down/golgi-tf200ms-ex3v5check.tiff\",\n",
    "\"C:/Users/sandra.oluoch/Desktop/slurm-down/golgi-tf200ms-ex5v5check.tiff\",\n",
    "\"C:/Users/sandra.oluoch/Desktop/slurm-down/golgi-tf200ms-ex6v5.tiff\",\n",
    "\"C:/Users/sandra.oluoch/Desktop/slurm-down/golgi-tf200ms-ex7v5.tiff\",\n",
    "\"C:/Users/sandra.oluoch/Desktop/slurm-down/golgi-tf200ms-ex8v5.tiff\",\n",
    "\"C:/Users/sandra.oluoch/Desktop/slurm-down/golgi-tf200ms-ex9v5.tiff\",\n",
    "\"C:/Users/sandra.oluoch/Desktop/slurm-down/golgi-tf200ms-ex10v5.tiff\",\n",
    " \"C:/Users/sandra.oluoch/Desktop/slurm-down/golgi-tf200ms-ex11v5.tiff\",\n",
    " \"C:/Users/sandra.oluoch/Desktop/slurm-down/golgi-tf200ms-ex12v5.tiff\"]\n",
    "\n",
    "volumes_tf200ms_nov20 = []\n",
    "\n",
    "for filename in filepaths_tf200ms_nov20:\n",
    "    # read file\n",
    "    reader = AICSImage(filename, dir_order=\"ZYX\") \n",
    "    IMGtf200_nov20 = reader.data.astype(np.float32)\n",
    "    # calculate volume\n",
    "    volumetf200_nov20 = np.sum(IMGtf200_nov20)\n",
    "    volumes_tf200ms_nov20.append(volumetf200_nov20)\n",
    "    \n",
    "volumes_tf200ms_nov20"
   ]
  },
  {
   "cell_type": "code",
   "execution_count": 96,
   "id": "67549cef",
   "metadata": {},
   "outputs": [
    {
     "data": {
      "text/html": [
       "<div>\n",
       "<style scoped>\n",
       "    .dataframe tbody tr th:only-of-type {\n",
       "        vertical-align: middle;\n",
       "    }\n",
       "\n",
       "    .dataframe tbody tr th {\n",
       "        vertical-align: top;\n",
       "    }\n",
       "\n",
       "    .dataframe thead th {\n",
       "        text-align: right;\n",
       "    }\n",
       "</style>\n",
       "<table border=\"1\" class=\"dataframe\">\n",
       "  <thead>\n",
       "    <tr style=\"text-align: right;\">\n",
       "      <th></th>\n",
       "      <th>50ms_volumes</th>\n",
       "      <th>200ms_volumes</th>\n",
       "      <th>tf200ms_volumes</th>\n",
       "    </tr>\n",
       "  </thead>\n",
       "  <tbody>\n",
       "    <tr>\n",
       "      <th>0</th>\n",
       "      <td>6455.0</td>\n",
       "      <td>2404.0</td>\n",
       "      <td>7029.0</td>\n",
       "    </tr>\n",
       "    <tr>\n",
       "      <th>1</th>\n",
       "      <td>5024.0</td>\n",
       "      <td>6824.0</td>\n",
       "      <td>6677.0</td>\n",
       "    </tr>\n",
       "    <tr>\n",
       "      <th>2</th>\n",
       "      <td>10880.0</td>\n",
       "      <td>8812.0</td>\n",
       "      <td>20217.0</td>\n",
       "    </tr>\n",
       "    <tr>\n",
       "      <th>3</th>\n",
       "      <td>7061.0</td>\n",
       "      <td>6030.0</td>\n",
       "      <td>9950.0</td>\n",
       "    </tr>\n",
       "    <tr>\n",
       "      <th>4</th>\n",
       "      <td>186.0</td>\n",
       "      <td>504.0</td>\n",
       "      <td>5593.0</td>\n",
       "    </tr>\n",
       "    <tr>\n",
       "      <th>5</th>\n",
       "      <td>5578.0</td>\n",
       "      <td>7009.0</td>\n",
       "      <td>5986.0</td>\n",
       "    </tr>\n",
       "    <tr>\n",
       "      <th>6</th>\n",
       "      <td>2386.0</td>\n",
       "      <td>7612.0</td>\n",
       "      <td>6572.0</td>\n",
       "    </tr>\n",
       "    <tr>\n",
       "      <th>7</th>\n",
       "      <td>1901.0</td>\n",
       "      <td>10286.0</td>\n",
       "      <td>14559.0</td>\n",
       "    </tr>\n",
       "    <tr>\n",
       "      <th>8</th>\n",
       "      <td>9966.0</td>\n",
       "      <td>2252.0</td>\n",
       "      <td>15342.0</td>\n",
       "    </tr>\n",
       "    <tr>\n",
       "      <th>9</th>\n",
       "      <td>13284.0</td>\n",
       "      <td>4075.0</td>\n",
       "      <td>14559.0</td>\n",
       "    </tr>\n",
       "    <tr>\n",
       "      <th>10</th>\n",
       "      <td>11796.0</td>\n",
       "      <td>4018.0</td>\n",
       "      <td>20723.0</td>\n",
       "    </tr>\n",
       "  </tbody>\n",
       "</table>\n",
       "</div>"
      ],
      "text/plain": [
       "    50ms_volumes  200ms_volumes  tf200ms_volumes\n",
       "0         6455.0         2404.0           7029.0\n",
       "1         5024.0         6824.0           6677.0\n",
       "2        10880.0         8812.0          20217.0\n",
       "3         7061.0         6030.0           9950.0\n",
       "4          186.0          504.0           5593.0\n",
       "5         5578.0         7009.0           5986.0\n",
       "6         2386.0         7612.0           6572.0\n",
       "7         1901.0        10286.0          14559.0\n",
       "8         9966.0         2252.0          15342.0\n",
       "9        13284.0         4075.0          14559.0\n",
       "10       11796.0         4018.0          20723.0"
      ]
     },
     "execution_count": 96,
     "metadata": {},
     "output_type": "execute_result"
    }
   ],
   "source": [
    "# create a dataframe with all the info \n",
    "data_nov20 = {'50ms_volumes': volumes_50ms_nov20,\n",
    "            '200ms_volumes': volumes_200ms_nov20,\n",
    "            'tf200ms_volumes': volumes_tf200ms_nov20}\n",
    "\n",
    "volumes_nov20 = pd.DataFrame(data_nov20)\n",
    "volumes_nov20"
   ]
  },
  {
   "cell_type": "code",
   "execution_count": 97,
   "id": "12473c0d",
   "metadata": {},
   "outputs": [
    {
     "data": {
      "image/png": "[encoded data removed]",
      "text/plain": [
       "<Figure size 576x360 with 1 Axes>"
      ]
     },
     "metadata": {
      "needs_background": "light"
     },
     "output_type": "display_data"
    }
   ],
   "source": [
    "# plot volumes against each other \n",
    "fig, ax = plt.subplots(figsize=(8,5))\n",
    "\n",
    "X = np.arange(11)\n",
    "#ax = fig.add_axes([0,0,1,1])\n",
    "\n",
    "ax.bar(X, volumes_nov20['50ms_volumes'], color='b', width = 0.10)\n",
    "ax.bar(X + 0.10, volumes_nov20['200ms_volumes'], color='g', width = 0.10)\n",
    "ax.bar(X +0.20, volumes_nov20['tf200ms_volumes'], color= 'r', width = 0.10)\n",
    "\n",
    "plt.xlabel('FOV')\n",
    "plt.ylabel('volume (voxels)')\n",
    "plt.title('Intensity Transfer Seg Validation Update Nov 21st')\n",
    "ax.legend(['50ms','200ms', 'TF 200ms'])\n",
    "\n",
    "#ax.xaxis.set_ticklabels = (['FOV1', 'FOV2', 'FOV3', 'FOV4',])\n",
    "ax.xaxis.set_ticks([1,2,3,4,5,6,7,8,9,10,11])\n",
    "\n",
    "plt.show()"
   ]
  },
  {
   "cell_type": "markdown",
   "id": "c45f9310",
   "metadata": {},
   "source": [
    "<h3> V8.1 Jaccard Index Validation <h3>"
   ]
  },
  {
   "cell_type": "code",
   "execution_count": 117,
   "id": "b7f5566a",
   "metadata": {},
   "outputs": [
    {
     "data": {
      "text/plain": [
       "1760.9987223168655"
      ]
     },
     "execution_count": 117,
     "metadata": {},
     "output_type": "execute_result"
    }
   ],
   "source": [
    "golgi_50ms_volv8 = [3525,2909,6816,5892,3604]\n",
    "golgi_200ms_volv8 = [3519,6816,2909,10531,7462]\n",
    "\n"
   ]
  },
  {
   "cell_type": "markdown",
   "id": "7a8a177d",
   "metadata": {},
   "source": [
    "<h3> Example 6 Spot Filter/Erosion Thinning <h3> "
   ]
  },
  {
   "cell_type": "code",
   "execution_count": 5,
   "id": "e66ae506",
   "metadata": {
    "scrolled": true
   },
   "outputs": [
    {
     "data": {
      "text/html": [
       "<div>\n",
       "<style scoped>\n",
       "    .dataframe tbody tr th:only-of-type {\n",
       "        vertical-align: middle;\n",
       "    }\n",
       "\n",
       "    .dataframe tbody tr th {\n",
       "        vertical-align: top;\n",
       "    }\n",
       "\n",
       "    .dataframe thead th {\n",
       "        text-align: right;\n",
       "    }\n",
       "</style>\n",
       "<table border=\"1\" class=\"dataframe\">\n",
       "  <thead>\n",
       "    <tr style=\"text-align: right;\">\n",
       "      <th></th>\n",
       "      <th>50ms</th>\n",
       "      <th>200ms</th>\n",
       "      <th>spot_filter</th>\n",
       "      <th>erosion_thin_vals</th>\n",
       "    </tr>\n",
       "  </thead>\n",
       "  <tbody>\n",
       "    <tr>\n",
       "      <th>0</th>\n",
       "      <td>217</td>\n",
       "      <td>504</td>\n",
       "      <td>0.01</td>\n",
       "      <td>0.28</td>\n",
       "    </tr>\n",
       "    <tr>\n",
       "      <th>1</th>\n",
       "      <td>189</td>\n",
       "      <td>355</td>\n",
       "      <td>0.01</td>\n",
       "      <td>0.38</td>\n",
       "    </tr>\n",
       "    <tr>\n",
       "      <th>2</th>\n",
       "      <td>175</td>\n",
       "      <td>301</td>\n",
       "      <td>0.01</td>\n",
       "      <td>0.48</td>\n",
       "    </tr>\n",
       "    <tr>\n",
       "      <th>3</th>\n",
       "      <td>169</td>\n",
       "      <td>284</td>\n",
       "      <td>0.01</td>\n",
       "      <td>0.58</td>\n",
       "    </tr>\n",
       "    <tr>\n",
       "      <th>4</th>\n",
       "      <td>217</td>\n",
       "      <td>504</td>\n",
       "      <td>0.02</td>\n",
       "      <td>0.28</td>\n",
       "    </tr>\n",
       "  </tbody>\n",
       "</table>\n",
       "</div>"
      ],
      "text/plain": [
       "   50ms  200ms  spot_filter  erosion_thin_vals\n",
       "0   217    504         0.01               0.28\n",
       "1   189    355         0.01               0.38\n",
       "2   175    301         0.01               0.48\n",
       "3   169    284         0.01               0.58\n",
       "4   217    504         0.02               0.28"
      ]
     },
     "execution_count": 5,
     "metadata": {},
     "output_type": "execute_result"
    }
   ],
   "source": [
    "# Example 6 Grid Search Results \n",
    "\n",
    "ex6_50ms_volumes = [217,189,175,169,217,189,175,169,217,189,175,169,217,189,175,169,217,189,175,169]\n",
    "ex6_200ms_volumes = [504,355,301,284,504,355,301,284,504,355,301,284,504,355,301,284,504,355,301,284,]\n",
    "spot_filter_vals = [0.01,0.01,0.01,0.01,0.02,0.02,0.02,0.02,0.03,0.03,0.03,0.03,0.04,0.04,0.04,0.04,0.05,0.05,0.05,0.05]\n",
    "erosion_thin_vals = [0.28,0.38,0.48,0.58,0.28,0.38,0.48,0.58,0.28,0.38,0.48,0.58,0.28,0.38,0.48,0.58,0.28,0.38,0.48,0.58]\n",
    "\n",
    "ex6_vol_dict = {'50ms': ex6_50ms_volumes,\n",
    "             '200ms':ex6_200ms_volumes,\n",
    "             'spot_filter':spot_filter_vals,\n",
    "             'erosion_thin_vals':erosion_thin_vals}\n",
    "ex6_vol_df = pd.DataFrame(ex6_vol_dict)\n",
    "ex6_vol_df.head()\n"
   ]
  },
  {
   "cell_type": "code",
   "execution_count": 6,
   "id": "a6df2a5c",
   "metadata": {},
   "outputs": [
    {
     "data": {
      "text/html": [
       "<div>\n",
       "<style scoped>\n",
       "    .dataframe tbody tr th:only-of-type {\n",
       "        vertical-align: middle;\n",
       "    }\n",
       "\n",
       "    .dataframe tbody tr th {\n",
       "        vertical-align: top;\n",
       "    }\n",
       "\n",
       "    .dataframe thead th {\n",
       "        text-align: right;\n",
       "    }\n",
       "</style>\n",
       "<table border=\"1\" class=\"dataframe\">\n",
       "  <thead>\n",
       "    <tr style=\"text-align: right;\">\n",
       "      <th></th>\n",
       "      <th>50ms</th>\n",
       "      <th>200ms</th>\n",
       "      <th>spot_filter</th>\n",
       "      <th>erosion_thin_vals</th>\n",
       "      <th>error</th>\n",
       "    </tr>\n",
       "  </thead>\n",
       "  <tbody>\n",
       "    <tr>\n",
       "      <th>0</th>\n",
       "      <td>217</td>\n",
       "      <td>504</td>\n",
       "      <td>0.01</td>\n",
       "      <td>0.28</td>\n",
       "      <td>287</td>\n",
       "    </tr>\n",
       "    <tr>\n",
       "      <th>1</th>\n",
       "      <td>189</td>\n",
       "      <td>355</td>\n",
       "      <td>0.01</td>\n",
       "      <td>0.38</td>\n",
       "      <td>166</td>\n",
       "    </tr>\n",
       "    <tr>\n",
       "      <th>2</th>\n",
       "      <td>175</td>\n",
       "      <td>301</td>\n",
       "      <td>0.01</td>\n",
       "      <td>0.48</td>\n",
       "      <td>126</td>\n",
       "    </tr>\n",
       "    <tr>\n",
       "      <th>3</th>\n",
       "      <td>169</td>\n",
       "      <td>284</td>\n",
       "      <td>0.01</td>\n",
       "      <td>0.58</td>\n",
       "      <td>115</td>\n",
       "    </tr>\n",
       "    <tr>\n",
       "      <th>4</th>\n",
       "      <td>217</td>\n",
       "      <td>504</td>\n",
       "      <td>0.02</td>\n",
       "      <td>0.28</td>\n",
       "      <td>287</td>\n",
       "    </tr>\n",
       "  </tbody>\n",
       "</table>\n",
       "</div>"
      ],
      "text/plain": [
       "   50ms  200ms  spot_filter  erosion_thin_vals  error\n",
       "0   217    504         0.01               0.28    287\n",
       "1   189    355         0.01               0.38    166\n",
       "2   175    301         0.01               0.48    126\n",
       "3   169    284         0.01               0.58    115\n",
       "4   217    504         0.02               0.28    287"
      ]
     },
     "execution_count": 6,
     "metadata": {},
     "output_type": "execute_result"
    }
   ],
   "source": [
    "ex6_errors = abs(ex6_vol_df['50ms'] - ex6_vol_df['200ms'])\n",
    "ex6_vol_df['error'] = ex6_errors\n",
    "\n",
    "ex6_vol_df.head()"
   ]
  },
  {
   "cell_type": "code",
   "execution_count": 7,
   "id": "3e5ef468",
   "metadata": {},
   "outputs": [
    {
     "data": {
      "text/plain": [
       "<AxesSubplot:xlabel='erosion_thin_vals', ylabel='spot_filter'>"
      ]
     },
     "execution_count": 7,
     "metadata": {},
     "output_type": "execute_result"
    },
    {
     "data": {
      "image/png": "[encoded data removed]",
      "text/plain": [
       "<Figure size 648x432 with 2 Axes>"
      ]
     },
     "metadata": {
      "needs_background": "light"
     },
     "output_type": "display_data"
    }
   ],
   "source": [
    "ex6_vol_df = ex6_vol_df.pivot(\"spot_filter\",\"erosion_thin_vals\",\"error\")\n",
    "\n",
    "f, ax = plt.subplots(figsize=(9, 6))\n",
    "sns.heatmap(ex6_vol_df, annot=True, fmt='d',linewidths=.5, ax=ax)"
   ]
  },
  {
   "cell_type": "code",
   "execution_count": null,
   "id": "51c84bf5",
   "metadata": {},
   "outputs": [],
   "source": [
    "f, ax = plt.subplots(figsize=(9, 6))\n",
    "sns.heatmap(gridsearchv6_df2, annot=True, fmt=\"d\", linewidths=.5, ax=ax)"
   ]
  }
 ],
 "metadata": {
  "kernelspec": {
   "display_name": "Python 3 (ipykernel)",
   "language": "python",
   "name": "python3"
  },
  "language_info": {
   "codemirror_mode": {
    "name": "ipython",
    "version": 3
   },
   "file_extension": ".py",
   "mimetype": "text/x-python",
   "name": "python",
   "nbconvert_exporter": "python",
   "pygments_lexer": "ipython3",
   "version": "3.9.7"
  }
 },
 "nbformat": 4,
 "nbformat_minor": 5
}
