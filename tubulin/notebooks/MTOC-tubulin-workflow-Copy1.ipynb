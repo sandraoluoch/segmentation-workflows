{
 "cells": [
  {
   "cell_type": "markdown",
   "id": "difficult-aircraft",
   "metadata": {},
   "source": [
    "This version of the MTOC Workflow uses label free segmentations to generate segmentations of tubulin MTOC."
   ]
  },
  {
   "cell_type": "code",
   "execution_count": 1,
   "id": "assigned-smell",
   "metadata": {},
   "outputs": [],
   "source": [
    "import numpy as np\n",
    "\n",
    "# package for 3d visualization\n",
    "from itkwidgets import view                              \n",
    "from aicssegmentation.core.visual import seg_fluo_side_by_side,  single_fluorescent_view, segmentation_quick_view\n",
    "import matplotlib.pyplot as plt\n",
    "plt.rcParams[\"figure.figsize\"] = [16, 12]\n",
    "\n",
    "# package for io \n",
    "from aicsimageio import AICSImage\n",
    "from aicsimageio.writers import OmeTiffWriter\n",
    "\n",
    "# function for core algorithm\n",
    "from aicssegmentation.core.vessel import filament_3d_wrapper\n",
    "from aicssegmentation.core.seg_dot import dot_2d\n",
    "from aicssegmentation.core.seg_dot import dot_3d, dot_3d_wrapper \n",
    "from aicssegmentation.core.pre_processing_utils import intensity_normalization, edge_preserving_smoothing_3d, image_smoothing_gaussian_3d\n",
    "from aicssegmentation.core.pre_processing_utils import intensity_normalization, image_smoothing_gaussian_slice_by_slice\n",
    "from skimage.morphology import remove_small_objects \n",
    "from skimage.filters import threshold_otsu\n",
    "from skimage.morphology import ball, binary_closing, remove_small_objects, dilation, erosion, disk, square, binary_dilation\n",
    "from aicssegmentation.core.utils import topology_preserving_thinning, hole_filling\n",
    "from aicssegmentation.core.MO_threshold import MO\n",
    "from aicssegmentation.core.vessel import vesselness3D\n",
    "\n",
    "import pandas as pd\n",
    "from tifffile import imsave"
   ]
  },
  {
   "cell_type": "code",
   "execution_count": 2,
   "id": "wrong-communication",
   "metadata": {},
   "outputs": [],
   "source": [
    "manifest_csv = pd.read_csv('manifest.csv')"
   ]
  },
  {
   "cell_type": "code",
   "execution_count": 3,
   "id": "private-today",
   "metadata": {},
   "outputs": [
    {
     "data": {
      "text/html": [
       "<div>\n",
       "<style scoped>\n",
       "    .dataframe tbody tr th:only-of-type {\n",
       "        vertical-align: middle;\n",
       "    }\n",
       "\n",
       "    .dataframe tbody tr th {\n",
       "        vertical-align: top;\n",
       "    }\n",
       "\n",
       "    .dataframe thead th {\n",
       "        text-align: right;\n",
       "    }\n",
       "</style>\n",
       "<table border=\"1\" class=\"dataframe\">\n",
       "  <thead>\n",
       "    <tr style=\"text-align: right;\">\n",
       "      <th></th>\n",
       "      <th>FOVId</th>\n",
       "      <th>raw_fov_path</th>\n",
       "      <th>PlateId</th>\n",
       "      <th>InstrumentId</th>\n",
       "      <th>structure_name</th>\n",
       "      <th>WellId</th>\n",
       "      <th>FPChannel</th>\n",
       "      <th>BFChannel</th>\n",
       "    </tr>\n",
       "  </thead>\n",
       "  <tbody>\n",
       "    <tr>\n",
       "      <th>1</th>\n",
       "      <td>1</td>\n",
       "      <td>/allen/aics/microscopy/Calysta/projects/traini...</td>\n",
       "      <td>12-Mar-21</td>\n",
       "      <td>ZSD0</td>\n",
       "      <td>TUBA1B</td>\n",
       "      <td>Undefined</td>\n",
       "      <td>0</td>\n",
       "      <td>1</td>\n",
       "    </tr>\n",
       "    <tr>\n",
       "      <th>3</th>\n",
       "      <td>3</td>\n",
       "      <td>/allen/aics/microscopy/Calysta/projects/traini...</td>\n",
       "      <td>12-Mar-21</td>\n",
       "      <td>ZSD0</td>\n",
       "      <td>TUBA1B</td>\n",
       "      <td>Undefined</td>\n",
       "      <td>0</td>\n",
       "      <td>1</td>\n",
       "    </tr>\n",
       "    <tr>\n",
       "      <th>5</th>\n",
       "      <td>5</td>\n",
       "      <td>/allen/aics/microscopy/Calysta/projects/traini...</td>\n",
       "      <td>12-Mar-21</td>\n",
       "      <td>ZSD0</td>\n",
       "      <td>TUBA1B</td>\n",
       "      <td>Undefined</td>\n",
       "      <td>0</td>\n",
       "      <td>1</td>\n",
       "    </tr>\n",
       "    <tr>\n",
       "      <th>9</th>\n",
       "      <td>9</td>\n",
       "      <td>/allen/aics/microscopy/Calysta/projects/traini...</td>\n",
       "      <td>12-Mar-21</td>\n",
       "      <td>ZSD0</td>\n",
       "      <td>TUBA1B</td>\n",
       "      <td>Undefined</td>\n",
       "      <td>0</td>\n",
       "      <td>1</td>\n",
       "    </tr>\n",
       "    <tr>\n",
       "      <th>12</th>\n",
       "      <td>12</td>\n",
       "      <td>/allen/aics/microscopy/Calysta/projects/traini...</td>\n",
       "      <td>12-Mar-21</td>\n",
       "      <td>ZSD0</td>\n",
       "      <td>TUBA1B</td>\n",
       "      <td>Undefined</td>\n",
       "      <td>0</td>\n",
       "      <td>1</td>\n",
       "    </tr>\n",
       "  </tbody>\n",
       "</table>\n",
       "</div>"
      ],
      "text/plain": [
       "    FOVId                                       raw_fov_path    PlateId  \\\n",
       "1       1  /allen/aics/microscopy/Calysta/projects/traini...  12-Mar-21   \n",
       "3       3  /allen/aics/microscopy/Calysta/projects/traini...  12-Mar-21   \n",
       "5       5  /allen/aics/microscopy/Calysta/projects/traini...  12-Mar-21   \n",
       "9       9  /allen/aics/microscopy/Calysta/projects/traini...  12-Mar-21   \n",
       "12     12  /allen/aics/microscopy/Calysta/projects/traini...  12-Mar-21   \n",
       "\n",
       "   InstrumentId structure_name     WellId  FPChannel  BFChannel  \n",
       "1          ZSD0         TUBA1B  Undefined          0          1  \n",
       "3          ZSD0         TUBA1B  Undefined          0          1  \n",
       "5          ZSD0         TUBA1B  Undefined          0          1  \n",
       "9          ZSD0         TUBA1B  Undefined          0          1  \n",
       "12         ZSD0         TUBA1B  Undefined          0          1  "
      ]
     },
     "execution_count": 3,
     "metadata": {},
     "output_type": "execute_result"
    }
   ],
   "source": [
    "tubulin_only = manifest_csv[(manifest_csv['structure_name'] == 'TUBA1B')]\n",
    "tubulin_only.head()"
   ]
  },
  {
   "cell_type": "markdown",
   "id": "further-third",
   "metadata": {},
   "source": [
    "<h1> LABEL FREE TUBULIN NUCLEUS <h1>"
   ]
  },
  {
   "cell_type": "code",
   "execution_count": 15,
   "id": "trained-bundle",
   "metadata": {},
   "outputs": [
    {
     "name": "stdout",
     "output_type": "stream",
     "text": [
      "(1, 1, 1, 50, 1200, 1800)\n"
     ]
    }
   ],
   "source": [
    "filename = \"//allen/aics/assay-dev/users/Sandi/tubulin-segmentations/large_patch_predict_results/tifs/0_prediction_c0..tif\"\n",
    "reader = AICSImage(filename) \n",
    "IMG = reader.data.astype(np.float32)\n",
    "\n",
    "print(IMG.shape)\n",
    "#view(single_fluorescent_view(IMG))"
   ]
  },
  {
   "cell_type": "code",
   "execution_count": 16,
   "id": "nonprofit-distinction",
   "metadata": {},
   "outputs": [],
   "source": [
    "# N_CHANNELS = IMG.shape[2]\n",
    "# MID_SLICE = np.int(0.5*IMG.shape[3])\n",
    "\n",
    "# fig, ax = plt.subplots(1, N_CHANNELS, figsize=(18,16), dpi=72, facecolor='w', edgecolor='k')\n",
    "# if N_CHANNELS==1:\n",
    "#     ax.axis('off')\n",
    "#     ax.imshow(IMG[0,0,0,MID_SLICE,:,:], cmap=plt.cm.gray)\n",
    "# else:\n",
    "#     for channel in range(N_CHANNELS):\n",
    "#         ax[channel].axis('off')\n",
    "#         ax[channel].imshow(IMG[0,0,channel,MID_SLICE,:,:], cmap=plt.cm.gray)"
   ]
  },
  {
   "cell_type": "code",
   "execution_count": 17,
   "id": "greenhouse-smith",
   "metadata": {},
   "outputs": [],
   "source": [
    "#####################\n",
    "## PARAMETER ##\n",
    "structure_channel = 0\n",
    "#####################\n",
    "\n",
    "struct_img0 = IMG[0,0,structure_channel,:,:,:].copy() \n",
    "#view(single_fluorescent_view(struct_img0))"
   ]
  },
  {
   "cell_type": "code",
   "execution_count": 18,
   "id": "severe-special",
   "metadata": {},
   "outputs": [
    {
     "name": "stdout",
     "output_type": "stream",
     "text": [
      "intensity norm: min-max norm with upper bound 6000\n"
     ]
    }
   ],
   "source": [
    "# intensity normalization v2\n",
    "intensity_scaling_param = [6000] # original: 8000\n",
    "struct_img = intensity_normalization(struct_img0, scaling_param=intensity_scaling_param) #struct_img0\n",
    "#view(single_fluorescent_view(struct_img))"
   ]
  },
  {
   "cell_type": "code",
   "execution_count": 19,
   "id": "cross-statistics",
   "metadata": {},
   "outputs": [],
   "source": [
    "# gaussian smoothing\n",
    "gaussian_smoothing_sigma = 1 # original: 1\n",
    "struct_img_smooth = image_smoothing_gaussian_slice_by_slice(struct_img, sigma=gaussian_smoothing_sigma)\n",
    "#view(single_fluorescent_view(struct_img_smooth))"
   ]
  },
  {
   "cell_type": "code",
   "execution_count": 20,
   "id": "black-tuner",
   "metadata": {},
   "outputs": [],
   "source": [
    "# applying mask object threshold\n",
    "bw, object_for_debug = MO(struct_img_smooth, global_thresh_method='tri', object_minArea=1200, return_object=True)\n",
    "#view(single_fluorescent_view(bw))"
   ]
  },
  {
   "cell_type": "code",
   "execution_count": 21,
   "id": "powered-station",
   "metadata": {
    "scrolled": true
   },
   "outputs": [],
   "source": [
    "# apply dilation to masked nucleus image\n",
    "\n",
    "from scipy import ndimage as ndi\n",
    "\n",
    "# make a little 3D diamond:\n",
    "diamond = ndi.generate_binary_structure(rank=3, connectivity=1)\n",
    "# dilate 30x with it\n",
    "dilated_img = ndi.binary_dilation(bw, diamond, iterations=5)"
   ]
  },
  {
   "cell_type": "code",
   "execution_count": 22,
   "id": "regional-development",
   "metadata": {},
   "outputs": [],
   "source": [
    "imsave(\"tubulin-mask-dilated.tiff\", dilated_img)"
   ]
  },
  {
   "cell_type": "markdown",
   "id": "further-oriental",
   "metadata": {},
   "source": [
    "<h1> MTOC TUBULIN WORKFLOW <h1>"
   ]
  },
  {
   "cell_type": "code",
   "execution_count": 4,
   "id": "selective-springer",
   "metadata": {},
   "outputs": [],
   "source": [
    "filename2 = \"//allen/aics/assay-dev/users/Sandi/tubulin-segmentations/all-raw-imgs/20210312_N02_002-alignV2-Scene-12-P12-D02.tiff\"\n",
    "reader = AICSImage(filename2) \n",
    "IMG2 = reader.data.astype(np.float32)\n"
   ]
  },
  {
   "cell_type": "code",
   "execution_count": 5,
   "id": "resident-syracuse",
   "metadata": {},
   "outputs": [],
   "source": [
    "#####################\n",
    "## PARAMETER ##\n",
    "structure_channel = 0\n",
    "#####################\n",
    "\n",
    "struct_img0_2 = IMG2[0,0,structure_channel,:,:,:].copy() \n",
    "#view(single_fluorescent_view(struct_img0))"
   ]
  },
  {
   "cell_type": "markdown",
   "id": "fatal-convention",
   "metadata": {},
   "source": [
    "<h1> 1: PRE-PROCESSING <h1>"
   ]
  },
  {
   "cell_type": "code",
   "execution_count": 6,
   "id": "forward-fleece",
   "metadata": {},
   "outputs": [
    {
     "name": "stdout",
     "output_type": "stream",
     "text": [
      "intensity norm: min-max norm with upper bound 6000\n"
     ]
    }
   ],
   "source": [
    "# intensity normalization v2\n",
    "intensity_scaling_param2 = [6000] # original: 8000\n",
    "struct_img2 = intensity_normalization(struct_img0_2, scaling_param=intensity_scaling_param2) #struct_img0\n"
   ]
  },
  {
   "cell_type": "code",
   "execution_count": 7,
   "id": "sufficient-doctrine",
   "metadata": {},
   "outputs": [],
   "source": [
    "# gaussian smoothing\n",
    "gaussian_smoothing_sigma2 = 1 # original: 1\n",
    "structure_img_smooth2 = image_smoothing_gaussian_slice_by_slice(struct_img2, sigma=gaussian_smoothing_sigma2)"
   ]
  },
  {
   "cell_type": "markdown",
   "id": "pursuant-greece",
   "metadata": {},
   "source": [
    "<h1> 2: CORE SEGMENTATION ALGORITHMS <h1>"
   ]
  },
  {
   "cell_type": "code",
   "execution_count": 27,
   "id": "rubber-dodge",
   "metadata": {},
   "outputs": [],
   "source": [
    "# otsu thresholding: higher value, more segmentation\n",
    "th = 3.2* threshold_otsu(structure_img_smooth2) # original at 1.4 # v4: 1.8 # v5: 1.6  \n",
    "overall_shape = dilation(\n",
    "    remove_small_objects(structure_img_smooth2 > th, min_size=10, connectivity=1, in_place=False), #min_size = 10\n",
    "    ball(1)\n",
    ")\n",
    "fixed_shape = erosion(\n",
    "    hole_filling(overall_shape, hole_min=0, hole_max=5, fill_2d=True), #, hole_min= 0 hole_max = 5\n",
    "    ball(1)\n",
    ")"
   ]
  },
  {
   "cell_type": "code",
   "execution_count": 28,
   "id": "anticipated-massage",
   "metadata": {},
   "outputs": [],
   "source": [
    "# 2d spot filter\n",
    "s2 = np.zeros_like(fixed_shape)\n",
    "for z in range(structure_img_smooth2.shape[0]):\n",
    "    zslice = dot_2d(structure_img_smooth2[z,], 2)\n",
    "    s2[z, :, :] = zslice > 0.2 #original: 0.03 v5 :0.02 \n",
    "fixed_shape = np.logical_or(s2, fixed_shape)"
   ]
  },
  {
   "cell_type": "code",
   "execution_count": 29,
   "id": "surface-particle",
   "metadata": {},
   "outputs": [],
   "source": [
    "# 2d erosion for thinning\n",
    "for z in range(fixed_shape.shape[0]):\n",
    "    zslice= fixed_shape[z,]\n",
    "    zslice = erosion(zslice, disk(1))\n",
    "    fixed_shape[z, :, :] = zslice\n",
    "\n",
    "response_vessel = vesselness3D(structure_img_smooth2, sigmas=[1], tau=1, whiteonblack=True)\n",
    "\n",
    "seg = np.logical_or(response_vessel > 2.0, fixed_shape) # response_vessel > 0.28 increasing parameter thins out lines\n",
    "\n",
    "seg = hole_filling(seg, hole_min=0, hole_max=15, fill_2d=True)# hole_min=0 # hole_max=15"
   ]
  },
  {
   "cell_type": "code",
   "execution_count": 30,
   "id": "pharmaceutical-spider",
   "metadata": {},
   "outputs": [],
   "source": [
    "# applying mask object threshold\n",
    "bw2, object_for_debug = MO(seg, global_thresh_method='tri', object_minArea=1200, return_object=True)"
   ]
  },
  {
   "cell_type": "code",
   "execution_count": 31,
   "id": "paperback-nothing",
   "metadata": {},
   "outputs": [],
   "source": [
    "thin_dist_preserve=0.09\n",
    "thin_dist=2\n",
    "bw_thin = topology_preserving_thinning(bw2>0, thin_dist_preserve, thin_dist)"
   ]
  },
  {
   "cell_type": "markdown",
   "id": "absent-classification",
   "metadata": {},
   "source": [
    "<h1> 3: POST-PROCESSING <h1>"
   ]
  },
  {
   "cell_type": "code",
   "execution_count": 32,
   "id": "instructional-comment",
   "metadata": {},
   "outputs": [],
   "source": [
    "# Remove large area \n",
    "## PARAMETERS for this step ##\n",
    "minArea = 1 # original 1\n",
    "################################\n",
    "\n",
    "#seg2 = remove_small_objects(bw_thin>0, min_size=minArea, connectivity=1, in_place=True)\n",
    "seg2 = remove_small_objects(bw_thin>0, min_size=minArea, connectivity=1, in_place=True)"
   ]
  },
  {
   "cell_type": "code",
   "execution_count": 33,
   "id": "excess-catalyst",
   "metadata": {},
   "outputs": [],
   "source": [
    "# save the file\n",
    "imsave(\"mtoc-seg-v9.tiff\", seg2)"
   ]
  },
  {
   "cell_type": "markdown",
   "id": "simplified-monkey",
   "metadata": {},
   "source": [
    "<h1> COMBINING BOTH SEGMENTED IMAGES <h1>"
   ]
  },
  {
   "cell_type": "code",
   "execution_count": 25,
   "id": "consolidated-greece",
   "metadata": {},
   "outputs": [],
   "source": [
    "seg_NUC = dilated_img\n",
    "seg_MTOC = seg2"
   ]
  },
  {
   "cell_type": "code",
   "execution_count": 26,
   "id": "residential-shower",
   "metadata": {},
   "outputs": [],
   "source": [
    "# save the hybrid image\n",
    "seg_MTOC[seg_NUC==0] = 0\n",
    "imsave(\"mtoc-seg-combinedv7.tiff\", seg2)"
   ]
  },
  {
   "cell_type": "code",
   "execution_count": null,
   "id": "empty-judge",
   "metadata": {},
   "outputs": [],
   "source": []
  },
  {
   "cell_type": "markdown",
   "id": "genetic-steel",
   "metadata": {},
   "source": [
    "<h1> Extra Code (Not Currently in Use) <h1>"
   ]
  },
  {
   "cell_type": "code",
   "execution_count": null,
   "id": "explicit-tablet",
   "metadata": {},
   "outputs": [],
   "source": [
    "bw_binary = bw.astype(int)*1  "
   ]
  },
  {
   "cell_type": "code",
   "execution_count": 24,
   "id": "increasing-commonwealth",
   "metadata": {},
   "outputs": [],
   "source": [
    "#img_norm = intensity_normalization(struct_img, scaling_param=[20, 25])# original: [2,20] #seg 12 & 14: [50,55] #seg 13: [30,35] seg14-2.0 [25 30] 14check3: [45 50] 14check4: 50 55\n",
    "#img_smooth = edge_preserving_smoothing_3d(img_norm, numberOfIterations=30)"
   ]
  },
  {
   "cell_type": "code",
   "execution_count": 25,
   "id": "ambient-sussex",
   "metadata": {},
   "outputs": [],
   "source": [
    "# #applying f3 filter and 3D wrapping\n",
    "\n",
    "# # PARAMETERS for this step ##\n",
    "# f3_param = [[1, 0.03]] # original: [[1, 0.01]]  v3: [[1.25, 0.02]]\n",
    "\n",
    "# ###############################\n",
    "\n",
    "# bw = filament_3d_wrapper(structure_img_smooth, f3_param) #structure_img_smooth\n",
    "# bw = dot_3d_wrapper(structure_img_smooth, f3_param) #structure_img_smooth"
   ]
  },
  {
   "cell_type": "code",
   "execution_count": null,
   "id": "ancient-graph",
   "metadata": {},
   "outputs": [],
   "source": [
    "# # applying 3D Spot Filter\n",
    "# s3_param = [[1, 0.009]] # v4: [[1, 0.05]] lower 2nd parameter, more seg\n",
    "# ################################\n",
    "\n",
    "# bw_extra = dot_3d_wrapper(structure_img_smooth, s3_param) # structure_img_smooth"
   ]
  }
 ],
 "metadata": {
  "kernelspec": {
   "display_name": "Python 3",
   "language": "python",
   "name": "python3"
  },
  "language_info": {
   "codemirror_mode": {
    "name": "ipython",
    "version": 3
   },
   "file_extension": ".py",
   "mimetype": "text/x-python",
   "name": "python",
   "nbconvert_exporter": "python",
   "pygments_lexer": "ipython3",
   "version": "3.7.9"
  }
 },
 "nbformat": 4,
 "nbformat_minor": 5
}
