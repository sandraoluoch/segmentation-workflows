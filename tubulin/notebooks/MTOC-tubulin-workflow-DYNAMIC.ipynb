{
 "cells": [
  {
   "cell_type": "markdown",
   "id": "super-collapse",
   "metadata": {},
   "source": [
    "This version of the MTOC Workflow generates segmentations without label-free segmentions."
   ]
  },
  {
   "cell_type": "code",
   "execution_count": 1,
   "id": "assigned-smell",
   "metadata": {},
   "outputs": [],
   "source": [
    "import numpy as np\n",
    "\n",
    "# package for 3d visualization\n",
    "from itkwidgets import view                              \n",
    "from aicssegmentation.core.visual import seg_fluo_side_by_side,  single_fluorescent_view, segmentation_quick_view\n",
    "import matplotlib.pyplot as plt\n",
    "plt.rcParams[\"figure.figsize\"] = [16, 12]\n",
    "\n",
    "# package for io \n",
    "from aicsimageio import AICSImage\n",
    "from aicsimageio.writers import OmeTiffWriter\n",
    "\n",
    "# function for core algorithm\n",
    "from aicssegmentation.core.vessel import filament_3d_wrapper\n",
    "from aicssegmentation.core.seg_dot import dot_2d\n",
    "from aicssegmentation.core.seg_dot import dot_3d, dot_3d_wrapper \n",
    "from aicssegmentation.core.pre_processing_utils import intensity_normalization, edge_preserving_smoothing_3d, image_smoothing_gaussian_3d\n",
    "from aicssegmentation.core.pre_processing_utils import intensity_normalization, image_smoothing_gaussian_slice_by_slice\n",
    "from skimage.morphology import remove_small_objects \n",
    "from skimage.filters import threshold_otsu\n",
    "from skimage.morphology import ball, binary_closing, remove_small_objects, dilation, erosion, disk, square, binary_dilation\n",
    "from aicssegmentation.core.utils import topology_preserving_thinning, hole_filling\n",
    "from aicssegmentation.core.MO_threshold import MO\n",
    "from aicssegmentation.core.vessel import vesselness3D\n",
    "\n",
    "import pandas as pd\n",
    "from tifffile import imsave"
   ]
  },
  {
   "cell_type": "code",
   "execution_count": 7,
   "id": "wrong-communication",
   "metadata": {},
   "outputs": [],
   "source": [
    "manifest_csv = pd.read_csv('manifest.csv')"
   ]
  },
  {
   "cell_type": "code",
   "execution_count": 9,
   "id": "private-today",
   "metadata": {},
   "outputs": [],
   "source": [
    "tubulin_only = manifest_csv[(manifest_csv['structure_name'] == 'TUBA1B')]"
   ]
  },
  {
   "cell_type": "code",
   "execution_count": 11,
   "id": "promotional-division",
   "metadata": {},
   "outputs": [
    {
     "data": {
      "text/plain": [
       "['/allen/aics/microscopy/Calysta/projects/training_emt/data/5500000406/ZSD0/alignV2/20210312_N02_002-alignV2-Scene-33-P33-D03.tiff',\n",
       " '/allen/aics/microscopy/Calysta/projects/training_emt/data/5500000406/ZSD0/alignV2/20210312_N02_002-alignV2-Scene-13-P13-D02.tiff',\n",
       " '/allen/aics/microscopy/Calysta/projects/training_emt/data/5500000406/ZSD0/alignV2/20210312_N02_002-alignV2-Scene-42-P42-D03.tiff',\n",
       " '/allen/aics/microscopy/Calysta/projects/training_emt/data/5500000406/ZSD0/alignV2/20210312_N02_002-alignV2-Scene-45-P45-D03.tiff',\n",
       " '/allen/aics/microscopy/Calysta/projects/training_emt/data/5500000406/ZSD0/alignV2/20210312_N02_002-alignV2-Scene-16-P16-D02.tiff',\n",
       " '/allen/aics/microscopy/Calysta/projects/training_emt/data/5500000406/ZSD0/alignV2/20210312_N02_002-alignV2-Scene-04-P4-D02.tiff',\n",
       " '/allen/aics/microscopy/Calysta/projects/training_emt/data/5500000406/ZSD0/alignV2/20210312_N02_002-alignV2-Scene-40-P40-D03.tiff',\n",
       " '/allen/aics/microscopy/Calysta/projects/training_emt/data/5500000406/ZSD0/alignV2/20210312_N02_002-alignV2-Scene-21-P21-D02.tiff',\n",
       " '/allen/aics/microscopy/Calysta/projects/training_emt/data/5500000406/ZSD0/alignV2/20210312_N02_002-alignV2-Scene-47-P47-D03.tiff',\n",
       " '/allen/aics/microscopy/Calysta/projects/training_emt/data/5500000406/ZSD0/alignV2/20210312_N02_002-alignV2-Scene-28-P28-D03.tiff',\n",
       " '/allen/aics/microscopy/Calysta/projects/training_emt/data/5500000406/ZSD0/alignV2/20210312_N02_002-alignV2-Scene-19-P19-D02.tiff',\n",
       " '/allen/aics/microscopy/Calysta/projects/training_emt/data/5500000406/ZSD0/alignV2/20210312_N02_002-alignV2-Scene-11-P11-D02.tiff',\n",
       " '/allen/aics/microscopy/Calysta/projects/training_emt/data/5500000406/ZSD0/alignV2/20210312_N02_002-alignV2-Scene-09-P9-D02.tiff',\n",
       " '/allen/aics/microscopy/Calysta/projects/training_emt/data/5500000406/ZSD0/alignV2/20210312_N02_002-alignV2-Scene-15-P15-D02.tiff',\n",
       " '/allen/aics/microscopy/Calysta/projects/training_emt/data/5500000406/ZSD0/alignV2/20210312_N02_002-alignV2-Scene-14-P14-D02.tiff',\n",
       " '/allen/aics/microscopy/Calysta/projects/training_emt/data/5500000406/ZSD0/alignV2/20210312_N02_002-alignV2-Scene-36-P36-D03.tiff',\n",
       " '/allen/aics/microscopy/Calysta/projects/training_emt/data/5500000406/ZSD0/alignV2/20210312_N02_002-alignV2-Scene-38-P38-D03.tiff',\n",
       " '/allen/aics/microscopy/Calysta/projects/training_emt/data/5500000406/ZSD0/alignV2/20210312_N02_002-alignV2-Scene-48-P48-D03.tiff',\n",
       " '/allen/aics/microscopy/Calysta/projects/training_emt/data/5500000406/ZSD0/alignV2/20210312_N02_002-alignV2-Scene-39-P39-D03.tiff',\n",
       " '/allen/aics/microscopy/Calysta/projects/training_emt/data/5500000406/ZSD0/alignV2/20210312_N02_002-alignV2-Scene-32-P32-D03.tiff']"
      ]
     },
     "execution_count": 11,
     "metadata": {},
     "output_type": "execute_result"
    }
   ],
   "source": [
    "list(tubulin_only.raw_fov_path[10:30])"
   ]
  },
  {
   "cell_type": "markdown",
   "id": "further-oriental",
   "metadata": {},
   "source": [
    "<h1> MTOC TUBULIN WORKFLOW <h1>"
   ]
  },
  {
   "cell_type": "code",
   "execution_count": 2,
   "id": "selective-springer",
   "metadata": {},
   "outputs": [
    {
     "name": "stderr",
     "output_type": "stream",
     "text": [
      "Attempted file (//allen/aics/assay-dev/users/Sandi/aics-segmentation/lookup_table_demo/tubulin/tubulin-50ms-imgs/raw/5500000704_EE_2-01_AcquisitionBlock7_pt7_Scene-0_aligned.ome.tiff) load with reader: aicsimageio.readers.bfio_reader.OmeTiledTiffReader failed with error: No module named 'bfio'\n",
      "The default XML parser will be changing from 'xmlschema' to 'lxml' in version 0.4.0.  To silence this warning, please provide the `parser` argument, specifying either 'lxml' (to opt into the new behavior), or'xmlschema' (to retain the old behavior).\n"
     ]
    },
    {
     "name": "stdout",
     "output_type": "stream",
     "text": [
      "(1, 4, 40, 1200, 1800)\n"
     ]
    }
   ],
   "source": [
    "#filename2 = '/allen/aics/microscopy/Calysta/projects/training_emt/data/5500000406/ZSD0/alignV2/20210312_N02_002-alignV2-Scene-32-P32-D03.tiff'\n",
    "filename2 = \"//allen/aics/assay-dev/users/Sandi/aics-segmentation/lookup_table_demo/tubulin/tubulin-50ms-imgs/raw/5500000704_EE_2-01_AcquisitionBlock7_pt7_Scene-0_aligned.ome.tiff\"\n",
    "reader = AICSImage(filename2) \n",
    "IMG2 = reader.data.astype(np.float32)\n",
    "print(IMG2.shape)"
   ]
  },
  {
   "cell_type": "code",
   "execution_count": 3,
   "id": "resident-syracuse",
   "metadata": {},
   "outputs": [
    {
     "data": {
      "text/plain": [
       "(40, 1200, 1800)"
      ]
     },
     "execution_count": 3,
     "metadata": {},
     "output_type": "execute_result"
    }
   ],
   "source": [
    "#####################\n",
    "## PARAMETER ##\n",
    "structure_channel = 1\n",
    "#####################\n",
    "\n",
    "struct_img0 = IMG2[0,structure_channel,:,:,:].copy() \n",
    "#view(single_fluorescent_view(struct_img0))\n",
    "struct_img0.shape"
   ]
  },
  {
   "cell_type": "markdown",
   "id": "fatal-convention",
   "metadata": {},
   "source": [
    "<h1> 1: PRE-PROCESSING <h1>"
   ]
  },
  {
   "cell_type": "code",
   "execution_count": 5,
   "id": "forward-fleece",
   "metadata": {},
   "outputs": [
    {
     "name": "stdout",
     "output_type": "stream",
     "text": [
      "intensity norm: min-max norm with upper bound 6000\n"
     ]
    }
   ],
   "source": [
    "# intensity normalization v2\n",
    "intensity_scaling_param2 = [6000] # original: 8000\n",
    "struct_img2 = intensity_normalization(struct_img0, scaling_param=intensity_scaling_param2) #struct_img0\n"
   ]
  },
  {
   "cell_type": "code",
   "execution_count": 6,
   "id": "sufficient-doctrine",
   "metadata": {},
   "outputs": [],
   "source": [
    "# gaussian smoothing\n",
    "gaussian_smoothing_sigma2 = 1 # original: 1\n",
    "structure_img_smooth2 = image_smoothing_gaussian_slice_by_slice(struct_img2, sigma=gaussian_smoothing_sigma2)"
   ]
  },
  {
   "cell_type": "markdown",
   "id": "pursuant-greece",
   "metadata": {},
   "source": [
    "<h1> 2: CORE SEGMENTATION ALGORITHMS <h1>"
   ]
  },
  {
   "cell_type": "code",
   "execution_count": 7,
   "id": "rubber-dodge",
   "metadata": {},
   "outputs": [],
   "source": [
    "# otsu thresholding: higher value, more segmentation\n",
    "th = 4.5* threshold_otsu(structure_img_smooth2) # original at 1.4 # v4: 1.8 # v5: 1.6 prev: 3.4\n",
    "overall_shape = dilation(\n",
    "    remove_small_objects(structure_img_smooth2 > th, min_size=10, connectivity=1, in_place=False), #min_size = 10\n",
    "    ball(1)\n",
    ")\n",
    "fixed_shape = erosion(\n",
    "    hole_filling(overall_shape, hole_min=0, hole_max=5, fill_2d=True), #, hole_min= 0 hole_max = 5\n",
    "    ball(1)\n",
    ")"
   ]
  },
  {
   "cell_type": "code",
   "execution_count": 8,
   "id": "anticipated-massage",
   "metadata": {},
   "outputs": [],
   "source": [
    "# 2d spot filter\n",
    "s2 = np.zeros_like(fixed_shape)\n",
    "for z in range(structure_img_smooth2.shape[0]):\n",
    "    zslice = dot_2d(structure_img_smooth2[z,], 2)\n",
    "    s2[z, :, :] = zslice > 0.08 #original: 0.03 v5 :0.02 \n",
    "fixed_shape = np.logical_or(s2, fixed_shape)"
   ]
  },
  {
   "cell_type": "code",
   "execution_count": 9,
   "id": "seven-pocket",
   "metadata": {},
   "outputs": [],
   "source": [
    "#view(single_fluorescent_view(fixed_shape))"
   ]
  },
  {
   "cell_type": "code",
   "execution_count": 10,
   "id": "surface-particle",
   "metadata": {},
   "outputs": [],
   "source": [
    "# hole filling step\n",
    "seg = hole_filling(fixed_shape, hole_min=0, hole_max=15, fill_2d=True)# hole_min=0 # hole_max=15"
   ]
  },
  {
   "cell_type": "code",
   "execution_count": 11,
   "id": "pharmaceutical-spider",
   "metadata": {},
   "outputs": [
    {
     "name": "stderr",
     "output_type": "stream",
     "text": [
      "Converting input from bool to <class 'numpy.uint8'> for compatibility.\n"
     ]
    }
   ],
   "source": [
    "# applying mask object threshold\n",
    "bw2, object_for_debug = MO(seg, global_thresh_method='tri', object_minArea=1200, return_object=True)"
   ]
  },
  {
   "cell_type": "code",
   "execution_count": 12,
   "id": "paperback-nothing",
   "metadata": {},
   "outputs": [],
   "source": [
    "thin_dist_preserve=0.01\n",
    "thin_dist=2\n",
    "bw_thin = topology_preserving_thinning(bw2>0, thin_dist_preserve, thin_dist)"
   ]
  },
  {
   "cell_type": "markdown",
   "id": "absent-classification",
   "metadata": {},
   "source": [
    "<h1> 3: POST-PROCESSING <h1>"
   ]
  },
  {
   "cell_type": "code",
   "execution_count": 13,
   "id": "instructional-comment",
   "metadata": {},
   "outputs": [],
   "source": [
    "# Remove large area \n",
    "## PARAMETERS for this step ##\n",
    "minArea = 30 # original 1\n",
    "seg2 = remove_small_objects(bw_thin>0, min_size=minArea, connectivity=1, in_place=True)"
   ]
  },
  {
   "cell_type": "code",
   "execution_count": 14,
   "id": "excess-catalyst",
   "metadata": {},
   "outputs": [],
   "source": [
    "# save the file\n",
    "imsave(\"mtoc-200ms-sc0.tiff\", seg2)\n",
    "#d02s12\n",
    "#d03s46\n",
    "#d02s2"
   ]
  },
  {
   "cell_type": "markdown",
   "id": "genetic-steel",
   "metadata": {},
   "source": [
    "<h1> Extra Code (Not Currently in Use) <h1>"
   ]
  },
  {
   "cell_type": "code",
   "execution_count": null,
   "id": "explicit-tablet",
   "metadata": {},
   "outputs": [],
   "source": [
    "# bw_binary = bw.astype(int)*1  "
   ]
  },
  {
   "cell_type": "code",
   "execution_count": 24,
   "id": "increasing-commonwealth",
   "metadata": {},
   "outputs": [],
   "source": [
    "#img_norm = intensity_normalization(struct_img, scaling_param=[20, 25])# original: [2,20] #seg 12 & 14: [50,55] #seg 13: [30,35] seg14-2.0 [25 30] 14check3: [45 50] 14check4: 50 55\n",
    "#img_smooth = edge_preserving_smoothing_3d(img_norm, numberOfIterations=30)"
   ]
  },
  {
   "cell_type": "code",
   "execution_count": 25,
   "id": "ambient-sussex",
   "metadata": {},
   "outputs": [],
   "source": [
    "# #applying f3 filter and 3D wrapping\n",
    "\n",
    "# # PARAMETERS for this step ##\n",
    "# f3_param = [[1, 0.03]] # original: [[1, 0.01]]  v3: [[1.25, 0.02]]\n",
    "\n",
    "# ###############################\n",
    "\n",
    "# bw = filament_3d_wrapper(structure_img_smooth, f3_param) #structure_img_smooth\n",
    "# bw = dot_3d_wrapper(structure_img_smooth, f3_param) #structure_img_smooth"
   ]
  },
  {
   "cell_type": "code",
   "execution_count": null,
   "id": "ancient-graph",
   "metadata": {},
   "outputs": [],
   "source": [
    "# # applying 3D Spot Filter\n",
    "# s3_param = [[1, 0.009]] # v4: [[1, 0.05]] lower 2nd parameter, more seg\n",
    "# ################################\n",
    "\n",
    "# bw_extra = dot_3d_wrapper(structure_img_smooth, s3_param) # structure_img_smooth"
   ]
  }
 ],
 "metadata": {
  "kernelspec": {
   "display_name": "Python 3",
   "language": "python",
   "name": "python3"
  },
  "language_info": {
   "codemirror_mode": {
    "name": "ipython",
    "version": 3
   },
   "file_extension": ".py",
   "mimetype": "text/x-python",
   "name": "python",
   "nbconvert_exporter": "python",
   "pygments_lexer": "ipython3",
   "version": "3.7.9"
  }
 },
 "nbformat": 4,
 "nbformat_minor": 5
}
