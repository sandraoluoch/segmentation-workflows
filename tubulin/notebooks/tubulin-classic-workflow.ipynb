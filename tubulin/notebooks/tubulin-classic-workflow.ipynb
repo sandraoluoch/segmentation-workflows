{
 "cells": [
  {
   "cell_type": "code",
   "execution_count": 9,
   "id": "exterior-audience",
   "metadata": {},
   "outputs": [],
   "source": [
    "import numpy as np\n",
    "\n",
    "# package for 3d visualization\n",
    "from itkwidgets import view                              \n",
    "from aicssegmentation.core.visual import seg_fluo_side_by_side,  single_fluorescent_view, segmentation_quick_view\n",
    "import matplotlib.pyplot as plt\n",
    "plt.rcParams[\"figure.figsize\"] = [16, 12]\n",
    "\n",
    "# package for io \n",
    "from aicsimageio import AICSImage\n",
    "from aicsimageio.writers import OmeTiffWriter\n",
    "\n",
    "# function for core algorithm\n",
    "from aicssegmentation.core.vessel import filament_3d_wrapper\n",
    "from aicssegmentation.core.pre_processing_utils import intensity_normalization, edge_preserving_smoothing_3d, image_smoothing_gaussian_3d\n",
    "from skimage.morphology import remove_small_objects  \n",
    "\n",
    "import pandas as pd"
   ]
  },
  {
   "cell_type": "code",
   "execution_count": 10,
   "id": "caroline-detective",
   "metadata": {},
   "outputs": [],
   "source": [
    "manifest_csv = pd.read_csv(\"//allen/aics/assay-dev/users/Sandi/aics-segmentation/lookup_table_demo/manifest.csv\")"
   ]
  },
  {
   "cell_type": "code",
   "execution_count": null,
   "id": "disciplinary-commodity",
   "metadata": {},
   "outputs": [],
   "source": [
    "#manifest_csv.head()"
   ]
  },
  {
   "cell_type": "code",
   "execution_count": null,
   "id": "surprised-daughter",
   "metadata": {},
   "outputs": [],
   "source": [
    "#pd.DataFrame(manifest_csv.columns)"
   ]
  },
  {
   "cell_type": "code",
   "execution_count": null,
   "id": "entire-bonus",
   "metadata": {},
   "outputs": [],
   "source": [
    "tubulin_only = manifest_csv[(manifest_csv['structure_name'] == 'TUBA1B')]\n",
    "tubulin_only.head()"
   ]
  },
  {
   "cell_type": "code",
   "execution_count": null,
   "id": "severe-collectible",
   "metadata": {},
   "outputs": [],
   "source": [
    "#for i in range(50):\n",
    "    #print(tubulin_only['raw_fov_path'].iloc[i])"
   ]
  },
  {
   "cell_type": "code",
   "execution_count": 11,
   "id": "realistic-purchase",
   "metadata": {},
   "outputs": [
    {
     "name": "stderr",
     "output_type": "stream",
     "text": [
      "The default XML parser will be changing from 'xmlschema' to 'lxml' in version 0.4.0.  To silence this warning, please provide the `parser` argument, specifying either 'lxml' (to opt into the new behavior), or'xmlschema' (to retain the old behavior).\n"
     ]
    },
    {
     "name": "stdout",
     "output_type": "stream",
     "text": [
      "(1, 2, 50, 1200, 1800)\n"
     ]
    }
   ],
   "source": [
    "filename = \"//allen/aics/assay-dev/users/Sandi/tubulin-segmentations/all-raw-imgs/20210312_N02_002-alignV2-Scene-24-P24-D02.tiff\"\n",
    "reader = AICSImage(filename) \n",
    "IMG = reader.data.astype(np.float32)\n",
    "\n",
    "print(IMG.shape)"
   ]
  },
  {
   "cell_type": "code",
   "execution_count": 15,
   "id": "incredible-notification",
   "metadata": {},
   "outputs": [
    {
     "name": "stdout",
     "output_type": "stream",
     "text": [
      "2\n"
     ]
    }
   ],
   "source": [
    "N_CHANNELS = IMG.shape[1]\n",
    "print(N_CHANNELS)\n",
    "# MID_SLICE = np.int(0.5*IMG.shape[2])\n",
    "\n",
    "# fig, ax = plt.subplots(1, N_CHANNELS, figsize=(18,16), dpi=72, facecolor='w', edgecolor='k')\n",
    "# if N_CHANNELS==1:\n",
    "#     ax.axis('off')\n",
    "#     ax.imshow(IMG[0,0,0,MID_SLICE,:,:], cmap=plt.cm.gray)\n",
    "# else:\n",
    "#     for channel in range(N_CHANNELS):\n",
    "#         ax[channel].axis('off')\n",
    "#         ax[channel].imshow(IMG[0,0,channel,MID_SLICE,:,:], cmap=plt.cm.gray)"
   ]
  },
  {
   "cell_type": "code",
   "execution_count": 8,
   "id": "musical-syria",
   "metadata": {},
   "outputs": [
    {
     "data": {
      "application/vnd.jupyter.widget-view+json": {
       "model_id": "f002fc307a0a46e3bfcf0f2649b1446b",
       "version_major": 2,
       "version_minor": 0
      },
      "text/plain": [
       "Viewer(geometries=[], gradient_opacity=0.22, point_sets=[], rendered_image=<itk.itkImagePython.itkImageF3; pro…"
      ]
     },
     "metadata": {},
     "output_type": "display_data"
    }
   ],
   "source": [
    "#####################\n",
    "## PARAMETER ##\n",
    "structure_channel = 0\n",
    "#####################\n",
    "\n",
    "struct_img0 = IMG[0,structure_channel,:,:,:].copy()\n",
    "view(single_fluorescent_view(struct_img0))"
   ]
  },
  {
   "cell_type": "code",
   "execution_count": 84,
   "id": "tutorial-assembly",
   "metadata": {},
   "outputs": [
    {
     "name": "stdout",
     "output_type": "stream",
     "text": [
      "intensity normalization: min-max normalization with NO absoluteintensity upper bound\n"
     ]
    }
   ],
   "source": [
    "################################\n",
    "## PARAMETERS for this step ##\n",
    "intensity_scaling_param = [0]\n",
    "################################\n",
    "# intensity normalization\n",
    "struct_img = intensity_normalization(struct_img0, scaling_param=intensity_scaling_param)\n",
    "\n",
    "# smoothing with edge preserving smoothing \n",
    "structure_img_smooth = edge_preserving_smoothing_3d(struct_img)\n",
    "\n",
    "#### for ZO1\n",
    "# gaussian_smoothing_sigma = 1\n",
    "# structure_img_smooth = image_smoothing_gaussian_3d(structure_img, sigma=gaussian_smoothing_sigma)"
   ]
  },
  {
   "cell_type": "code",
   "execution_count": 85,
   "id": "comfortable-instrumentation",
   "metadata": {},
   "outputs": [
    {
     "data": {
      "application/vnd.jupyter.widget-view+json": {
       "model_id": "277697ff4bdc425f96547ba84a681f4a",
       "version_major": 2,
       "version_minor": 0
      },
      "text/plain": [
       "Viewer(geometries=[], gradient_opacity=0.22, point_sets=[], rendered_image=<itk.itkImagePython.itkImageF3; pro…"
      ]
     },
     "metadata": {},
     "output_type": "display_data"
    }
   ],
   "source": [
    "view(single_fluorescent_view(structure_img_smooth))"
   ]
  },
  {
   "cell_type": "code",
   "execution_count": 86,
   "id": "important-xerox",
   "metadata": {},
   "outputs": [
    {
     "name": "stdout",
     "output_type": "stream",
     "text": [
      "mean intensity of the stack: 126.18225860595703\n",
      "the standard deviation of intensity of the stack: 95.80795288085938\n",
      "0.9999 percentile of the stack intensity is: 1946.0\n",
      "minimum intensity of the stack: 18.0\n",
      "maximum intensity of the stack: 6328.0\n",
      "suggested upper range is 19.0, which is 1946.5333633422852\n",
      "suggested lower range is 1.0, which is 30.374305725097656\n",
      "So, suggested parameter for normalization is [1.0, 19.0]\n",
      "To further enhance the contrast: You may increase the first value (may loss some dim parts), or decrease the second value(may loss some texture in super bright regions)\n",
      "To slightly reduce the contrast: You may decrease the first value, or increase the second value\n"
     ]
    }
   ],
   "source": [
    "from aicssegmentation.core.pre_processing_utils import suggest_normalization_param\n",
    "suggest_normalization_param(struct_img0)"
   ]
  },
  {
   "cell_type": "code",
   "execution_count": null,
   "id": "humanitarian-bones",
   "metadata": {},
   "outputs": [],
   "source": [
    "################################\n",
    "## PARAMETERS for this step ##\n",
    "f3_param = [[1, 0.01]]\n",
    "################################\n",
    "\n",
    "bw = filament_3d_wrapper(structure_img_smooth, f3_param)"
   ]
  },
  {
   "cell_type": "code",
   "execution_count": null,
   "id": "sustained-confirmation",
   "metadata": {},
   "outputs": [],
   "source": [
    "viewer_bw =view(segmentation_quick_view(bw))\n",
    "viewer_bw"
   ]
  },
  {
   "cell_type": "code",
   "execution_count": null,
   "id": "numeric-cabin",
   "metadata": {},
   "outputs": [],
   "source": [
    "# Option 1:\n",
    "view(seg_fluo_side_by_side(struct_img,bw,roi=['ROI',viewer_bw.roi_slice()]))\n",
    "\n",
    "# Option 2: \n",
    "#view(seg_fluo_side_by_side(struct_img,bw,roi=['M',[70,70,130,140]]))"
   ]
  },
  {
   "cell_type": "code",
   "execution_count": null,
   "id": "victorian-shepherd",
   "metadata": {},
   "outputs": [],
   "source": [
    "################################\n",
    "## PARAMETERS for this step ##\n",
    "minArea = 4\n",
    "################################\n",
    "\n",
    "seg = remove_small_objects(bw>0, min_size=minArea, connectivity=1, in_place=False)"
   ]
  },
  {
   "cell_type": "code",
   "execution_count": null,
   "id": "muslim-dimension",
   "metadata": {},
   "outputs": [],
   "source": [
    "viewer_final = view(segmentation_quick_view(seg))\n",
    "viewer_final"
   ]
  },
  {
   "cell_type": "code",
   "execution_count": null,
   "id": "incomplete-boating",
   "metadata": {},
   "outputs": [],
   "source": [
    "# Option 1: \n",
    "view(seg_fluo_side_by_side(struct_img, seg, roi=['ROI',viewer_final.roi_slice()]))\n",
    "\n",
    "# Option 2: \n",
    "# view(seg_fluo_side_by_side(struct_img, seg, roi=['M',[67,74, 188, 205]]))"
   ]
  },
  {
   "cell_type": "code",
   "execution_count": null,
   "id": "sporting-pierce",
   "metadata": {},
   "outputs": [],
   "source": [
    "from tifffile import imsave"
   ]
  },
  {
   "cell_type": "code",
   "execution_count": null,
   "id": "amazing-endorsement",
   "metadata": {},
   "outputs": [],
   "source": [
    "imsave(\"tuba1b-d02s24.tiff\", seg)"
   ]
  },
  {
   "cell_type": "code",
   "execution_count": null,
   "id": "specific-jimmy",
   "metadata": {},
   "outputs": [],
   "source": []
  }
 ],
 "metadata": {
  "kernelspec": {
   "display_name": "Python 3 (ipykernel)",
   "language": "python",
   "name": "python3"
  },
  "language_info": {
   "codemirror_mode": {
    "name": "ipython",
    "version": 3
   },
   "file_extension": ".py",
   "mimetype": "text/x-python",
   "name": "python",
   "nbconvert_exporter": "python",
   "pygments_lexer": "ipython3",
   "version": "3.9.7"
  }
 },
 "nbformat": 4,
 "nbformat_minor": 5
}
