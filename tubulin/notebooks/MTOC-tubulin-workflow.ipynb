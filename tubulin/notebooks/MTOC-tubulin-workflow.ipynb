{
 "cells": [
  {
   "cell_type": "markdown",
   "id": "difficult-aircraft",
   "metadata": {},
   "source": [
    "This version of the MTOC Workflow uses label free segmentations to generate segmentations of tubulin MTOC."
   ]
  },
  {
   "cell_type": "code",
   "execution_count": 14,
   "id": "assigned-smell",
   "metadata": {},
   "outputs": [],
   "source": [
    "import numpy as np\n",
    "\n",
    "# package for 3d visualization\n",
    "from itkwidgets import view                              \n",
    "from aicssegmentation.core.visual import seg_fluo_side_by_side,  single_fluorescent_view, segmentation_quick_view\n",
    "import matplotlib.pyplot as plt\n",
    "plt.rcParams[\"figure.figsize\"] = [16, 12]\n",
    "\n",
    "# package for io \n",
    "from aicsimageio import AICSImage\n",
    "from aicsimageio.writers import OmeTiffWriter\n",
    "\n",
    "# function for core algorithm\n",
    "from aicssegmentation.core.vessel import filament_3d_wrapper\n",
    "from aicssegmentation.core.seg_dot import dot_2d\n",
    "from aicssegmentation.core.seg_dot import dot_3d, dot_3d_wrapper \n",
    "from aicssegmentation.core.pre_processing_utils import intensity_normalization, edge_preserving_smoothing_3d, image_smoothing_gaussian_3d\n",
    "from aicssegmentation.core.pre_processing_utils import intensity_normalization, image_smoothing_gaussian_slice_by_slice\n",
    "from skimage.morphology import remove_small_objects \n",
    "from skimage.filters import threshold_otsu\n",
    "from skimage.morphology import ball, binary_closing, remove_small_objects, dilation, erosion, disk, square, binary_dilation\n",
    "from aicssegmentation.core.utils import topology_preserving_thinning, hole_filling\n",
    "from aicssegmentation.core.MO_threshold import MO\n",
    "from aicssegmentation.core.vessel import vesselness3D\n",
    "\n",
    "import pandas as pd\n",
    "from tifffile import imsave"
   ]
  },
  {
   "cell_type": "code",
   "execution_count": 47,
   "id": "wrong-communication",
   "metadata": {},
   "outputs": [],
   "source": [
    "# manifest_csv = pd.read_csv('manifest.csv')"
   ]
  },
  {
   "cell_type": "code",
   "execution_count": null,
   "id": "private-today",
   "metadata": {},
   "outputs": [],
   "source": [
    "# tubulin_only = manifest_csv[(manifest_csv['structure_name'] == 'TUBA1B')]\n",
    "# tubulin_only.head()"
   ]
  },
  {
   "cell_type": "markdown",
   "id": "further-third",
   "metadata": {},
   "source": [
    "<h1> LABEL FREE TUBULIN NUCLEUS (NOT CURRENTLY IN USE) <h1>"
   ]
  },
  {
   "cell_type": "code",
   "execution_count": 70,
   "id": "trained-bundle",
   "metadata": {},
   "outputs": [
    {
     "name": "stderr",
     "output_type": "stream",
     "text": [
      "The default XML parser will be changing from 'xmlschema' to 'lxml' in version 0.4.0.  To silence this warning, please provide the `parser` argument, specifying either 'lxml' (to opt into the new behavior), or'xmlschema' (to retain the old behavior).\n"
     ]
    },
    {
     "name": "stdout",
     "output_type": "stream",
     "text": [
      "(1, 2, 50, 1200, 1800)\n"
     ]
    }
   ],
   "source": [
    "# filename = \"//allen/aics/assay-dev/users/Sandi/aics-segmentation/lookup_table_demo/tubulin/static-tubulin-segmentations/all-raw-imgs/20210312_N02_002-alignV2-Scene-09-P9-D02.tiff\"\n",
    "# reader = AICSImage(filename) \n",
    "# IMG = reader.data.astype(np.float32)\n",
    "\n",
    "# print(IMG.shape)\n",
    "# #view(single_fluorescent_view(IMG))"
   ]
  },
  {
   "cell_type": "code",
   "execution_count": 71,
   "id": "nonprofit-distinction",
   "metadata": {},
   "outputs": [],
   "source": [
    "# N_CHANNELS = IMG.shape[2]\n",
    "# MID_SLICE = np.int(0.5*IMG.shape[3])\n",
    "\n",
    "# fig, ax = plt.subplots(1, N_CHANNELS, figsize=(18,16), dpi=72, facecolor='w', edgecolor='k')\n",
    "# if N_CHANNELS==1:\n",
    "#     ax.axis('off')\n",
    "#     ax.imshow(IMG[0,0,0,MID_SLICE,:,:], cmap=plt.cm.gray)\n",
    "# else:\n",
    "#     for channel in range(N_CHANNELS):\n",
    "#         ax[channel].axis('off')\n",
    "#         ax[channel].imshow(IMG[0,0,channel,MID_SLICE,:,:], cmap=plt.cm.gray)"
   ]
  },
  {
   "cell_type": "code",
   "execution_count": 72,
   "id": "greenhouse-smith",
   "metadata": {},
   "outputs": [],
   "source": [
    "# #####################\n",
    "# ## PARAMETER ##\n",
    "# structure_channel = 0\n",
    "# #####################\n",
    "\n",
    "# struct_img0 = IMG[0,structure_channel,:,:,:].copy() \n",
    "# #view(single_fluorescent_view(struct_img0))"
   ]
  },
  {
   "cell_type": "code",
   "execution_count": 73,
   "id": "quarterly-welcome",
   "metadata": {},
   "outputs": [
    {
     "name": "stdout",
     "output_type": "stream",
     "text": [
      "mean intensity of the stack: 154.14483642578125\n",
      "the standard deviation of intensity of the stack: 137.34506225585938\n",
      "0.9999 percentile of the stack intensity is: 1990.0\n",
      "minimum intensity of the stack: 8.0\n",
      "maximum intensity of the stack: 5114.0\n",
      "suggested upper range is 13.5, which is 2008.3031768798828\n",
      "suggested lower range is 1.0, which is 16.799774169921875\n",
      "So, suggested parameter for normalization is [1.0, 13.5]\n",
      "To further enhance the contrast: You may increase the first value (may loss some dim parts), or decrease the second value(may loss some texture in super bright regions)\n",
      "To slightly reduce the contrast: You may decrease the first value, or increase the second value\n"
     ]
    }
   ],
   "source": [
    "# from aicssegmentation.core.pre_processing_utils import suggest_normalization_param\n",
    "# suggest_normalization_param(struct_img0)"
   ]
  },
  {
   "cell_type": "code",
   "execution_count": 74,
   "id": "severe-special",
   "metadata": {},
   "outputs": [
    {
     "name": "stdout",
     "output_type": "stream",
     "text": [
      "intensity norm: min-max norm with upper bound 8000\n"
     ]
    }
   ],
   "source": [
    "# # intensity normalization v2\n",
    "# intensity_scaling_param = [8000] # original: 8000 # current: 6000\n",
    "# struct_img = intensity_normalization(struct_img0, scaling_param=intensity_scaling_param) #struct_img0\n",
    "# #view(single_fluorescent_view(struct_img))"
   ]
  },
  {
   "cell_type": "code",
   "execution_count": 75,
   "id": "cross-statistics",
   "metadata": {},
   "outputs": [],
   "source": [
    "# # gaussian smoothing\n",
    "# gaussian_smoothing_sigma = 1 # original: 1\n",
    "# struct_img_smooth = image_smoothing_gaussian_slice_by_slice(struct_img, sigma=gaussian_smoothing_sigma)\n",
    "# #view(single_fluorescent_view(struct_img_smooth))"
   ]
  },
  {
   "cell_type": "code",
   "execution_count": 76,
   "id": "black-tuner",
   "metadata": {},
   "outputs": [],
   "source": [
    "# # applying mask object threshold\n",
    "# bw, object_for_debug = MO(struct_img_smooth, global_thresh_method='tri', object_minArea=1200, return_object=True)\n",
    "# #view(single_fluorescent_view(bw))"
   ]
  },
  {
   "cell_type": "code",
   "execution_count": 77,
   "id": "powered-station",
   "metadata": {
    "scrolled": true
   },
   "outputs": [],
   "source": [
    "# # apply dilation to masked nucleus image\n",
    "\n",
    "# from scipy import ndimage as ndi\n",
    "\n",
    "# # make a little 3D diamond:\n",
    "# diamond = ndi.generate_binary_structure(rank=3, connectivity=1)\n",
    "# # dilate 30x with it\n",
    "# dilated_img = ndi.binary_dilation(bw, diamond, iterations=10) # original: 5"
   ]
  },
  {
   "cell_type": "markdown",
   "id": "further-oriental",
   "metadata": {},
   "source": [
    "<h1> MTOC TUBULIN WORKFLOW <h1>"
   ]
  },
  {
   "cell_type": "code",
   "execution_count": 352,
   "id": "selective-springer",
   "metadata": {},
   "outputs": [
    {
     "name": "stderr",
     "output_type": "stream",
     "text": [
      "The default XML parser will be changing from 'xmlschema' to 'lxml' in version 0.4.0.  To silence this warning, please provide the `parser` argument, specifying either 'lxml' (to opt into the new behavior), or'xmlschema' (to retain the old behavior).\n"
     ]
    }
   ],
   "source": [
    "filename2 = \"//allen/aics/assay-dev/users/Sandi/aics-segmentation/lookup_table_demo/tubulin/static-tubulin-segmentations/all-raw-imgs/20210312_N02_002-alignV2-Scene-02-P2-D02.tiff\"\n",
    "reader = AICSImage(filename2) \n",
    "IMG2 = reader.data.astype(np.float32)\n"
   ]
  },
  {
   "cell_type": "code",
   "execution_count": 353,
   "id": "resident-syracuse",
   "metadata": {},
   "outputs": [],
   "source": [
    "#####################\n",
    "## PARAMETER ##\n",
    "structure_channel = 0\n",
    "#####################\n",
    "\n",
    "struct_img0_2 = IMG2[0,structure_channel,:,:,:].copy() \n",
    "#view(single_fluorescent_view(struct_img0))"
   ]
  },
  {
   "cell_type": "markdown",
   "id": "fatal-convention",
   "metadata": {},
   "source": [
    "<h1> 1: PRE-PROCESSING <h1>"
   ]
  },
  {
   "cell_type": "code",
   "execution_count": 355,
   "id": "forward-fleece",
   "metadata": {},
   "outputs": [
    {
     "data": {
      "application/vnd.jupyter.widget-view+json": {
       "model_id": "2b7f95f4518b49d091a4a7269ee0bcef",
       "version_major": 2,
       "version_minor": 0
      },
      "text/plain": [
       "Viewer(geometries=[], gradient_opacity=0.22, point_sets=[], rendered_image=<itk.itkImagePython.itkImageF3; pro…"
      ]
     },
     "metadata": {},
     "output_type": "display_data"
    }
   ],
   "source": [
    "# intensity normalization v2\n",
    "intensity_scaling_param2 = [8.0,10] # original: 8000 # current: 6000\n",
    "struct_img2 = intensity_normalization(struct_img0_2, scaling_param=intensity_scaling_param2) #struct_img0\n",
    "\n",
    "view(single_fluorescent_view(struct_img2))"
   ]
  },
  {
   "cell_type": "code",
   "execution_count": 356,
   "id": "fatty-czech",
   "metadata": {},
   "outputs": [
    {
     "name": "stdout",
     "output_type": "stream",
     "text": [
      "mean intensity of the stack: 0.09529032558202744\n",
      "the standard deviation of intensity of the stack: 0.08840659260749817\n",
      "0.9999 percentile of the stack intensity is: 1.0\n",
      "minimum intensity of the stack: 6.280619687520916e-12\n",
      "maximum intensity of the stack: 1.0\n",
      "suggested upper range is 10.0, which is 0.9793562516570091\n",
      "suggested lower range is 1.0, which is 0.006883732974529266\n",
      "So, suggested parameter for normalization is [1.0, 10.0]\n",
      "To further enhance the contrast: You may increase the first value (may loss some dim parts), or decrease the second value(may loss some texture in super bright regions)\n",
      "To slightly reduce the contrast: You may decrease the first value, or increase the second value\n"
     ]
    }
   ],
   "source": [
    "from aicssegmentation.core.pre_processing_utils import suggest_normalization_param\n",
    "suggest_normalization_param(struct_img2)"
   ]
  },
  {
   "cell_type": "code",
   "execution_count": 357,
   "id": "sufficient-doctrine",
   "metadata": {},
   "outputs": [],
   "source": [
    "# gaussian smoothing\n",
    "gaussian_smoothing_sigma2 = 1 # original: 1\n",
    "structure_img_smooth2 = image_smoothing_gaussian_slice_by_slice(struct_img2, sigma=gaussian_smoothing_sigma2)"
   ]
  },
  {
   "cell_type": "markdown",
   "id": "pursuant-greece",
   "metadata": {},
   "source": [
    "<h1> 2: CORE SEGMENTATION ALGORITHMS <h1>"
   ]
  },
  {
   "cell_type": "code",
   "execution_count": 358,
   "id": "rubber-dodge",
   "metadata": {},
   "outputs": [],
   "source": [
    "# otsu thresholding: higher value, more segmentation\n",
    "th = 3.2* threshold_otsu(structure_img_smooth2) # original at 1.4 # current: 3.2 \n",
    "overall_shape = dilation(\n",
    "    remove_small_objects(structure_img_smooth2 > th, min_size=10, connectivity=1, in_place=False), #min_size = 10\n",
    "    ball(1)\n",
    ")\n",
    "fixed_shape = erosion(\n",
    "    hole_filling(overall_shape, hole_min=0, hole_max=5, fill_2d=True), #, hole_min= 0 hole_max = 5\n",
    "    ball(1)\n",
    ")"
   ]
  },
  {
   "cell_type": "code",
   "execution_count": 359,
   "id": "anticipated-massage",
   "metadata": {},
   "outputs": [],
   "source": [
    "# 2d spot filter\n",
    "s2 = np.zeros_like(fixed_shape)\n",
    "for z in range(structure_img_smooth2.shape[0]):\n",
    "    zslice = dot_2d(structure_img_smooth2[z,], 2)\n",
    "    s2[z, :, :] = zslice > 0.2 #original: 0.03 current  \n",
    "fixed_shape = np.logical_or(s2, fixed_shape)"
   ]
  },
  {
   "cell_type": "code",
   "execution_count": 360,
   "id": "surface-particle",
   "metadata": {},
   "outputs": [],
   "source": [
    "# 2d erosion for thinning\n",
    "for z in range(fixed_shape.shape[0]):\n",
    "    zslice= fixed_shape[z,]\n",
    "    zslice = erosion(zslice, disk(1))\n",
    "    fixed_shape[z, :, :] = zslice\n",
    "\n",
    "response_vessel = vesselness3D(structure_img_smooth2, sigmas=[1], tau=1, whiteonblack=True)\n",
    "\n",
    "seg = np.logical_or(response_vessel > 2.0, fixed_shape) # response_vessel > 0.28 increasing parameter thins out lines\n",
    "\n",
    "seg = hole_filling(seg, hole_min=0, hole_max=15, fill_2d=True)# hole_min=0 # hole_max=15"
   ]
  },
  {
   "cell_type": "code",
   "execution_count": 361,
   "id": "pharmaceutical-spider",
   "metadata": {},
   "outputs": [
    {
     "name": "stderr",
     "output_type": "stream",
     "text": [
      "Converting input from bool to <class 'numpy.uint8'> for compatibility.\n"
     ]
    }
   ],
   "source": [
    "# applying mask object threshold\n",
    "bw2, object_for_debug = MO(seg, global_thresh_method='tri', object_minArea=1200, return_object=True)"
   ]
  },
  {
   "cell_type": "code",
   "execution_count": 362,
   "id": "paperback-nothing",
   "metadata": {},
   "outputs": [],
   "source": [
    "thin_dist_preserve=0.09\n",
    "thin_dist=2\n",
    "bw_thin = topology_preserving_thinning(bw2>0, thin_dist_preserve, thin_dist)"
   ]
  },
  {
   "cell_type": "markdown",
   "id": "absent-classification",
   "metadata": {},
   "source": [
    "<h1> 3: POST-PROCESSING <h1>"
   ]
  },
  {
   "cell_type": "code",
   "execution_count": 363,
   "id": "instructional-comment",
   "metadata": {},
   "outputs": [],
   "source": [
    "# Remove large area \n",
    "## PARAMETERS for this step ##\n",
    "minArea = 1 # original 1\n",
    "################################\n",
    "\n",
    "#seg2 = remove_small_objects(bw_thin>0, min_size=minArea, connectivity=1, in_place=True)\n",
    "seg2 = remove_small_objects(bw_thin>0, min_size=minArea, connectivity=1, in_place=True)"
   ]
  },
  {
   "cell_type": "code",
   "execution_count": 364,
   "id": "excess-catalyst",
   "metadata": {},
   "outputs": [],
   "source": [
    "# save the file\n",
    "out=seg2.astype(np.uint8)\n",
    "out[out>0]=255\n",
    "imsave(\"mtoc-d02s02.tiff\", out)\n",
    "#imsave(\"mtoc-seg-v9.tiff\", seg2)"
   ]
  },
  {
   "cell_type": "markdown",
   "id": "simplified-monkey",
   "metadata": {},
   "source": [
    "<h1> COMBINING BOTH SEGMENTED IMAGES (NOT CURRENTLY IN USE) <h1>"
   ]
  },
  {
   "cell_type": "code",
   "execution_count": 313,
   "id": "consolidated-greece",
   "metadata": {},
   "outputs": [],
   "source": [
    "# seg_NUC = dilated_img\n",
    "# seg_MTOC = seg2"
   ]
  },
  {
   "cell_type": "code",
   "execution_count": 179,
   "id": "residential-shower",
   "metadata": {},
   "outputs": [],
   "source": [
    "# save the hybrid image\n",
    "\n",
    "\n",
    "# seg_MTOC[seg_NUC==0] = 0\n",
    "# imsave(\"mtoc-seg-combinedv7.tiff\", seg2)"
   ]
  },
  {
   "cell_type": "code",
   "execution_count": null,
   "id": "empty-judge",
   "metadata": {},
   "outputs": [],
   "source": []
  },
  {
   "cell_type": "markdown",
   "id": "genetic-steel",
   "metadata": {},
   "source": [
    "<h1> Extra Code (Not Currently in Use) <h1>"
   ]
  },
  {
   "cell_type": "code",
   "execution_count": null,
   "id": "explicit-tablet",
   "metadata": {},
   "outputs": [],
   "source": [
    "# bw_binary = bw.astype(int)*1  "
   ]
  },
  {
   "cell_type": "code",
   "execution_count": 24,
   "id": "increasing-commonwealth",
   "metadata": {},
   "outputs": [],
   "source": [
    "#img_norm = intensity_normalization(struct_img, scaling_param=[20, 25])# original: [2,20] #seg 12 & 14: [50,55] #seg 13: [30,35] seg14-2.0 [25 30] 14check3: [45 50] 14check4: 50 55\n",
    "#img_smooth = edge_preserving_smoothing_3d(img_norm, numberOfIterations=30)"
   ]
  },
  {
   "cell_type": "code",
   "execution_count": 25,
   "id": "ambient-sussex",
   "metadata": {},
   "outputs": [],
   "source": [
    "# #applying f3 filter and 3D wrapping\n",
    "\n",
    "# # PARAMETERS for this step ##\n",
    "# f3_param = [[1, 0.03]] # original: [[1, 0.01]]  v3: [[1.25, 0.02]]\n",
    "\n",
    "# ###############################\n",
    "\n",
    "# bw = filament_3d_wrapper(structure_img_smooth, f3_param) #structure_img_smooth\n",
    "# bw = dot_3d_wrapper(structure_img_smooth, f3_param) #structure_img_smooth"
   ]
  },
  {
   "cell_type": "code",
   "execution_count": null,
   "id": "ancient-graph",
   "metadata": {},
   "outputs": [],
   "source": [
    "# # applying 3D Spot Filter\n",
    "# s3_param = [[1, 0.009]] # v4: [[1, 0.05]] lower 2nd parameter, more seg\n",
    "# ################################\n",
    "\n",
    "# bw_extra = dot_3d_wrapper(structure_img_smooth, s3_param) # structure_img_smooth"
   ]
  }
 ],
 "metadata": {
  "kernelspec": {
   "display_name": "Python 3",
   "language": "python",
   "name": "python3"
  },
  "language_info": {
   "codemirror_mode": {
    "name": "ipython",
    "version": 3
   },
   "file_extension": ".py",
   "mimetype": "text/x-python",
   "name": "python",
   "nbconvert_exporter": "python",
   "pygments_lexer": "ipython3",
   "version": "3.7.9"
  }
 },
 "nbformat": 4,
 "nbformat_minor": 5
}
