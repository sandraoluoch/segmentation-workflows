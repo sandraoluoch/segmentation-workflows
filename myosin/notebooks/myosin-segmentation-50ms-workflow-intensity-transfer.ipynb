{
 "cells": [
  {
   "cell_type": "code",
   "execution_count": 3,
   "id": "obvious-pricing",
   "metadata": {},
   "outputs": [],
   "source": [
    "import numpy as np\n",
    "\n",
    "# package for 3d visualization\n",
    "from itkwidgets import view                              \n",
    "from aicssegmentation.core.visual import seg_fluo_side_by_side,  single_fluorescent_view, segmentation_quick_view\n",
    "import matplotlib.pyplot as plt\n",
    "plt.rcParams[\"figure.figsize\"] = [16, 12]\n",
    "\n",
    "# package for io \n",
    "from aicsimageio import AICSImage\n",
    "from aicsimageio.writers import OmeTiffWriter\n",
    "\n",
    "# function for core algorithm\n",
    "from aicssegmentation.core.vessel import filament_3d_wrapper\n",
    "from aicssegmentation.core.pre_processing_utils import intensity_normalization, edge_preserving_smoothing_3d, image_smoothing_gaussian_3d\n",
    "from skimage.morphology import remove_small_objects  \n",
    "from tifffile import imsave\n",
    "\n",
    "import pandas as pd"
   ]
  },
  {
   "cell_type": "code",
   "execution_count": 83,
   "id": "included-destruction",
   "metadata": {},
   "outputs": [
    {
     "name": "stderr",
     "output_type": "stream",
     "text": [
      "Attempted file (//allen/aics/microscopy/PRODUCTION/PIPELINE_8_1/5500000650_DD_3-01/aligned_split/5500000650_DD_3-01_AcquisitionBlock7_pt7_Scene-27_aligned.ome.tiff) load with reader: aicsimageio.readers.bfio_reader.OmeTiledTiffReader failed with error: No module named 'bfio'\n",
      "The default XML parser will be changing from 'xmlschema' to 'lxml' in version 0.4.0.  To silence this warning, please provide the `parser` argument, specifying either 'lxml' (to opt into the new behavior), or'xmlschema' (to retain the old behavior).\n"
     ]
    },
    {
     "name": "stdout",
     "output_type": "stream",
     "text": [
      "(1, 4, 40, 1200, 1800)\n"
     ]
    }
   ],
   "source": [
    "filename = \"//allen/aics/microscopy/PRODUCTION/PIPELINE_8_1/5500000650_DD_3-01/aligned_split/5500000650_DD_3-01_AcquisitionBlock7_pt7_Scene-27_aligned.ome.tiff\"\n",
    "reader = AICSImage(filename) \n",
    "IMG = reader.data.astype(np.float32)\n",
    "\n",
    "print(IMG.shape)"
   ]
  },
  {
   "cell_type": "code",
   "execution_count": 84,
   "id": "advisory-department",
   "metadata": {},
   "outputs": [],
   "source": [
    "#####################\n",
    "## PARAMETER ##\n",
    "structure_channel = 1\n",
    "#####################\n",
    "\n",
    "struct_img0 = IMG[0,structure_channel,:,:,:].copy()\n",
    "# view(single_fluorescent_view(struct_img0))"
   ]
  },
  {
   "cell_type": "markdown",
   "id": "adequate-primary",
   "metadata": {},
   "source": [
    "<h3> Pre-Processing <h3>"
   ]
  },
  {
   "cell_type": "code",
   "execution_count": 85,
   "id": "successful-clothing",
   "metadata": {},
   "outputs": [],
   "source": [
    "################################\n",
    "## PARAMETERS for this step ##\n",
    "intensity_scaling_param = [0,50] #current: [0,60] v2: [0,60]\n",
    "################################\n",
    "# intensity normalization\n",
    "struct_img = intensity_normalization(struct_img0, scaling_param=intensity_scaling_param)\n",
    "\n",
    "# smoothing with edge preserving smoothing \n",
    "structure_img_smooth = edge_preserving_smoothing_3d(struct_img)\n",
    "\n",
    "#view(single_fluorescent_view(structure_img_smooth))"
   ]
  },
  {
   "cell_type": "code",
   "execution_count": 86,
   "id": "preliminary-passing",
   "metadata": {},
   "outputs": [
    {
     "name": "stdout",
     "output_type": "stream",
     "text": [
      "mean intensity of the stack: 101.7747573852539\n",
      "the standard deviation of intensity of the stack: 4.5995378494262695\n",
      "0.9999 percentile of the stack intensity is: 217.0\n",
      "minimum intensity of the stack: 100.4016342163086\n",
      "maximum intensity of the stack: 366.76800537109375\n",
      "suggested upper range is 25.5, which is 219.06297254562378\n",
      "suggested lower range is 0.0, which is 101.7747573852539\n",
      "So, suggested parameter for normalization is [0.0, 25.5]\n",
      "To further enhance the contrast: You may increase the first value (may loss some dim parts), or decrease the second value(may loss some texture in super bright regions)\n",
      "To slightly reduce the contrast: You may decrease the first value, or increase the second value\n"
     ]
    }
   ],
   "source": [
    "# if contrast looks off: \n",
    "from aicssegmentation.core.pre_processing_utils import suggest_normalization_param\n",
    "suggest_normalization_param(struct_img0)"
   ]
  },
  {
   "cell_type": "markdown",
   "id": "psychological-society",
   "metadata": {},
   "source": [
    "<h3> Core Algorithm <h3>"
   ]
  },
  {
   "cell_type": "code",
   "execution_count": 87,
   "id": "destroyed-blood",
   "metadata": {},
   "outputs": [],
   "source": [
    "################################\n",
    "## PARAMETERS for this step ## [[scale_1, cutoff_1], [scale_2, cutoff_2]]\n",
    "f3_param = [[2,0.22],[1,0.017]] # original: [[2,0.2],[1,0.015]] current: [[2,0.22],[1,0.017]]\n",
    "################################\n",
    "\n",
    "bw = filament_3d_wrapper(structure_img_smooth, f3_param)"
   ]
  },
  {
   "cell_type": "markdown",
   "id": "sharing-fever",
   "metadata": {},
   "source": [
    "<h3> Post-Processing <h3>"
   ]
  },
  {
   "cell_type": "code",
   "execution_count": 88,
   "id": "medieval-frame",
   "metadata": {},
   "outputs": [],
   "source": [
    "################################\n",
    "## PARAMETERS for this step ##\n",
    "minArea = 4 # original: 4\n",
    "################################\n",
    "\n",
    "seg = remove_small_objects(bw>0, min_size=minArea, connectivity=1, in_place=False) #connectivity = original: 1"
   ]
  },
  {
   "cell_type": "code",
   "execution_count": 89,
   "id": "common-minimum",
   "metadata": {},
   "outputs": [],
   "source": [
    "# save the file\n",
    "out=seg.astype(np.uint8)\n",
    "out[out>0]=255\n",
    "imsave(\"myh10-50ms-b7-sc27v2.tiff\", out)\n",
    "#imsave(\"myh10-sc04-p23-b04.tiff\", out)"
   ]
  },
  {
   "cell_type": "code",
   "execution_count": null,
   "id": "overall-immune",
   "metadata": {},
   "outputs": [],
   "source": []
  },
  {
   "cell_type": "code",
   "execution_count": null,
   "id": "indie-response",
   "metadata": {},
   "outputs": [],
   "source": []
  }
 ],
 "metadata": {
  "kernelspec": {
   "display_name": "Python 3",
   "language": "python",
   "name": "python3"
  },
  "language_info": {
   "codemirror_mode": {
    "name": "ipython",
    "version": 3
   },
   "file_extension": ".py",
   "mimetype": "text/x-python",
   "name": "python",
   "nbconvert_exporter": "python",
   "pygments_lexer": "ipython3",
   "version": "3.7.9"
  }
 },
 "nbformat": 4,
 "nbformat_minor": 5
}
