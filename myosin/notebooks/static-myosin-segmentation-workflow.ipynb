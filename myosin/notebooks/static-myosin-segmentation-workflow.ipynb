{
 "cells": [
  {
   "cell_type": "code",
   "execution_count": 1,
   "id": "obvious-pricing",
   "metadata": {},
   "outputs": [],
   "source": [
    "import numpy as np\n",
    "\n",
    "# package for 3d visualization\n",
    "from itkwidgets import view                              \n",
    "from aicssegmentation.core.visual import seg_fluo_side_by_side,  single_fluorescent_view, segmentation_quick_view\n",
    "import matplotlib.pyplot as plt\n",
    "plt.rcParams[\"figure.figsize\"] = [16, 12]\n",
    "\n",
    "# package for io \n",
    "from aicsimageio import AICSImage\n",
    "from aicsimageio.writers import OmeTiffWriter\n",
    "\n",
    "# function for core algorithm\n",
    "from aicssegmentation.core.vessel import filament_3d_wrapper\n",
    "from aicssegmentation.core.pre_processing_utils import intensity_normalization, edge_preserving_smoothing_3d, image_smoothing_gaussian_3d\n",
    "from skimage.morphology import remove_small_objects  \n",
    "from tifffile import imsave\n",
    "\n",
    "import pandas as pd"
   ]
  },
  {
   "cell_type": "code",
   "execution_count": 31,
   "id": "generic-coast",
   "metadata": {},
   "outputs": [
    {
     "data": {
      "text/html": [
       "<div>\n",
       "<style scoped>\n",
       "    .dataframe tbody tr th:only-of-type {\n",
       "        vertical-align: middle;\n",
       "    }\n",
       "\n",
       "    .dataframe tbody tr th {\n",
       "        vertical-align: top;\n",
       "    }\n",
       "\n",
       "    .dataframe thead th {\n",
       "        text-align: right;\n",
       "    }\n",
       "</style>\n",
       "<table border=\"1\" class=\"dataframe\">\n",
       "  <thead>\n",
       "    <tr style=\"text-align: right;\">\n",
       "      <th></th>\n",
       "      <th>FOVId</th>\n",
       "      <th>raw_fov_path</th>\n",
       "      <th>PlateId</th>\n",
       "      <th>InstrumentId</th>\n",
       "      <th>structure_name</th>\n",
       "      <th>WellId</th>\n",
       "      <th>FPChannel</th>\n",
       "      <th>BFChannel</th>\n",
       "    </tr>\n",
       "  </thead>\n",
       "  <tbody>\n",
       "    <tr>\n",
       "      <th>563</th>\n",
       "      <td>563</td>\n",
       "      <td>/allen/aics/microscopy/Calysta/projects/traini...</td>\n",
       "      <td>12-Apr-21</td>\n",
       "      <td>ZSD1</td>\n",
       "      <td>MYH10</td>\n",
       "      <td>Undefined</td>\n",
       "      <td>1</td>\n",
       "      <td>0</td>\n",
       "    </tr>\n",
       "    <tr>\n",
       "      <th>569</th>\n",
       "      <td>569</td>\n",
       "      <td>/allen/aics/microscopy/Calysta/projects/traini...</td>\n",
       "      <td>12-Apr-21</td>\n",
       "      <td>ZSD1</td>\n",
       "      <td>MYH10</td>\n",
       "      <td>Undefined</td>\n",
       "      <td>1</td>\n",
       "      <td>0</td>\n",
       "    </tr>\n",
       "    <tr>\n",
       "      <th>572</th>\n",
       "      <td>572</td>\n",
       "      <td>/allen/aics/microscopy/Calysta/projects/traini...</td>\n",
       "      <td>12-Apr-21</td>\n",
       "      <td>ZSD1</td>\n",
       "      <td>MYH10</td>\n",
       "      <td>Undefined</td>\n",
       "      <td>1</td>\n",
       "      <td>0</td>\n",
       "    </tr>\n",
       "    <tr>\n",
       "      <th>576</th>\n",
       "      <td>576</td>\n",
       "      <td>/allen/aics/microscopy/Calysta/projects/traini...</td>\n",
       "      <td>12-Apr-21</td>\n",
       "      <td>ZSD1</td>\n",
       "      <td>MYH10</td>\n",
       "      <td>Undefined</td>\n",
       "      <td>1</td>\n",
       "      <td>0</td>\n",
       "    </tr>\n",
       "    <tr>\n",
       "      <th>581</th>\n",
       "      <td>581</td>\n",
       "      <td>/allen/aics/microscopy/Calysta/projects/traini...</td>\n",
       "      <td>12-Apr-21</td>\n",
       "      <td>ZSD1</td>\n",
       "      <td>MYH10</td>\n",
       "      <td>Undefined</td>\n",
       "      <td>1</td>\n",
       "      <td>0</td>\n",
       "    </tr>\n",
       "    <tr>\n",
       "      <th>587</th>\n",
       "      <td>587</td>\n",
       "      <td>/allen/aics/microscopy/Calysta/projects/traini...</td>\n",
       "      <td>12-Apr-21</td>\n",
       "      <td>ZSD1</td>\n",
       "      <td>MYH10</td>\n",
       "      <td>Undefined</td>\n",
       "      <td>1</td>\n",
       "      <td>0</td>\n",
       "    </tr>\n",
       "  </tbody>\n",
       "</table>\n",
       "</div>"
      ],
      "text/plain": [
       "     FOVId                                       raw_fov_path    PlateId  \\\n",
       "563    563  /allen/aics/microscopy/Calysta/projects/traini...  12-Apr-21   \n",
       "569    569  /allen/aics/microscopy/Calysta/projects/traini...  12-Apr-21   \n",
       "572    572  /allen/aics/microscopy/Calysta/projects/traini...  12-Apr-21   \n",
       "576    576  /allen/aics/microscopy/Calysta/projects/traini...  12-Apr-21   \n",
       "581    581  /allen/aics/microscopy/Calysta/projects/traini...  12-Apr-21   \n",
       "587    587  /allen/aics/microscopy/Calysta/projects/traini...  12-Apr-21   \n",
       "\n",
       "    InstrumentId structure_name     WellId  FPChannel  BFChannel  \n",
       "563         ZSD1          MYH10  Undefined          1          0  \n",
       "569         ZSD1          MYH10  Undefined          1          0  \n",
       "572         ZSD1          MYH10  Undefined          1          0  \n",
       "576         ZSD1          MYH10  Undefined          1          0  \n",
       "581         ZSD1          MYH10  Undefined          1          0  \n",
       "587         ZSD1          MYH10  Undefined          1          0  "
      ]
     },
     "execution_count": 31,
     "metadata": {},
     "output_type": "execute_result"
    }
   ],
   "source": [
    "# Myosin DataFrame\n",
    "\n",
    "manifest_csv = pd.read_csv('manifest.csv')\n",
    "myosin_only = manifest_csv[(manifest_csv['structure_name'] == 'MYH10')]\n",
    "myosin_only.head(n=6)"
   ]
  },
  {
   "cell_type": "code",
   "execution_count": 32,
   "id": "controlled-hindu",
   "metadata": {},
   "outputs": [
    {
     "data": {
      "text/plain": [
       "'/allen/aics/microscopy/Calysta/projects/training_emt/data/5500000249/ZSD1/alignV2/5500000429_10X_myosin_mode_A_3-alignV2-Scene-04-P23-B04.tiff'"
      ]
     },
     "execution_count": 32,
     "metadata": {},
     "output_type": "execute_result"
    }
   ],
   "source": [
    "myosin_only.raw_fov_path[587]"
   ]
  },
  {
   "cell_type": "code",
   "execution_count": 2,
   "id": "included-destruction",
   "metadata": {},
   "outputs": [
    {
     "name": "stderr",
     "output_type": "stream",
     "text": [
      "Attempted file (//allen/aics/microscopy/PRODUCTION/PIPELINE_8_1/5500000652_DD_1-01/aligned_split/5500000652_DD_1-01_AcquisitionBlock7_pt7_Scene-0_aligned.ome.tiff) load with reader: aicsimageio.readers.bfio_reader.OmeTiledTiffReader failed with error: No module named 'bfio'\n",
      "The default XML parser will be changing from 'xmlschema' to 'lxml' in version 0.4.0.  To silence this warning, please provide the `parser` argument, specifying either 'lxml' (to opt into the new behavior), or'xmlschema' (to retain the old behavior).\n"
     ]
    },
    {
     "name": "stdout",
     "output_type": "stream",
     "text": [
      "(1, 4, 40, 1200, 1800)\n"
     ]
    }
   ],
   "source": [
    "filename = \"//allen/aics/microscopy/PRODUCTION/PIPELINE_8_1/5500000652_DD_1-01/aligned_split/5500000652_DD_1-01_AcquisitionBlock7_pt7_Scene-0_aligned.ome.tiff\"\n",
    "reader = AICSImage(filename) \n",
    "IMG = reader.data.astype(np.float32)\n",
    "\n",
    "print(IMG.shape)"
   ]
  },
  {
   "cell_type": "code",
   "execution_count": 3,
   "id": "advisory-department",
   "metadata": {},
   "outputs": [],
   "source": [
    "#####################\n",
    "## PARAMETER ##\n",
    "structure_channel = 1\n",
    "#####################\n",
    "\n",
    "struct_img0 = IMG[0,structure_channel,:,:,:].copy()\n",
    "# view(single_fluorescent_view(struct_img0))"
   ]
  },
  {
   "cell_type": "markdown",
   "id": "adequate-primary",
   "metadata": {},
   "source": [
    "<h3> Pre-Processing <h3>"
   ]
  },
  {
   "cell_type": "code",
   "execution_count": 4,
   "id": "successful-clothing",
   "metadata": {},
   "outputs": [
    {
     "name": "stdout",
     "output_type": "stream",
     "text": [
      "intensity normalization: min-max normalization with NO absoluteintensity upper bound\n"
     ]
    }
   ],
   "source": [
    "################################\n",
    "## PARAMETERS for this step ##\n",
    "intensity_scaling_param = [0]\n",
    "################################\n",
    "# intensity normalization\n",
    "struct_img = intensity_normalization(struct_img0, scaling_param=intensity_scaling_param)\n",
    "\n",
    "# smoothing with edge preserving smoothing \n",
    "structure_img_smooth = edge_preserving_smoothing_3d(struct_img)\n"
   ]
  },
  {
   "cell_type": "markdown",
   "id": "psychological-society",
   "metadata": {},
   "source": [
    "<h3> Core Algorithm <h3>"
   ]
  },
  {
   "cell_type": "code",
   "execution_count": 5,
   "id": "destroyed-blood",
   "metadata": {},
   "outputs": [],
   "source": [
    "################################\n",
    "## PARAMETERS for this step ## [[scale_1, cutoff_1], [scale_2, cutoff_2]]\n",
    "f3_param = [[1,0.005],[0.5,0.0018]] # [[2,0.2],[1,0.015]] current: [[2,0.0007],[1,0.0005]]\n",
    "################################\n",
    "\n",
    "bw = filament_3d_wrapper(structure_img_smooth, f3_param)"
   ]
  },
  {
   "cell_type": "markdown",
   "id": "sharing-fever",
   "metadata": {},
   "source": [
    "<h3> Post-Processing <h3>"
   ]
  },
  {
   "cell_type": "code",
   "execution_count": 6,
   "id": "medieval-frame",
   "metadata": {},
   "outputs": [],
   "source": [
    "################################\n",
    "## PARAMETERS for this step ##\n",
    "minArea = 4 # original: 4\n",
    "################################\n",
    "\n",
    "seg = remove_small_objects(bw>0, min_size=minArea, connectivity=1, in_place=False) #connectivity = original: 1"
   ]
  },
  {
   "cell_type": "code",
   "execution_count": 7,
   "id": "common-minimum",
   "metadata": {},
   "outputs": [],
   "source": [
    "# save the file\n",
    "out=seg.astype(np.uint8)\n",
    "out[out>0]=255\n",
    "imsave(\"myh10-200ms-sc0.tiff\", out)\n",
    "#imsave(\"myh10-sc04-p23-b04.tiff\", out)"
   ]
  },
  {
   "cell_type": "code",
   "execution_count": null,
   "id": "overall-immune",
   "metadata": {},
   "outputs": [],
   "source": []
  }
 ],
 "metadata": {
  "kernelspec": {
   "display_name": "Python 3",
   "language": "python",
   "name": "python3"
  },
  "language_info": {
   "codemirror_mode": {
    "name": "ipython",
    "version": 3
   },
   "file_extension": ".py",
   "mimetype": "text/x-python",
   "name": "python",
   "nbconvert_exporter": "python",
   "pygments_lexer": "ipython3",
   "version": "3.7.9"
  }
 },
 "nbformat": 4,
 "nbformat_minor": 5
}
