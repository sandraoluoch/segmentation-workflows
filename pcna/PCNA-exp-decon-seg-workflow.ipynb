{
 "cells": [
  {
   "cell_type": "code",
   "execution_count": 1,
   "id": "organizational-carol",
   "metadata": {},
   "outputs": [],
   "source": [
    "from aicsimageio import AICSImage\n",
    "from tifffile import imsave\n",
    "from pathlib import Path\n",
    "import numpy as np\n",
    "from skimage.filters import threshold_otsu\n",
    "from skimage.morphology import ball, binary_closing, remove_small_objects, dilation, erosion, disk\n",
    "from aicssegmentation.core.pre_processing_utils import  intensity_normalization, edge_preserving_smoothing_3d\n",
    "from aicssegmentation.core.vessel import vesselness3D\n",
    "from aicssegmentation.core.seg_dot import dot_2d\n",
    "from aicssegmentation.core.utils import topology_preserving_thinning, hole_filling\n",
    "import matplotlib.pyplot as plt\n",
    "from itkwidgets import view   \n",
    "from aicssegmentation.core.visual import seg_fluo_side_by_side,  single_fluorescent_view, segmentation_quick_view\n",
    "plt.rcParams[\"figure.figsize\"] = [16, 12]\n",
    "from aicssegmentation.core.MO_threshold import MO\n",
    "from aicspylibczi import CziFile\n",
    "\n",
    "# dots\n",
    "from aicssegmentation.core.seg_dot import dot_3d, dot_3d_wrapper \n",
    "from aicssegmentation.core.pre_processing_utils import intensity_normalization, image_smoothing_gaussian_slice_by_slice\n",
    "from skimage.morphology import remove_small_objects, watershed, dilation, erosion, ball     # function for post-processing (size filter)\n",
    "from skimage.feature import peak_local_max\n",
    "from skimage.measure import label\n",
    "from scipy.ndimage import distance_transform_edt\n",
    "\n",
    "# lamp1\n",
    "from aicssegmentation.core.vessel import filament_2d_wrapper\n",
    "from aicssegmentation.core.seg_dot import dot_2d_slice_by_slice_wrapper\n",
    "from aicssegmentation.core.utils import hole_filling\n",
    "from aicssegmentation.core.pre_processing_utils import intensity_normalization, image_smoothing_gaussian_slice_by_slice\n",
    "from skimage.morphology import remove_small_objects, watershed, dilation, erosion, ball  \n",
    "import warnings\n",
    "warnings.filterwarnings('ignore')\n",
    "\n",
    "#shell\n",
    "from aicssegmentation.core.utils import get_middle_frame, hole_filling, get_3dseed_from_mid_frame\n",
    "from aicssegmentation.core.pre_processing_utils import intensity_normalization, image_smoothing_gaussian_3d\n",
    "\n",
    "from skimage import filters as skfilters\n",
    "import numpy as np\n",
    "import matplotlib.pyplot as plt\n",
    "from aicsimageio import AICSImage\n",
    "from skimage import filters as skfilters\n",
    "from skimage.morphology import binary_erosion, ball, area_opening, opening, cube"
   ]
  },
  {
   "cell_type": "code",
   "execution_count": 2,
   "id": "2339389c",
   "metadata": {},
   "outputs": [],
   "source": [
    "# !pip install aicspylibczi>=3.1.1 fsspec>=2022.8.0"
   ]
  },
  {
   "cell_type": "code",
   "execution_count": 3,
   "id": "1df02b19",
   "metadata": {},
   "outputs": [],
   "source": [
    "# # for tif files \n",
    "# filename = r\"\\\\allen\\aics\\assay-dev\\users\\Sandi\\aics-segmentation\\lookup_table_demo\\pcna\\deconvolution\\raw\\tiff-decon\\session-050823\\01PCNA-sc01-p1-e02-check2.ome.tiff\"\n",
    "# reader = AICSImage(filename) \n",
    "# IMG = reader.data.astype(np.float32)\n",
    "# print(IMG.shape)\n",
    "\n",
    "\n",
    "## for czi files:\n",
    "\n",
    "# file_path = r\"\\\\allen\\aics\\assay-dev\\users\\Sandi\\aics-segmentation\\lookup_table_demo\\pcna\\deconvolution\\czi-files\\session-050823\\nearest-neighbor\\04PCNA-decon-nn-sc01-p1-e02.czi\"\n",
    "# czi = CziFile(file_path)\n",
    "# IMG,dims = czi.read_image()\n",
    "# print(f\"shape {IMG.shape} -- dims {dims}\")\n"
   ]
  },
  {
   "cell_type": "markdown",
   "id": "f1e559c4",
   "metadata": {},
   "source": [
    "<h1> Experimental (v11 and v12) <h1>"
   ]
  },
  {
   "cell_type": "code",
   "execution_count": 628,
   "id": "9156c055",
   "metadata": {},
   "outputs": [
    {
     "name": "stderr",
     "output_type": "stream",
     "text": [
      "Failed to parse XML for the provided file. Error: not well-formed (invalid token): line 1, column 6\n"
     ]
    },
    {
     "name": "stdout",
     "output_type": "stream",
     "text": [
      "(1, 1, 75, 624, 924)\n"
     ]
    }
   ],
   "source": [
    "filename = r\"\\\\allen\\aics\\assay-dev\\users\\Sandi\\aics-segmentation\\lookup_table_demo\\pcna\\raw-decon\\PCNA-decon-ci-S22-P53-E05-20210727.tif\"\n",
    "reader = AICSImage(filename) \n",
    "IMG = reader.data.astype(np.float32)\n",
    "\n",
    "print(IMG.shape)"
   ]
  },
  {
   "cell_type": "code",
   "execution_count": 629,
   "id": "efficient-survival",
   "metadata": {},
   "outputs": [],
   "source": [
    "# # 4 Channel Image\n",
    "# structure_channel = 1\n",
    "# struct_img0 = IMG[0,structure_channel,:,:,:].copy()\n",
    "\n",
    "# 1 Channel Image\n",
    "structure_channel = 0\n",
    "struct_img0 = IMG[0,structure_channel,:,:,:].copy()\n",
    "\n",
    "\n",
    "#view(single_fluorescent_view(struct_img0))"
   ]
  },
  {
   "cell_type": "markdown",
   "id": "371e16fa",
   "metadata": {},
   "source": [
    "<h1> workflow starts here <h1>"
   ]
  },
  {
   "cell_type": "code",
   "execution_count": 630,
   "id": "improving-phone",
   "metadata": {},
   "outputs": [],
   "source": [
    "#### PRE-PROCESSING ####\n",
    "\n",
    "# Intensity scaling and smoothing\n",
    "intensity_scaling_param = [1, 18] # v11 and 12: [15,18] nn: [0.5,10]\n",
    "gaussian_smoothing_sigma = 1\n",
    "\n",
    "# intensity normalization\n",
    "struct_img = intensity_normalization(struct_img0, scaling_param=intensity_scaling_param) # struct_img0 or pcna_original \n",
    "\n",
    "# smoothing with gaussian filter\n",
    "structure_img_smooth = image_smoothing_gaussian_3d(struct_img, sigma=gaussian_smoothing_sigma)"
   ]
  },
  {
   "cell_type": "code",
   "execution_count": 631,
   "id": "educational-mexico",
   "metadata": {},
   "outputs": [],
   "source": [
    "#### CORE ALGORITHM ####\n",
    "\n",
    "# 2D Spot Filter\n",
    "s2_param = [[0.8, 0.025]] # original: [3, 0.01] #v11: [[1, 0.06]], v12: [[0.8,0.025]]\n",
    "bw_2dspot = dot_2d_slice_by_slice_wrapper(structure_img_smooth, s2_param)"
   ]
  },
  {
   "cell_type": "code",
   "execution_count": 632,
   "id": "primary-french",
   "metadata": {},
   "outputs": [],
   "source": [
    "#### POST-PROCESSING ####\n",
    "\n",
    "minArea = 20 # v11: 5 v12: 20\n",
    "seg = remove_small_objects(bw_2dspot>0, min_size=minArea, connectivity=1, in_place=False) #fixed_shape looked good"
   ]
  },
  {
   "cell_type": "code",
   "execution_count": 633,
   "id": "98f76501",
   "metadata": {},
   "outputs": [],
   "source": [
    "#### EXTRA PROCESSING #### (v12)\n",
    "\n",
    "#area opening \n",
    "fp1 = ball(1)\n",
    "fp2 = ball(1)\n",
    "seg_lvl1 = opening(seg, fp1)\n",
    "seg_final = opening(seg_lvl1, fp2)\n"
   ]
  },
  {
   "cell_type": "code",
   "execution_count": 634,
   "id": "prerequisite-aging",
   "metadata": {},
   "outputs": [],
   "source": [
    "# save file\n",
    "\n",
    "out=seg_final.astype(np.uint8)\n",
    "out[out>0]=255\n",
    "\n",
    "imsave(\"PCNA-deconseg-S22-P53-E05-20210727-v12.tiff\", out) "
   ]
  },
  {
   "cell_type": "code",
   "execution_count": null,
   "id": "variable-problem",
   "metadata": {},
   "outputs": [],
   "source": []
  },
  {
   "cell_type": "code",
   "execution_count": null,
   "id": "22c163d1",
   "metadata": {},
   "outputs": [],
   "source": []
  },
  {
   "cell_type": "code",
   "execution_count": null,
   "id": "853ee72b",
   "metadata": {},
   "outputs": [],
   "source": []
  }
 ],
 "metadata": {
  "kernelspec": {
   "display_name": "Python 3",
   "language": "python",
   "name": "python3"
  },
  "language_info": {
   "codemirror_mode": {
    "name": "ipython",
    "version": 3
   },
   "file_extension": ".py",
   "mimetype": "text/x-python",
   "name": "python",
   "nbconvert_exporter": "python",
   "pygments_lexer": "ipython3",
   "version": "3.7.9"
  }
 },
 "nbformat": 4,
 "nbformat_minor": 5
}
